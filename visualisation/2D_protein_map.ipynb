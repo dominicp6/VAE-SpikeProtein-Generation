{
 "cells": [
  {
   "cell_type": "code",
   "execution_count": 1,
   "metadata": {
    "collapsed": true
   },
   "outputs": [],
   "source": [
    "import numpy as np\n",
    "import os\n",
    "import umap.umap_ as umap\n",
    "import matplotlib.pyplot as plt\n",
    "from collections import defaultdict\n",
    "from amino_acid_encoding import SequenceEncoder\n",
    "\n",
    "parent_dir = os.path.abspath('..')                # path to parent directory\n",
    "data_dir = parent_dir + '/data/spike_proteins/'   # path to datasets"
   ]
  },
  {
   "cell_type": "code",
   "execution_count": 2,
   "outputs": [],
   "source": [
    "encoder = SequenceEncoder(encoding_type='PAM250')\n",
    "\n",
    "def load_sequences(filename, data_directory=data_dir):\n",
    "    protein_sequences = np.loadtxt(data_directory+filename, dtype=str)\n",
    "    return protein_sequences"
   ],
   "metadata": {
    "collapsed": false,
    "pycharm": {
     "name": "#%%\n"
    }
   }
  },
  {
   "cell_type": "code",
   "execution_count": 3,
   "outputs": [],
   "source": [
    "encoder.encode_from_fasta_file('1_in_500_cleaned_aligned.afa', '1_in_500_encoded.txt')\n",
    "#protein_sequences = load_sequences('1_in_500_cleaned.txt')\n",
    "#encoded_sequences = [encoder.encode(sequence) for sequence in protein_sequences]\n",
    "#encoded_sequences = [sequence for sequence in encoded_sequences if len(sequence) == 25420]"
   ],
   "metadata": {
    "collapsed": false,
    "pycharm": {
     "name": "#%%\n"
    }
   }
  },
  {
   "cell_type": "code",
   "execution_count": 4,
   "outputs": [],
   "source": [
    "# reducer = umap.UMAP(metric='cosine', random_state=42)\n",
    "# sequence_embedding = reducer.fit_transform(encoded_sequences)\n",
    "# sequence_embedding.shape  # by default UMAP reduces down to 2D"
   ],
   "metadata": {
    "collapsed": false,
    "pycharm": {
     "name": "#%%\n"
    }
   }
  },
  {
   "cell_type": "code",
   "execution_count": 5,
   "outputs": [],
   "source": [
    "# plt.scatter(sequence_embedding[:,0],\n",
    "#             sequence_embedding[:,1])\n",
    "# plt.gca().set_aspect('equal', 'datalim')\n",
    "# plt.title('UMAP projection of SARS-COV19 spike proteins')"
   ],
   "metadata": {
    "collapsed": false,
    "pycharm": {
     "name": "#%%\n"
    }
   }
  }
 ],
 "metadata": {
  "kernelspec": {
   "display_name": "Python 3",
   "language": "python",
   "name": "python3"
  },
  "language_info": {
   "codemirror_mode": {
    "name": "ipython",
    "version": 2
   },
   "file_extension": ".py",
   "mimetype": "text/x-python",
   "name": "python",
   "nbconvert_exporter": "python",
   "pygments_lexer": "ipython2",
   "version": "2.7.6"
  }
 },
 "nbformat": 4,
 "nbformat_minor": 0
}