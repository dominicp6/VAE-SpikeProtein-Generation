{
 "cells": [
  {
   "cell_type": "markdown",
   "id": "c31f4016",
   "metadata": {},
   "source": [
    "# Control"
   ]
  },
  {
   "cell_type": "markdown",
   "id": "c327d46b",
   "metadata": {},
   "source": [
    "## imports"
   ]
  },
  {
   "cell_type": "code",
   "execution_count": 1,
   "id": "749b61ef",
   "metadata": {},
   "outputs": [
    {
     "name": "stderr",
     "output_type": "stream",
     "text": [
      "C:\\Users\\s2118339\\anaconda3\\envs\\GroupProject\\lib\\site-packages\\Bio\\SubsMat\\__init__.py:131: BiopythonDeprecationWarning: Bio.SubsMat has been deprecated, and we intend to remove it in a future release of Biopython. As an alternative, please consider using Bio.Align.substitution_matrices as a replacement, and contact the Biopython developers if you still need the Bio.SubsMat module.\n",
      "  BiopythonDeprecationWarning,\n"
     ]
    }
   ],
   "source": [
    "# general imports\n",
    "import numpy as np\n",
    "import pandas as pd\n",
    "from tqdm.auto import tqdm\n",
    "\n",
    "import json\n",
    "import os\n",
    "import pickle\n",
    "\n",
    "import matplotlib\n",
    "import matplotlib.pyplot as plt\n",
    "import seaborn as sns\n",
    "\n",
    "from collections import defaultdict\n",
    "from datetime import datetime\n",
    "\n",
    "# biopython\n",
    "import Bio\n",
    "from Bio import SeqIO\n",
    "from Bio import pairwise2\n",
    "from Bio.Seq import Seq\n",
    "from Bio.SeqRecord import SeqRecord\n",
    "from Bio.pairwise2 import format_alignment\n",
    "from Bio.SubsMat import MatrixInfo as matlist\n",
    "\n",
    "# pytorch\n",
    "import torch\n",
    "from torch.utils.data import DataLoader\n",
    "from torch.utils.data import Dataset\n",
    "from torch import nn\n",
    "import torch.nn.functional as F\n",
    "\n",
    "# pytorch lightning\n",
    "import pytorch_lightning as pl\n",
    "from pytorch_lightning import Trainer\n",
    "from pytorch_lightning.loggers import TensorBoardLogger\n",
    "\n",
    "import optuna\n",
    "\n",
    "# ImmunoBERT\n",
    "import pMHC\n",
    "from pMHC.logic import PresentationPredictor\n",
    "from pMHC.data import MhcAllele\n",
    "from pMHC import SEP, \\\n",
    "    SPLITS, SPLIT_TRAIN, SPLIT_VAL, SPLIT_TEST, \\\n",
    "    VIEWS, VIEW_SA, VIEW_SAMA, VIEW_DECONV, \\\n",
    "    INPUT_PEPTIDE, INPUT_CONTEXT\n",
    "from pMHC.data.utils import convert_example_to_batch, move_dict_to_device, get_input_rep_PSEUDO\n",
    "\n",
    "# visualizations\n",
    "from protein_map_visualisation_tools import generate_embedding_map_from_database\n",
    "\n",
    "# generative model\n",
    "import SpikeOracle\n",
    "from SpikeOracle import PHASE_TRAIN, PHASE_VALID, PHASE_TEST\n",
    "from SpikeOracle.data import StandardDataset\n",
    "from SpikeOracle.presentation_scoring.IB import score_seq_IB\n",
    "from SpikeOracle.presentation_scoring.nMp import eval_peptides_nMp, score_seq_nMp\n",
    "from SpikeOracle.models.VAE.fc import FcVAE\n",
    "from SpikeOracle.models.VAE.conv import ConvVAE\n",
    "from SpikeOracle.latent import get_latent_from_seq_FcVAE, get_seq_from_latent_FcVAE\n",
    "from SpikeOracle.utils import write_seqs_to_fasta, calc_entropy_vector"
   ]
  },
  {
   "cell_type": "markdown",
   "id": "28039145",
   "metadata": {},
   "source": [
    "## constants"
   ]
  },
  {
   "cell_type": "code",
   "execution_count": 2,
   "id": "46201547",
   "metadata": {},
   "outputs": [],
   "source": [
    "FILENAME_FASTA = f\"..{os.sep}data{os.sep}spikeprot_final_dataset.afa\"\n",
    "\n",
    "# data constants\n",
    "SEQ_LEN = 1299 # 1449 # 1282  # 18   # restricted to 1271 aa sequence lenghts\n",
    "MAX_SEQ_LEN = SEQ_LEN\n",
    "AA_ENC_DIM = 21   # count of amino acid encoding dimensions\n",
    "SEP = os.sep\n",
    "IMMUNO_CATS = 3\n",
    "\n",
    "# most relevant MHC alleles\n",
    "MHC_list = [\"HLA-A01:01\", \"HLA-A02:01\", \"HLA-A03:01\", \"HLA-A24:02\", \"HLA-A26:01\",\n",
    "            \"HLA-B07:02\", \"HLA-B08:01\", \"HLA-B27:05\", \"HLA-B39:01\", \"HLA-B40:01\", \"HLA-B58:01\", \"HLA-B15:01\"]\n",
    "\n",
    "# ImmunoBERT\n",
    "IB_VERSION = \"CONTEXT-PSEUDO-HEAD_Cls-DECOY_19-LR_0.00001\"\n",
    "IB_CHECKPOINT = \"epoch=4-step=3648186\"\n",
    "IB_PROJ_PATH = r\"C:\\Users\\s2118339\\Documents\\MSc_AI_Thesis_final\\MScProject\"\n",
    "\n",
    "# netMHCpan\n",
    "NMP_FOLDER_1 = f\"..{os.sep}netMHCpan\"\n",
    "NMP_FOLDER_2 = r\"~/win/Documents/2022H1/Group_project/CovidProject/netMHCpan\""
   ]
  },
  {
   "cell_type": "markdown",
   "id": "276431cf",
   "metadata": {},
   "source": [
    "### fully connected VAE"
   ]
  },
  {
   "cell_type": "code",
   "execution_count": 129,
   "id": "68b78ee9",
   "metadata": {},
   "outputs": [],
   "source": [
    "# encoder parameters\n",
    "FC_BLOCKS = 5\n",
    "FC_HIDDEN_DIM = 2048 # intermediate dimensions of the encoder\n",
    "\n",
    "# latent space\n",
    "FC_LATENT_DIM = 2   # dimensions of the latent space\n",
    "\n",
    "# VAE parameters\n",
    "FC_KL_TARGET = 0.1    # value of the KL divergence in the loss function\n",
    "\n",
    "# training parameters\n",
    "FC_LR = 3e-4         # the learning rate\n",
    "FC_BATCH_SIZE = 64   # batch size\n",
    "FC_DROPOUT = 0.05\n",
    "FC_WEIGHT_DECAY = 1e-6 # 3e-5\n",
    "\n",
    "# model and data\n",
    "MODEL_NAME = \"FC_004\"\n",
    "FILENAME_TRAIN = f\"..{os.sep}data{os.sep}spikeprot_train.txt\"\n",
    "FILENAME_VALID = f\"..{os.sep}data{os.sep}spikeprot_valid.txt\"\n",
    "FILENAME_TEST = f\"..{os.sep}data{os.sep}spikeprot_test.txt\""
   ]
  },
  {
   "cell_type": "markdown",
   "id": "291d603a",
   "metadata": {},
   "source": [
    "## notebook control"
   ]
  },
  {
   "cell_type": "code",
   "execution_count": 4,
   "id": "f9ec4711",
   "metadata": {},
   "outputs": [],
   "source": [
    "CREATE_DATA_SPLIT = False\n",
    "\n",
    "LOAD_IB_MODEL = True\n",
    "LOAD_IB_PEPTIDE_SCORES = True\n",
    "SAVE_IB_PEPTIDE_SCORES = True\n",
    "CALIB_IB = False\n",
    "\n",
    "ANTIGENICITY = 2  # 1... ImmunoBERT, 2... netMHCpan\n",
    "\n",
    "FC_EPOCHS = 100\n",
    "FC_SAVE = True # \"FC_003.ckpt\" # \"Fc_test\" # None\n",
    "FC_LOAD = True # \"FC_003.ckpt\" # \"Fully_Eps_100_KlTgt_25e-2KL_Cdtl.ckpt\"\n",
    "\n",
    "FC_SAMPLES = 50000"
   ]
  },
  {
   "cell_type": "markdown",
   "id": "011d9302",
   "metadata": {},
   "source": [
    "# Dataset"
   ]
  },
  {
   "cell_type": "code",
   "execution_count": 5,
   "id": "8803c661",
   "metadata": {},
   "outputs": [],
   "source": [
    "# load dataset\n",
    "if CREATE_DATA_SPLIT:\n",
    "    ds = StandardDataset(SEQ_LEN, MAX_SEQ_LEN)\n",
    "    ds.load_from_fasta(FILENAME_FASTA)\n",
    "    \n",
    "    print(f\"Fasta len: {len(ds.viral_seqs)}\")\n",
    "    \n",
    "    ds_val = ds.splitoff(2000)\n",
    "    ds_test = ds.splitoff(2000)\n",
    "    \n",
    "    print(f\"Train len: {len(ds.viral_seqs)}\")\n",
    "    print(f\"Valid len: {len(ds_val.viral_seqs)}\")\n",
    "    print(f\"Test len: {len(ds_test.viral_seqs)}\")\n",
    "    \n",
    "    ds.save_to_file(FILENAME_TRAIN)\n",
    "    ds_val.save_to_file(FILENAME_VALID)\n",
    "    ds_test.save_to_file(FILENAME_TEST)\n",
    "\n",
    "else:\n",
    "    ds = StandardDataset(SEQ_LEN, MAX_SEQ_LEN, filename=FILENAME_TRAIN)\n",
    "    ds_val = StandardDataset(SEQ_LEN, MAX_SEQ_LEN, filename=FILENAME_VALID)\n",
    "    ds_test = StandardDataset(SEQ_LEN, MAX_SEQ_LEN, filename=FILENAME_TEST)"
   ]
  },
  {
   "cell_type": "code",
   "execution_count": 6,
   "id": "77ca4dae",
   "metadata": {},
   "outputs": [
    {
     "data": {
      "application/vnd.jupyter.widget-view+json": {
       "model_id": "5048d51047554420aa7ca69a663c5c5c",
       "version_major": 2,
       "version_minor": 0
      },
      "text/plain": [
       "  0%|          | 0/2000 [00:00<?, ?it/s]"
      ]
     },
     "metadata": {},
     "output_type": "display_data"
    },
    {
     "data": {
      "application/vnd.jupyter.widget-view+json": {
       "model_id": "c58d8608abbe4487b8abd3f315384fe5",
       "version_major": 2,
       "version_minor": 0
      },
      "text/plain": [
       "  0%|          | 0/2000 [00:00<?, ?it/s]"
      ]
     },
     "metadata": {},
     "output_type": "display_data"
    }
   ],
   "source": [
    "for seq in tqdm(ds_val.viral_seqs):\n",
    "    if seq in ds.viral_seqs:\n",
    "        print(f\"Error: {seq}\")\n",
    "        \n",
    "for seq in tqdm(ds_test.viral_seqs):\n",
    "    if seq in ds.viral_seqs:\n",
    "        print(f\"Error: {seq}\")"
   ]
  },
  {
   "cell_type": "code",
   "execution_count": 7,
   "id": "7c5297fa",
   "metadata": {},
   "outputs": [
    {
     "data": {
      "text/plain": [
       "69027"
      ]
     },
     "execution_count": 7,
     "metadata": {},
     "output_type": "execute_result"
    }
   ],
   "source": [
    "all_viral_seqs = ds.viral_seqs + ds_val.viral_seqs + ds_test.viral_seqs\n",
    "len(all_viral_seqs)"
   ]
  },
  {
   "cell_type": "markdown",
   "id": "713ef57e",
   "metadata": {},
   "source": [
    "## ImmunoBERT assessment"
   ]
  },
  {
   "cell_type": "code",
   "execution_count": 8,
   "id": "e2aaa63c",
   "metadata": {},
   "outputs": [],
   "source": [
    "model = None"
   ]
  },
  {
   "cell_type": "code",
   "execution_count": null,
   "id": "e59a136f",
   "metadata": {},
   "outputs": [],
   "source": [
    "# load ImmunoBERT model\n",
    "if LOAD_IB_MODEL:\n",
    "    pMHC.set_paths(IB_PROJ_PATH)\n",
    "    MODEL_PATH = f\"..{os.sep}data{os.sep}{IB_CHECKPOINT}.ckpt\"\n",
    "    model = PresentationPredictor.load_from_checkpoint(MODEL_PATH,\n",
    "                                                       num_workers=0, shuffle_data=False, output_attentions=False)\n",
    "\n",
    "    model.setup();\n",
    "    model.to(\"cuda\");\n",
    "    model.eval();"
   ]
  },
  {
   "cell_type": "code",
   "execution_count": null,
   "id": "dcdc60b9",
   "metadata": {},
   "outputs": [],
   "source": [
    "if CALIB_IB:\n",
    "    rand_peptides = defaultdict(lambda: {})\n",
    "    for j in tqdm(range(10000)):\n",
    "        rand_peptide = \"\".join([ds.tok.dec_dict[x] for x in np.random.choice(range(1, 21), 9)])\n",
    "        for mhc_name in MHC_list:\n",
    "            example = get_input_rep_PSEUDO(\"\", rand_peptide, \"\", \n",
    "                MhcAllele.mhc_alleles[mhc_name].pseudo_seq, model)\n",
    "            pred = float(torch.sigmoid(model(move_dict_to_device(convert_example_to_batch(example), model))))\n",
    "            rand_peptides[mhc_name][rand_peptide] = pred\n",
    "            \n",
    "    IB_weak_antigenic_threshold = {}\n",
    "    IB_strong_antigenic_threshold = {}\n",
    "    for mhc_name in MHC_list:\n",
    "        IB_weak_antigenic_threshold.update({mhc_name: np.quantile(list(rand_peptides[mhc_name].values()), 0.98)})\n",
    "        IB_strong_antigenic_threshold.update({mhc_name: np.quantile(list(rand_peptides[mhc_name].values()), 0.995)})\n",
    "        \n",
    "    with open(f\"..{os.sep}data{os.sep}IB_weak_antigenic_threshold.pickle\", \"wb\") as file:\n",
    "        pickle.dump(IB_weak_antigenic_threshold, file)\n",
    "        \n",
    "    with open(f\"..{os.sep}data{os.sep}IB_strong_antigenic_threshold.pickle\", \"wb\") as file:\n",
    "        pickle.dump(IB_strong_antigenic_threshold, file)\n",
    "        \n",
    "else:\n",
    "    with open(f\"..{os.sep}data{os.sep}IB_weak_antigenic_threshold.pickle\", \"rb\") as file:\n",
    "        IB_weak_antigenic_threshold = pickle.load(file)\n",
    "        \n",
    "    with open(f\"..{os.sep}data{os.sep}IB_strong_antigenic_threshold.pickle\", \"rb\") as file:\n",
    "        IB_strong_antigenic_threshold = pickle.load(file)"
   ]
  },
  {
   "cell_type": "code",
   "execution_count": null,
   "id": "2ba5d531",
   "metadata": {
    "scrolled": true
   },
   "outputs": [],
   "source": [
    "IB_weak_antigenic_threshold"
   ]
  },
  {
   "cell_type": "code",
   "execution_count": null,
   "id": "d455013a",
   "metadata": {},
   "outputs": [],
   "source": [
    "IB_strong_antigenic_threshold"
   ]
  },
  {
   "cell_type": "code",
   "execution_count": 9,
   "id": "714e347f",
   "metadata": {},
   "outputs": [],
   "source": [
    "# generate or load scores for peptide flank combinations\n",
    "IB_peptide_scores = {}\n",
    "IB_seq_scores_50 = defaultdict(lambda: 0)\n",
    "IB_seq_scores_weak = defaultdict(lambda: 0)\n",
    "IB_seq_scores_strong = defaultdict(lambda: 0)\n",
    "IB_seq_avg_scores = defaultdict(lambda: 0)\n",
    "\n",
    "\n",
    "if LOAD_IB_PEPTIDE_SCORES:\n",
    "    with open(f\"..{os.sep}data{os.sep}IB_peptide_scores.pickle\", \"rb\") as file:\n",
    "        IB_peptide_scores = pickle.load(file)"
   ]
  },
  {
   "cell_type": "code",
   "execution_count": null,
   "id": "9cbe7437",
   "metadata": {},
   "outputs": [],
   "source": [
    "# automatically adds peptide scores if they cannot be found to the peptide score dictionary\n",
    "for seq in tqdm(all_viral_seqs):             \n",
    "    IB_seq_scores_50[seq], IB_seq_scores_weak[seq], IB_seq_scores_strong[seq], IB_seq_avg_scores[seq] = \\\n",
    "        score_seq_IB(model, seq,  MHC_list, IB_peptide_scores,\n",
    "                     weak_antigenic_threshold=IB_weak_antigenic_threshold, \n",
    "                     strong_antigenic_threshold=IB_strong_antigenic_threshold)\n",
    "        \n",
    "if SAVE_IB_PEPTIDE_SCORES:\n",
    "    with open(f\"..{os.sep}data{os.sep}IB_peptide_scores.pickle\", \"wb\") as file:\n",
    "        pickle.dump(IB_peptide_scores, file)"
   ]
  },
  {
   "cell_type": "code",
   "execution_count": null,
   "id": "9e9dfca9",
   "metadata": {},
   "outputs": [],
   "source": [
    "to_delete = []\n",
    "for key, values in IB_peptide_scores.items():\n",
    "    if len(values) != len(MHC_list):\n",
    "        to_delete.append(key)\n",
    "        \n",
    "for key in to_delete:\n",
    "    del IB_peptide_scores[key]"
   ]
  },
  {
   "cell_type": "code",
   "execution_count": null,
   "id": "3b5e1605",
   "metadata": {},
   "outputs": [],
   "source": [
    "IB_seq_scores = IB_seq_scores_weak"
   ]
  },
  {
   "cell_type": "code",
   "execution_count": null,
   "id": "622fd485",
   "metadata": {},
   "outputs": [],
   "source": [
    "h = np.array(list(IB_seq_scores.values()))\n",
    "IB_seq_scores_p25 = np.percentile(h, 25)\n",
    "IB_seq_scores_p75 = np.percentile(h, 75)\n",
    "\n",
    "IB_seq_immuno_cat = {}\n",
    "for seq in all_viral_seqs:\n",
    "    if IB_seq_scores[seq] < IB_seq_scores_p25:\n",
    "        IB_seq_immuno_cat[seq] = 0\n",
    "    elif IB_seq_scores[seq] < IB_seq_scores_p75:\n",
    "        IB_seq_immuno_cat[seq] = 1\n",
    "    else:\n",
    "        IB_seq_immuno_cat[seq] = 2\n",
    "        \n",
    "print(f\"IB_seq_scores_p25: {IB_seq_scores_p25:.5f} IB_seq_scores_p75: {IB_seq_scores_p75:.5f}\")\n",
    "print(f\"mean: {np.mean(list(IB_seq_scores.values())):.5f}\")"
   ]
  },
  {
   "cell_type": "code",
   "execution_count": null,
   "id": "17366874",
   "metadata": {},
   "outputs": [],
   "source": [
    "sns.distplot(np.array(list(IB_seq_scores.values())))"
   ]
  },
  {
   "cell_type": "markdown",
   "id": "939eeafa",
   "metadata": {},
   "source": [
    "## netMHCpan assessment"
   ]
  },
  {
   "cell_type": "code",
   "execution_count": 10,
   "id": "7641068f",
   "metadata": {},
   "outputs": [],
   "source": [
    "peptides_db = defaultdict(lambda: 0)\n",
    "for key in IB_peptide_scores.keys():\n",
    "    start = key.find(\"_\") + 1\n",
    "    peptides_db[key[start:start+9]] += 1\n",
    "    \n",
    "peptides_db = list(peptides_db.keys())"
   ]
  },
  {
   "cell_type": "code",
   "execution_count": 11,
   "id": "47fe53ce",
   "metadata": {},
   "outputs": [],
   "source": [
    "file = open(f\"{NMP_FOLDER_1}{os.sep}peptides_db.pep\", \"w\")\n",
    "for peptide in peptides_db:\n",
    "      file.writelines([peptide, \"\\n\"])\n",
    "    \n",
    "file.close()"
   ]
  },
  {
   "cell_type": "code",
   "execution_count": 12,
   "id": "f37aafb3",
   "metadata": {},
   "outputs": [
    {
     "name": "stdout",
     "output_type": "stream",
     "text": [
      "./netMHCpan -p ~/win/Documents/2022H1/Group_project/CovidProject/netMHCpan/peptides_db.pep -a HLA-A01:01 > ~/win/Documents/2022H1/Group_project/CovidProject/netMHCpan/peptides_db_A0101.pep.out\n",
      "\n",
      "\n",
      "./netMHCpan -p ~/win/Documents/2022H1/Group_project/CovidProject/netMHCpan/peptides_db.pep -a HLA-A02:01 > ~/win/Documents/2022H1/Group_project/CovidProject/netMHCpan/peptides_db_A0201.pep.out\n",
      "\n",
      "\n",
      "./netMHCpan -p ~/win/Documents/2022H1/Group_project/CovidProject/netMHCpan/peptides_db.pep -a HLA-A03:01 > ~/win/Documents/2022H1/Group_project/CovidProject/netMHCpan/peptides_db_A0301.pep.out\n",
      "\n",
      "\n",
      "./netMHCpan -p ~/win/Documents/2022H1/Group_project/CovidProject/netMHCpan/peptides_db.pep -a HLA-A24:02 > ~/win/Documents/2022H1/Group_project/CovidProject/netMHCpan/peptides_db_A2402.pep.out\n",
      "\n",
      "\n",
      "./netMHCpan -p ~/win/Documents/2022H1/Group_project/CovidProject/netMHCpan/peptides_db.pep -a HLA-A26:01 > ~/win/Documents/2022H1/Group_project/CovidProject/netMHCpan/peptides_db_A2601.pep.out\n",
      "\n",
      "\n",
      "./netMHCpan -p ~/win/Documents/2022H1/Group_project/CovidProject/netMHCpan/peptides_db.pep -a HLA-B07:02 > ~/win/Documents/2022H1/Group_project/CovidProject/netMHCpan/peptides_db_B0702.pep.out\n",
      "\n",
      "\n",
      "./netMHCpan -p ~/win/Documents/2022H1/Group_project/CovidProject/netMHCpan/peptides_db.pep -a HLA-B08:01 > ~/win/Documents/2022H1/Group_project/CovidProject/netMHCpan/peptides_db_B0801.pep.out\n",
      "\n",
      "\n",
      "./netMHCpan -p ~/win/Documents/2022H1/Group_project/CovidProject/netMHCpan/peptides_db.pep -a HLA-B27:05 > ~/win/Documents/2022H1/Group_project/CovidProject/netMHCpan/peptides_db_B2705.pep.out\n",
      "\n",
      "\n",
      "./netMHCpan -p ~/win/Documents/2022H1/Group_project/CovidProject/netMHCpan/peptides_db.pep -a HLA-B39:01 > ~/win/Documents/2022H1/Group_project/CovidProject/netMHCpan/peptides_db_B3901.pep.out\n",
      "\n",
      "\n",
      "./netMHCpan -p ~/win/Documents/2022H1/Group_project/CovidProject/netMHCpan/peptides_db.pep -a HLA-B40:01 > ~/win/Documents/2022H1/Group_project/CovidProject/netMHCpan/peptides_db_B4001.pep.out\n",
      "\n",
      "\n",
      "./netMHCpan -p ~/win/Documents/2022H1/Group_project/CovidProject/netMHCpan/peptides_db.pep -a HLA-B58:01 > ~/win/Documents/2022H1/Group_project/CovidProject/netMHCpan/peptides_db_B5801.pep.out\n",
      "\n",
      "\n",
      "./netMHCpan -p ~/win/Documents/2022H1/Group_project/CovidProject/netMHCpan/peptides_db.pep -a HLA-B15:01 > ~/win/Documents/2022H1/Group_project/CovidProject/netMHCpan/peptides_db_B1501.pep.out\n",
      "\n",
      "\n"
     ]
    }
   ],
   "source": [
    "for mhc_name in MHC_list:\n",
    "    # print(mhc_name)\n",
    "    mhc_name_2 = mhc_name.replace(\":\", \"\").replace(\"HLA-\", \"\")\n",
    "    \n",
    "    print(f\"./netMHCpan -p {NMP_FOLDER_2}/peptides_db.pep -a {mhc_name} > {NMP_FOLDER_2}/peptides_db_{mhc_name_2}.pep.out\")\n",
    "    print(\"\\n\")"
   ]
  },
  {
   "cell_type": "code",
   "execution_count": 13,
   "id": "d1c22ec6",
   "metadata": {},
   "outputs": [],
   "source": [
    "# run the above on Linux"
   ]
  },
  {
   "cell_type": "code",
   "execution_count": null,
   "id": "3f52fdeb",
   "metadata": {},
   "outputs": [],
   "source": [
    "nMp_peptide_scores = eval_peptides_nMp(\"peptides_db\", MHC_list);"
   ]
  },
  {
   "cell_type": "code",
   "execution_count": 15,
   "id": "7bef4d68",
   "metadata": {},
   "outputs": [
    {
     "data": {
      "application/vnd.jupyter.widget-view+json": {
       "model_id": "616e9f5e0f724044b8b88b174e68ba3b",
       "version_major": 2,
       "version_minor": 0
      },
      "text/plain": [
       "  0%|          | 0/69027 [00:00<?, ?it/s]"
      ]
     },
     "metadata": {},
     "output_type": "display_data"
    }
   ],
   "source": [
    "nMp_seq_scores = defaultdict(lambda : 0)\n",
    "nMp_epitopes_db = set()\n",
    "for seq in tqdm(all_viral_seqs):\n",
    "    nMp_seq_scores[seq], epitopes = score_seq_nMp(seq, MHC_list, nMp_peptide_scores)\n",
    "    nMp_epitopes_db = nMp_epitopes_db.union(epitopes)"
   ]
  },
  {
   "cell_type": "code",
   "execution_count": 16,
   "id": "d8fd84ae",
   "metadata": {},
   "outputs": [
    {
     "data": {
      "text/plain": [
       "14732"
      ]
     },
     "execution_count": 16,
     "metadata": {},
     "output_type": "execute_result"
    }
   ],
   "source": [
    "len(nMp_epitopes_db)"
   ]
  },
  {
   "cell_type": "code",
   "execution_count": 17,
   "id": "7ee977f0",
   "metadata": {},
   "outputs": [
    {
     "name": "stdout",
     "output_type": "stream",
     "text": [
      "nMp_seq_scores_p25: 49.83333 nMp_seq_scores_p75: 50.33333\n",
      "mean: 50.07670808804338\n"
     ]
    }
   ],
   "source": [
    "h = np.array(list(nMp_seq_scores.values()))\n",
    "nMp_seq_scores_p25 = np.percentile(h, 25)\n",
    "nMp_seq_scores_p75 = np.percentile(h, 75)\n",
    "\n",
    "nMp_seq_immuno_cat = {}\n",
    "for seq in all_viral_seqs:\n",
    "    if nMp_seq_scores[seq] < nMp_seq_scores_p25:\n",
    "        nMp_seq_immuno_cat[seq] = 0\n",
    "    elif nMp_seq_scores[seq] < nMp_seq_scores_p75:\n",
    "        nMp_seq_immuno_cat[seq] = 1\n",
    "    else:\n",
    "        nMp_seq_immuno_cat[seq] = 2\n",
    "        \n",
    "print(f\"nMp_seq_scores_p25: {nMp_seq_scores_p25:.5f} nMp_seq_scores_p75: {nMp_seq_scores_p75:.5f}\")\n",
    "print(f\"mean: {np.mean(list(nMp_seq_scores.values()))}\")"
   ]
  },
  {
   "cell_type": "markdown",
   "id": "d0b2221b",
   "metadata": {},
   "source": [
    "## assign antigenicity category"
   ]
  },
  {
   "cell_type": "code",
   "execution_count": 18,
   "id": "328a2e3f",
   "metadata": {},
   "outputs": [],
   "source": [
    "if ANTIGENICITY == 1:\n",
    "    ds.seq_immuno_cat = IB_seq_immuno_cat\n",
    "    ds_val.seq_immuno_cat = IB_seq_immuno_cat\n",
    "    ds_test.seq_immuno_cat = IB_seq_immuno_cat\n",
    "elif ANTIGENICITY == 2:\n",
    "    ds.seq_immuno_cat = nMp_seq_immuno_cat\n",
    "    ds_val.seq_immuno_cat = nMp_seq_immuno_cat\n",
    "    ds_test.seq_immuno_cat = nMp_seq_immuno_cat"
   ]
  },
  {
   "cell_type": "markdown",
   "id": "828fd996",
   "metadata": {},
   "source": [
    "# FC VAE"
   ]
  },
  {
   "cell_type": "markdown",
   "id": "167e75bb",
   "metadata": {},
   "source": [
    "## Hyperparameter search"
   ]
  },
  {
   "cell_type": "code",
   "execution_count": 19,
   "id": "09cbee99",
   "metadata": {},
   "outputs": [],
   "source": [
    "HYP_EPOCHS = 25"
   ]
  },
  {
   "cell_type": "code",
   "execution_count": 20,
   "id": "3679e6d7",
   "metadata": {},
   "outputs": [
    {
     "data": {
      "application/vnd.jupyter.widget-view+json": {
       "model_id": "de437925b7fd411ca0debd501e6eee88",
       "version_major": 2,
       "version_minor": 0
      },
      "text/plain": [
       "  0%|          | 0/65027 [00:00<?, ?it/s]"
      ]
     },
     "metadata": {},
     "output_type": "display_data"
    }
   ],
   "source": [
    "ev_train = calc_entropy_vector(ds.viral_seqs, ds.tok.aa_to_idx)"
   ]
  },
  {
   "cell_type": "code",
   "execution_count": 125,
   "id": "939f75d1",
   "metadata": {},
   "outputs": [],
   "source": [
    "def generate_seqs(VAE, n_seqs, antigenicity=0):\n",
    "    hyp_latent_dim = VAE.latent_dim\n",
    "    pl.seed_everything(42)\n",
    "    \n",
    "    # generate random latent variables\n",
    "    p = torch.distributions.Normal(\n",
    "        torch.zeros(hyp_latent_dim, device=VAE.device), \n",
    "        torch.ones(hyp_latent_dim, device=VAE.device))\n",
    "\n",
    "    mus, log_vars, latents, cats = VAE.get_latent_from_seq(VAE.ds[PHASE_VALID].viral_seqs)\n",
    "    \n",
    "    Zs = p.sample(sample_shape=torch.Size([n_seqs])).to(VAE.device)\n",
    "    latents = torch.vstack(latents)\n",
    "    Zs = Zs @ torch.cov(latents.t()).to(VAE.device).float()\n",
    "\n",
    "    generated_seqs = VAE.get_seq_from_latent(Zs, antigenicity) # generate low antigenic sequences\n",
    "    return generated_seqs\n",
    "    \n",
    "\n",
    "def define_model(trial):\n",
    "    hyp_blocks = trial.suggest_int(\"blocks\", 2, 7)\n",
    "    hyp_hidden = trial.suggest_categorical(\"hidden_dim\", [1024*2, 1024, 512])\n",
    "    hyp_latent_dim = trial.suggest_int(\"latent_dim\", 2, 50)\n",
    "    hyp_dropout = trial.suggest_float(\"dropout\", 0.05, 0.5)\n",
    "    hyp_kl_target = trial.suggest_float(\"kl_target\", 0.01, 1.0)\n",
    "    \n",
    "    hyp_VAE = FcVAE(\n",
    "            aa_dim = AA_ENC_DIM,\n",
    "            sequence_len = MAX_SEQ_LEN,\n",
    "            blocks = hyp_blocks,\n",
    "            hidden_dim = hyp_hidden,\n",
    "            hidden_dim_scaling_factor=(0.5, 2.0),\n",
    "            latent_dim = hyp_latent_dim,\n",
    "            conditional = 3,\n",
    "            dropout = hyp_dropout,\n",
    "            kl_target = hyp_kl_target,\n",
    "            lr = FC_LR,\n",
    "            batch_size = FC_BATCH_SIZE,\n",
    "            weight_decay = FC_WEIGHT_DECAY\n",
    "    )\n",
    "    \n",
    "    hyp_VAE.ds[PHASE_TRAIN] = ds\n",
    "    hyp_VAE.ds[PHASE_VALID] = ds_val\n",
    "    hyp_VAE.ds[PHASE_TEST] = ds_test\n",
    "    \n",
    "    return hyp_VAE, hyp_blocks, hyp_hidden, hyp_latent_dim, hyp_kl_target, hyp_dropout\n",
    "\n",
    "def objective(trial):\n",
    "    hyp_VAE, hyp_blocks, hyp_hidden, hyp_latent_dim, hyp_kl_target, hyp_dropout = define_model(trial)\n",
    "    \n",
    "    experiment_name = f\"OPTUNA-LATENT_DIM-{hyp_latent_dim}-BLOCKS-{hyp_blocks}-HIDDEN-{hyp_hidden}-KL_TARGET-{hyp_kl_target:.3f}-DROPOUT-{hyp_dropout:.3f}\"\n",
    "    \n",
    "    logger = TensorBoardLogger(\"tb_logs\", name=experiment_name)    \n",
    "    trainer = Trainer(max_epochs=HYP_EPOCHS, gpus=1, logger=logger)\n",
    "    \n",
    "    trainer.fit(hyp_VAE)\n",
    "    # trainer.save_checkpoint(f\"..{os.sep}models{os.sep}{experiment_name}.ckpt\")\n",
    "    \n",
    "    generated_seqs = generate_seqs(hyp_VAE, 100)\n",
    "    gen_seqs = []\n",
    "    for seq, cnt in generated_seqs.items():\n",
    "        gen_seqs += [seq] * cnt\n",
    "        \n",
    "    ev = calc_entropy_vector(gen_seqs, hyp_VAE.ds[PHASE_TRAIN].tok.aa_to_idx)\n",
    "    \n",
    "    evaluation_score = torch.norm(torch.tensor(ev - ev_train))\n",
    "    \n",
    "    return evaluation_score"
   ]
  },
  {
   "cell_type": "code",
   "execution_count": null,
   "id": "01e249fc",
   "metadata": {},
   "outputs": [],
   "source": [
    "study = optuna.create_study(\n",
    "    study_name=\"hyp\", storage='sqlite:///hyp.db', load_if_exists=True\n",
    ")"
   ]
  },
  {
   "cell_type": "code",
   "execution_count": 81,
   "id": "243482f9",
   "metadata": {},
   "outputs": [
    {
     "name": "stderr",
     "output_type": "stream",
     "text": [
      "GPU available: True, used: True\n",
      "TPU available: False, using: 0 TPU cores\n",
      "IPU available: False, using: 0 IPUs\n",
      "LOCAL_RANK: 0 - CUDA_VISIBLE_DEVICES: [0]\n",
      "\n",
      "  | Name    | Type      | Params\n",
      "--------------------------------------\n",
      "0 | encoder | FcNetwork | 14.1 M\n",
      "1 | fc_mu   | Linear    | 1.8 K \n",
      "2 | fc_var  | Linear    | 1.8 K \n",
      "3 | decoder | FcNetwork | 14.2 M\n",
      "--------------------------------------\n",
      "28.4 M    Trainable params\n",
      "0         Non-trainable params\n",
      "28.4 M    Total params\n",
      "113.463   Total estimated model params size (MB)\n"
     ]
    },
    {
     "data": {
      "application/vnd.jupyter.widget-view+json": {
       "model_id": "",
       "version_major": 2,
       "version_minor": 0
      },
      "text/plain": [
       "Validation sanity check: 0it [00:00, ?it/s]"
      ]
     },
     "metadata": {},
     "output_type": "display_data"
    },
    {
     "name": "stderr",
     "output_type": "stream",
     "text": [
      "C:\\Users\\s2118339\\anaconda3\\envs\\GroupProject\\lib\\site-packages\\pytorch_lightning\\trainer\\data_loading.py:133: UserWarning:\n",
      "\n",
      "The dataloader, val_dataloader 0, does not have many workers which may be a bottleneck. Consider increasing the value of the `num_workers` argument` (try 12 which is the number of cpus on this machine) in the `DataLoader` init to improve performance.\n",
      "\n",
      "Global seed set to 42\n",
      "C:\\Users\\s2118339\\anaconda3\\envs\\GroupProject\\lib\\site-packages\\pytorch_lightning\\trainer\\data_loading.py:133: UserWarning:\n",
      "\n",
      "The dataloader, train_dataloader, does not have many workers which may be a bottleneck. Consider increasing the value of the `num_workers` argument` (try 12 which is the number of cpus on this machine) in the `DataLoader` init to improve performance.\n",
      "\n"
     ]
    },
    {
     "data": {
      "application/vnd.jupyter.widget-view+json": {
       "model_id": "2f518f77b5ee46a183d1d4ada34ba3b4",
       "version_major": 2,
       "version_minor": 0
      },
      "text/plain": [
       "Training: 0it [00:00, ?it/s]"
      ]
     },
     "metadata": {},
     "output_type": "display_data"
    },
    {
     "data": {
      "application/vnd.jupyter.widget-view+json": {
       "model_id": "",
       "version_major": 2,
       "version_minor": 0
      },
      "text/plain": [
       "Validating: 0it [00:00, ?it/s]"
      ]
     },
     "metadata": {},
     "output_type": "display_data"
    },
    {
     "data": {
      "application/vnd.jupyter.widget-view+json": {
       "model_id": "",
       "version_major": 2,
       "version_minor": 0
      },
      "text/plain": [
       "Validating: 0it [00:00, ?it/s]"
      ]
     },
     "metadata": {},
     "output_type": "display_data"
    },
    {
     "data": {
      "application/vnd.jupyter.widget-view+json": {
       "model_id": "",
       "version_major": 2,
       "version_minor": 0
      },
      "text/plain": [
       "Validating: 0it [00:00, ?it/s]"
      ]
     },
     "metadata": {},
     "output_type": "display_data"
    },
    {
     "data": {
      "application/vnd.jupyter.widget-view+json": {
       "model_id": "",
       "version_major": 2,
       "version_minor": 0
      },
      "text/plain": [
       "Validating: 0it [00:00, ?it/s]"
      ]
     },
     "metadata": {},
     "output_type": "display_data"
    },
    {
     "data": {
      "application/vnd.jupyter.widget-view+json": {
       "model_id": "",
       "version_major": 2,
       "version_minor": 0
      },
      "text/plain": [
       "Validating: 0it [00:00, ?it/s]"
      ]
     },
     "metadata": {},
     "output_type": "display_data"
    },
    {
     "data": {
      "application/vnd.jupyter.widget-view+json": {
       "model_id": "",
       "version_major": 2,
       "version_minor": 0
      },
      "text/plain": [
       "Validating: 0it [00:00, ?it/s]"
      ]
     },
     "metadata": {},
     "output_type": "display_data"
    },
    {
     "data": {
      "application/vnd.jupyter.widget-view+json": {
       "model_id": "",
       "version_major": 2,
       "version_minor": 0
      },
      "text/plain": [
       "Validating: 0it [00:00, ?it/s]"
      ]
     },
     "metadata": {},
     "output_type": "display_data"
    },
    {
     "data": {
      "application/vnd.jupyter.widget-view+json": {
       "model_id": "",
       "version_major": 2,
       "version_minor": 0
      },
      "text/plain": [
       "Validating: 0it [00:00, ?it/s]"
      ]
     },
     "metadata": {},
     "output_type": "display_data"
    },
    {
     "data": {
      "application/vnd.jupyter.widget-view+json": {
       "model_id": "",
       "version_major": 2,
       "version_minor": 0
      },
      "text/plain": [
       "Validating: 0it [00:00, ?it/s]"
      ]
     },
     "metadata": {},
     "output_type": "display_data"
    },
    {
     "data": {
      "application/vnd.jupyter.widget-view+json": {
       "model_id": "",
       "version_major": 2,
       "version_minor": 0
      },
      "text/plain": [
       "Validating: 0it [00:00, ?it/s]"
      ]
     },
     "metadata": {},
     "output_type": "display_data"
    },
    {
     "data": {
      "application/vnd.jupyter.widget-view+json": {
       "model_id": "",
       "version_major": 2,
       "version_minor": 0
      },
      "text/plain": [
       "Validating: 0it [00:00, ?it/s]"
      ]
     },
     "metadata": {},
     "output_type": "display_data"
    },
    {
     "data": {
      "application/vnd.jupyter.widget-view+json": {
       "model_id": "",
       "version_major": 2,
       "version_minor": 0
      },
      "text/plain": [
       "Validating: 0it [00:00, ?it/s]"
      ]
     },
     "metadata": {},
     "output_type": "display_data"
    },
    {
     "data": {
      "application/vnd.jupyter.widget-view+json": {
       "model_id": "",
       "version_major": 2,
       "version_minor": 0
      },
      "text/plain": [
       "Validating: 0it [00:00, ?it/s]"
      ]
     },
     "metadata": {},
     "output_type": "display_data"
    },
    {
     "data": {
      "application/vnd.jupyter.widget-view+json": {
       "model_id": "",
       "version_major": 2,
       "version_minor": 0
      },
      "text/plain": [
       "Validating: 0it [00:00, ?it/s]"
      ]
     },
     "metadata": {},
     "output_type": "display_data"
    },
    {
     "data": {
      "application/vnd.jupyter.widget-view+json": {
       "model_id": "",
       "version_major": 2,
       "version_minor": 0
      },
      "text/plain": [
       "Validating: 0it [00:00, ?it/s]"
      ]
     },
     "metadata": {},
     "output_type": "display_data"
    },
    {
     "data": {
      "application/vnd.jupyter.widget-view+json": {
       "model_id": "",
       "version_major": 2,
       "version_minor": 0
      },
      "text/plain": [
       "Validating: 0it [00:00, ?it/s]"
      ]
     },
     "metadata": {},
     "output_type": "display_data"
    },
    {
     "data": {
      "application/vnd.jupyter.widget-view+json": {
       "model_id": "",
       "version_major": 2,
       "version_minor": 0
      },
      "text/plain": [
       "Validating: 0it [00:00, ?it/s]"
      ]
     },
     "metadata": {},
     "output_type": "display_data"
    },
    {
     "data": {
      "application/vnd.jupyter.widget-view+json": {
       "model_id": "",
       "version_major": 2,
       "version_minor": 0
      },
      "text/plain": [
       "Validating: 0it [00:00, ?it/s]"
      ]
     },
     "metadata": {},
     "output_type": "display_data"
    },
    {
     "data": {
      "application/vnd.jupyter.widget-view+json": {
       "model_id": "",
       "version_major": 2,
       "version_minor": 0
      },
      "text/plain": [
       "Validating: 0it [00:00, ?it/s]"
      ]
     },
     "metadata": {},
     "output_type": "display_data"
    },
    {
     "data": {
      "application/vnd.jupyter.widget-view+json": {
       "model_id": "",
       "version_major": 2,
       "version_minor": 0
      },
      "text/plain": [
       "Validating: 0it [00:00, ?it/s]"
      ]
     },
     "metadata": {},
     "output_type": "display_data"
    },
    {
     "data": {
      "application/vnd.jupyter.widget-view+json": {
       "model_id": "",
       "version_major": 2,
       "version_minor": 0
      },
      "text/plain": [
       "Validating: 0it [00:00, ?it/s]"
      ]
     },
     "metadata": {},
     "output_type": "display_data"
    },
    {
     "data": {
      "application/vnd.jupyter.widget-view+json": {
       "model_id": "",
       "version_major": 2,
       "version_minor": 0
      },
      "text/plain": [
       "Validating: 0it [00:00, ?it/s]"
      ]
     },
     "metadata": {},
     "output_type": "display_data"
    },
    {
     "data": {
      "application/vnd.jupyter.widget-view+json": {
       "model_id": "",
       "version_major": 2,
       "version_minor": 0
      },
      "text/plain": [
       "Validating: 0it [00:00, ?it/s]"
      ]
     },
     "metadata": {},
     "output_type": "display_data"
    },
    {
     "data": {
      "application/vnd.jupyter.widget-view+json": {
       "model_id": "",
       "version_major": 2,
       "version_minor": 0
      },
      "text/plain": [
       "Validating: 0it [00:00, ?it/s]"
      ]
     },
     "metadata": {},
     "output_type": "display_data"
    },
    {
     "data": {
      "application/vnd.jupyter.widget-view+json": {
       "model_id": "",
       "version_major": 2,
       "version_minor": 0
      },
      "text/plain": [
       "Validating: 0it [00:00, ?it/s]"
      ]
     },
     "metadata": {},
     "output_type": "display_data"
    },
    {
     "name": "stderr",
     "output_type": "stream",
     "text": [
      "Global seed set to 42\n"
     ]
    },
    {
     "data": {
      "application/vnd.jupyter.widget-view+json": {
       "model_id": "1c98fa4e251948dd98eeedb09ace1a6a",
       "version_major": 2,
       "version_minor": 0
      },
      "text/plain": [
       "  0%|          | 0/100 [00:00<?, ?it/s]"
      ]
     },
     "metadata": {},
     "output_type": "display_data"
    },
    {
     "data": {
      "application/vnd.jupyter.widget-view+json": {
       "model_id": "88cc7b3570b34e0ba0ff3b07ff9110db",
       "version_major": 2,
       "version_minor": 0
      },
      "text/plain": [
       "  0%|          | 0/100 [00:00<?, ?it/s]"
      ]
     },
     "metadata": {},
     "output_type": "display_data"
    },
    {
     "name": "stderr",
     "output_type": "stream",
     "text": [
      "\u001b[32m[I 2022-03-15 21:50:18,068]\u001b[0m Trial 20 finished with value: 2.0298171813248977 and parameters: {'blocks': 4, 'hidden_dim': 512, 'latent_dim': 27, 'dropout': 0.1754304076205893, 'kl_target': 0.4843286875028315}. Best is trial 14 with value: 1.660719525956095.\u001b[0m\n",
      "GPU available: True, used: True\n",
      "TPU available: False, using: 0 TPU cores\n",
      "IPU available: False, using: 0 IPUs\n",
      "LOCAL_RANK: 0 - CUDA_VISIBLE_DEVICES: [0]\n",
      "\n",
      "  | Name    | Type      | Params\n",
      "--------------------------------------\n",
      "0 | encoder | FcNetwork | 14.1 M\n",
      "1 | fc_mu   | Linear    | 272   \n",
      "2 | fc_var  | Linear    | 272   \n",
      "3 | decoder | FcNetwork | 14.2 M\n",
      "--------------------------------------\n",
      "28.4 M    Trainable params\n",
      "0         Non-trainable params\n",
      "28.4 M    Total params\n",
      "113.492   Total estimated model params size (MB)\n"
     ]
    },
    {
     "data": {
      "application/vnd.jupyter.widget-view+json": {
       "model_id": "",
       "version_major": 2,
       "version_minor": 0
      },
      "text/plain": [
       "Validation sanity check: 0it [00:00, ?it/s]"
      ]
     },
     "metadata": {},
     "output_type": "display_data"
    },
    {
     "name": "stderr",
     "output_type": "stream",
     "text": [
      "C:\\Users\\s2118339\\anaconda3\\envs\\GroupProject\\lib\\site-packages\\pytorch_lightning\\trainer\\data_loading.py:133: UserWarning:\n",
      "\n",
      "The dataloader, val_dataloader 0, does not have many workers which may be a bottleneck. Consider increasing the value of the `num_workers` argument` (try 12 which is the number of cpus on this machine) in the `DataLoader` init to improve performance.\n",
      "\n",
      "Global seed set to 42\n",
      "C:\\Users\\s2118339\\anaconda3\\envs\\GroupProject\\lib\\site-packages\\pytorch_lightning\\trainer\\data_loading.py:133: UserWarning:\n",
      "\n",
      "The dataloader, train_dataloader, does not have many workers which may be a bottleneck. Consider increasing the value of the `num_workers` argument` (try 12 which is the number of cpus on this machine) in the `DataLoader` init to improve performance.\n",
      "\n"
     ]
    },
    {
     "data": {
      "application/vnd.jupyter.widget-view+json": {
       "model_id": "816ed8e4eb24412985167264b43e5e1d",
       "version_major": 2,
       "version_minor": 0
      },
      "text/plain": [
       "Training: 0it [00:00, ?it/s]"
      ]
     },
     "metadata": {},
     "output_type": "display_data"
    },
    {
     "data": {
      "application/vnd.jupyter.widget-view+json": {
       "model_id": "",
       "version_major": 2,
       "version_minor": 0
      },
      "text/plain": [
       "Validating: 0it [00:00, ?it/s]"
      ]
     },
     "metadata": {},
     "output_type": "display_data"
    },
    {
     "data": {
      "application/vnd.jupyter.widget-view+json": {
       "model_id": "",
       "version_major": 2,
       "version_minor": 0
      },
      "text/plain": [
       "Validating: 0it [00:00, ?it/s]"
      ]
     },
     "metadata": {},
     "output_type": "display_data"
    },
    {
     "data": {
      "application/vnd.jupyter.widget-view+json": {
       "model_id": "",
       "version_major": 2,
       "version_minor": 0
      },
      "text/plain": [
       "Validating: 0it [00:00, ?it/s]"
      ]
     },
     "metadata": {},
     "output_type": "display_data"
    },
    {
     "data": {
      "application/vnd.jupyter.widget-view+json": {
       "model_id": "",
       "version_major": 2,
       "version_minor": 0
      },
      "text/plain": [
       "Validating: 0it [00:00, ?it/s]"
      ]
     },
     "metadata": {},
     "output_type": "display_data"
    },
    {
     "data": {
      "application/vnd.jupyter.widget-view+json": {
       "model_id": "",
       "version_major": 2,
       "version_minor": 0
      },
      "text/plain": [
       "Validating: 0it [00:00, ?it/s]"
      ]
     },
     "metadata": {},
     "output_type": "display_data"
    },
    {
     "data": {
      "application/vnd.jupyter.widget-view+json": {
       "model_id": "",
       "version_major": 2,
       "version_minor": 0
      },
      "text/plain": [
       "Validating: 0it [00:00, ?it/s]"
      ]
     },
     "metadata": {},
     "output_type": "display_data"
    },
    {
     "data": {
      "application/vnd.jupyter.widget-view+json": {
       "model_id": "",
       "version_major": 2,
       "version_minor": 0
      },
      "text/plain": [
       "Validating: 0it [00:00, ?it/s]"
      ]
     },
     "metadata": {},
     "output_type": "display_data"
    },
    {
     "data": {
      "application/vnd.jupyter.widget-view+json": {
       "model_id": "",
       "version_major": 2,
       "version_minor": 0
      },
      "text/plain": [
       "Validating: 0it [00:00, ?it/s]"
      ]
     },
     "metadata": {},
     "output_type": "display_data"
    },
    {
     "data": {
      "application/vnd.jupyter.widget-view+json": {
       "model_id": "",
       "version_major": 2,
       "version_minor": 0
      },
      "text/plain": [
       "Validating: 0it [00:00, ?it/s]"
      ]
     },
     "metadata": {},
     "output_type": "display_data"
    },
    {
     "data": {
      "application/vnd.jupyter.widget-view+json": {
       "model_id": "",
       "version_major": 2,
       "version_minor": 0
      },
      "text/plain": [
       "Validating: 0it [00:00, ?it/s]"
      ]
     },
     "metadata": {},
     "output_type": "display_data"
    },
    {
     "data": {
      "application/vnd.jupyter.widget-view+json": {
       "model_id": "",
       "version_major": 2,
       "version_minor": 0
      },
      "text/plain": [
       "Validating: 0it [00:00, ?it/s]"
      ]
     },
     "metadata": {},
     "output_type": "display_data"
    },
    {
     "data": {
      "application/vnd.jupyter.widget-view+json": {
       "model_id": "",
       "version_major": 2,
       "version_minor": 0
      },
      "text/plain": [
       "Validating: 0it [00:00, ?it/s]"
      ]
     },
     "metadata": {},
     "output_type": "display_data"
    },
    {
     "data": {
      "application/vnd.jupyter.widget-view+json": {
       "model_id": "",
       "version_major": 2,
       "version_minor": 0
      },
      "text/plain": [
       "Validating: 0it [00:00, ?it/s]"
      ]
     },
     "metadata": {},
     "output_type": "display_data"
    },
    {
     "data": {
      "application/vnd.jupyter.widget-view+json": {
       "model_id": "",
       "version_major": 2,
       "version_minor": 0
      },
      "text/plain": [
       "Validating: 0it [00:00, ?it/s]"
      ]
     },
     "metadata": {},
     "output_type": "display_data"
    },
    {
     "data": {
      "application/vnd.jupyter.widget-view+json": {
       "model_id": "",
       "version_major": 2,
       "version_minor": 0
      },
      "text/plain": [
       "Validating: 0it [00:00, ?it/s]"
      ]
     },
     "metadata": {},
     "output_type": "display_data"
    },
    {
     "data": {
      "application/vnd.jupyter.widget-view+json": {
       "model_id": "",
       "version_major": 2,
       "version_minor": 0
      },
      "text/plain": [
       "Validating: 0it [00:00, ?it/s]"
      ]
     },
     "metadata": {},
     "output_type": "display_data"
    },
    {
     "data": {
      "application/vnd.jupyter.widget-view+json": {
       "model_id": "",
       "version_major": 2,
       "version_minor": 0
      },
      "text/plain": [
       "Validating: 0it [00:00, ?it/s]"
      ]
     },
     "metadata": {},
     "output_type": "display_data"
    },
    {
     "data": {
      "application/vnd.jupyter.widget-view+json": {
       "model_id": "",
       "version_major": 2,
       "version_minor": 0
      },
      "text/plain": [
       "Validating: 0it [00:00, ?it/s]"
      ]
     },
     "metadata": {},
     "output_type": "display_data"
    },
    {
     "data": {
      "application/vnd.jupyter.widget-view+json": {
       "model_id": "",
       "version_major": 2,
       "version_minor": 0
      },
      "text/plain": [
       "Validating: 0it [00:00, ?it/s]"
      ]
     },
     "metadata": {},
     "output_type": "display_data"
    },
    {
     "data": {
      "application/vnd.jupyter.widget-view+json": {
       "model_id": "",
       "version_major": 2,
       "version_minor": 0
      },
      "text/plain": [
       "Validating: 0it [00:00, ?it/s]"
      ]
     },
     "metadata": {},
     "output_type": "display_data"
    },
    {
     "data": {
      "application/vnd.jupyter.widget-view+json": {
       "model_id": "",
       "version_major": 2,
       "version_minor": 0
      },
      "text/plain": [
       "Validating: 0it [00:00, ?it/s]"
      ]
     },
     "metadata": {},
     "output_type": "display_data"
    },
    {
     "data": {
      "application/vnd.jupyter.widget-view+json": {
       "model_id": "",
       "version_major": 2,
       "version_minor": 0
      },
      "text/plain": [
       "Validating: 0it [00:00, ?it/s]"
      ]
     },
     "metadata": {},
     "output_type": "display_data"
    },
    {
     "data": {
      "application/vnd.jupyter.widget-view+json": {
       "model_id": "",
       "version_major": 2,
       "version_minor": 0
      },
      "text/plain": [
       "Validating: 0it [00:00, ?it/s]"
      ]
     },
     "metadata": {},
     "output_type": "display_data"
    },
    {
     "data": {
      "application/vnd.jupyter.widget-view+json": {
       "model_id": "",
       "version_major": 2,
       "version_minor": 0
      },
      "text/plain": [
       "Validating: 0it [00:00, ?it/s]"
      ]
     },
     "metadata": {},
     "output_type": "display_data"
    },
    {
     "data": {
      "application/vnd.jupyter.widget-view+json": {
       "model_id": "",
       "version_major": 2,
       "version_minor": 0
      },
      "text/plain": [
       "Validating: 0it [00:00, ?it/s]"
      ]
     },
     "metadata": {},
     "output_type": "display_data"
    },
    {
     "name": "stderr",
     "output_type": "stream",
     "text": [
      "Global seed set to 42\n"
     ]
    },
    {
     "data": {
      "application/vnd.jupyter.widget-view+json": {
       "model_id": "ec69b8f38d9c42fa9547ad2fa57000fd",
       "version_major": 2,
       "version_minor": 0
      },
      "text/plain": [
       "  0%|          | 0/100 [00:00<?, ?it/s]"
      ]
     },
     "metadata": {},
     "output_type": "display_data"
    },
    {
     "data": {
      "application/vnd.jupyter.widget-view+json": {
       "model_id": "d6d7645c6064493797754d5dffe44430",
       "version_major": 2,
       "version_minor": 0
      },
      "text/plain": [
       "  0%|          | 0/100 [00:00<?, ?it/s]"
      ]
     },
     "metadata": {},
     "output_type": "display_data"
    },
    {
     "name": "stderr",
     "output_type": "stream",
     "text": [
      "\u001b[32m[I 2022-03-15 23:06:02,595]\u001b[0m Trial 21 finished with value: 2.4618704656285577 and parameters: {'blocks': 6, 'hidden_dim': 512, 'latent_dim': 16, 'dropout': 0.4985363203463385, 'kl_target': 0.12888934522406867}. Best is trial 14 with value: 1.660719525956095.\u001b[0m\n",
      "GPU available: True, used: True\n",
      "TPU available: False, using: 0 TPU cores\n",
      "IPU available: False, using: 0 IPUs\n",
      "LOCAL_RANK: 0 - CUDA_VISIBLE_DEVICES: [0]\n",
      "\n",
      "  | Name    | Type      | Params\n",
      "--------------------------------------\n",
      "0 | encoder | FcNetwork | 14.1 M\n",
      "1 | fc_mu   | Linear    | 1.6 K \n",
      "2 | fc_var  | Linear    | 1.6 K \n",
      "3 | decoder | FcNetwork | 14.2 M\n",
      "--------------------------------------\n",
      "28.4 M    Trainable params\n",
      "0         Non-trainable params\n",
      "28.4 M    Total params\n",
      "113.460   Total estimated model params size (MB)\n"
     ]
    },
    {
     "data": {
      "application/vnd.jupyter.widget-view+json": {
       "model_id": "",
       "version_major": 2,
       "version_minor": 0
      },
      "text/plain": [
       "Validation sanity check: 0it [00:00, ?it/s]"
      ]
     },
     "metadata": {},
     "output_type": "display_data"
    },
    {
     "name": "stderr",
     "output_type": "stream",
     "text": [
      "C:\\Users\\s2118339\\anaconda3\\envs\\GroupProject\\lib\\site-packages\\pytorch_lightning\\trainer\\data_loading.py:133: UserWarning:\n",
      "\n",
      "The dataloader, val_dataloader 0, does not have many workers which may be a bottleneck. Consider increasing the value of the `num_workers` argument` (try 12 which is the number of cpus on this machine) in the `DataLoader` init to improve performance.\n",
      "\n",
      "Global seed set to 42\n",
      "C:\\Users\\s2118339\\anaconda3\\envs\\GroupProject\\lib\\site-packages\\pytorch_lightning\\trainer\\data_loading.py:133: UserWarning:\n",
      "\n",
      "The dataloader, train_dataloader, does not have many workers which may be a bottleneck. Consider increasing the value of the `num_workers` argument` (try 12 which is the number of cpus on this machine) in the `DataLoader` init to improve performance.\n",
      "\n"
     ]
    },
    {
     "data": {
      "application/vnd.jupyter.widget-view+json": {
       "model_id": "8a3ea852e497445495c0f3b44704e94a",
       "version_major": 2,
       "version_minor": 0
      },
      "text/plain": [
       "Training: 0it [00:00, ?it/s]"
      ]
     },
     "metadata": {},
     "output_type": "display_data"
    },
    {
     "data": {
      "application/vnd.jupyter.widget-view+json": {
       "model_id": "",
       "version_major": 2,
       "version_minor": 0
      },
      "text/plain": [
       "Validating: 0it [00:00, ?it/s]"
      ]
     },
     "metadata": {},
     "output_type": "display_data"
    },
    {
     "data": {
      "application/vnd.jupyter.widget-view+json": {
       "model_id": "",
       "version_major": 2,
       "version_minor": 0
      },
      "text/plain": [
       "Validating: 0it [00:00, ?it/s]"
      ]
     },
     "metadata": {},
     "output_type": "display_data"
    },
    {
     "data": {
      "application/vnd.jupyter.widget-view+json": {
       "model_id": "",
       "version_major": 2,
       "version_minor": 0
      },
      "text/plain": [
       "Validating: 0it [00:00, ?it/s]"
      ]
     },
     "metadata": {},
     "output_type": "display_data"
    },
    {
     "data": {
      "application/vnd.jupyter.widget-view+json": {
       "model_id": "",
       "version_major": 2,
       "version_minor": 0
      },
      "text/plain": [
       "Validating: 0it [00:00, ?it/s]"
      ]
     },
     "metadata": {},
     "output_type": "display_data"
    },
    {
     "data": {
      "application/vnd.jupyter.widget-view+json": {
       "model_id": "",
       "version_major": 2,
       "version_minor": 0
      },
      "text/plain": [
       "Validating: 0it [00:00, ?it/s]"
      ]
     },
     "metadata": {},
     "output_type": "display_data"
    },
    {
     "data": {
      "application/vnd.jupyter.widget-view+json": {
       "model_id": "",
       "version_major": 2,
       "version_minor": 0
      },
      "text/plain": [
       "Validating: 0it [00:00, ?it/s]"
      ]
     },
     "metadata": {},
     "output_type": "display_data"
    },
    {
     "data": {
      "application/vnd.jupyter.widget-view+json": {
       "model_id": "",
       "version_major": 2,
       "version_minor": 0
      },
      "text/plain": [
       "Validating: 0it [00:00, ?it/s]"
      ]
     },
     "metadata": {},
     "output_type": "display_data"
    },
    {
     "data": {
      "application/vnd.jupyter.widget-view+json": {
       "model_id": "",
       "version_major": 2,
       "version_minor": 0
      },
      "text/plain": [
       "Validating: 0it [00:00, ?it/s]"
      ]
     },
     "metadata": {},
     "output_type": "display_data"
    },
    {
     "data": {
      "application/vnd.jupyter.widget-view+json": {
       "model_id": "",
       "version_major": 2,
       "version_minor": 0
      },
      "text/plain": [
       "Validating: 0it [00:00, ?it/s]"
      ]
     },
     "metadata": {},
     "output_type": "display_data"
    },
    {
     "data": {
      "application/vnd.jupyter.widget-view+json": {
       "model_id": "",
       "version_major": 2,
       "version_minor": 0
      },
      "text/plain": [
       "Validating: 0it [00:00, ?it/s]"
      ]
     },
     "metadata": {},
     "output_type": "display_data"
    },
    {
     "data": {
      "application/vnd.jupyter.widget-view+json": {
       "model_id": "",
       "version_major": 2,
       "version_minor": 0
      },
      "text/plain": [
       "Validating: 0it [00:00, ?it/s]"
      ]
     },
     "metadata": {},
     "output_type": "display_data"
    },
    {
     "data": {
      "application/vnd.jupyter.widget-view+json": {
       "model_id": "",
       "version_major": 2,
       "version_minor": 0
      },
      "text/plain": [
       "Validating: 0it [00:00, ?it/s]"
      ]
     },
     "metadata": {},
     "output_type": "display_data"
    },
    {
     "data": {
      "application/vnd.jupyter.widget-view+json": {
       "model_id": "",
       "version_major": 2,
       "version_minor": 0
      },
      "text/plain": [
       "Validating: 0it [00:00, ?it/s]"
      ]
     },
     "metadata": {},
     "output_type": "display_data"
    },
    {
     "data": {
      "application/vnd.jupyter.widget-view+json": {
       "model_id": "",
       "version_major": 2,
       "version_minor": 0
      },
      "text/plain": [
       "Validating: 0it [00:00, ?it/s]"
      ]
     },
     "metadata": {},
     "output_type": "display_data"
    },
    {
     "data": {
      "application/vnd.jupyter.widget-view+json": {
       "model_id": "",
       "version_major": 2,
       "version_minor": 0
      },
      "text/plain": [
       "Validating: 0it [00:00, ?it/s]"
      ]
     },
     "metadata": {},
     "output_type": "display_data"
    },
    {
     "data": {
      "application/vnd.jupyter.widget-view+json": {
       "model_id": "",
       "version_major": 2,
       "version_minor": 0
      },
      "text/plain": [
       "Validating: 0it [00:00, ?it/s]"
      ]
     },
     "metadata": {},
     "output_type": "display_data"
    },
    {
     "data": {
      "application/vnd.jupyter.widget-view+json": {
       "model_id": "",
       "version_major": 2,
       "version_minor": 0
      },
      "text/plain": [
       "Validating: 0it [00:00, ?it/s]"
      ]
     },
     "metadata": {},
     "output_type": "display_data"
    },
    {
     "data": {
      "application/vnd.jupyter.widget-view+json": {
       "model_id": "",
       "version_major": 2,
       "version_minor": 0
      },
      "text/plain": [
       "Validating: 0it [00:00, ?it/s]"
      ]
     },
     "metadata": {},
     "output_type": "display_data"
    },
    {
     "data": {
      "application/vnd.jupyter.widget-view+json": {
       "model_id": "",
       "version_major": 2,
       "version_minor": 0
      },
      "text/plain": [
       "Validating: 0it [00:00, ?it/s]"
      ]
     },
     "metadata": {},
     "output_type": "display_data"
    },
    {
     "data": {
      "application/vnd.jupyter.widget-view+json": {
       "model_id": "",
       "version_major": 2,
       "version_minor": 0
      },
      "text/plain": [
       "Validating: 0it [00:00, ?it/s]"
      ]
     },
     "metadata": {},
     "output_type": "display_data"
    },
    {
     "data": {
      "application/vnd.jupyter.widget-view+json": {
       "model_id": "",
       "version_major": 2,
       "version_minor": 0
      },
      "text/plain": [
       "Validating: 0it [00:00, ?it/s]"
      ]
     },
     "metadata": {},
     "output_type": "display_data"
    },
    {
     "data": {
      "application/vnd.jupyter.widget-view+json": {
       "model_id": "",
       "version_major": 2,
       "version_minor": 0
      },
      "text/plain": [
       "Validating: 0it [00:00, ?it/s]"
      ]
     },
     "metadata": {},
     "output_type": "display_data"
    },
    {
     "data": {
      "application/vnd.jupyter.widget-view+json": {
       "model_id": "",
       "version_major": 2,
       "version_minor": 0
      },
      "text/plain": [
       "Validating: 0it [00:00, ?it/s]"
      ]
     },
     "metadata": {},
     "output_type": "display_data"
    },
    {
     "data": {
      "application/vnd.jupyter.widget-view+json": {
       "model_id": "",
       "version_major": 2,
       "version_minor": 0
      },
      "text/plain": [
       "Validating: 0it [00:00, ?it/s]"
      ]
     },
     "metadata": {},
     "output_type": "display_data"
    },
    {
     "data": {
      "application/vnd.jupyter.widget-view+json": {
       "model_id": "",
       "version_major": 2,
       "version_minor": 0
      },
      "text/plain": [
       "Validating: 0it [00:00, ?it/s]"
      ]
     },
     "metadata": {},
     "output_type": "display_data"
    },
    {
     "name": "stderr",
     "output_type": "stream",
     "text": [
      "Global seed set to 42\n"
     ]
    },
    {
     "data": {
      "application/vnd.jupyter.widget-view+json": {
       "model_id": "148180fcc1fa4899951304ce276bd8c3",
       "version_major": 2,
       "version_minor": 0
      },
      "text/plain": [
       "  0%|          | 0/100 [00:00<?, ?it/s]"
      ]
     },
     "metadata": {},
     "output_type": "display_data"
    },
    {
     "data": {
      "application/vnd.jupyter.widget-view+json": {
       "model_id": "7b107a3ff5b94a9e86df69e48bf5d731",
       "version_major": 2,
       "version_minor": 0
      },
      "text/plain": [
       "  0%|          | 0/100 [00:00<?, ?it/s]"
      ]
     },
     "metadata": {},
     "output_type": "display_data"
    },
    {
     "name": "stderr",
     "output_type": "stream",
     "text": [
      "\u001b[32m[I 2022-03-16 00:21:56,047]\u001b[0m Trial 22 finished with value: 1.6823502619133153 and parameters: {'blocks': 4, 'hidden_dim': 512, 'latent_dim': 24, 'dropout': 0.44724701227469477, 'kl_target': 0.260669212299434}. Best is trial 14 with value: 1.660719525956095.\u001b[0m\n",
      "GPU available: True, used: True\n",
      "TPU available: False, using: 0 TPU cores\n",
      "IPU available: False, using: 0 IPUs\n",
      "LOCAL_RANK: 0 - CUDA_VISIBLE_DEVICES: [0]\n",
      "\n",
      "  | Name    | Type      | Params\n",
      "--------------------------------------\n",
      "0 | encoder | FcNetwork | 14.1 M\n",
      "1 | fc_mu   | Linear    | 1.9 K \n",
      "2 | fc_var  | Linear    | 1.9 K \n",
      "3 | decoder | FcNetwork | 14.2 M\n",
      "--------------------------------------\n",
      "28.4 M    Trainable params\n",
      "0         Non-trainable params\n",
      "28.4 M    Total params\n",
      "113.465   Total estimated model params size (MB)\n"
     ]
    },
    {
     "data": {
      "application/vnd.jupyter.widget-view+json": {
       "model_id": "",
       "version_major": 2,
       "version_minor": 0
      },
      "text/plain": [
       "Validation sanity check: 0it [00:00, ?it/s]"
      ]
     },
     "metadata": {},
     "output_type": "display_data"
    },
    {
     "name": "stderr",
     "output_type": "stream",
     "text": [
      "C:\\Users\\s2118339\\anaconda3\\envs\\GroupProject\\lib\\site-packages\\pytorch_lightning\\trainer\\data_loading.py:133: UserWarning:\n",
      "\n",
      "The dataloader, val_dataloader 0, does not have many workers which may be a bottleneck. Consider increasing the value of the `num_workers` argument` (try 12 which is the number of cpus on this machine) in the `DataLoader` init to improve performance.\n",
      "\n",
      "Global seed set to 42\n",
      "C:\\Users\\s2118339\\anaconda3\\envs\\GroupProject\\lib\\site-packages\\pytorch_lightning\\trainer\\data_loading.py:133: UserWarning:\n",
      "\n",
      "The dataloader, train_dataloader, does not have many workers which may be a bottleneck. Consider increasing the value of the `num_workers` argument` (try 12 which is the number of cpus on this machine) in the `DataLoader` init to improve performance.\n",
      "\n"
     ]
    },
    {
     "data": {
      "application/vnd.jupyter.widget-view+json": {
       "model_id": "780bf57732b841418bbf2545b9cff786",
       "version_major": 2,
       "version_minor": 0
      },
      "text/plain": [
       "Training: 0it [00:00, ?it/s]"
      ]
     },
     "metadata": {},
     "output_type": "display_data"
    },
    {
     "data": {
      "application/vnd.jupyter.widget-view+json": {
       "model_id": "",
       "version_major": 2,
       "version_minor": 0
      },
      "text/plain": [
       "Validating: 0it [00:00, ?it/s]"
      ]
     },
     "metadata": {},
     "output_type": "display_data"
    },
    {
     "data": {
      "application/vnd.jupyter.widget-view+json": {
       "model_id": "",
       "version_major": 2,
       "version_minor": 0
      },
      "text/plain": [
       "Validating: 0it [00:00, ?it/s]"
      ]
     },
     "metadata": {},
     "output_type": "display_data"
    },
    {
     "data": {
      "application/vnd.jupyter.widget-view+json": {
       "model_id": "",
       "version_major": 2,
       "version_minor": 0
      },
      "text/plain": [
       "Validating: 0it [00:00, ?it/s]"
      ]
     },
     "metadata": {},
     "output_type": "display_data"
    },
    {
     "data": {
      "application/vnd.jupyter.widget-view+json": {
       "model_id": "",
       "version_major": 2,
       "version_minor": 0
      },
      "text/plain": [
       "Validating: 0it [00:00, ?it/s]"
      ]
     },
     "metadata": {},
     "output_type": "display_data"
    },
    {
     "data": {
      "application/vnd.jupyter.widget-view+json": {
       "model_id": "",
       "version_major": 2,
       "version_minor": 0
      },
      "text/plain": [
       "Validating: 0it [00:00, ?it/s]"
      ]
     },
     "metadata": {},
     "output_type": "display_data"
    },
    {
     "data": {
      "application/vnd.jupyter.widget-view+json": {
       "model_id": "",
       "version_major": 2,
       "version_minor": 0
      },
      "text/plain": [
       "Validating: 0it [00:00, ?it/s]"
      ]
     },
     "metadata": {},
     "output_type": "display_data"
    },
    {
     "data": {
      "application/vnd.jupyter.widget-view+json": {
       "model_id": "",
       "version_major": 2,
       "version_minor": 0
      },
      "text/plain": [
       "Validating: 0it [00:00, ?it/s]"
      ]
     },
     "metadata": {},
     "output_type": "display_data"
    },
    {
     "data": {
      "application/vnd.jupyter.widget-view+json": {
       "model_id": "",
       "version_major": 2,
       "version_minor": 0
      },
      "text/plain": [
       "Validating: 0it [00:00, ?it/s]"
      ]
     },
     "metadata": {},
     "output_type": "display_data"
    },
    {
     "data": {
      "application/vnd.jupyter.widget-view+json": {
       "model_id": "",
       "version_major": 2,
       "version_minor": 0
      },
      "text/plain": [
       "Validating: 0it [00:00, ?it/s]"
      ]
     },
     "metadata": {},
     "output_type": "display_data"
    },
    {
     "data": {
      "application/vnd.jupyter.widget-view+json": {
       "model_id": "",
       "version_major": 2,
       "version_minor": 0
      },
      "text/plain": [
       "Validating: 0it [00:00, ?it/s]"
      ]
     },
     "metadata": {},
     "output_type": "display_data"
    },
    {
     "data": {
      "application/vnd.jupyter.widget-view+json": {
       "model_id": "",
       "version_major": 2,
       "version_minor": 0
      },
      "text/plain": [
       "Validating: 0it [00:00, ?it/s]"
      ]
     },
     "metadata": {},
     "output_type": "display_data"
    },
    {
     "data": {
      "application/vnd.jupyter.widget-view+json": {
       "model_id": "",
       "version_major": 2,
       "version_minor": 0
      },
      "text/plain": [
       "Validating: 0it [00:00, ?it/s]"
      ]
     },
     "metadata": {},
     "output_type": "display_data"
    },
    {
     "data": {
      "application/vnd.jupyter.widget-view+json": {
       "model_id": "",
       "version_major": 2,
       "version_minor": 0
      },
      "text/plain": [
       "Validating: 0it [00:00, ?it/s]"
      ]
     },
     "metadata": {},
     "output_type": "display_data"
    },
    {
     "data": {
      "application/vnd.jupyter.widget-view+json": {
       "model_id": "",
       "version_major": 2,
       "version_minor": 0
      },
      "text/plain": [
       "Validating: 0it [00:00, ?it/s]"
      ]
     },
     "metadata": {},
     "output_type": "display_data"
    },
    {
     "data": {
      "application/vnd.jupyter.widget-view+json": {
       "model_id": "",
       "version_major": 2,
       "version_minor": 0
      },
      "text/plain": [
       "Validating: 0it [00:00, ?it/s]"
      ]
     },
     "metadata": {},
     "output_type": "display_data"
    },
    {
     "data": {
      "application/vnd.jupyter.widget-view+json": {
       "model_id": "",
       "version_major": 2,
       "version_minor": 0
      },
      "text/plain": [
       "Validating: 0it [00:00, ?it/s]"
      ]
     },
     "metadata": {},
     "output_type": "display_data"
    },
    {
     "data": {
      "application/vnd.jupyter.widget-view+json": {
       "model_id": "",
       "version_major": 2,
       "version_minor": 0
      },
      "text/plain": [
       "Validating: 0it [00:00, ?it/s]"
      ]
     },
     "metadata": {},
     "output_type": "display_data"
    },
    {
     "data": {
      "application/vnd.jupyter.widget-view+json": {
       "model_id": "",
       "version_major": 2,
       "version_minor": 0
      },
      "text/plain": [
       "Validating: 0it [00:00, ?it/s]"
      ]
     },
     "metadata": {},
     "output_type": "display_data"
    },
    {
     "data": {
      "application/vnd.jupyter.widget-view+json": {
       "model_id": "",
       "version_major": 2,
       "version_minor": 0
      },
      "text/plain": [
       "Validating: 0it [00:00, ?it/s]"
      ]
     },
     "metadata": {},
     "output_type": "display_data"
    },
    {
     "data": {
      "application/vnd.jupyter.widget-view+json": {
       "model_id": "",
       "version_major": 2,
       "version_minor": 0
      },
      "text/plain": [
       "Validating: 0it [00:00, ?it/s]"
      ]
     },
     "metadata": {},
     "output_type": "display_data"
    },
    {
     "data": {
      "application/vnd.jupyter.widget-view+json": {
       "model_id": "",
       "version_major": 2,
       "version_minor": 0
      },
      "text/plain": [
       "Validating: 0it [00:00, ?it/s]"
      ]
     },
     "metadata": {},
     "output_type": "display_data"
    },
    {
     "data": {
      "application/vnd.jupyter.widget-view+json": {
       "model_id": "",
       "version_major": 2,
       "version_minor": 0
      },
      "text/plain": [
       "Validating: 0it [00:00, ?it/s]"
      ]
     },
     "metadata": {},
     "output_type": "display_data"
    },
    {
     "data": {
      "application/vnd.jupyter.widget-view+json": {
       "model_id": "",
       "version_major": 2,
       "version_minor": 0
      },
      "text/plain": [
       "Validating: 0it [00:00, ?it/s]"
      ]
     },
     "metadata": {},
     "output_type": "display_data"
    },
    {
     "data": {
      "application/vnd.jupyter.widget-view+json": {
       "model_id": "",
       "version_major": 2,
       "version_minor": 0
      },
      "text/plain": [
       "Validating: 0it [00:00, ?it/s]"
      ]
     },
     "metadata": {},
     "output_type": "display_data"
    },
    {
     "data": {
      "application/vnd.jupyter.widget-view+json": {
       "model_id": "",
       "version_major": 2,
       "version_minor": 0
      },
      "text/plain": [
       "Validating: 0it [00:00, ?it/s]"
      ]
     },
     "metadata": {},
     "output_type": "display_data"
    },
    {
     "name": "stderr",
     "output_type": "stream",
     "text": [
      "Global seed set to 42\n"
     ]
    },
    {
     "data": {
      "application/vnd.jupyter.widget-view+json": {
       "model_id": "58baa405446c4379a9cf7501b77be9fb",
       "version_major": 2,
       "version_minor": 0
      },
      "text/plain": [
       "  0%|          | 0/100 [00:00<?, ?it/s]"
      ]
     },
     "metadata": {},
     "output_type": "display_data"
    },
    {
     "data": {
      "application/vnd.jupyter.widget-view+json": {
       "model_id": "e106a959bbd946bf9833a70d881f692d",
       "version_major": 2,
       "version_minor": 0
      },
      "text/plain": [
       "  0%|          | 0/100 [00:00<?, ?it/s]"
      ]
     },
     "metadata": {},
     "output_type": "display_data"
    },
    {
     "name": "stderr",
     "output_type": "stream",
     "text": [
      "\u001b[32m[I 2022-03-16 01:33:30,585]\u001b[0m Trial 23 finished with value: 1.5620869453825963 and parameters: {'blocks': 4, 'hidden_dim': 512, 'latent_dim': 29, 'dropout': 0.41661403667807795, 'kl_target': 0.23499362217791947}. Best is trial 23 with value: 1.5620869453825963.\u001b[0m\n",
      "GPU available: True, used: True\n",
      "TPU available: False, using: 0 TPU cores\n",
      "IPU available: False, using: 0 IPUs\n",
      "LOCAL_RANK: 0 - CUDA_VISIBLE_DEVICES: [0]\n",
      "\n",
      "  | Name    | Type      | Params\n",
      "--------------------------------------\n",
      "0 | encoder | FcNetwork | 14.1 M\n",
      "1 | fc_mu   | Linear    | 990   \n",
      "2 | fc_var  | Linear    | 990   \n",
      "3 | decoder | FcNetwork | 14.2 M\n",
      "--------------------------------------\n",
      "28.4 M    Trainable params\n",
      "0         Non-trainable params\n",
      "28.4 M    Total params\n",
      "113.493   Total estimated model params size (MB)\n"
     ]
    },
    {
     "data": {
      "application/vnd.jupyter.widget-view+json": {
       "model_id": "",
       "version_major": 2,
       "version_minor": 0
      },
      "text/plain": [
       "Validation sanity check: 0it [00:00, ?it/s]"
      ]
     },
     "metadata": {},
     "output_type": "display_data"
    },
    {
     "name": "stderr",
     "output_type": "stream",
     "text": [
      "C:\\Users\\s2118339\\anaconda3\\envs\\GroupProject\\lib\\site-packages\\pytorch_lightning\\trainer\\data_loading.py:133: UserWarning:\n",
      "\n",
      "The dataloader, val_dataloader 0, does not have many workers which may be a bottleneck. Consider increasing the value of the `num_workers` argument` (try 12 which is the number of cpus on this machine) in the `DataLoader` init to improve performance.\n",
      "\n",
      "Global seed set to 42\n",
      "C:\\Users\\s2118339\\anaconda3\\envs\\GroupProject\\lib\\site-packages\\pytorch_lightning\\trainer\\data_loading.py:133: UserWarning:\n",
      "\n",
      "The dataloader, train_dataloader, does not have many workers which may be a bottleneck. Consider increasing the value of the `num_workers` argument` (try 12 which is the number of cpus on this machine) in the `DataLoader` init to improve performance.\n",
      "\n"
     ]
    },
    {
     "data": {
      "application/vnd.jupyter.widget-view+json": {
       "model_id": "e96a43fde9674c728a58369a504cda0e",
       "version_major": 2,
       "version_minor": 0
      },
      "text/plain": [
       "Training: 0it [00:00, ?it/s]"
      ]
     },
     "metadata": {},
     "output_type": "display_data"
    },
    {
     "data": {
      "application/vnd.jupyter.widget-view+json": {
       "model_id": "",
       "version_major": 2,
       "version_minor": 0
      },
      "text/plain": [
       "Validating: 0it [00:00, ?it/s]"
      ]
     },
     "metadata": {},
     "output_type": "display_data"
    },
    {
     "data": {
      "application/vnd.jupyter.widget-view+json": {
       "model_id": "",
       "version_major": 2,
       "version_minor": 0
      },
      "text/plain": [
       "Validating: 0it [00:00, ?it/s]"
      ]
     },
     "metadata": {},
     "output_type": "display_data"
    },
    {
     "data": {
      "application/vnd.jupyter.widget-view+json": {
       "model_id": "",
       "version_major": 2,
       "version_minor": 0
      },
      "text/plain": [
       "Validating: 0it [00:00, ?it/s]"
      ]
     },
     "metadata": {},
     "output_type": "display_data"
    },
    {
     "data": {
      "application/vnd.jupyter.widget-view+json": {
       "model_id": "",
       "version_major": 2,
       "version_minor": 0
      },
      "text/plain": [
       "Validating: 0it [00:00, ?it/s]"
      ]
     },
     "metadata": {},
     "output_type": "display_data"
    },
    {
     "data": {
      "application/vnd.jupyter.widget-view+json": {
       "model_id": "",
       "version_major": 2,
       "version_minor": 0
      },
      "text/plain": [
       "Validating: 0it [00:00, ?it/s]"
      ]
     },
     "metadata": {},
     "output_type": "display_data"
    },
    {
     "data": {
      "application/vnd.jupyter.widget-view+json": {
       "model_id": "",
       "version_major": 2,
       "version_minor": 0
      },
      "text/plain": [
       "Validating: 0it [00:00, ?it/s]"
      ]
     },
     "metadata": {},
     "output_type": "display_data"
    },
    {
     "data": {
      "application/vnd.jupyter.widget-view+json": {
       "model_id": "",
       "version_major": 2,
       "version_minor": 0
      },
      "text/plain": [
       "Validating: 0it [00:00, ?it/s]"
      ]
     },
     "metadata": {},
     "output_type": "display_data"
    },
    {
     "data": {
      "application/vnd.jupyter.widget-view+json": {
       "model_id": "",
       "version_major": 2,
       "version_minor": 0
      },
      "text/plain": [
       "Validating: 0it [00:00, ?it/s]"
      ]
     },
     "metadata": {},
     "output_type": "display_data"
    },
    {
     "data": {
      "application/vnd.jupyter.widget-view+json": {
       "model_id": "",
       "version_major": 2,
       "version_minor": 0
      },
      "text/plain": [
       "Validating: 0it [00:00, ?it/s]"
      ]
     },
     "metadata": {},
     "output_type": "display_data"
    },
    {
     "data": {
      "application/vnd.jupyter.widget-view+json": {
       "model_id": "",
       "version_major": 2,
       "version_minor": 0
      },
      "text/plain": [
       "Validating: 0it [00:00, ?it/s]"
      ]
     },
     "metadata": {},
     "output_type": "display_data"
    },
    {
     "data": {
      "application/vnd.jupyter.widget-view+json": {
       "model_id": "",
       "version_major": 2,
       "version_minor": 0
      },
      "text/plain": [
       "Validating: 0it [00:00, ?it/s]"
      ]
     },
     "metadata": {},
     "output_type": "display_data"
    },
    {
     "data": {
      "application/vnd.jupyter.widget-view+json": {
       "model_id": "",
       "version_major": 2,
       "version_minor": 0
      },
      "text/plain": [
       "Validating: 0it [00:00, ?it/s]"
      ]
     },
     "metadata": {},
     "output_type": "display_data"
    },
    {
     "data": {
      "application/vnd.jupyter.widget-view+json": {
       "model_id": "",
       "version_major": 2,
       "version_minor": 0
      },
      "text/plain": [
       "Validating: 0it [00:00, ?it/s]"
      ]
     },
     "metadata": {},
     "output_type": "display_data"
    },
    {
     "data": {
      "application/vnd.jupyter.widget-view+json": {
       "model_id": "",
       "version_major": 2,
       "version_minor": 0
      },
      "text/plain": [
       "Validating: 0it [00:00, ?it/s]"
      ]
     },
     "metadata": {},
     "output_type": "display_data"
    },
    {
     "data": {
      "application/vnd.jupyter.widget-view+json": {
       "model_id": "",
       "version_major": 2,
       "version_minor": 0
      },
      "text/plain": [
       "Validating: 0it [00:00, ?it/s]"
      ]
     },
     "metadata": {},
     "output_type": "display_data"
    },
    {
     "data": {
      "application/vnd.jupyter.widget-view+json": {
       "model_id": "",
       "version_major": 2,
       "version_minor": 0
      },
      "text/plain": [
       "Validating: 0it [00:00, ?it/s]"
      ]
     },
     "metadata": {},
     "output_type": "display_data"
    },
    {
     "data": {
      "application/vnd.jupyter.widget-view+json": {
       "model_id": "",
       "version_major": 2,
       "version_minor": 0
      },
      "text/plain": [
       "Validating: 0it [00:00, ?it/s]"
      ]
     },
     "metadata": {},
     "output_type": "display_data"
    },
    {
     "data": {
      "application/vnd.jupyter.widget-view+json": {
       "model_id": "",
       "version_major": 2,
       "version_minor": 0
      },
      "text/plain": [
       "Validating: 0it [00:00, ?it/s]"
      ]
     },
     "metadata": {},
     "output_type": "display_data"
    },
    {
     "data": {
      "application/vnd.jupyter.widget-view+json": {
       "model_id": "",
       "version_major": 2,
       "version_minor": 0
      },
      "text/plain": [
       "Validating: 0it [00:00, ?it/s]"
      ]
     },
     "metadata": {},
     "output_type": "display_data"
    },
    {
     "data": {
      "application/vnd.jupyter.widget-view+json": {
       "model_id": "",
       "version_major": 2,
       "version_minor": 0
      },
      "text/plain": [
       "Validating: 0it [00:00, ?it/s]"
      ]
     },
     "metadata": {},
     "output_type": "display_data"
    },
    {
     "data": {
      "application/vnd.jupyter.widget-view+json": {
       "model_id": "",
       "version_major": 2,
       "version_minor": 0
      },
      "text/plain": [
       "Validating: 0it [00:00, ?it/s]"
      ]
     },
     "metadata": {},
     "output_type": "display_data"
    },
    {
     "data": {
      "application/vnd.jupyter.widget-view+json": {
       "model_id": "",
       "version_major": 2,
       "version_minor": 0
      },
      "text/plain": [
       "Validating: 0it [00:00, ?it/s]"
      ]
     },
     "metadata": {},
     "output_type": "display_data"
    },
    {
     "data": {
      "application/vnd.jupyter.widget-view+json": {
       "model_id": "",
       "version_major": 2,
       "version_minor": 0
      },
      "text/plain": [
       "Validating: 0it [00:00, ?it/s]"
      ]
     },
     "metadata": {},
     "output_type": "display_data"
    },
    {
     "data": {
      "application/vnd.jupyter.widget-view+json": {
       "model_id": "",
       "version_major": 2,
       "version_minor": 0
      },
      "text/plain": [
       "Validating: 0it [00:00, ?it/s]"
      ]
     },
     "metadata": {},
     "output_type": "display_data"
    },
    {
     "data": {
      "application/vnd.jupyter.widget-view+json": {
       "model_id": "",
       "version_major": 2,
       "version_minor": 0
      },
      "text/plain": [
       "Validating: 0it [00:00, ?it/s]"
      ]
     },
     "metadata": {},
     "output_type": "display_data"
    },
    {
     "name": "stderr",
     "output_type": "stream",
     "text": [
      "Global seed set to 42\n"
     ]
    },
    {
     "data": {
      "application/vnd.jupyter.widget-view+json": {
       "model_id": "bc882b572831425aa996c582c86e90c2",
       "version_major": 2,
       "version_minor": 0
      },
      "text/plain": [
       "  0%|          | 0/100 [00:00<?, ?it/s]"
      ]
     },
     "metadata": {},
     "output_type": "display_data"
    },
    {
     "data": {
      "application/vnd.jupyter.widget-view+json": {
       "model_id": "aa4f05d563504ba3934c27758dfd3c60",
       "version_major": 2,
       "version_minor": 0
      },
      "text/plain": [
       "  0%|          | 0/100 [00:00<?, ?it/s]"
      ]
     },
     "metadata": {},
     "output_type": "display_data"
    },
    {
     "name": "stderr",
     "output_type": "stream",
     "text": [
      "\u001b[32m[I 2022-03-16 02:36:40,947]\u001b[0m Trial 24 finished with value: 1.4863442227828325 and parameters: {'blocks': 5, 'hidden_dim': 512, 'latent_dim': 30, 'dropout': 0.3941869036221446, 'kl_target': 0.2315779299781796}. Best is trial 24 with value: 1.4863442227828325.\u001b[0m\n"
     ]
    }
   ],
   "source": [
    "study.optimize(objective, n_trials=5)"
   ]
  },
  {
   "cell_type": "code",
   "execution_count": 82,
   "id": "ca8f445b",
   "metadata": {},
   "outputs": [
    {
     "data": {
      "text/plain": [
       "25"
      ]
     },
     "execution_count": 82,
     "metadata": {},
     "output_type": "execute_result"
    }
   ],
   "source": [
    "len(study.trials)"
   ]
  },
  {
   "cell_type": "code",
   "execution_count": 83,
   "id": "2fb5f6ed",
   "metadata": {},
   "outputs": [],
   "source": [
    "trial = study.best_trial"
   ]
  },
  {
   "cell_type": "code",
   "execution_count": 84,
   "id": "9c518a7a",
   "metadata": {},
   "outputs": [
    {
     "name": "stdout",
     "output_type": "stream",
     "text": [
      " blocks              : 5\n",
      " dropout             : 0.3941869036221446\n",
      " hidden_dim          : 512\n",
      " kl_target           : 0.2315779299781796\n",
      " latent_dim          : 30\n"
     ]
    }
   ],
   "source": [
    "for key, value in trial.params.items():\n",
    "    print(f\" {key:<20s}: {value}\")"
   ]
  },
  {
   "cell_type": "code",
   "execution_count": 87,
   "id": "dbc998cd",
   "metadata": {},
   "outputs": [
    {
     "data": {
      "text/plain": [
       "1.4863442227828325"
      ]
     },
     "execution_count": 87,
     "metadata": {},
     "output_type": "execute_result"
    }
   ],
   "source": [
    "trial.value"
   ]
  },
  {
   "cell_type": "code",
   "execution_count": 85,
   "id": "08fdd885",
   "metadata": {},
   "outputs": [
    {
     "data": {
      "application/vnd.plotly.v1+json": {
       "config": {
        "plotlyServerURL": "https://plot.ly"
       },
       "data": [
        {
         "cliponaxis": false,
         "hovertemplate": [
          "blocks (IntUniformDistribution): 0.09524501132493057<extra></extra>",
          "hidden_dim (CategoricalDistribution): 0.16872876445741744<extra></extra>",
          "kl_target (UniformDistribution): 0.1687969561497443<extra></extra>",
          "latent_dim (IntUniformDistribution): 0.21480237031280758<extra></extra>",
          "dropout (UniformDistribution): 0.3524268977551001<extra></extra>"
         ],
         "marker": {
          "color": "rgb(66,146,198)"
         },
         "orientation": "h",
         "text": [
          "0.09524501132493057",
          "0.16872876445741744",
          "0.1687969561497443",
          "0.21480237031280758",
          "0.3524268977551001"
         ],
         "textposition": "outside",
         "texttemplate": "%{text:.2f}",
         "type": "bar",
         "x": [
          0.09524501132493057,
          0.16872876445741744,
          0.1687969561497443,
          0.21480237031280758,
          0.3524268977551001
         ],
         "y": [
          "blocks",
          "hidden_dim",
          "kl_target",
          "latent_dim",
          "dropout"
         ]
        }
       ],
       "layout": {
        "showlegend": false,
        "template": {
         "data": {
          "bar": [
           {
            "error_x": {
             "color": "#2a3f5f"
            },
            "error_y": {
             "color": "#2a3f5f"
            },
            "marker": {
             "line": {
              "color": "#E5ECF6",
              "width": 0.5
             },
             "pattern": {
              "fillmode": "overlay",
              "size": 10,
              "solidity": 0.2
             }
            },
            "type": "bar"
           }
          ],
          "barpolar": [
           {
            "marker": {
             "line": {
              "color": "#E5ECF6",
              "width": 0.5
             },
             "pattern": {
              "fillmode": "overlay",
              "size": 10,
              "solidity": 0.2
             }
            },
            "type": "barpolar"
           }
          ],
          "carpet": [
           {
            "aaxis": {
             "endlinecolor": "#2a3f5f",
             "gridcolor": "white",
             "linecolor": "white",
             "minorgridcolor": "white",
             "startlinecolor": "#2a3f5f"
            },
            "baxis": {
             "endlinecolor": "#2a3f5f",
             "gridcolor": "white",
             "linecolor": "white",
             "minorgridcolor": "white",
             "startlinecolor": "#2a3f5f"
            },
            "type": "carpet"
           }
          ],
          "choropleth": [
           {
            "colorbar": {
             "outlinewidth": 0,
             "ticks": ""
            },
            "type": "choropleth"
           }
          ],
          "contour": [
           {
            "colorbar": {
             "outlinewidth": 0,
             "ticks": ""
            },
            "colorscale": [
             [
              0,
              "#0d0887"
             ],
             [
              0.1111111111111111,
              "#46039f"
             ],
             [
              0.2222222222222222,
              "#7201a8"
             ],
             [
              0.3333333333333333,
              "#9c179e"
             ],
             [
              0.4444444444444444,
              "#bd3786"
             ],
             [
              0.5555555555555556,
              "#d8576b"
             ],
             [
              0.6666666666666666,
              "#ed7953"
             ],
             [
              0.7777777777777778,
              "#fb9f3a"
             ],
             [
              0.8888888888888888,
              "#fdca26"
             ],
             [
              1,
              "#f0f921"
             ]
            ],
            "type": "contour"
           }
          ],
          "contourcarpet": [
           {
            "colorbar": {
             "outlinewidth": 0,
             "ticks": ""
            },
            "type": "contourcarpet"
           }
          ],
          "heatmap": [
           {
            "colorbar": {
             "outlinewidth": 0,
             "ticks": ""
            },
            "colorscale": [
             [
              0,
              "#0d0887"
             ],
             [
              0.1111111111111111,
              "#46039f"
             ],
             [
              0.2222222222222222,
              "#7201a8"
             ],
             [
              0.3333333333333333,
              "#9c179e"
             ],
             [
              0.4444444444444444,
              "#bd3786"
             ],
             [
              0.5555555555555556,
              "#d8576b"
             ],
             [
              0.6666666666666666,
              "#ed7953"
             ],
             [
              0.7777777777777778,
              "#fb9f3a"
             ],
             [
              0.8888888888888888,
              "#fdca26"
             ],
             [
              1,
              "#f0f921"
             ]
            ],
            "type": "heatmap"
           }
          ],
          "heatmapgl": [
           {
            "colorbar": {
             "outlinewidth": 0,
             "ticks": ""
            },
            "colorscale": [
             [
              0,
              "#0d0887"
             ],
             [
              0.1111111111111111,
              "#46039f"
             ],
             [
              0.2222222222222222,
              "#7201a8"
             ],
             [
              0.3333333333333333,
              "#9c179e"
             ],
             [
              0.4444444444444444,
              "#bd3786"
             ],
             [
              0.5555555555555556,
              "#d8576b"
             ],
             [
              0.6666666666666666,
              "#ed7953"
             ],
             [
              0.7777777777777778,
              "#fb9f3a"
             ],
             [
              0.8888888888888888,
              "#fdca26"
             ],
             [
              1,
              "#f0f921"
             ]
            ],
            "type": "heatmapgl"
           }
          ],
          "histogram": [
           {
            "marker": {
             "pattern": {
              "fillmode": "overlay",
              "size": 10,
              "solidity": 0.2
             }
            },
            "type": "histogram"
           }
          ],
          "histogram2d": [
           {
            "colorbar": {
             "outlinewidth": 0,
             "ticks": ""
            },
            "colorscale": [
             [
              0,
              "#0d0887"
             ],
             [
              0.1111111111111111,
              "#46039f"
             ],
             [
              0.2222222222222222,
              "#7201a8"
             ],
             [
              0.3333333333333333,
              "#9c179e"
             ],
             [
              0.4444444444444444,
              "#bd3786"
             ],
             [
              0.5555555555555556,
              "#d8576b"
             ],
             [
              0.6666666666666666,
              "#ed7953"
             ],
             [
              0.7777777777777778,
              "#fb9f3a"
             ],
             [
              0.8888888888888888,
              "#fdca26"
             ],
             [
              1,
              "#f0f921"
             ]
            ],
            "type": "histogram2d"
           }
          ],
          "histogram2dcontour": [
           {
            "colorbar": {
             "outlinewidth": 0,
             "ticks": ""
            },
            "colorscale": [
             [
              0,
              "#0d0887"
             ],
             [
              0.1111111111111111,
              "#46039f"
             ],
             [
              0.2222222222222222,
              "#7201a8"
             ],
             [
              0.3333333333333333,
              "#9c179e"
             ],
             [
              0.4444444444444444,
              "#bd3786"
             ],
             [
              0.5555555555555556,
              "#d8576b"
             ],
             [
              0.6666666666666666,
              "#ed7953"
             ],
             [
              0.7777777777777778,
              "#fb9f3a"
             ],
             [
              0.8888888888888888,
              "#fdca26"
             ],
             [
              1,
              "#f0f921"
             ]
            ],
            "type": "histogram2dcontour"
           }
          ],
          "mesh3d": [
           {
            "colorbar": {
             "outlinewidth": 0,
             "ticks": ""
            },
            "type": "mesh3d"
           }
          ],
          "parcoords": [
           {
            "line": {
             "colorbar": {
              "outlinewidth": 0,
              "ticks": ""
             }
            },
            "type": "parcoords"
           }
          ],
          "pie": [
           {
            "automargin": true,
            "type": "pie"
           }
          ],
          "scatter": [
           {
            "marker": {
             "colorbar": {
              "outlinewidth": 0,
              "ticks": ""
             }
            },
            "type": "scatter"
           }
          ],
          "scatter3d": [
           {
            "line": {
             "colorbar": {
              "outlinewidth": 0,
              "ticks": ""
             }
            },
            "marker": {
             "colorbar": {
              "outlinewidth": 0,
              "ticks": ""
             }
            },
            "type": "scatter3d"
           }
          ],
          "scattercarpet": [
           {
            "marker": {
             "colorbar": {
              "outlinewidth": 0,
              "ticks": ""
             }
            },
            "type": "scattercarpet"
           }
          ],
          "scattergeo": [
           {
            "marker": {
             "colorbar": {
              "outlinewidth": 0,
              "ticks": ""
             }
            },
            "type": "scattergeo"
           }
          ],
          "scattergl": [
           {
            "marker": {
             "colorbar": {
              "outlinewidth": 0,
              "ticks": ""
             }
            },
            "type": "scattergl"
           }
          ],
          "scattermapbox": [
           {
            "marker": {
             "colorbar": {
              "outlinewidth": 0,
              "ticks": ""
             }
            },
            "type": "scattermapbox"
           }
          ],
          "scatterpolar": [
           {
            "marker": {
             "colorbar": {
              "outlinewidth": 0,
              "ticks": ""
             }
            },
            "type": "scatterpolar"
           }
          ],
          "scatterpolargl": [
           {
            "marker": {
             "colorbar": {
              "outlinewidth": 0,
              "ticks": ""
             }
            },
            "type": "scatterpolargl"
           }
          ],
          "scatterternary": [
           {
            "marker": {
             "colorbar": {
              "outlinewidth": 0,
              "ticks": ""
             }
            },
            "type": "scatterternary"
           }
          ],
          "surface": [
           {
            "colorbar": {
             "outlinewidth": 0,
             "ticks": ""
            },
            "colorscale": [
             [
              0,
              "#0d0887"
             ],
             [
              0.1111111111111111,
              "#46039f"
             ],
             [
              0.2222222222222222,
              "#7201a8"
             ],
             [
              0.3333333333333333,
              "#9c179e"
             ],
             [
              0.4444444444444444,
              "#bd3786"
             ],
             [
              0.5555555555555556,
              "#d8576b"
             ],
             [
              0.6666666666666666,
              "#ed7953"
             ],
             [
              0.7777777777777778,
              "#fb9f3a"
             ],
             [
              0.8888888888888888,
              "#fdca26"
             ],
             [
              1,
              "#f0f921"
             ]
            ],
            "type": "surface"
           }
          ],
          "table": [
           {
            "cells": {
             "fill": {
              "color": "#EBF0F8"
             },
             "line": {
              "color": "white"
             }
            },
            "header": {
             "fill": {
              "color": "#C8D4E3"
             },
             "line": {
              "color": "white"
             }
            },
            "type": "table"
           }
          ]
         },
         "layout": {
          "annotationdefaults": {
           "arrowcolor": "#2a3f5f",
           "arrowhead": 0,
           "arrowwidth": 1
          },
          "autotypenumbers": "strict",
          "coloraxis": {
           "colorbar": {
            "outlinewidth": 0,
            "ticks": ""
           }
          },
          "colorscale": {
           "diverging": [
            [
             0,
             "#8e0152"
            ],
            [
             0.1,
             "#c51b7d"
            ],
            [
             0.2,
             "#de77ae"
            ],
            [
             0.3,
             "#f1b6da"
            ],
            [
             0.4,
             "#fde0ef"
            ],
            [
             0.5,
             "#f7f7f7"
            ],
            [
             0.6,
             "#e6f5d0"
            ],
            [
             0.7,
             "#b8e186"
            ],
            [
             0.8,
             "#7fbc41"
            ],
            [
             0.9,
             "#4d9221"
            ],
            [
             1,
             "#276419"
            ]
           ],
           "sequential": [
            [
             0,
             "#0d0887"
            ],
            [
             0.1111111111111111,
             "#46039f"
            ],
            [
             0.2222222222222222,
             "#7201a8"
            ],
            [
             0.3333333333333333,
             "#9c179e"
            ],
            [
             0.4444444444444444,
             "#bd3786"
            ],
            [
             0.5555555555555556,
             "#d8576b"
            ],
            [
             0.6666666666666666,
             "#ed7953"
            ],
            [
             0.7777777777777778,
             "#fb9f3a"
            ],
            [
             0.8888888888888888,
             "#fdca26"
            ],
            [
             1,
             "#f0f921"
            ]
           ],
           "sequentialminus": [
            [
             0,
             "#0d0887"
            ],
            [
             0.1111111111111111,
             "#46039f"
            ],
            [
             0.2222222222222222,
             "#7201a8"
            ],
            [
             0.3333333333333333,
             "#9c179e"
            ],
            [
             0.4444444444444444,
             "#bd3786"
            ],
            [
             0.5555555555555556,
             "#d8576b"
            ],
            [
             0.6666666666666666,
             "#ed7953"
            ],
            [
             0.7777777777777778,
             "#fb9f3a"
            ],
            [
             0.8888888888888888,
             "#fdca26"
            ],
            [
             1,
             "#f0f921"
            ]
           ]
          },
          "colorway": [
           "#636efa",
           "#EF553B",
           "#00cc96",
           "#ab63fa",
           "#FFA15A",
           "#19d3f3",
           "#FF6692",
           "#B6E880",
           "#FF97FF",
           "#FECB52"
          ],
          "font": {
           "color": "#2a3f5f"
          },
          "geo": {
           "bgcolor": "white",
           "lakecolor": "white",
           "landcolor": "#E5ECF6",
           "showlakes": true,
           "showland": true,
           "subunitcolor": "white"
          },
          "hoverlabel": {
           "align": "left"
          },
          "hovermode": "closest",
          "mapbox": {
           "style": "light"
          },
          "paper_bgcolor": "white",
          "plot_bgcolor": "#E5ECF6",
          "polar": {
           "angularaxis": {
            "gridcolor": "white",
            "linecolor": "white",
            "ticks": ""
           },
           "bgcolor": "#E5ECF6",
           "radialaxis": {
            "gridcolor": "white",
            "linecolor": "white",
            "ticks": ""
           }
          },
          "scene": {
           "xaxis": {
            "backgroundcolor": "#E5ECF6",
            "gridcolor": "white",
            "gridwidth": 2,
            "linecolor": "white",
            "showbackground": true,
            "ticks": "",
            "zerolinecolor": "white"
           },
           "yaxis": {
            "backgroundcolor": "#E5ECF6",
            "gridcolor": "white",
            "gridwidth": 2,
            "linecolor": "white",
            "showbackground": true,
            "ticks": "",
            "zerolinecolor": "white"
           },
           "zaxis": {
            "backgroundcolor": "#E5ECF6",
            "gridcolor": "white",
            "gridwidth": 2,
            "linecolor": "white",
            "showbackground": true,
            "ticks": "",
            "zerolinecolor": "white"
           }
          },
          "shapedefaults": {
           "line": {
            "color": "#2a3f5f"
           }
          },
          "ternary": {
           "aaxis": {
            "gridcolor": "white",
            "linecolor": "white",
            "ticks": ""
           },
           "baxis": {
            "gridcolor": "white",
            "linecolor": "white",
            "ticks": ""
           },
           "bgcolor": "#E5ECF6",
           "caxis": {
            "gridcolor": "white",
            "linecolor": "white",
            "ticks": ""
           }
          },
          "title": {
           "x": 0.05
          },
          "xaxis": {
           "automargin": true,
           "gridcolor": "white",
           "linecolor": "white",
           "ticks": "",
           "title": {
            "standoff": 15
           },
           "zerolinecolor": "white",
           "zerolinewidth": 2
          },
          "yaxis": {
           "automargin": true,
           "gridcolor": "white",
           "linecolor": "white",
           "ticks": "",
           "title": {
            "standoff": 15
           },
           "zerolinecolor": "white",
           "zerolinewidth": 2
          }
         }
        },
        "title": {
         "text": "Hyperparameter Importances"
        },
        "xaxis": {
         "title": {
          "text": "Importance for Objective Value"
         }
        },
        "yaxis": {
         "title": {
          "text": "Hyperparameter"
         }
        }
       }
      },
      "text/html": [
       "<div>                            <div id=\"33045b5f-0f68-42dd-a3f5-f1116431a38a\" class=\"plotly-graph-div\" style=\"height:525px; width:100%;\"></div>            <script type=\"text/javascript\">                require([\"plotly\"], function(Plotly) {                    window.PLOTLYENV=window.PLOTLYENV || {};                                    if (document.getElementById(\"33045b5f-0f68-42dd-a3f5-f1116431a38a\")) {                    Plotly.newPlot(                        \"33045b5f-0f68-42dd-a3f5-f1116431a38a\",                        [{\"cliponaxis\":false,\"hovertemplate\":[\"blocks (IntUniformDistribution): 0.09524501132493057<extra></extra>\",\"hidden_dim (CategoricalDistribution): 0.16872876445741744<extra></extra>\",\"kl_target (UniformDistribution): 0.1687969561497443<extra></extra>\",\"latent_dim (IntUniformDistribution): 0.21480237031280758<extra></extra>\",\"dropout (UniformDistribution): 0.3524268977551001<extra></extra>\"],\"marker\":{\"color\":\"rgb(66,146,198)\"},\"orientation\":\"h\",\"text\":[\"0.09524501132493057\",\"0.16872876445741744\",\"0.1687969561497443\",\"0.21480237031280758\",\"0.3524268977551001\"],\"textposition\":\"outside\",\"texttemplate\":\"%{text:.2f}\",\"x\":[0.09524501132493057,0.16872876445741744,0.1687969561497443,0.21480237031280758,0.3524268977551001],\"y\":[\"blocks\",\"hidden_dim\",\"kl_target\",\"latent_dim\",\"dropout\"],\"type\":\"bar\"}],                        {\"showlegend\":false,\"title\":{\"text\":\"Hyperparameter Importances\"},\"xaxis\":{\"title\":{\"text\":\"Importance for Objective Value\"}},\"yaxis\":{\"title\":{\"text\":\"Hyperparameter\"}},\"template\":{\"data\":{\"bar\":[{\"error_x\":{\"color\":\"#2a3f5f\"},\"error_y\":{\"color\":\"#2a3f5f\"},\"marker\":{\"line\":{\"color\":\"#E5ECF6\",\"width\":0.5},\"pattern\":{\"fillmode\":\"overlay\",\"size\":10,\"solidity\":0.2}},\"type\":\"bar\"}],\"barpolar\":[{\"marker\":{\"line\":{\"color\":\"#E5ECF6\",\"width\":0.5},\"pattern\":{\"fillmode\":\"overlay\",\"size\":10,\"solidity\":0.2}},\"type\":\"barpolar\"}],\"carpet\":[{\"aaxis\":{\"endlinecolor\":\"#2a3f5f\",\"gridcolor\":\"white\",\"linecolor\":\"white\",\"minorgridcolor\":\"white\",\"startlinecolor\":\"#2a3f5f\"},\"baxis\":{\"endlinecolor\":\"#2a3f5f\",\"gridcolor\":\"white\",\"linecolor\":\"white\",\"minorgridcolor\":\"white\",\"startlinecolor\":\"#2a3f5f\"},\"type\":\"carpet\"}],\"choropleth\":[{\"colorbar\":{\"outlinewidth\":0,\"ticks\":\"\"},\"type\":\"choropleth\"}],\"contour\":[{\"colorbar\":{\"outlinewidth\":0,\"ticks\":\"\"},\"colorscale\":[[0.0,\"#0d0887\"],[0.1111111111111111,\"#46039f\"],[0.2222222222222222,\"#7201a8\"],[0.3333333333333333,\"#9c179e\"],[0.4444444444444444,\"#bd3786\"],[0.5555555555555556,\"#d8576b\"],[0.6666666666666666,\"#ed7953\"],[0.7777777777777778,\"#fb9f3a\"],[0.8888888888888888,\"#fdca26\"],[1.0,\"#f0f921\"]],\"type\":\"contour\"}],\"contourcarpet\":[{\"colorbar\":{\"outlinewidth\":0,\"ticks\":\"\"},\"type\":\"contourcarpet\"}],\"heatmap\":[{\"colorbar\":{\"outlinewidth\":0,\"ticks\":\"\"},\"colorscale\":[[0.0,\"#0d0887\"],[0.1111111111111111,\"#46039f\"],[0.2222222222222222,\"#7201a8\"],[0.3333333333333333,\"#9c179e\"],[0.4444444444444444,\"#bd3786\"],[0.5555555555555556,\"#d8576b\"],[0.6666666666666666,\"#ed7953\"],[0.7777777777777778,\"#fb9f3a\"],[0.8888888888888888,\"#fdca26\"],[1.0,\"#f0f921\"]],\"type\":\"heatmap\"}],\"heatmapgl\":[{\"colorbar\":{\"outlinewidth\":0,\"ticks\":\"\"},\"colorscale\":[[0.0,\"#0d0887\"],[0.1111111111111111,\"#46039f\"],[0.2222222222222222,\"#7201a8\"],[0.3333333333333333,\"#9c179e\"],[0.4444444444444444,\"#bd3786\"],[0.5555555555555556,\"#d8576b\"],[0.6666666666666666,\"#ed7953\"],[0.7777777777777778,\"#fb9f3a\"],[0.8888888888888888,\"#fdca26\"],[1.0,\"#f0f921\"]],\"type\":\"heatmapgl\"}],\"histogram\":[{\"marker\":{\"pattern\":{\"fillmode\":\"overlay\",\"size\":10,\"solidity\":0.2}},\"type\":\"histogram\"}],\"histogram2d\":[{\"colorbar\":{\"outlinewidth\":0,\"ticks\":\"\"},\"colorscale\":[[0.0,\"#0d0887\"],[0.1111111111111111,\"#46039f\"],[0.2222222222222222,\"#7201a8\"],[0.3333333333333333,\"#9c179e\"],[0.4444444444444444,\"#bd3786\"],[0.5555555555555556,\"#d8576b\"],[0.6666666666666666,\"#ed7953\"],[0.7777777777777778,\"#fb9f3a\"],[0.8888888888888888,\"#fdca26\"],[1.0,\"#f0f921\"]],\"type\":\"histogram2d\"}],\"histogram2dcontour\":[{\"colorbar\":{\"outlinewidth\":0,\"ticks\":\"\"},\"colorscale\":[[0.0,\"#0d0887\"],[0.1111111111111111,\"#46039f\"],[0.2222222222222222,\"#7201a8\"],[0.3333333333333333,\"#9c179e\"],[0.4444444444444444,\"#bd3786\"],[0.5555555555555556,\"#d8576b\"],[0.6666666666666666,\"#ed7953\"],[0.7777777777777778,\"#fb9f3a\"],[0.8888888888888888,\"#fdca26\"],[1.0,\"#f0f921\"]],\"type\":\"histogram2dcontour\"}],\"mesh3d\":[{\"colorbar\":{\"outlinewidth\":0,\"ticks\":\"\"},\"type\":\"mesh3d\"}],\"parcoords\":[{\"line\":{\"colorbar\":{\"outlinewidth\":0,\"ticks\":\"\"}},\"type\":\"parcoords\"}],\"pie\":[{\"automargin\":true,\"type\":\"pie\"}],\"scatter\":[{\"marker\":{\"colorbar\":{\"outlinewidth\":0,\"ticks\":\"\"}},\"type\":\"scatter\"}],\"scatter3d\":[{\"line\":{\"colorbar\":{\"outlinewidth\":0,\"ticks\":\"\"}},\"marker\":{\"colorbar\":{\"outlinewidth\":0,\"ticks\":\"\"}},\"type\":\"scatter3d\"}],\"scattercarpet\":[{\"marker\":{\"colorbar\":{\"outlinewidth\":0,\"ticks\":\"\"}},\"type\":\"scattercarpet\"}],\"scattergeo\":[{\"marker\":{\"colorbar\":{\"outlinewidth\":0,\"ticks\":\"\"}},\"type\":\"scattergeo\"}],\"scattergl\":[{\"marker\":{\"colorbar\":{\"outlinewidth\":0,\"ticks\":\"\"}},\"type\":\"scattergl\"}],\"scattermapbox\":[{\"marker\":{\"colorbar\":{\"outlinewidth\":0,\"ticks\":\"\"}},\"type\":\"scattermapbox\"}],\"scatterpolar\":[{\"marker\":{\"colorbar\":{\"outlinewidth\":0,\"ticks\":\"\"}},\"type\":\"scatterpolar\"}],\"scatterpolargl\":[{\"marker\":{\"colorbar\":{\"outlinewidth\":0,\"ticks\":\"\"}},\"type\":\"scatterpolargl\"}],\"scatterternary\":[{\"marker\":{\"colorbar\":{\"outlinewidth\":0,\"ticks\":\"\"}},\"type\":\"scatterternary\"}],\"surface\":[{\"colorbar\":{\"outlinewidth\":0,\"ticks\":\"\"},\"colorscale\":[[0.0,\"#0d0887\"],[0.1111111111111111,\"#46039f\"],[0.2222222222222222,\"#7201a8\"],[0.3333333333333333,\"#9c179e\"],[0.4444444444444444,\"#bd3786\"],[0.5555555555555556,\"#d8576b\"],[0.6666666666666666,\"#ed7953\"],[0.7777777777777778,\"#fb9f3a\"],[0.8888888888888888,\"#fdca26\"],[1.0,\"#f0f921\"]],\"type\":\"surface\"}],\"table\":[{\"cells\":{\"fill\":{\"color\":\"#EBF0F8\"},\"line\":{\"color\":\"white\"}},\"header\":{\"fill\":{\"color\":\"#C8D4E3\"},\"line\":{\"color\":\"white\"}},\"type\":\"table\"}]},\"layout\":{\"annotationdefaults\":{\"arrowcolor\":\"#2a3f5f\",\"arrowhead\":0,\"arrowwidth\":1},\"autotypenumbers\":\"strict\",\"coloraxis\":{\"colorbar\":{\"outlinewidth\":0,\"ticks\":\"\"}},\"colorscale\":{\"diverging\":[[0,\"#8e0152\"],[0.1,\"#c51b7d\"],[0.2,\"#de77ae\"],[0.3,\"#f1b6da\"],[0.4,\"#fde0ef\"],[0.5,\"#f7f7f7\"],[0.6,\"#e6f5d0\"],[0.7,\"#b8e186\"],[0.8,\"#7fbc41\"],[0.9,\"#4d9221\"],[1,\"#276419\"]],\"sequential\":[[0.0,\"#0d0887\"],[0.1111111111111111,\"#46039f\"],[0.2222222222222222,\"#7201a8\"],[0.3333333333333333,\"#9c179e\"],[0.4444444444444444,\"#bd3786\"],[0.5555555555555556,\"#d8576b\"],[0.6666666666666666,\"#ed7953\"],[0.7777777777777778,\"#fb9f3a\"],[0.8888888888888888,\"#fdca26\"],[1.0,\"#f0f921\"]],\"sequentialminus\":[[0.0,\"#0d0887\"],[0.1111111111111111,\"#46039f\"],[0.2222222222222222,\"#7201a8\"],[0.3333333333333333,\"#9c179e\"],[0.4444444444444444,\"#bd3786\"],[0.5555555555555556,\"#d8576b\"],[0.6666666666666666,\"#ed7953\"],[0.7777777777777778,\"#fb9f3a\"],[0.8888888888888888,\"#fdca26\"],[1.0,\"#f0f921\"]]},\"colorway\":[\"#636efa\",\"#EF553B\",\"#00cc96\",\"#ab63fa\",\"#FFA15A\",\"#19d3f3\",\"#FF6692\",\"#B6E880\",\"#FF97FF\",\"#FECB52\"],\"font\":{\"color\":\"#2a3f5f\"},\"geo\":{\"bgcolor\":\"white\",\"lakecolor\":\"white\",\"landcolor\":\"#E5ECF6\",\"showlakes\":true,\"showland\":true,\"subunitcolor\":\"white\"},\"hoverlabel\":{\"align\":\"left\"},\"hovermode\":\"closest\",\"mapbox\":{\"style\":\"light\"},\"paper_bgcolor\":\"white\",\"plot_bgcolor\":\"#E5ECF6\",\"polar\":{\"angularaxis\":{\"gridcolor\":\"white\",\"linecolor\":\"white\",\"ticks\":\"\"},\"bgcolor\":\"#E5ECF6\",\"radialaxis\":{\"gridcolor\":\"white\",\"linecolor\":\"white\",\"ticks\":\"\"}},\"scene\":{\"xaxis\":{\"backgroundcolor\":\"#E5ECF6\",\"gridcolor\":\"white\",\"gridwidth\":2,\"linecolor\":\"white\",\"showbackground\":true,\"ticks\":\"\",\"zerolinecolor\":\"white\"},\"yaxis\":{\"backgroundcolor\":\"#E5ECF6\",\"gridcolor\":\"white\",\"gridwidth\":2,\"linecolor\":\"white\",\"showbackground\":true,\"ticks\":\"\",\"zerolinecolor\":\"white\"},\"zaxis\":{\"backgroundcolor\":\"#E5ECF6\",\"gridcolor\":\"white\",\"gridwidth\":2,\"linecolor\":\"white\",\"showbackground\":true,\"ticks\":\"\",\"zerolinecolor\":\"white\"}},\"shapedefaults\":{\"line\":{\"color\":\"#2a3f5f\"}},\"ternary\":{\"aaxis\":{\"gridcolor\":\"white\",\"linecolor\":\"white\",\"ticks\":\"\"},\"baxis\":{\"gridcolor\":\"white\",\"linecolor\":\"white\",\"ticks\":\"\"},\"bgcolor\":\"#E5ECF6\",\"caxis\":{\"gridcolor\":\"white\",\"linecolor\":\"white\",\"ticks\":\"\"}},\"title\":{\"x\":0.05},\"xaxis\":{\"automargin\":true,\"gridcolor\":\"white\",\"linecolor\":\"white\",\"ticks\":\"\",\"title\":{\"standoff\":15},\"zerolinecolor\":\"white\",\"zerolinewidth\":2},\"yaxis\":{\"automargin\":true,\"gridcolor\":\"white\",\"linecolor\":\"white\",\"ticks\":\"\",\"title\":{\"standoff\":15},\"zerolinecolor\":\"white\",\"zerolinewidth\":2}}}},                        {\"responsive\": true}                    ).then(function(){\n",
       "                            \n",
       "var gd = document.getElementById('33045b5f-0f68-42dd-a3f5-f1116431a38a');\n",
       "var x = new MutationObserver(function (mutations, observer) {{\n",
       "        var display = window.getComputedStyle(gd).display;\n",
       "        if (!display || display === 'none') {{\n",
       "            console.log([gd, 'removed!']);\n",
       "            Plotly.purge(gd);\n",
       "            observer.disconnect();\n",
       "        }}\n",
       "}});\n",
       "\n",
       "// Listen for the removal of the full notebook cells\n",
       "var notebookContainer = gd.closest('#notebook-container');\n",
       "if (notebookContainer) {{\n",
       "    x.observe(notebookContainer, {childList: true});\n",
       "}}\n",
       "\n",
       "// Listen for the clearing of the current output cell\n",
       "var outputEl = gd.closest('.output');\n",
       "if (outputEl) {{\n",
       "    x.observe(outputEl, {childList: true});\n",
       "}}\n",
       "\n",
       "                        })                };                });            </script>        </div>"
      ]
     },
     "metadata": {},
     "output_type": "display_data"
    }
   ],
   "source": [
    "optuna.visualization.plot_param_importances(study)"
   ]
  },
  {
   "cell_type": "code",
   "execution_count": 86,
   "id": "a81c3c75",
   "metadata": {},
   "outputs": [
    {
     "data": {
      "application/vnd.plotly.v1+json": {
       "config": {
        "plotlyServerURL": "https://plot.ly"
       },
       "data": [
        {
         "marker": {
          "color": [
           0,
           1,
           2,
           3,
           4,
           5,
           6,
           7,
           8,
           9,
           10,
           11,
           12,
           13,
           14,
           15,
           16,
           18,
           19,
           20,
           21,
           22,
           23,
           24
          ],
          "colorbar": {
           "title": {
            "text": "#Trials"
           },
           "x": 1,
           "xpad": 40
          },
          "colorscale": [
           [
            0,
            "rgb(247,251,255)"
           ],
           [
            0.125,
            "rgb(222,235,247)"
           ],
           [
            0.25,
            "rgb(198,219,239)"
           ],
           [
            0.375,
            "rgb(158,202,225)"
           ],
           [
            0.5,
            "rgb(107,174,214)"
           ],
           [
            0.625,
            "rgb(66,146,198)"
           ],
           [
            0.75,
            "rgb(33,113,181)"
           ],
           [
            0.875,
            "rgb(8,81,156)"
           ],
           [
            1,
            "rgb(8,48,107)"
           ]
          ],
          "line": {
           "color": "Grey",
           "width": 0.5
          },
          "showscale": true
         },
         "mode": "markers",
         "showlegend": false,
         "type": "scatter",
         "x": [
          6,
          4,
          7,
          7,
          5,
          6,
          2,
          7,
          5,
          5,
          3,
          4,
          3,
          4,
          4,
          3,
          2,
          4,
          3,
          4,
          6,
          4,
          4,
          5
         ],
         "xaxis": "x",
         "y": [
          3.68036318934623,
          4.286364984404908,
          4.0391112721416205,
          2.222044387475331,
          2.4943710653546836,
          2.72621759199291,
          3.5489848419873335,
          7.206012513743943,
          6.510347181705045,
          7.541810282292155,
          13.755329523727807,
          1.723743264000504,
          3.856505311800362,
          1.7537621026978083,
          1.660719525956095,
          1.8388784463677683,
          4.379691923500656,
          1.782205800572997,
          5.6375453623835305,
          2.0298171813248977,
          2.4618704656285577,
          1.6823502619133153,
          1.5620869453825963,
          1.4863442227828325
         ],
         "yaxis": "y"
        },
        {
         "marker": {
          "color": [
           0,
           1,
           2,
           3,
           4,
           5,
           6,
           7,
           8,
           9,
           10,
           11,
           12,
           13,
           14,
           15,
           16,
           18,
           19,
           20,
           21,
           22,
           23,
           24
          ],
          "colorbar": {
           "title": {
            "text": "#Trials"
           },
           "x": 1,
           "xpad": 40
          },
          "colorscale": [
           [
            0,
            "rgb(247,251,255)"
           ],
           [
            0.125,
            "rgb(222,235,247)"
           ],
           [
            0.25,
            "rgb(198,219,239)"
           ],
           [
            0.375,
            "rgb(158,202,225)"
           ],
           [
            0.5,
            "rgb(107,174,214)"
           ],
           [
            0.625,
            "rgb(66,146,198)"
           ],
           [
            0.75,
            "rgb(33,113,181)"
           ],
           [
            0.875,
            "rgb(8,81,156)"
           ],
           [
            1,
            "rgb(8,48,107)"
           ]
          ],
          "line": {
           "color": "Grey",
           "width": 0.5
          },
          "showscale": false
         },
         "mode": "markers",
         "showlegend": false,
         "type": "scatter",
         "x": [
          0.4439148436173104,
          0.13908699100675864,
          0.3827097209075191,
          0.4275546925334964,
          0.49180747245477724,
          0.3410516147501768,
          0.10647535234520714,
          0.22688482761306694,
          0.3099987958183471,
          0.07709935785713605,
          0.22805536984399297,
          0.46180946744895923,
          0.40376142885282296,
          0.4624114727591695,
          0.49258901676949035,
          0.4921681887174151,
          0.35787088037942416,
          0.2590401024018494,
          0.3113234437101946,
          0.1754304076205893,
          0.4985363203463385,
          0.44724701227469477,
          0.41661403667807795,
          0.3941869036221446
         ],
         "xaxis": "x2",
         "y": [
          3.68036318934623,
          4.286364984404908,
          4.0391112721416205,
          2.222044387475331,
          2.4943710653546836,
          2.72621759199291,
          3.5489848419873335,
          7.206012513743943,
          6.510347181705045,
          7.541810282292155,
          13.755329523727807,
          1.723743264000504,
          3.856505311800362,
          1.7537621026978083,
          1.660719525956095,
          1.8388784463677683,
          4.379691923500656,
          1.782205800572997,
          5.6375453623835305,
          2.0298171813248977,
          2.4618704656285577,
          1.6823502619133153,
          1.5620869453825963,
          1.4863442227828325
         ],
         "yaxis": "y2"
        },
        {
         "marker": {
          "color": [
           0,
           1,
           2,
           3,
           4,
           5,
           6,
           7,
           8,
           9,
           10,
           11,
           12,
           13,
           14,
           15,
           16,
           18,
           19,
           20,
           21,
           22,
           23,
           24
          ],
          "colorbar": {
           "title": {
            "text": "#Trials"
           },
           "x": 1,
           "xpad": 40
          },
          "colorscale": [
           [
            0,
            "rgb(247,251,255)"
           ],
           [
            0.125,
            "rgb(222,235,247)"
           ],
           [
            0.25,
            "rgb(198,219,239)"
           ],
           [
            0.375,
            "rgb(158,202,225)"
           ],
           [
            0.5,
            "rgb(107,174,214)"
           ],
           [
            0.625,
            "rgb(66,146,198)"
           ],
           [
            0.75,
            "rgb(33,113,181)"
           ],
           [
            0.875,
            "rgb(8,81,156)"
           ],
           [
            1,
            "rgb(8,48,107)"
           ]
          ],
          "line": {
           "color": "Grey",
           "width": 0.5
          },
          "showscale": false
         },
         "mode": "markers",
         "showlegend": false,
         "type": "scatter",
         "x": [
          512,
          1024,
          2048,
          1024,
          512,
          2048,
          2048,
          512,
          2048,
          1024,
          1024,
          512,
          1024,
          512,
          512,
          512,
          512,
          512,
          512,
          512,
          512,
          512,
          512,
          512
         ],
         "xaxis": "x3",
         "y": [
          3.68036318934623,
          4.286364984404908,
          4.0391112721416205,
          2.222044387475331,
          2.4943710653546836,
          2.72621759199291,
          3.5489848419873335,
          7.206012513743943,
          6.510347181705045,
          7.541810282292155,
          13.755329523727807,
          1.723743264000504,
          3.856505311800362,
          1.7537621026978083,
          1.660719525956095,
          1.8388784463677683,
          4.379691923500656,
          1.782205800572997,
          5.6375453623835305,
          2.0298171813248977,
          2.4618704656285577,
          1.6823502619133153,
          1.5620869453825963,
          1.4863442227828325
         ],
         "yaxis": "y3"
        },
        {
         "marker": {
          "color": [
           0,
           1,
           2,
           3,
           4,
           5,
           6,
           7,
           8,
           9,
           10,
           11,
           12,
           13,
           14,
           15,
           16,
           18,
           19,
           20,
           21,
           22,
           23,
           24
          ],
          "colorbar": {
           "title": {
            "text": "#Trials"
           },
           "x": 1,
           "xpad": 40
          },
          "colorscale": [
           [
            0,
            "rgb(247,251,255)"
           ],
           [
            0.125,
            "rgb(222,235,247)"
           ],
           [
            0.25,
            "rgb(198,219,239)"
           ],
           [
            0.375,
            "rgb(158,202,225)"
           ],
           [
            0.5,
            "rgb(107,174,214)"
           ],
           [
            0.625,
            "rgb(66,146,198)"
           ],
           [
            0.75,
            "rgb(33,113,181)"
           ],
           [
            0.875,
            "rgb(8,81,156)"
           ],
           [
            1,
            "rgb(8,48,107)"
           ]
          ],
          "line": {
           "color": "Grey",
           "width": 0.5
          },
          "showscale": false
         },
         "mode": "markers",
         "showlegend": false,
         "type": "scatter",
         "x": [
          0.400755911070767,
          0.8672352869210911,
          0.6620233990736458,
          0.8869328600151958,
          0.11668022565040757,
          0.9617399842917761,
          0.9641458831766488,
          0.8527035073111663,
          0.537426676969509,
          0.3661364780906169,
          0.6714645582243436,
          0.05790448197077976,
          0.016153059810029957,
          0.29012232082185585,
          0.2394902991628971,
          0.21874787893214442,
          0.024012605272715565,
          0.16929577181584413,
          0.3206971823708506,
          0.4843286875028315,
          0.12888934522406867,
          0.260669212299434,
          0.23499362217791947,
          0.2315779299781796
         ],
         "xaxis": "x4",
         "y": [
          3.68036318934623,
          4.286364984404908,
          4.0391112721416205,
          2.222044387475331,
          2.4943710653546836,
          2.72621759199291,
          3.5489848419873335,
          7.206012513743943,
          6.510347181705045,
          7.541810282292155,
          13.755329523727807,
          1.723743264000504,
          3.856505311800362,
          1.7537621026978083,
          1.660719525956095,
          1.8388784463677683,
          4.379691923500656,
          1.782205800572997,
          5.6375453623835305,
          2.0298171813248977,
          2.4618704656285577,
          1.6823502619133153,
          1.5620869453825963,
          1.4863442227828325
         ],
         "yaxis": "y4"
        },
        {
         "marker": {
          "color": [
           0,
           1,
           2,
           3,
           4,
           5,
           6,
           7,
           8,
           9,
           10,
           11,
           12,
           13,
           14,
           15,
           16,
           18,
           19,
           20,
           21,
           22,
           23,
           24
          ],
          "colorbar": {
           "title": {
            "text": "#Trials"
           },
           "x": 1,
           "xpad": 40
          },
          "colorscale": [
           [
            0,
            "rgb(247,251,255)"
           ],
           [
            0.125,
            "rgb(222,235,247)"
           ],
           [
            0.25,
            "rgb(198,219,239)"
           ],
           [
            0.375,
            "rgb(158,202,225)"
           ],
           [
            0.5,
            "rgb(107,174,214)"
           ],
           [
            0.625,
            "rgb(66,146,198)"
           ],
           [
            0.75,
            "rgb(33,113,181)"
           ],
           [
            0.875,
            "rgb(8,81,156)"
           ],
           [
            1,
            "rgb(8,48,107)"
           ]
          ],
          "line": {
           "color": "Grey",
           "width": 0.5
          },
          "showscale": false
         },
         "mode": "markers",
         "showlegend": false,
         "type": "scatter",
         "x": [
          48,
          9,
          22,
          36,
          49,
          11,
          12,
          46,
          28,
          32,
          36,
          39,
          40,
          24,
          19,
          19,
          3,
          18,
          40,
          27,
          16,
          24,
          29,
          30
         ],
         "xaxis": "x5",
         "y": [
          3.68036318934623,
          4.286364984404908,
          4.0391112721416205,
          2.222044387475331,
          2.4943710653546836,
          2.72621759199291,
          3.5489848419873335,
          7.206012513743943,
          6.510347181705045,
          7.541810282292155,
          13.755329523727807,
          1.723743264000504,
          3.856505311800362,
          1.7537621026978083,
          1.660719525956095,
          1.8388784463677683,
          4.379691923500656,
          1.782205800572997,
          5.6375453623835305,
          2.0298171813248977,
          2.4618704656285577,
          1.6823502619133153,
          1.5620869453825963,
          1.4863442227828325
         ],
         "yaxis": "y5"
        }
       ],
       "layout": {
        "template": {
         "data": {
          "bar": [
           {
            "error_x": {
             "color": "#2a3f5f"
            },
            "error_y": {
             "color": "#2a3f5f"
            },
            "marker": {
             "line": {
              "color": "#E5ECF6",
              "width": 0.5
             },
             "pattern": {
              "fillmode": "overlay",
              "size": 10,
              "solidity": 0.2
             }
            },
            "type": "bar"
           }
          ],
          "barpolar": [
           {
            "marker": {
             "line": {
              "color": "#E5ECF6",
              "width": 0.5
             },
             "pattern": {
              "fillmode": "overlay",
              "size": 10,
              "solidity": 0.2
             }
            },
            "type": "barpolar"
           }
          ],
          "carpet": [
           {
            "aaxis": {
             "endlinecolor": "#2a3f5f",
             "gridcolor": "white",
             "linecolor": "white",
             "minorgridcolor": "white",
             "startlinecolor": "#2a3f5f"
            },
            "baxis": {
             "endlinecolor": "#2a3f5f",
             "gridcolor": "white",
             "linecolor": "white",
             "minorgridcolor": "white",
             "startlinecolor": "#2a3f5f"
            },
            "type": "carpet"
           }
          ],
          "choropleth": [
           {
            "colorbar": {
             "outlinewidth": 0,
             "ticks": ""
            },
            "type": "choropleth"
           }
          ],
          "contour": [
           {
            "colorbar": {
             "outlinewidth": 0,
             "ticks": ""
            },
            "colorscale": [
             [
              0,
              "#0d0887"
             ],
             [
              0.1111111111111111,
              "#46039f"
             ],
             [
              0.2222222222222222,
              "#7201a8"
             ],
             [
              0.3333333333333333,
              "#9c179e"
             ],
             [
              0.4444444444444444,
              "#bd3786"
             ],
             [
              0.5555555555555556,
              "#d8576b"
             ],
             [
              0.6666666666666666,
              "#ed7953"
             ],
             [
              0.7777777777777778,
              "#fb9f3a"
             ],
             [
              0.8888888888888888,
              "#fdca26"
             ],
             [
              1,
              "#f0f921"
             ]
            ],
            "type": "contour"
           }
          ],
          "contourcarpet": [
           {
            "colorbar": {
             "outlinewidth": 0,
             "ticks": ""
            },
            "type": "contourcarpet"
           }
          ],
          "heatmap": [
           {
            "colorbar": {
             "outlinewidth": 0,
             "ticks": ""
            },
            "colorscale": [
             [
              0,
              "#0d0887"
             ],
             [
              0.1111111111111111,
              "#46039f"
             ],
             [
              0.2222222222222222,
              "#7201a8"
             ],
             [
              0.3333333333333333,
              "#9c179e"
             ],
             [
              0.4444444444444444,
              "#bd3786"
             ],
             [
              0.5555555555555556,
              "#d8576b"
             ],
             [
              0.6666666666666666,
              "#ed7953"
             ],
             [
              0.7777777777777778,
              "#fb9f3a"
             ],
             [
              0.8888888888888888,
              "#fdca26"
             ],
             [
              1,
              "#f0f921"
             ]
            ],
            "type": "heatmap"
           }
          ],
          "heatmapgl": [
           {
            "colorbar": {
             "outlinewidth": 0,
             "ticks": ""
            },
            "colorscale": [
             [
              0,
              "#0d0887"
             ],
             [
              0.1111111111111111,
              "#46039f"
             ],
             [
              0.2222222222222222,
              "#7201a8"
             ],
             [
              0.3333333333333333,
              "#9c179e"
             ],
             [
              0.4444444444444444,
              "#bd3786"
             ],
             [
              0.5555555555555556,
              "#d8576b"
             ],
             [
              0.6666666666666666,
              "#ed7953"
             ],
             [
              0.7777777777777778,
              "#fb9f3a"
             ],
             [
              0.8888888888888888,
              "#fdca26"
             ],
             [
              1,
              "#f0f921"
             ]
            ],
            "type": "heatmapgl"
           }
          ],
          "histogram": [
           {
            "marker": {
             "pattern": {
              "fillmode": "overlay",
              "size": 10,
              "solidity": 0.2
             }
            },
            "type": "histogram"
           }
          ],
          "histogram2d": [
           {
            "colorbar": {
             "outlinewidth": 0,
             "ticks": ""
            },
            "colorscale": [
             [
              0,
              "#0d0887"
             ],
             [
              0.1111111111111111,
              "#46039f"
             ],
             [
              0.2222222222222222,
              "#7201a8"
             ],
             [
              0.3333333333333333,
              "#9c179e"
             ],
             [
              0.4444444444444444,
              "#bd3786"
             ],
             [
              0.5555555555555556,
              "#d8576b"
             ],
             [
              0.6666666666666666,
              "#ed7953"
             ],
             [
              0.7777777777777778,
              "#fb9f3a"
             ],
             [
              0.8888888888888888,
              "#fdca26"
             ],
             [
              1,
              "#f0f921"
             ]
            ],
            "type": "histogram2d"
           }
          ],
          "histogram2dcontour": [
           {
            "colorbar": {
             "outlinewidth": 0,
             "ticks": ""
            },
            "colorscale": [
             [
              0,
              "#0d0887"
             ],
             [
              0.1111111111111111,
              "#46039f"
             ],
             [
              0.2222222222222222,
              "#7201a8"
             ],
             [
              0.3333333333333333,
              "#9c179e"
             ],
             [
              0.4444444444444444,
              "#bd3786"
             ],
             [
              0.5555555555555556,
              "#d8576b"
             ],
             [
              0.6666666666666666,
              "#ed7953"
             ],
             [
              0.7777777777777778,
              "#fb9f3a"
             ],
             [
              0.8888888888888888,
              "#fdca26"
             ],
             [
              1,
              "#f0f921"
             ]
            ],
            "type": "histogram2dcontour"
           }
          ],
          "mesh3d": [
           {
            "colorbar": {
             "outlinewidth": 0,
             "ticks": ""
            },
            "type": "mesh3d"
           }
          ],
          "parcoords": [
           {
            "line": {
             "colorbar": {
              "outlinewidth": 0,
              "ticks": ""
             }
            },
            "type": "parcoords"
           }
          ],
          "pie": [
           {
            "automargin": true,
            "type": "pie"
           }
          ],
          "scatter": [
           {
            "marker": {
             "colorbar": {
              "outlinewidth": 0,
              "ticks": ""
             }
            },
            "type": "scatter"
           }
          ],
          "scatter3d": [
           {
            "line": {
             "colorbar": {
              "outlinewidth": 0,
              "ticks": ""
             }
            },
            "marker": {
             "colorbar": {
              "outlinewidth": 0,
              "ticks": ""
             }
            },
            "type": "scatter3d"
           }
          ],
          "scattercarpet": [
           {
            "marker": {
             "colorbar": {
              "outlinewidth": 0,
              "ticks": ""
             }
            },
            "type": "scattercarpet"
           }
          ],
          "scattergeo": [
           {
            "marker": {
             "colorbar": {
              "outlinewidth": 0,
              "ticks": ""
             }
            },
            "type": "scattergeo"
           }
          ],
          "scattergl": [
           {
            "marker": {
             "colorbar": {
              "outlinewidth": 0,
              "ticks": ""
             }
            },
            "type": "scattergl"
           }
          ],
          "scattermapbox": [
           {
            "marker": {
             "colorbar": {
              "outlinewidth": 0,
              "ticks": ""
             }
            },
            "type": "scattermapbox"
           }
          ],
          "scatterpolar": [
           {
            "marker": {
             "colorbar": {
              "outlinewidth": 0,
              "ticks": ""
             }
            },
            "type": "scatterpolar"
           }
          ],
          "scatterpolargl": [
           {
            "marker": {
             "colorbar": {
              "outlinewidth": 0,
              "ticks": ""
             }
            },
            "type": "scatterpolargl"
           }
          ],
          "scatterternary": [
           {
            "marker": {
             "colorbar": {
              "outlinewidth": 0,
              "ticks": ""
             }
            },
            "type": "scatterternary"
           }
          ],
          "surface": [
           {
            "colorbar": {
             "outlinewidth": 0,
             "ticks": ""
            },
            "colorscale": [
             [
              0,
              "#0d0887"
             ],
             [
              0.1111111111111111,
              "#46039f"
             ],
             [
              0.2222222222222222,
              "#7201a8"
             ],
             [
              0.3333333333333333,
              "#9c179e"
             ],
             [
              0.4444444444444444,
              "#bd3786"
             ],
             [
              0.5555555555555556,
              "#d8576b"
             ],
             [
              0.6666666666666666,
              "#ed7953"
             ],
             [
              0.7777777777777778,
              "#fb9f3a"
             ],
             [
              0.8888888888888888,
              "#fdca26"
             ],
             [
              1,
              "#f0f921"
             ]
            ],
            "type": "surface"
           }
          ],
          "table": [
           {
            "cells": {
             "fill": {
              "color": "#EBF0F8"
             },
             "line": {
              "color": "white"
             }
            },
            "header": {
             "fill": {
              "color": "#C8D4E3"
             },
             "line": {
              "color": "white"
             }
            },
            "type": "table"
           }
          ]
         },
         "layout": {
          "annotationdefaults": {
           "arrowcolor": "#2a3f5f",
           "arrowhead": 0,
           "arrowwidth": 1
          },
          "autotypenumbers": "strict",
          "coloraxis": {
           "colorbar": {
            "outlinewidth": 0,
            "ticks": ""
           }
          },
          "colorscale": {
           "diverging": [
            [
             0,
             "#8e0152"
            ],
            [
             0.1,
             "#c51b7d"
            ],
            [
             0.2,
             "#de77ae"
            ],
            [
             0.3,
             "#f1b6da"
            ],
            [
             0.4,
             "#fde0ef"
            ],
            [
             0.5,
             "#f7f7f7"
            ],
            [
             0.6,
             "#e6f5d0"
            ],
            [
             0.7,
             "#b8e186"
            ],
            [
             0.8,
             "#7fbc41"
            ],
            [
             0.9,
             "#4d9221"
            ],
            [
             1,
             "#276419"
            ]
           ],
           "sequential": [
            [
             0,
             "#0d0887"
            ],
            [
             0.1111111111111111,
             "#46039f"
            ],
            [
             0.2222222222222222,
             "#7201a8"
            ],
            [
             0.3333333333333333,
             "#9c179e"
            ],
            [
             0.4444444444444444,
             "#bd3786"
            ],
            [
             0.5555555555555556,
             "#d8576b"
            ],
            [
             0.6666666666666666,
             "#ed7953"
            ],
            [
             0.7777777777777778,
             "#fb9f3a"
            ],
            [
             0.8888888888888888,
             "#fdca26"
            ],
            [
             1,
             "#f0f921"
            ]
           ],
           "sequentialminus": [
            [
             0,
             "#0d0887"
            ],
            [
             0.1111111111111111,
             "#46039f"
            ],
            [
             0.2222222222222222,
             "#7201a8"
            ],
            [
             0.3333333333333333,
             "#9c179e"
            ],
            [
             0.4444444444444444,
             "#bd3786"
            ],
            [
             0.5555555555555556,
             "#d8576b"
            ],
            [
             0.6666666666666666,
             "#ed7953"
            ],
            [
             0.7777777777777778,
             "#fb9f3a"
            ],
            [
             0.8888888888888888,
             "#fdca26"
            ],
            [
             1,
             "#f0f921"
            ]
           ]
          },
          "colorway": [
           "#636efa",
           "#EF553B",
           "#00cc96",
           "#ab63fa",
           "#FFA15A",
           "#19d3f3",
           "#FF6692",
           "#B6E880",
           "#FF97FF",
           "#FECB52"
          ],
          "font": {
           "color": "#2a3f5f"
          },
          "geo": {
           "bgcolor": "white",
           "lakecolor": "white",
           "landcolor": "#E5ECF6",
           "showlakes": true,
           "showland": true,
           "subunitcolor": "white"
          },
          "hoverlabel": {
           "align": "left"
          },
          "hovermode": "closest",
          "mapbox": {
           "style": "light"
          },
          "paper_bgcolor": "white",
          "plot_bgcolor": "#E5ECF6",
          "polar": {
           "angularaxis": {
            "gridcolor": "white",
            "linecolor": "white",
            "ticks": ""
           },
           "bgcolor": "#E5ECF6",
           "radialaxis": {
            "gridcolor": "white",
            "linecolor": "white",
            "ticks": ""
           }
          },
          "scene": {
           "xaxis": {
            "backgroundcolor": "#E5ECF6",
            "gridcolor": "white",
            "gridwidth": 2,
            "linecolor": "white",
            "showbackground": true,
            "ticks": "",
            "zerolinecolor": "white"
           },
           "yaxis": {
            "backgroundcolor": "#E5ECF6",
            "gridcolor": "white",
            "gridwidth": 2,
            "linecolor": "white",
            "showbackground": true,
            "ticks": "",
            "zerolinecolor": "white"
           },
           "zaxis": {
            "backgroundcolor": "#E5ECF6",
            "gridcolor": "white",
            "gridwidth": 2,
            "linecolor": "white",
            "showbackground": true,
            "ticks": "",
            "zerolinecolor": "white"
           }
          },
          "shapedefaults": {
           "line": {
            "color": "#2a3f5f"
           }
          },
          "ternary": {
           "aaxis": {
            "gridcolor": "white",
            "linecolor": "white",
            "ticks": ""
           },
           "baxis": {
            "gridcolor": "white",
            "linecolor": "white",
            "ticks": ""
           },
           "bgcolor": "#E5ECF6",
           "caxis": {
            "gridcolor": "white",
            "linecolor": "white",
            "ticks": ""
           }
          },
          "title": {
           "x": 0.05
          },
          "xaxis": {
           "automargin": true,
           "gridcolor": "white",
           "linecolor": "white",
           "ticks": "",
           "title": {
            "standoff": 15
           },
           "zerolinecolor": "white",
           "zerolinewidth": 2
          },
          "yaxis": {
           "automargin": true,
           "gridcolor": "white",
           "linecolor": "white",
           "ticks": "",
           "title": {
            "standoff": 15
           },
           "zerolinecolor": "white",
           "zerolinewidth": 2
          }
         }
        },
        "title": {
         "text": "Slice Plot"
        },
        "width": 1500,
        "xaxis": {
         "anchor": "y",
         "domain": [
          0,
          0.16799999999999998
         ],
         "title": {
          "text": "blocks"
         }
        },
        "xaxis2": {
         "anchor": "y2",
         "domain": [
          0.208,
          0.376
         ],
         "title": {
          "text": "dropout"
         }
        },
        "xaxis3": {
         "anchor": "y3",
         "domain": [
          0.416,
          0.584
         ],
         "title": {
          "text": "hidden_dim"
         }
        },
        "xaxis4": {
         "anchor": "y4",
         "domain": [
          0.624,
          0.792
         ],
         "title": {
          "text": "kl_target"
         }
        },
        "xaxis5": {
         "anchor": "y5",
         "domain": [
          0.832,
          1
         ],
         "title": {
          "text": "latent_dim"
         }
        },
        "yaxis": {
         "anchor": "x",
         "domain": [
          0,
          1
         ],
         "title": {
          "text": "Objective Value"
         }
        },
        "yaxis2": {
         "anchor": "x2",
         "domain": [
          0,
          1
         ],
         "matches": "y",
         "showticklabels": false
        },
        "yaxis3": {
         "anchor": "x3",
         "domain": [
          0,
          1
         ],
         "matches": "y",
         "showticklabels": false
        },
        "yaxis4": {
         "anchor": "x4",
         "domain": [
          0,
          1
         ],
         "matches": "y",
         "showticklabels": false
        },
        "yaxis5": {
         "anchor": "x5",
         "domain": [
          0,
          1
         ],
         "matches": "y",
         "showticklabels": false
        }
       }
      },
      "text/html": [
       "<div>                            <div id=\"009153c4-54ad-4fef-a3ab-32688a6dc567\" class=\"plotly-graph-div\" style=\"height:525px; width:1500px;\"></div>            <script type=\"text/javascript\">                require([\"plotly\"], function(Plotly) {                    window.PLOTLYENV=window.PLOTLYENV || {};                                    if (document.getElementById(\"009153c4-54ad-4fef-a3ab-32688a6dc567\")) {                    Plotly.newPlot(                        \"009153c4-54ad-4fef-a3ab-32688a6dc567\",                        [{\"marker\":{\"color\":[0,1,2,3,4,5,6,7,8,9,10,11,12,13,14,15,16,18,19,20,21,22,23,24],\"colorbar\":{\"title\":{\"text\":\"#Trials\"},\"x\":1.0,\"xpad\":40},\"colorscale\":[[0.0,\"rgb(247,251,255)\"],[0.125,\"rgb(222,235,247)\"],[0.25,\"rgb(198,219,239)\"],[0.375,\"rgb(158,202,225)\"],[0.5,\"rgb(107,174,214)\"],[0.625,\"rgb(66,146,198)\"],[0.75,\"rgb(33,113,181)\"],[0.875,\"rgb(8,81,156)\"],[1.0,\"rgb(8,48,107)\"]],\"line\":{\"color\":\"Grey\",\"width\":0.5},\"showscale\":true},\"mode\":\"markers\",\"showlegend\":false,\"x\":[6,4,7,7,5,6,2,7,5,5,3,4,3,4,4,3,2,4,3,4,6,4,4,5],\"y\":[3.68036318934623,4.286364984404908,4.0391112721416205,2.222044387475331,2.4943710653546836,2.72621759199291,3.5489848419873335,7.206012513743943,6.510347181705045,7.541810282292155,13.755329523727807,1.723743264000504,3.856505311800362,1.7537621026978083,1.660719525956095,1.8388784463677683,4.379691923500656,1.782205800572997,5.6375453623835305,2.0298171813248977,2.4618704656285577,1.6823502619133153,1.5620869453825963,1.4863442227828325],\"type\":\"scatter\",\"xaxis\":\"x\",\"yaxis\":\"y\"},{\"marker\":{\"color\":[0,1,2,3,4,5,6,7,8,9,10,11,12,13,14,15,16,18,19,20,21,22,23,24],\"colorbar\":{\"title\":{\"text\":\"#Trials\"},\"x\":1.0,\"xpad\":40},\"colorscale\":[[0.0,\"rgb(247,251,255)\"],[0.125,\"rgb(222,235,247)\"],[0.25,\"rgb(198,219,239)\"],[0.375,\"rgb(158,202,225)\"],[0.5,\"rgb(107,174,214)\"],[0.625,\"rgb(66,146,198)\"],[0.75,\"rgb(33,113,181)\"],[0.875,\"rgb(8,81,156)\"],[1.0,\"rgb(8,48,107)\"]],\"line\":{\"color\":\"Grey\",\"width\":0.5},\"showscale\":false},\"mode\":\"markers\",\"showlegend\":false,\"x\":[0.4439148436173104,0.13908699100675864,0.3827097209075191,0.4275546925334964,0.49180747245477724,0.3410516147501768,0.10647535234520714,0.22688482761306694,0.3099987958183471,0.07709935785713605,0.22805536984399297,0.46180946744895923,0.40376142885282296,0.4624114727591695,0.49258901676949035,0.4921681887174151,0.35787088037942416,0.2590401024018494,0.3113234437101946,0.1754304076205893,0.4985363203463385,0.44724701227469477,0.41661403667807795,0.3941869036221446],\"y\":[3.68036318934623,4.286364984404908,4.0391112721416205,2.222044387475331,2.4943710653546836,2.72621759199291,3.5489848419873335,7.206012513743943,6.510347181705045,7.541810282292155,13.755329523727807,1.723743264000504,3.856505311800362,1.7537621026978083,1.660719525956095,1.8388784463677683,4.379691923500656,1.782205800572997,5.6375453623835305,2.0298171813248977,2.4618704656285577,1.6823502619133153,1.5620869453825963,1.4863442227828325],\"type\":\"scatter\",\"xaxis\":\"x2\",\"yaxis\":\"y2\"},{\"marker\":{\"color\":[0,1,2,3,4,5,6,7,8,9,10,11,12,13,14,15,16,18,19,20,21,22,23,24],\"colorbar\":{\"title\":{\"text\":\"#Trials\"},\"x\":1.0,\"xpad\":40},\"colorscale\":[[0.0,\"rgb(247,251,255)\"],[0.125,\"rgb(222,235,247)\"],[0.25,\"rgb(198,219,239)\"],[0.375,\"rgb(158,202,225)\"],[0.5,\"rgb(107,174,214)\"],[0.625,\"rgb(66,146,198)\"],[0.75,\"rgb(33,113,181)\"],[0.875,\"rgb(8,81,156)\"],[1.0,\"rgb(8,48,107)\"]],\"line\":{\"color\":\"Grey\",\"width\":0.5},\"showscale\":false},\"mode\":\"markers\",\"showlegend\":false,\"x\":[512,1024,2048,1024,512,2048,2048,512,2048,1024,1024,512,1024,512,512,512,512,512,512,512,512,512,512,512],\"y\":[3.68036318934623,4.286364984404908,4.0391112721416205,2.222044387475331,2.4943710653546836,2.72621759199291,3.5489848419873335,7.206012513743943,6.510347181705045,7.541810282292155,13.755329523727807,1.723743264000504,3.856505311800362,1.7537621026978083,1.660719525956095,1.8388784463677683,4.379691923500656,1.782205800572997,5.6375453623835305,2.0298171813248977,2.4618704656285577,1.6823502619133153,1.5620869453825963,1.4863442227828325],\"type\":\"scatter\",\"xaxis\":\"x3\",\"yaxis\":\"y3\"},{\"marker\":{\"color\":[0,1,2,3,4,5,6,7,8,9,10,11,12,13,14,15,16,18,19,20,21,22,23,24],\"colorbar\":{\"title\":{\"text\":\"#Trials\"},\"x\":1.0,\"xpad\":40},\"colorscale\":[[0.0,\"rgb(247,251,255)\"],[0.125,\"rgb(222,235,247)\"],[0.25,\"rgb(198,219,239)\"],[0.375,\"rgb(158,202,225)\"],[0.5,\"rgb(107,174,214)\"],[0.625,\"rgb(66,146,198)\"],[0.75,\"rgb(33,113,181)\"],[0.875,\"rgb(8,81,156)\"],[1.0,\"rgb(8,48,107)\"]],\"line\":{\"color\":\"Grey\",\"width\":0.5},\"showscale\":false},\"mode\":\"markers\",\"showlegend\":false,\"x\":[0.400755911070767,0.8672352869210911,0.6620233990736458,0.8869328600151958,0.11668022565040757,0.9617399842917761,0.9641458831766488,0.8527035073111663,0.537426676969509,0.3661364780906169,0.6714645582243436,0.05790448197077976,0.016153059810029957,0.29012232082185585,0.2394902991628971,0.21874787893214442,0.024012605272715565,0.16929577181584413,0.3206971823708506,0.4843286875028315,0.12888934522406867,0.260669212299434,0.23499362217791947,0.2315779299781796],\"y\":[3.68036318934623,4.286364984404908,4.0391112721416205,2.222044387475331,2.4943710653546836,2.72621759199291,3.5489848419873335,7.206012513743943,6.510347181705045,7.541810282292155,13.755329523727807,1.723743264000504,3.856505311800362,1.7537621026978083,1.660719525956095,1.8388784463677683,4.379691923500656,1.782205800572997,5.6375453623835305,2.0298171813248977,2.4618704656285577,1.6823502619133153,1.5620869453825963,1.4863442227828325],\"type\":\"scatter\",\"xaxis\":\"x4\",\"yaxis\":\"y4\"},{\"marker\":{\"color\":[0,1,2,3,4,5,6,7,8,9,10,11,12,13,14,15,16,18,19,20,21,22,23,24],\"colorbar\":{\"title\":{\"text\":\"#Trials\"},\"x\":1.0,\"xpad\":40},\"colorscale\":[[0.0,\"rgb(247,251,255)\"],[0.125,\"rgb(222,235,247)\"],[0.25,\"rgb(198,219,239)\"],[0.375,\"rgb(158,202,225)\"],[0.5,\"rgb(107,174,214)\"],[0.625,\"rgb(66,146,198)\"],[0.75,\"rgb(33,113,181)\"],[0.875,\"rgb(8,81,156)\"],[1.0,\"rgb(8,48,107)\"]],\"line\":{\"color\":\"Grey\",\"width\":0.5},\"showscale\":false},\"mode\":\"markers\",\"showlegend\":false,\"x\":[48,9,22,36,49,11,12,46,28,32,36,39,40,24,19,19,3,18,40,27,16,24,29,30],\"y\":[3.68036318934623,4.286364984404908,4.0391112721416205,2.222044387475331,2.4943710653546836,2.72621759199291,3.5489848419873335,7.206012513743943,6.510347181705045,7.541810282292155,13.755329523727807,1.723743264000504,3.856505311800362,1.7537621026978083,1.660719525956095,1.8388784463677683,4.379691923500656,1.782205800572997,5.6375453623835305,2.0298171813248977,2.4618704656285577,1.6823502619133153,1.5620869453825963,1.4863442227828325],\"type\":\"scatter\",\"xaxis\":\"x5\",\"yaxis\":\"y5\"}],                        {\"template\":{\"data\":{\"bar\":[{\"error_x\":{\"color\":\"#2a3f5f\"},\"error_y\":{\"color\":\"#2a3f5f\"},\"marker\":{\"line\":{\"color\":\"#E5ECF6\",\"width\":0.5},\"pattern\":{\"fillmode\":\"overlay\",\"size\":10,\"solidity\":0.2}},\"type\":\"bar\"}],\"barpolar\":[{\"marker\":{\"line\":{\"color\":\"#E5ECF6\",\"width\":0.5},\"pattern\":{\"fillmode\":\"overlay\",\"size\":10,\"solidity\":0.2}},\"type\":\"barpolar\"}],\"carpet\":[{\"aaxis\":{\"endlinecolor\":\"#2a3f5f\",\"gridcolor\":\"white\",\"linecolor\":\"white\",\"minorgridcolor\":\"white\",\"startlinecolor\":\"#2a3f5f\"},\"baxis\":{\"endlinecolor\":\"#2a3f5f\",\"gridcolor\":\"white\",\"linecolor\":\"white\",\"minorgridcolor\":\"white\",\"startlinecolor\":\"#2a3f5f\"},\"type\":\"carpet\"}],\"choropleth\":[{\"colorbar\":{\"outlinewidth\":0,\"ticks\":\"\"},\"type\":\"choropleth\"}],\"contour\":[{\"colorbar\":{\"outlinewidth\":0,\"ticks\":\"\"},\"colorscale\":[[0.0,\"#0d0887\"],[0.1111111111111111,\"#46039f\"],[0.2222222222222222,\"#7201a8\"],[0.3333333333333333,\"#9c179e\"],[0.4444444444444444,\"#bd3786\"],[0.5555555555555556,\"#d8576b\"],[0.6666666666666666,\"#ed7953\"],[0.7777777777777778,\"#fb9f3a\"],[0.8888888888888888,\"#fdca26\"],[1.0,\"#f0f921\"]],\"type\":\"contour\"}],\"contourcarpet\":[{\"colorbar\":{\"outlinewidth\":0,\"ticks\":\"\"},\"type\":\"contourcarpet\"}],\"heatmap\":[{\"colorbar\":{\"outlinewidth\":0,\"ticks\":\"\"},\"colorscale\":[[0.0,\"#0d0887\"],[0.1111111111111111,\"#46039f\"],[0.2222222222222222,\"#7201a8\"],[0.3333333333333333,\"#9c179e\"],[0.4444444444444444,\"#bd3786\"],[0.5555555555555556,\"#d8576b\"],[0.6666666666666666,\"#ed7953\"],[0.7777777777777778,\"#fb9f3a\"],[0.8888888888888888,\"#fdca26\"],[1.0,\"#f0f921\"]],\"type\":\"heatmap\"}],\"heatmapgl\":[{\"colorbar\":{\"outlinewidth\":0,\"ticks\":\"\"},\"colorscale\":[[0.0,\"#0d0887\"],[0.1111111111111111,\"#46039f\"],[0.2222222222222222,\"#7201a8\"],[0.3333333333333333,\"#9c179e\"],[0.4444444444444444,\"#bd3786\"],[0.5555555555555556,\"#d8576b\"],[0.6666666666666666,\"#ed7953\"],[0.7777777777777778,\"#fb9f3a\"],[0.8888888888888888,\"#fdca26\"],[1.0,\"#f0f921\"]],\"type\":\"heatmapgl\"}],\"histogram\":[{\"marker\":{\"pattern\":{\"fillmode\":\"overlay\",\"size\":10,\"solidity\":0.2}},\"type\":\"histogram\"}],\"histogram2d\":[{\"colorbar\":{\"outlinewidth\":0,\"ticks\":\"\"},\"colorscale\":[[0.0,\"#0d0887\"],[0.1111111111111111,\"#46039f\"],[0.2222222222222222,\"#7201a8\"],[0.3333333333333333,\"#9c179e\"],[0.4444444444444444,\"#bd3786\"],[0.5555555555555556,\"#d8576b\"],[0.6666666666666666,\"#ed7953\"],[0.7777777777777778,\"#fb9f3a\"],[0.8888888888888888,\"#fdca26\"],[1.0,\"#f0f921\"]],\"type\":\"histogram2d\"}],\"histogram2dcontour\":[{\"colorbar\":{\"outlinewidth\":0,\"ticks\":\"\"},\"colorscale\":[[0.0,\"#0d0887\"],[0.1111111111111111,\"#46039f\"],[0.2222222222222222,\"#7201a8\"],[0.3333333333333333,\"#9c179e\"],[0.4444444444444444,\"#bd3786\"],[0.5555555555555556,\"#d8576b\"],[0.6666666666666666,\"#ed7953\"],[0.7777777777777778,\"#fb9f3a\"],[0.8888888888888888,\"#fdca26\"],[1.0,\"#f0f921\"]],\"type\":\"histogram2dcontour\"}],\"mesh3d\":[{\"colorbar\":{\"outlinewidth\":0,\"ticks\":\"\"},\"type\":\"mesh3d\"}],\"parcoords\":[{\"line\":{\"colorbar\":{\"outlinewidth\":0,\"ticks\":\"\"}},\"type\":\"parcoords\"}],\"pie\":[{\"automargin\":true,\"type\":\"pie\"}],\"scatter\":[{\"marker\":{\"colorbar\":{\"outlinewidth\":0,\"ticks\":\"\"}},\"type\":\"scatter\"}],\"scatter3d\":[{\"line\":{\"colorbar\":{\"outlinewidth\":0,\"ticks\":\"\"}},\"marker\":{\"colorbar\":{\"outlinewidth\":0,\"ticks\":\"\"}},\"type\":\"scatter3d\"}],\"scattercarpet\":[{\"marker\":{\"colorbar\":{\"outlinewidth\":0,\"ticks\":\"\"}},\"type\":\"scattercarpet\"}],\"scattergeo\":[{\"marker\":{\"colorbar\":{\"outlinewidth\":0,\"ticks\":\"\"}},\"type\":\"scattergeo\"}],\"scattergl\":[{\"marker\":{\"colorbar\":{\"outlinewidth\":0,\"ticks\":\"\"}},\"type\":\"scattergl\"}],\"scattermapbox\":[{\"marker\":{\"colorbar\":{\"outlinewidth\":0,\"ticks\":\"\"}},\"type\":\"scattermapbox\"}],\"scatterpolar\":[{\"marker\":{\"colorbar\":{\"outlinewidth\":0,\"ticks\":\"\"}},\"type\":\"scatterpolar\"}],\"scatterpolargl\":[{\"marker\":{\"colorbar\":{\"outlinewidth\":0,\"ticks\":\"\"}},\"type\":\"scatterpolargl\"}],\"scatterternary\":[{\"marker\":{\"colorbar\":{\"outlinewidth\":0,\"ticks\":\"\"}},\"type\":\"scatterternary\"}],\"surface\":[{\"colorbar\":{\"outlinewidth\":0,\"ticks\":\"\"},\"colorscale\":[[0.0,\"#0d0887\"],[0.1111111111111111,\"#46039f\"],[0.2222222222222222,\"#7201a8\"],[0.3333333333333333,\"#9c179e\"],[0.4444444444444444,\"#bd3786\"],[0.5555555555555556,\"#d8576b\"],[0.6666666666666666,\"#ed7953\"],[0.7777777777777778,\"#fb9f3a\"],[0.8888888888888888,\"#fdca26\"],[1.0,\"#f0f921\"]],\"type\":\"surface\"}],\"table\":[{\"cells\":{\"fill\":{\"color\":\"#EBF0F8\"},\"line\":{\"color\":\"white\"}},\"header\":{\"fill\":{\"color\":\"#C8D4E3\"},\"line\":{\"color\":\"white\"}},\"type\":\"table\"}]},\"layout\":{\"annotationdefaults\":{\"arrowcolor\":\"#2a3f5f\",\"arrowhead\":0,\"arrowwidth\":1},\"autotypenumbers\":\"strict\",\"coloraxis\":{\"colorbar\":{\"outlinewidth\":0,\"ticks\":\"\"}},\"colorscale\":{\"diverging\":[[0,\"#8e0152\"],[0.1,\"#c51b7d\"],[0.2,\"#de77ae\"],[0.3,\"#f1b6da\"],[0.4,\"#fde0ef\"],[0.5,\"#f7f7f7\"],[0.6,\"#e6f5d0\"],[0.7,\"#b8e186\"],[0.8,\"#7fbc41\"],[0.9,\"#4d9221\"],[1,\"#276419\"]],\"sequential\":[[0.0,\"#0d0887\"],[0.1111111111111111,\"#46039f\"],[0.2222222222222222,\"#7201a8\"],[0.3333333333333333,\"#9c179e\"],[0.4444444444444444,\"#bd3786\"],[0.5555555555555556,\"#d8576b\"],[0.6666666666666666,\"#ed7953\"],[0.7777777777777778,\"#fb9f3a\"],[0.8888888888888888,\"#fdca26\"],[1.0,\"#f0f921\"]],\"sequentialminus\":[[0.0,\"#0d0887\"],[0.1111111111111111,\"#46039f\"],[0.2222222222222222,\"#7201a8\"],[0.3333333333333333,\"#9c179e\"],[0.4444444444444444,\"#bd3786\"],[0.5555555555555556,\"#d8576b\"],[0.6666666666666666,\"#ed7953\"],[0.7777777777777778,\"#fb9f3a\"],[0.8888888888888888,\"#fdca26\"],[1.0,\"#f0f921\"]]},\"colorway\":[\"#636efa\",\"#EF553B\",\"#00cc96\",\"#ab63fa\",\"#FFA15A\",\"#19d3f3\",\"#FF6692\",\"#B6E880\",\"#FF97FF\",\"#FECB52\"],\"font\":{\"color\":\"#2a3f5f\"},\"geo\":{\"bgcolor\":\"white\",\"lakecolor\":\"white\",\"landcolor\":\"#E5ECF6\",\"showlakes\":true,\"showland\":true,\"subunitcolor\":\"white\"},\"hoverlabel\":{\"align\":\"left\"},\"hovermode\":\"closest\",\"mapbox\":{\"style\":\"light\"},\"paper_bgcolor\":\"white\",\"plot_bgcolor\":\"#E5ECF6\",\"polar\":{\"angularaxis\":{\"gridcolor\":\"white\",\"linecolor\":\"white\",\"ticks\":\"\"},\"bgcolor\":\"#E5ECF6\",\"radialaxis\":{\"gridcolor\":\"white\",\"linecolor\":\"white\",\"ticks\":\"\"}},\"scene\":{\"xaxis\":{\"backgroundcolor\":\"#E5ECF6\",\"gridcolor\":\"white\",\"gridwidth\":2,\"linecolor\":\"white\",\"showbackground\":true,\"ticks\":\"\",\"zerolinecolor\":\"white\"},\"yaxis\":{\"backgroundcolor\":\"#E5ECF6\",\"gridcolor\":\"white\",\"gridwidth\":2,\"linecolor\":\"white\",\"showbackground\":true,\"ticks\":\"\",\"zerolinecolor\":\"white\"},\"zaxis\":{\"backgroundcolor\":\"#E5ECF6\",\"gridcolor\":\"white\",\"gridwidth\":2,\"linecolor\":\"white\",\"showbackground\":true,\"ticks\":\"\",\"zerolinecolor\":\"white\"}},\"shapedefaults\":{\"line\":{\"color\":\"#2a3f5f\"}},\"ternary\":{\"aaxis\":{\"gridcolor\":\"white\",\"linecolor\":\"white\",\"ticks\":\"\"},\"baxis\":{\"gridcolor\":\"white\",\"linecolor\":\"white\",\"ticks\":\"\"},\"bgcolor\":\"#E5ECF6\",\"caxis\":{\"gridcolor\":\"white\",\"linecolor\":\"white\",\"ticks\":\"\"}},\"title\":{\"x\":0.05},\"xaxis\":{\"automargin\":true,\"gridcolor\":\"white\",\"linecolor\":\"white\",\"ticks\":\"\",\"title\":{\"standoff\":15},\"zerolinecolor\":\"white\",\"zerolinewidth\":2},\"yaxis\":{\"automargin\":true,\"gridcolor\":\"white\",\"linecolor\":\"white\",\"ticks\":\"\",\"title\":{\"standoff\":15},\"zerolinecolor\":\"white\",\"zerolinewidth\":2}}},\"xaxis\":{\"anchor\":\"y\",\"domain\":[0.0,0.16799999999999998],\"title\":{\"text\":\"blocks\"}},\"yaxis\":{\"anchor\":\"x\",\"domain\":[0.0,1.0],\"title\":{\"text\":\"Objective Value\"}},\"xaxis2\":{\"anchor\":\"y2\",\"domain\":[0.208,0.376],\"title\":{\"text\":\"dropout\"}},\"yaxis2\":{\"anchor\":\"x2\",\"domain\":[0.0,1.0],\"matches\":\"y\",\"showticklabels\":false},\"xaxis3\":{\"anchor\":\"y3\",\"domain\":[0.416,0.584],\"title\":{\"text\":\"hidden_dim\"}},\"yaxis3\":{\"anchor\":\"x3\",\"domain\":[0.0,1.0],\"matches\":\"y\",\"showticklabels\":false},\"xaxis4\":{\"anchor\":\"y4\",\"domain\":[0.624,0.792],\"title\":{\"text\":\"kl_target\"}},\"yaxis4\":{\"anchor\":\"x4\",\"domain\":[0.0,1.0],\"matches\":\"y\",\"showticklabels\":false},\"xaxis5\":{\"anchor\":\"y5\",\"domain\":[0.832,1.0],\"title\":{\"text\":\"latent_dim\"}},\"yaxis5\":{\"anchor\":\"x5\",\"domain\":[0.0,1.0],\"matches\":\"y\",\"showticklabels\":false},\"title\":{\"text\":\"Slice Plot\"},\"width\":1500},                        {\"responsive\": true}                    ).then(function(){\n",
       "                            \n",
       "var gd = document.getElementById('009153c4-54ad-4fef-a3ab-32688a6dc567');\n",
       "var x = new MutationObserver(function (mutations, observer) {{\n",
       "        var display = window.getComputedStyle(gd).display;\n",
       "        if (!display || display === 'none') {{\n",
       "            console.log([gd, 'removed!']);\n",
       "            Plotly.purge(gd);\n",
       "            observer.disconnect();\n",
       "        }}\n",
       "}});\n",
       "\n",
       "// Listen for the removal of the full notebook cells\n",
       "var notebookContainer = gd.closest('#notebook-container');\n",
       "if (notebookContainer) {{\n",
       "    x.observe(notebookContainer, {childList: true});\n",
       "}}\n",
       "\n",
       "// Listen for the clearing of the current output cell\n",
       "var outputEl = gd.closest('.output');\n",
       "if (outputEl) {{\n",
       "    x.observe(outputEl, {childList: true});\n",
       "}}\n",
       "\n",
       "                        })                };                });            </script>        </div>"
      ]
     },
     "metadata": {},
     "output_type": "display_data"
    }
   ],
   "source": [
    "optuna.visualization.plot_slice(study)"
   ]
  },
  {
   "cell_type": "code",
   "execution_count": 55,
   "id": "260ccb39",
   "metadata": {},
   "outputs": [
    {
     "data": {
      "application/vnd.plotly.v1+json": {
       "config": {
        "plotlyServerURL": "https://plot.ly"
       },
       "data": [
        {
         "type": "scatter",
         "xaxis": "x",
         "yaxis": "y"
        },
        {
         "colorbar": {
          "title": {
           "text": "Objective Value"
          }
         },
         "colorscale": [
          [
           0,
           "rgb(5,10,172)"
          ],
          [
           0.35,
           "rgb(40,60,190)"
          ],
          [
           0.5,
           "rgb(70,100,245)"
          ],
          [
           0.6,
           "rgb(90,120,245)"
          ],
          [
           0.7,
           "rgb(106,137,247)"
          ],
          [
           1,
           "rgb(220,220,220)"
          ]
         ],
         "connectgaps": true,
         "contours": {
          "coloring": "heatmap"
         },
         "hoverinfo": "none",
         "line": {
          "smoothing": 1.3
         },
         "reversescale": true,
         "showscale": true,
         "type": "contour",
         "x": [
          1.75,
          2,
          3,
          4,
          5,
          6,
          7,
          7.25
         ],
         "xaxis": "x6",
         "y": [
          0.05632487491151833,
          0.07709935785713605,
          0.10647535234520714,
          0.13908699100675864,
          0.22688482761306694,
          0.22805536984399297,
          0.2590401024018494,
          0.3099987958183471,
          0.3113234437101946,
          0.3410516147501768,
          0.35787088037942416,
          0.3827097209075191,
          0.40376142885282296,
          0.4275546925334964,
          0.4439148436173104,
          0.46180946744895923,
          0.4624114727591695,
          0.49180747245477724,
          0.4921681887174151,
          0.49258901676949035,
          0.5133634997151081
         ],
         "yaxis": "y6",
         "z": [
          [
           null,
           null,
           null,
           null,
           null,
           null,
           null,
           null
          ],
          [
           null,
           null,
           null,
           null,
           7.541810282292155,
           null,
           null,
           null
          ],
          [
           null,
           3.5489848419873335,
           null,
           null,
           null,
           null,
           null,
           null
          ],
          [
           null,
           null,
           null,
           4.286364984404908,
           null,
           null,
           null,
           null
          ],
          [
           null,
           null,
           null,
           null,
           null,
           null,
           7.206012513743943,
           null
          ],
          [
           null,
           null,
           13.755329523727807,
           null,
           null,
           null,
           null,
           null
          ],
          [
           null,
           null,
           null,
           1.782205800572997,
           null,
           null,
           null,
           null
          ],
          [
           null,
           null,
           null,
           null,
           6.510347181705045,
           null,
           null,
           null
          ],
          [
           null,
           null,
           5.6375453623835305,
           null,
           null,
           null,
           null,
           null
          ],
          [
           null,
           null,
           null,
           null,
           null,
           2.72621759199291,
           null,
           null
          ],
          [
           null,
           4.379691923500656,
           null,
           null,
           null,
           null,
           null,
           null
          ],
          [
           null,
           null,
           null,
           null,
           null,
           null,
           4.0391112721416205,
           null
          ],
          [
           null,
           null,
           3.856505311800362,
           null,
           null,
           null,
           null,
           null
          ],
          [
           null,
           null,
           null,
           null,
           null,
           null,
           2.222044387475331,
           null
          ],
          [
           null,
           null,
           null,
           null,
           null,
           3.68036318934623,
           null,
           null
          ],
          [
           null,
           null,
           null,
           1.723743264000504,
           null,
           null,
           null,
           null
          ],
          [
           null,
           null,
           null,
           1.7537621026978083,
           null,
           null,
           null,
           null
          ],
          [
           null,
           null,
           null,
           null,
           2.4943710653546836,
           null,
           null,
           null
          ],
          [
           null,
           null,
           1.8388784463677683,
           null,
           null,
           null,
           null,
           null
          ],
          [
           null,
           null,
           null,
           1.660719525956095,
           null,
           null,
           null,
           null
          ],
          [
           null,
           null,
           null,
           null,
           null,
           null,
           null,
           null
          ]
         ]
        },
        {
         "marker": {
          "color": "black",
          "line": {
           "color": "Grey",
           "width": 0.5
          }
         },
         "mode": "markers",
         "showlegend": false,
         "type": "scatter",
         "x": [
          6,
          4,
          7,
          7,
          5,
          6,
          2,
          7,
          5,
          5,
          3,
          4,
          3,
          4,
          4,
          3,
          2,
          4,
          3
         ],
         "xaxis": "x6",
         "y": [
          0.4439148436173104,
          0.13908699100675864,
          0.3827097209075191,
          0.4275546925334964,
          0.49180747245477724,
          0.3410516147501768,
          0.10647535234520714,
          0.22688482761306694,
          0.3099987958183471,
          0.07709935785713605,
          0.22805536984399297,
          0.46180946744895923,
          0.40376142885282296,
          0.4624114727591695,
          0.49258901676949035,
          0.4921681887174151,
          0.35787088037942416,
          0.2590401024018494,
          0.3113234437101946
         ],
         "yaxis": "y6"
        },
        {
         "colorbar": {
          "title": {
           "text": "Objective Value"
          }
         },
         "colorscale": [
          [
           0,
           "rgb(5,10,172)"
          ],
          [
           0.35,
           "rgb(40,60,190)"
          ],
          [
           0.5,
           "rgb(70,100,245)"
          ],
          [
           0.6,
           "rgb(90,120,245)"
          ],
          [
           0.7,
           "rgb(106,137,247)"
          ],
          [
           1,
           "rgb(220,220,220)"
          ]
         ],
         "connectgaps": true,
         "contours": {
          "coloring": "heatmap"
         },
         "hoverinfo": "none",
         "line": {
          "smoothing": 1.3
         },
         "reversescale": true,
         "showscale": false,
         "type": "contour",
         "x": [
          1.75,
          2,
          3,
          4,
          5,
          6,
          7,
          7.25
         ],
         "xaxis": "x11",
         "y": [
          435.2,
          512,
          1024,
          2048,
          2124.8
         ],
         "yaxis": "y11",
         "z": [
          [
           null,
           null,
           null,
           null,
           null,
           null,
           null,
           null
          ],
          [
           null,
           4.379691923500656,
           5.6375453623835305,
           1.782205800572997,
           2.4943710653546836,
           3.68036318934623,
           7.206012513743943,
           null
          ],
          [
           null,
           null,
           3.856505311800362,
           4.286364984404908,
           7.541810282292155,
           null,
           2.222044387475331,
           null
          ],
          [
           null,
           3.5489848419873335,
           null,
           null,
           6.510347181705045,
           2.72621759199291,
           4.0391112721416205,
           null
          ],
          [
           null,
           null,
           null,
           null,
           null,
           null,
           null,
           null
          ]
         ]
        },
        {
         "marker": {
          "color": "black",
          "line": {
           "color": "Grey",
           "width": 0.5
          }
         },
         "mode": "markers",
         "showlegend": false,
         "type": "scatter",
         "x": [
          6,
          4,
          7,
          7,
          5,
          6,
          2,
          7,
          5,
          5,
          3,
          4,
          3,
          4,
          4,
          3,
          2,
          4,
          3
         ],
         "xaxis": "x11",
         "y": [
          512,
          1024,
          2048,
          1024,
          512,
          2048,
          2048,
          512,
          2048,
          1024,
          1024,
          512,
          1024,
          512,
          512,
          512,
          512,
          512,
          512
         ],
         "yaxis": "y11"
        },
        {
         "colorbar": {
          "title": {
           "text": "Objective Value"
          }
         },
         "colorscale": [
          [
           0,
           "rgb(5,10,172)"
          ],
          [
           0.35,
           "rgb(40,60,190)"
          ],
          [
           0.5,
           "rgb(70,100,245)"
          ],
          [
           0.6,
           "rgb(90,120,245)"
          ],
          [
           0.7,
           "rgb(106,137,247)"
          ],
          [
           1,
           "rgb(220,220,220)"
          ]
         ],
         "connectgaps": true,
         "contours": {
          "coloring": "heatmap"
         },
         "hoverinfo": "none",
         "line": {
          "smoothing": 1.3
         },
         "reversescale": true,
         "showscale": false,
         "type": "contour",
         "x": [
          1.75,
          2,
          3,
          4,
          5,
          6,
          7,
          7.25
         ],
         "xaxis": "x16",
         "y": [
          -0.03124658135830099,
          0.016153059810029957,
          0.024012605272715565,
          0.05790448197077976,
          0.11668022565040757,
          0.16929577181584413,
          0.21874787893214442,
          0.2394902991628971,
          0.29012232082185585,
          0.3206971823708506,
          0.3661364780906169,
          0.400755911070767,
          0.537426676969509,
          0.6620233990736458,
          0.6714645582243436,
          0.8527035073111663,
          0.8672352869210911,
          0.8869328600151958,
          0.9617399842917761,
          0.9641458831766488,
          1.0115455243449798
         ],
         "yaxis": "y16",
         "z": [
          [
           null,
           null,
           null,
           null,
           null,
           null,
           null,
           null
          ],
          [
           null,
           null,
           3.856505311800362,
           null,
           null,
           null,
           null,
           null
          ],
          [
           null,
           4.379691923500656,
           null,
           null,
           null,
           null,
           null,
           null
          ],
          [
           null,
           null,
           null,
           1.723743264000504,
           null,
           null,
           null,
           null
          ],
          [
           null,
           null,
           null,
           null,
           2.4943710653546836,
           null,
           null,
           null
          ],
          [
           null,
           null,
           null,
           1.782205800572997,
           null,
           null,
           null,
           null
          ],
          [
           null,
           null,
           1.8388784463677683,
           null,
           null,
           null,
           null,
           null
          ],
          [
           null,
           null,
           null,
           1.660719525956095,
           null,
           null,
           null,
           null
          ],
          [
           null,
           null,
           null,
           1.7537621026978083,
           null,
           null,
           null,
           null
          ],
          [
           null,
           null,
           5.6375453623835305,
           null,
           null,
           null,
           null,
           null
          ],
          [
           null,
           null,
           null,
           null,
           7.541810282292155,
           null,
           null,
           null
          ],
          [
           null,
           null,
           null,
           null,
           null,
           3.68036318934623,
           null,
           null
          ],
          [
           null,
           null,
           null,
           null,
           6.510347181705045,
           null,
           null,
           null
          ],
          [
           null,
           null,
           null,
           null,
           null,
           null,
           4.0391112721416205,
           null
          ],
          [
           null,
           null,
           13.755329523727807,
           null,
           null,
           null,
           null,
           null
          ],
          [
           null,
           null,
           null,
           null,
           null,
           null,
           7.206012513743943,
           null
          ],
          [
           null,
           null,
           null,
           4.286364984404908,
           null,
           null,
           null,
           null
          ],
          [
           null,
           null,
           null,
           null,
           null,
           null,
           2.222044387475331,
           null
          ],
          [
           null,
           null,
           null,
           null,
           null,
           2.72621759199291,
           null,
           null
          ],
          [
           null,
           3.5489848419873335,
           null,
           null,
           null,
           null,
           null,
           null
          ],
          [
           null,
           null,
           null,
           null,
           null,
           null,
           null,
           null
          ]
         ]
        },
        {
         "marker": {
          "color": "black",
          "line": {
           "color": "Grey",
           "width": 0.5
          }
         },
         "mode": "markers",
         "showlegend": false,
         "type": "scatter",
         "x": [
          6,
          4,
          7,
          7,
          5,
          6,
          2,
          7,
          5,
          5,
          3,
          4,
          3,
          4,
          4,
          3,
          2,
          4,
          3
         ],
         "xaxis": "x16",
         "y": [
          0.400755911070767,
          0.8672352869210911,
          0.6620233990736458,
          0.8869328600151958,
          0.11668022565040757,
          0.9617399842917761,
          0.9641458831766488,
          0.8527035073111663,
          0.537426676969509,
          0.3661364780906169,
          0.6714645582243436,
          0.05790448197077976,
          0.016153059810029957,
          0.29012232082185585,
          0.2394902991628971,
          0.21874787893214442,
          0.024012605272715565,
          0.16929577181584413,
          0.3206971823708506
         ],
         "yaxis": "y16"
        },
        {
         "colorbar": {
          "title": {
           "text": "Objective Value"
          }
         },
         "colorscale": [
          [
           0,
           "rgb(5,10,172)"
          ],
          [
           0.35,
           "rgb(40,60,190)"
          ],
          [
           0.5,
           "rgb(70,100,245)"
          ],
          [
           0.6,
           "rgb(90,120,245)"
          ],
          [
           0.7,
           "rgb(106,137,247)"
          ],
          [
           1,
           "rgb(220,220,220)"
          ]
         ],
         "connectgaps": true,
         "contours": {
          "coloring": "heatmap"
         },
         "hoverinfo": "none",
         "line": {
          "smoothing": 1.3
         },
         "reversescale": true,
         "showscale": false,
         "type": "contour",
         "x": [
          1.75,
          2,
          3,
          4,
          5,
          6,
          7,
          7.25
         ],
         "xaxis": "x21",
         "y": [
          0.6999999999999997,
          3,
          9,
          11,
          12,
          18,
          19,
          22,
          24,
          28,
          32,
          36,
          39,
          40,
          46,
          48,
          49,
          51.3
         ],
         "yaxis": "y21",
         "z": [
          [
           null,
           null,
           null,
           null,
           null,
           null,
           null,
           null
          ],
          [
           null,
           4.379691923500656,
           null,
           null,
           null,
           null,
           null,
           null
          ],
          [
           null,
           null,
           null,
           4.286364984404908,
           null,
           null,
           null,
           null
          ],
          [
           null,
           null,
           null,
           null,
           null,
           2.72621759199291,
           null,
           null
          ],
          [
           null,
           3.5489848419873335,
           null,
           null,
           null,
           null,
           null,
           null
          ],
          [
           null,
           null,
           null,
           1.782205800572997,
           null,
           null,
           null,
           null
          ],
          [
           null,
           null,
           1.8388784463677683,
           1.660719525956095,
           null,
           null,
           null,
           null
          ],
          [
           null,
           null,
           null,
           null,
           null,
           null,
           4.0391112721416205,
           null
          ],
          [
           null,
           null,
           null,
           1.7537621026978083,
           null,
           null,
           null,
           null
          ],
          [
           null,
           null,
           null,
           null,
           6.510347181705045,
           null,
           null,
           null
          ],
          [
           null,
           null,
           null,
           null,
           7.541810282292155,
           null,
           null,
           null
          ],
          [
           null,
           null,
           13.755329523727807,
           null,
           null,
           null,
           2.222044387475331,
           null
          ],
          [
           null,
           null,
           null,
           1.723743264000504,
           null,
           null,
           null,
           null
          ],
          [
           null,
           null,
           5.6375453623835305,
           null,
           null,
           null,
           null,
           null
          ],
          [
           null,
           null,
           null,
           null,
           null,
           null,
           7.206012513743943,
           null
          ],
          [
           null,
           null,
           null,
           null,
           null,
           3.68036318934623,
           null,
           null
          ],
          [
           null,
           null,
           null,
           null,
           2.4943710653546836,
           null,
           null,
           null
          ],
          [
           null,
           null,
           null,
           null,
           null,
           null,
           null,
           null
          ]
         ]
        },
        {
         "marker": {
          "color": "black",
          "line": {
           "color": "Grey",
           "width": 0.5
          }
         },
         "mode": "markers",
         "showlegend": false,
         "type": "scatter",
         "x": [
          6,
          4,
          7,
          7,
          5,
          6,
          2,
          7,
          5,
          5,
          3,
          4,
          3,
          4,
          4,
          3,
          2,
          4,
          3
         ],
         "xaxis": "x21",
         "y": [
          48,
          9,
          22,
          36,
          49,
          11,
          12,
          46,
          28,
          32,
          36,
          39,
          40,
          24,
          19,
          19,
          3,
          18,
          40
         ],
         "yaxis": "y21"
        },
        {
         "colorbar": {
          "title": {
           "text": "Objective Value"
          }
         },
         "colorscale": [
          [
           0,
           "rgb(5,10,172)"
          ],
          [
           0.35,
           "rgb(40,60,190)"
          ],
          [
           0.5,
           "rgb(70,100,245)"
          ],
          [
           0.6,
           "rgb(90,120,245)"
          ],
          [
           0.7,
           "rgb(106,137,247)"
          ],
          [
           1,
           "rgb(220,220,220)"
          ]
         ],
         "connectgaps": true,
         "contours": {
          "coloring": "heatmap"
         },
         "hoverinfo": "none",
         "line": {
          "smoothing": 1.3
         },
         "reversescale": true,
         "showscale": false,
         "type": "contour",
         "x": [
          0.05632487491151833,
          0.07709935785713605,
          0.10647535234520714,
          0.13908699100675864,
          0.22688482761306694,
          0.22805536984399297,
          0.2590401024018494,
          0.3099987958183471,
          0.3113234437101946,
          0.3410516147501768,
          0.35787088037942416,
          0.3827097209075191,
          0.40376142885282296,
          0.4275546925334964,
          0.4439148436173104,
          0.46180946744895923,
          0.4624114727591695,
          0.49180747245477724,
          0.4921681887174151,
          0.49258901676949035,
          0.5133634997151081
         ],
         "xaxis": "x2",
         "y": [
          1.75,
          2,
          3,
          4,
          5,
          6,
          7,
          7.25
         ],
         "yaxis": "y2",
         "z": [
          [
           null,
           null,
           null,
           null,
           null,
           null,
           null,
           null,
           null,
           null,
           null,
           null,
           null,
           null,
           null,
           null,
           null,
           null,
           null,
           null,
           null
          ],
          [
           null,
           null,
           3.5489848419873335,
           null,
           null,
           null,
           null,
           null,
           null,
           null,
           4.379691923500656,
           null,
           null,
           null,
           null,
           null,
           null,
           null,
           null,
           null,
           null
          ],
          [
           null,
           null,
           null,
           null,
           null,
           13.755329523727807,
           null,
           null,
           5.6375453623835305,
           null,
           null,
           null,
           3.856505311800362,
           null,
           null,
           null,
           null,
           null,
           1.8388784463677683,
           null,
           null
          ],
          [
           null,
           null,
           null,
           4.286364984404908,
           null,
           null,
           1.782205800572997,
           null,
           null,
           null,
           null,
           null,
           null,
           null,
           null,
           1.723743264000504,
           1.7537621026978083,
           null,
           null,
           1.660719525956095,
           null
          ],
          [
           null,
           7.541810282292155,
           null,
           null,
           null,
           null,
           null,
           6.510347181705045,
           null,
           null,
           null,
           null,
           null,
           null,
           null,
           null,
           null,
           2.4943710653546836,
           null,
           null,
           null
          ],
          [
           null,
           null,
           null,
           null,
           null,
           null,
           null,
           null,
           null,
           2.72621759199291,
           null,
           null,
           null,
           null,
           3.68036318934623,
           null,
           null,
           null,
           null,
           null,
           null
          ],
          [
           null,
           null,
           null,
           null,
           7.206012513743943,
           null,
           null,
           null,
           null,
           null,
           null,
           4.0391112721416205,
           null,
           2.222044387475331,
           null,
           null,
           null,
           null,
           null,
           null,
           null
          ],
          [
           null,
           null,
           null,
           null,
           null,
           null,
           null,
           null,
           null,
           null,
           null,
           null,
           null,
           null,
           null,
           null,
           null,
           null,
           null,
           null,
           null
          ]
         ]
        },
        {
         "marker": {
          "color": "black",
          "line": {
           "color": "Grey",
           "width": 0.5
          }
         },
         "mode": "markers",
         "showlegend": false,
         "type": "scatter",
         "x": [
          0.4439148436173104,
          0.13908699100675864,
          0.3827097209075191,
          0.4275546925334964,
          0.49180747245477724,
          0.3410516147501768,
          0.10647535234520714,
          0.22688482761306694,
          0.3099987958183471,
          0.07709935785713605,
          0.22805536984399297,
          0.46180946744895923,
          0.40376142885282296,
          0.4624114727591695,
          0.49258901676949035,
          0.4921681887174151,
          0.35787088037942416,
          0.2590401024018494,
          0.3113234437101946
         ],
         "xaxis": "x2",
         "y": [
          6,
          4,
          7,
          7,
          5,
          6,
          2,
          7,
          5,
          5,
          3,
          4,
          3,
          4,
          4,
          3,
          2,
          4,
          3
         ],
         "yaxis": "y2"
        },
        {
         "type": "scatter",
         "xaxis": "x7",
         "yaxis": "y7"
        },
        {
         "colorbar": {
          "title": {
           "text": "Objective Value"
          }
         },
         "colorscale": [
          [
           0,
           "rgb(5,10,172)"
          ],
          [
           0.35,
           "rgb(40,60,190)"
          ],
          [
           0.5,
           "rgb(70,100,245)"
          ],
          [
           0.6,
           "rgb(90,120,245)"
          ],
          [
           0.7,
           "rgb(106,137,247)"
          ],
          [
           1,
           "rgb(220,220,220)"
          ]
         ],
         "connectgaps": true,
         "contours": {
          "coloring": "heatmap"
         },
         "hoverinfo": "none",
         "line": {
          "smoothing": 1.3
         },
         "reversescale": true,
         "showscale": false,
         "type": "contour",
         "x": [
          0.05632487491151833,
          0.07709935785713605,
          0.10647535234520714,
          0.13908699100675864,
          0.22688482761306694,
          0.22805536984399297,
          0.2590401024018494,
          0.3099987958183471,
          0.3113234437101946,
          0.3410516147501768,
          0.35787088037942416,
          0.3827097209075191,
          0.40376142885282296,
          0.4275546925334964,
          0.4439148436173104,
          0.46180946744895923,
          0.4624114727591695,
          0.49180747245477724,
          0.4921681887174151,
          0.49258901676949035,
          0.5133634997151081
         ],
         "xaxis": "x12",
         "y": [
          435.2,
          512,
          1024,
          2048,
          2124.8
         ],
         "yaxis": "y12",
         "z": [
          [
           null,
           null,
           null,
           null,
           null,
           null,
           null,
           null,
           null,
           null,
           null,
           null,
           null,
           null,
           null,
           null,
           null,
           null,
           null,
           null,
           null
          ],
          [
           null,
           null,
           null,
           null,
           7.206012513743943,
           null,
           1.782205800572997,
           null,
           5.6375453623835305,
           null,
           4.379691923500656,
           null,
           null,
           null,
           3.68036318934623,
           1.723743264000504,
           1.7537621026978083,
           2.4943710653546836,
           1.8388784463677683,
           1.660719525956095,
           null
          ],
          [
           null,
           7.541810282292155,
           null,
           4.286364984404908,
           null,
           13.755329523727807,
           null,
           null,
           null,
           null,
           null,
           null,
           3.856505311800362,
           2.222044387475331,
           null,
           null,
           null,
           null,
           null,
           null,
           null
          ],
          [
           null,
           null,
           3.5489848419873335,
           null,
           null,
           null,
           null,
           6.510347181705045,
           null,
           2.72621759199291,
           null,
           4.0391112721416205,
           null,
           null,
           null,
           null,
           null,
           null,
           null,
           null,
           null
          ],
          [
           null,
           null,
           null,
           null,
           null,
           null,
           null,
           null,
           null,
           null,
           null,
           null,
           null,
           null,
           null,
           null,
           null,
           null,
           null,
           null,
           null
          ]
         ]
        },
        {
         "marker": {
          "color": "black",
          "line": {
           "color": "Grey",
           "width": 0.5
          }
         },
         "mode": "markers",
         "showlegend": false,
         "type": "scatter",
         "x": [
          0.4439148436173104,
          0.13908699100675864,
          0.3827097209075191,
          0.4275546925334964,
          0.49180747245477724,
          0.3410516147501768,
          0.10647535234520714,
          0.22688482761306694,
          0.3099987958183471,
          0.07709935785713605,
          0.22805536984399297,
          0.46180946744895923,
          0.40376142885282296,
          0.4624114727591695,
          0.49258901676949035,
          0.4921681887174151,
          0.35787088037942416,
          0.2590401024018494,
          0.3113234437101946
         ],
         "xaxis": "x12",
         "y": [
          512,
          1024,
          2048,
          1024,
          512,
          2048,
          2048,
          512,
          2048,
          1024,
          1024,
          512,
          1024,
          512,
          512,
          512,
          512,
          512,
          512
         ],
         "yaxis": "y12"
        },
        {
         "colorbar": {
          "title": {
           "text": "Objective Value"
          }
         },
         "colorscale": [
          [
           0,
           "rgb(5,10,172)"
          ],
          [
           0.35,
           "rgb(40,60,190)"
          ],
          [
           0.5,
           "rgb(70,100,245)"
          ],
          [
           0.6,
           "rgb(90,120,245)"
          ],
          [
           0.7,
           "rgb(106,137,247)"
          ],
          [
           1,
           "rgb(220,220,220)"
          ]
         ],
         "connectgaps": true,
         "contours": {
          "coloring": "heatmap"
         },
         "hoverinfo": "none",
         "line": {
          "smoothing": 1.3
         },
         "reversescale": true,
         "showscale": false,
         "type": "contour",
         "x": [
          0.05632487491151833,
          0.07709935785713605,
          0.10647535234520714,
          0.13908699100675864,
          0.22688482761306694,
          0.22805536984399297,
          0.2590401024018494,
          0.3099987958183471,
          0.3113234437101946,
          0.3410516147501768,
          0.35787088037942416,
          0.3827097209075191,
          0.40376142885282296,
          0.4275546925334964,
          0.4439148436173104,
          0.46180946744895923,
          0.4624114727591695,
          0.49180747245477724,
          0.4921681887174151,
          0.49258901676949035,
          0.5133634997151081
         ],
         "xaxis": "x17",
         "y": [
          -0.03124658135830099,
          0.016153059810029957,
          0.024012605272715565,
          0.05790448197077976,
          0.11668022565040757,
          0.16929577181584413,
          0.21874787893214442,
          0.2394902991628971,
          0.29012232082185585,
          0.3206971823708506,
          0.3661364780906169,
          0.400755911070767,
          0.537426676969509,
          0.6620233990736458,
          0.6714645582243436,
          0.8527035073111663,
          0.8672352869210911,
          0.8869328600151958,
          0.9617399842917761,
          0.9641458831766488,
          1.0115455243449798
         ],
         "yaxis": "y17",
         "z": [
          [
           null,
           null,
           null,
           null,
           null,
           null,
           null,
           null,
           null,
           null,
           null,
           null,
           null,
           null,
           null,
           null,
           null,
           null,
           null,
           null,
           null
          ],
          [
           null,
           null,
           null,
           null,
           null,
           null,
           null,
           null,
           null,
           null,
           null,
           null,
           3.856505311800362,
           null,
           null,
           null,
           null,
           null,
           null,
           null,
           null
          ],
          [
           null,
           null,
           null,
           null,
           null,
           null,
           null,
           null,
           null,
           null,
           4.379691923500656,
           null,
           null,
           null,
           null,
           null,
           null,
           null,
           null,
           null,
           null
          ],
          [
           null,
           null,
           null,
           null,
           null,
           null,
           null,
           null,
           null,
           null,
           null,
           null,
           null,
           null,
           null,
           1.723743264000504,
           null,
           null,
           null,
           null,
           null
          ],
          [
           null,
           null,
           null,
           null,
           null,
           null,
           null,
           null,
           null,
           null,
           null,
           null,
           null,
           null,
           null,
           null,
           null,
           2.4943710653546836,
           null,
           null,
           null
          ],
          [
           null,
           null,
           null,
           null,
           null,
           null,
           1.782205800572997,
           null,
           null,
           null,
           null,
           null,
           null,
           null,
           null,
           null,
           null,
           null,
           null,
           null,
           null
          ],
          [
           null,
           null,
           null,
           null,
           null,
           null,
           null,
           null,
           null,
           null,
           null,
           null,
           null,
           null,
           null,
           null,
           null,
           null,
           1.8388784463677683,
           null,
           null
          ],
          [
           null,
           null,
           null,
           null,
           null,
           null,
           null,
           null,
           null,
           null,
           null,
           null,
           null,
           null,
           null,
           null,
           null,
           null,
           null,
           1.660719525956095,
           null
          ],
          [
           null,
           null,
           null,
           null,
           null,
           null,
           null,
           null,
           null,
           null,
           null,
           null,
           null,
           null,
           null,
           null,
           1.7537621026978083,
           null,
           null,
           null,
           null
          ],
          [
           null,
           null,
           null,
           null,
           null,
           null,
           null,
           null,
           5.6375453623835305,
           null,
           null,
           null,
           null,
           null,
           null,
           null,
           null,
           null,
           null,
           null,
           null
          ],
          [
           null,
           7.541810282292155,
           null,
           null,
           null,
           null,
           null,
           null,
           null,
           null,
           null,
           null,
           null,
           null,
           null,
           null,
           null,
           null,
           null,
           null,
           null
          ],
          [
           null,
           null,
           null,
           null,
           null,
           null,
           null,
           null,
           null,
           null,
           null,
           null,
           null,
           null,
           3.68036318934623,
           null,
           null,
           null,
           null,
           null,
           null
          ],
          [
           null,
           null,
           null,
           null,
           null,
           null,
           null,
           6.510347181705045,
           null,
           null,
           null,
           null,
           null,
           null,
           null,
           null,
           null,
           null,
           null,
           null,
           null
          ],
          [
           null,
           null,
           null,
           null,
           null,
           null,
           null,
           null,
           null,
           null,
           null,
           4.0391112721416205,
           null,
           null,
           null,
           null,
           null,
           null,
           null,
           null,
           null
          ],
          [
           null,
           null,
           null,
           null,
           null,
           13.755329523727807,
           null,
           null,
           null,
           null,
           null,
           null,
           null,
           null,
           null,
           null,
           null,
           null,
           null,
           null,
           null
          ],
          [
           null,
           null,
           null,
           null,
           7.206012513743943,
           null,
           null,
           null,
           null,
           null,
           null,
           null,
           null,
           null,
           null,
           null,
           null,
           null,
           null,
           null,
           null
          ],
          [
           null,
           null,
           null,
           4.286364984404908,
           null,
           null,
           null,
           null,
           null,
           null,
           null,
           null,
           null,
           null,
           null,
           null,
           null,
           null,
           null,
           null,
           null
          ],
          [
           null,
           null,
           null,
           null,
           null,
           null,
           null,
           null,
           null,
           null,
           null,
           null,
           null,
           2.222044387475331,
           null,
           null,
           null,
           null,
           null,
           null,
           null
          ],
          [
           null,
           null,
           null,
           null,
           null,
           null,
           null,
           null,
           null,
           2.72621759199291,
           null,
           null,
           null,
           null,
           null,
           null,
           null,
           null,
           null,
           null,
           null
          ],
          [
           null,
           null,
           3.5489848419873335,
           null,
           null,
           null,
           null,
           null,
           null,
           null,
           null,
           null,
           null,
           null,
           null,
           null,
           null,
           null,
           null,
           null,
           null
          ],
          [
           null,
           null,
           null,
           null,
           null,
           null,
           null,
           null,
           null,
           null,
           null,
           null,
           null,
           null,
           null,
           null,
           null,
           null,
           null,
           null,
           null
          ]
         ]
        },
        {
         "marker": {
          "color": "black",
          "line": {
           "color": "Grey",
           "width": 0.5
          }
         },
         "mode": "markers",
         "showlegend": false,
         "type": "scatter",
         "x": [
          0.4439148436173104,
          0.13908699100675864,
          0.3827097209075191,
          0.4275546925334964,
          0.49180747245477724,
          0.3410516147501768,
          0.10647535234520714,
          0.22688482761306694,
          0.3099987958183471,
          0.07709935785713605,
          0.22805536984399297,
          0.46180946744895923,
          0.40376142885282296,
          0.4624114727591695,
          0.49258901676949035,
          0.4921681887174151,
          0.35787088037942416,
          0.2590401024018494,
          0.3113234437101946
         ],
         "xaxis": "x17",
         "y": [
          0.400755911070767,
          0.8672352869210911,
          0.6620233990736458,
          0.8869328600151958,
          0.11668022565040757,
          0.9617399842917761,
          0.9641458831766488,
          0.8527035073111663,
          0.537426676969509,
          0.3661364780906169,
          0.6714645582243436,
          0.05790448197077976,
          0.016153059810029957,
          0.29012232082185585,
          0.2394902991628971,
          0.21874787893214442,
          0.024012605272715565,
          0.16929577181584413,
          0.3206971823708506
         ],
         "yaxis": "y17"
        },
        {
         "colorbar": {
          "title": {
           "text": "Objective Value"
          }
         },
         "colorscale": [
          [
           0,
           "rgb(5,10,172)"
          ],
          [
           0.35,
           "rgb(40,60,190)"
          ],
          [
           0.5,
           "rgb(70,100,245)"
          ],
          [
           0.6,
           "rgb(90,120,245)"
          ],
          [
           0.7,
           "rgb(106,137,247)"
          ],
          [
           1,
           "rgb(220,220,220)"
          ]
         ],
         "connectgaps": true,
         "contours": {
          "coloring": "heatmap"
         },
         "hoverinfo": "none",
         "line": {
          "smoothing": 1.3
         },
         "reversescale": true,
         "showscale": false,
         "type": "contour",
         "x": [
          0.05632487491151833,
          0.07709935785713605,
          0.10647535234520714,
          0.13908699100675864,
          0.22688482761306694,
          0.22805536984399297,
          0.2590401024018494,
          0.3099987958183471,
          0.3113234437101946,
          0.3410516147501768,
          0.35787088037942416,
          0.3827097209075191,
          0.40376142885282296,
          0.4275546925334964,
          0.4439148436173104,
          0.46180946744895923,
          0.4624114727591695,
          0.49180747245477724,
          0.4921681887174151,
          0.49258901676949035,
          0.5133634997151081
         ],
         "xaxis": "x22",
         "y": [
          0.6999999999999997,
          3,
          9,
          11,
          12,
          18,
          19,
          22,
          24,
          28,
          32,
          36,
          39,
          40,
          46,
          48,
          49,
          51.3
         ],
         "yaxis": "y22",
         "z": [
          [
           null,
           null,
           null,
           null,
           null,
           null,
           null,
           null,
           null,
           null,
           null,
           null,
           null,
           null,
           null,
           null,
           null,
           null,
           null,
           null,
           null
          ],
          [
           null,
           null,
           null,
           null,
           null,
           null,
           null,
           null,
           null,
           null,
           4.379691923500656,
           null,
           null,
           null,
           null,
           null,
           null,
           null,
           null,
           null,
           null
          ],
          [
           null,
           null,
           null,
           4.286364984404908,
           null,
           null,
           null,
           null,
           null,
           null,
           null,
           null,
           null,
           null,
           null,
           null,
           null,
           null,
           null,
           null,
           null
          ],
          [
           null,
           null,
           null,
           null,
           null,
           null,
           null,
           null,
           null,
           2.72621759199291,
           null,
           null,
           null,
           null,
           null,
           null,
           null,
           null,
           null,
           null,
           null
          ],
          [
           null,
           null,
           3.5489848419873335,
           null,
           null,
           null,
           null,
           null,
           null,
           null,
           null,
           null,
           null,
           null,
           null,
           null,
           null,
           null,
           null,
           null,
           null
          ],
          [
           null,
           null,
           null,
           null,
           null,
           null,
           1.782205800572997,
           null,
           null,
           null,
           null,
           null,
           null,
           null,
           null,
           null,
           null,
           null,
           null,
           null,
           null
          ],
          [
           null,
           null,
           null,
           null,
           null,
           null,
           null,
           null,
           null,
           null,
           null,
           null,
           null,
           null,
           null,
           null,
           null,
           null,
           1.8388784463677683,
           1.660719525956095,
           null
          ],
          [
           null,
           null,
           null,
           null,
           null,
           null,
           null,
           null,
           null,
           null,
           null,
           4.0391112721416205,
           null,
           null,
           null,
           null,
           null,
           null,
           null,
           null,
           null
          ],
          [
           null,
           null,
           null,
           null,
           null,
           null,
           null,
           null,
           null,
           null,
           null,
           null,
           null,
           null,
           null,
           null,
           1.7537621026978083,
           null,
           null,
           null,
           null
          ],
          [
           null,
           null,
           null,
           null,
           null,
           null,
           null,
           6.510347181705045,
           null,
           null,
           null,
           null,
           null,
           null,
           null,
           null,
           null,
           null,
           null,
           null,
           null
          ],
          [
           null,
           7.541810282292155,
           null,
           null,
           null,
           null,
           null,
           null,
           null,
           null,
           null,
           null,
           null,
           null,
           null,
           null,
           null,
           null,
           null,
           null,
           null
          ],
          [
           null,
           null,
           null,
           null,
           null,
           13.755329523727807,
           null,
           null,
           null,
           null,
           null,
           null,
           null,
           2.222044387475331,
           null,
           null,
           null,
           null,
           null,
           null,
           null
          ],
          [
           null,
           null,
           null,
           null,
           null,
           null,
           null,
           null,
           null,
           null,
           null,
           null,
           null,
           null,
           null,
           1.723743264000504,
           null,
           null,
           null,
           null,
           null
          ],
          [
           null,
           null,
           null,
           null,
           null,
           null,
           null,
           null,
           5.6375453623835305,
           null,
           null,
           null,
           3.856505311800362,
           null,
           null,
           null,
           null,
           null,
           null,
           null,
           null
          ],
          [
           null,
           null,
           null,
           null,
           7.206012513743943,
           null,
           null,
           null,
           null,
           null,
           null,
           null,
           null,
           null,
           null,
           null,
           null,
           null,
           null,
           null,
           null
          ],
          [
           null,
           null,
           null,
           null,
           null,
           null,
           null,
           null,
           null,
           null,
           null,
           null,
           null,
           null,
           3.68036318934623,
           null,
           null,
           null,
           null,
           null,
           null
          ],
          [
           null,
           null,
           null,
           null,
           null,
           null,
           null,
           null,
           null,
           null,
           null,
           null,
           null,
           null,
           null,
           null,
           null,
           2.4943710653546836,
           null,
           null,
           null
          ],
          [
           null,
           null,
           null,
           null,
           null,
           null,
           null,
           null,
           null,
           null,
           null,
           null,
           null,
           null,
           null,
           null,
           null,
           null,
           null,
           null,
           null
          ]
         ]
        },
        {
         "marker": {
          "color": "black",
          "line": {
           "color": "Grey",
           "width": 0.5
          }
         },
         "mode": "markers",
         "showlegend": false,
         "type": "scatter",
         "x": [
          0.4439148436173104,
          0.13908699100675864,
          0.3827097209075191,
          0.4275546925334964,
          0.49180747245477724,
          0.3410516147501768,
          0.10647535234520714,
          0.22688482761306694,
          0.3099987958183471,
          0.07709935785713605,
          0.22805536984399297,
          0.46180946744895923,
          0.40376142885282296,
          0.4624114727591695,
          0.49258901676949035,
          0.4921681887174151,
          0.35787088037942416,
          0.2590401024018494,
          0.3113234437101946
         ],
         "xaxis": "x22",
         "y": [
          48,
          9,
          22,
          36,
          49,
          11,
          12,
          46,
          28,
          32,
          36,
          39,
          40,
          24,
          19,
          19,
          3,
          18,
          40
         ],
         "yaxis": "y22"
        },
        {
         "colorbar": {
          "title": {
           "text": "Objective Value"
          }
         },
         "colorscale": [
          [
           0,
           "rgb(5,10,172)"
          ],
          [
           0.35,
           "rgb(40,60,190)"
          ],
          [
           0.5,
           "rgb(70,100,245)"
          ],
          [
           0.6,
           "rgb(90,120,245)"
          ],
          [
           0.7,
           "rgb(106,137,247)"
          ],
          [
           1,
           "rgb(220,220,220)"
          ]
         ],
         "connectgaps": true,
         "contours": {
          "coloring": "heatmap"
         },
         "hoverinfo": "none",
         "line": {
          "smoothing": 1.3
         },
         "reversescale": true,
         "showscale": false,
         "type": "contour",
         "x": [
          435.2,
          512,
          1024,
          2048,
          2124.8
         ],
         "xaxis": "x3",
         "y": [
          1.75,
          2,
          3,
          4,
          5,
          6,
          7,
          7.25
         ],
         "yaxis": "y3",
         "z": [
          [
           null,
           null,
           null,
           null,
           null
          ],
          [
           null,
           4.379691923500656,
           null,
           3.5489848419873335,
           null
          ],
          [
           null,
           5.6375453623835305,
           3.856505311800362,
           null,
           null
          ],
          [
           null,
           1.782205800572997,
           4.286364984404908,
           null,
           null
          ],
          [
           null,
           2.4943710653546836,
           7.541810282292155,
           6.510347181705045,
           null
          ],
          [
           null,
           3.68036318934623,
           null,
           2.72621759199291,
           null
          ],
          [
           null,
           7.206012513743943,
           2.222044387475331,
           4.0391112721416205,
           null
          ],
          [
           null,
           null,
           null,
           null,
           null
          ]
         ]
        },
        {
         "marker": {
          "color": "black",
          "line": {
           "color": "Grey",
           "width": 0.5
          }
         },
         "mode": "markers",
         "showlegend": false,
         "type": "scatter",
         "x": [
          512,
          1024,
          2048,
          1024,
          512,
          2048,
          2048,
          512,
          2048,
          1024,
          1024,
          512,
          1024,
          512,
          512,
          512,
          512,
          512,
          512
         ],
         "xaxis": "x3",
         "y": [
          6,
          4,
          7,
          7,
          5,
          6,
          2,
          7,
          5,
          5,
          3,
          4,
          3,
          4,
          4,
          3,
          2,
          4,
          3
         ],
         "yaxis": "y3"
        },
        {
         "colorbar": {
          "title": {
           "text": "Objective Value"
          }
         },
         "colorscale": [
          [
           0,
           "rgb(5,10,172)"
          ],
          [
           0.35,
           "rgb(40,60,190)"
          ],
          [
           0.5,
           "rgb(70,100,245)"
          ],
          [
           0.6,
           "rgb(90,120,245)"
          ],
          [
           0.7,
           "rgb(106,137,247)"
          ],
          [
           1,
           "rgb(220,220,220)"
          ]
         ],
         "connectgaps": true,
         "contours": {
          "coloring": "heatmap"
         },
         "hoverinfo": "none",
         "line": {
          "smoothing": 1.3
         },
         "reversescale": true,
         "showscale": false,
         "type": "contour",
         "x": [
          435.2,
          512,
          1024,
          2048,
          2124.8
         ],
         "xaxis": "x8",
         "y": [
          0.05632487491151833,
          0.07709935785713605,
          0.10647535234520714,
          0.13908699100675864,
          0.22688482761306694,
          0.22805536984399297,
          0.2590401024018494,
          0.3099987958183471,
          0.3113234437101946,
          0.3410516147501768,
          0.35787088037942416,
          0.3827097209075191,
          0.40376142885282296,
          0.4275546925334964,
          0.4439148436173104,
          0.46180946744895923,
          0.4624114727591695,
          0.49180747245477724,
          0.4921681887174151,
          0.49258901676949035,
          0.5133634997151081
         ],
         "yaxis": "y8",
         "z": [
          [
           null,
           null,
           null,
           null,
           null
          ],
          [
           null,
           null,
           7.541810282292155,
           null,
           null
          ],
          [
           null,
           null,
           null,
           3.5489848419873335,
           null
          ],
          [
           null,
           null,
           4.286364984404908,
           null,
           null
          ],
          [
           null,
           7.206012513743943,
           null,
           null,
           null
          ],
          [
           null,
           null,
           13.755329523727807,
           null,
           null
          ],
          [
           null,
           1.782205800572997,
           null,
           null,
           null
          ],
          [
           null,
           null,
           null,
           6.510347181705045,
           null
          ],
          [
           null,
           5.6375453623835305,
           null,
           null,
           null
          ],
          [
           null,
           null,
           null,
           2.72621759199291,
           null
          ],
          [
           null,
           4.379691923500656,
           null,
           null,
           null
          ],
          [
           null,
           null,
           null,
           4.0391112721416205,
           null
          ],
          [
           null,
           null,
           3.856505311800362,
           null,
           null
          ],
          [
           null,
           null,
           2.222044387475331,
           null,
           null
          ],
          [
           null,
           3.68036318934623,
           null,
           null,
           null
          ],
          [
           null,
           1.723743264000504,
           null,
           null,
           null
          ],
          [
           null,
           1.7537621026978083,
           null,
           null,
           null
          ],
          [
           null,
           2.4943710653546836,
           null,
           null,
           null
          ],
          [
           null,
           1.8388784463677683,
           null,
           null,
           null
          ],
          [
           null,
           1.660719525956095,
           null,
           null,
           null
          ],
          [
           null,
           null,
           null,
           null,
           null
          ]
         ]
        },
        {
         "marker": {
          "color": "black",
          "line": {
           "color": "Grey",
           "width": 0.5
          }
         },
         "mode": "markers",
         "showlegend": false,
         "type": "scatter",
         "x": [
          512,
          1024,
          2048,
          1024,
          512,
          2048,
          2048,
          512,
          2048,
          1024,
          1024,
          512,
          1024,
          512,
          512,
          512,
          512,
          512,
          512
         ],
         "xaxis": "x8",
         "y": [
          0.4439148436173104,
          0.13908699100675864,
          0.3827097209075191,
          0.4275546925334964,
          0.49180747245477724,
          0.3410516147501768,
          0.10647535234520714,
          0.22688482761306694,
          0.3099987958183471,
          0.07709935785713605,
          0.22805536984399297,
          0.46180946744895923,
          0.40376142885282296,
          0.4624114727591695,
          0.49258901676949035,
          0.4921681887174151,
          0.35787088037942416,
          0.2590401024018494,
          0.3113234437101946
         ],
         "yaxis": "y8"
        },
        {
         "type": "scatter",
         "xaxis": "x13",
         "yaxis": "y13"
        },
        {
         "colorbar": {
          "title": {
           "text": "Objective Value"
          }
         },
         "colorscale": [
          [
           0,
           "rgb(5,10,172)"
          ],
          [
           0.35,
           "rgb(40,60,190)"
          ],
          [
           0.5,
           "rgb(70,100,245)"
          ],
          [
           0.6,
           "rgb(90,120,245)"
          ],
          [
           0.7,
           "rgb(106,137,247)"
          ],
          [
           1,
           "rgb(220,220,220)"
          ]
         ],
         "connectgaps": true,
         "contours": {
          "coloring": "heatmap"
         },
         "hoverinfo": "none",
         "line": {
          "smoothing": 1.3
         },
         "reversescale": true,
         "showscale": false,
         "type": "contour",
         "x": [
          435.2,
          512,
          1024,
          2048,
          2124.8
         ],
         "xaxis": "x18",
         "y": [
          -0.03124658135830099,
          0.016153059810029957,
          0.024012605272715565,
          0.05790448197077976,
          0.11668022565040757,
          0.16929577181584413,
          0.21874787893214442,
          0.2394902991628971,
          0.29012232082185585,
          0.3206971823708506,
          0.3661364780906169,
          0.400755911070767,
          0.537426676969509,
          0.6620233990736458,
          0.6714645582243436,
          0.8527035073111663,
          0.8672352869210911,
          0.8869328600151958,
          0.9617399842917761,
          0.9641458831766488,
          1.0115455243449798
         ],
         "yaxis": "y18",
         "z": [
          [
           null,
           null,
           null,
           null,
           null
          ],
          [
           null,
           null,
           3.856505311800362,
           null,
           null
          ],
          [
           null,
           4.379691923500656,
           null,
           null,
           null
          ],
          [
           null,
           1.723743264000504,
           null,
           null,
           null
          ],
          [
           null,
           2.4943710653546836,
           null,
           null,
           null
          ],
          [
           null,
           1.782205800572997,
           null,
           null,
           null
          ],
          [
           null,
           1.8388784463677683,
           null,
           null,
           null
          ],
          [
           null,
           1.660719525956095,
           null,
           null,
           null
          ],
          [
           null,
           1.7537621026978083,
           null,
           null,
           null
          ],
          [
           null,
           5.6375453623835305,
           null,
           null,
           null
          ],
          [
           null,
           null,
           7.541810282292155,
           null,
           null
          ],
          [
           null,
           3.68036318934623,
           null,
           null,
           null
          ],
          [
           null,
           null,
           null,
           6.510347181705045,
           null
          ],
          [
           null,
           null,
           null,
           4.0391112721416205,
           null
          ],
          [
           null,
           null,
           13.755329523727807,
           null,
           null
          ],
          [
           null,
           7.206012513743943,
           null,
           null,
           null
          ],
          [
           null,
           null,
           4.286364984404908,
           null,
           null
          ],
          [
           null,
           null,
           2.222044387475331,
           null,
           null
          ],
          [
           null,
           null,
           null,
           2.72621759199291,
           null
          ],
          [
           null,
           null,
           null,
           3.5489848419873335,
           null
          ],
          [
           null,
           null,
           null,
           null,
           null
          ]
         ]
        },
        {
         "marker": {
          "color": "black",
          "line": {
           "color": "Grey",
           "width": 0.5
          }
         },
         "mode": "markers",
         "showlegend": false,
         "type": "scatter",
         "x": [
          512,
          1024,
          2048,
          1024,
          512,
          2048,
          2048,
          512,
          2048,
          1024,
          1024,
          512,
          1024,
          512,
          512,
          512,
          512,
          512,
          512
         ],
         "xaxis": "x18",
         "y": [
          0.400755911070767,
          0.8672352869210911,
          0.6620233990736458,
          0.8869328600151958,
          0.11668022565040757,
          0.9617399842917761,
          0.9641458831766488,
          0.8527035073111663,
          0.537426676969509,
          0.3661364780906169,
          0.6714645582243436,
          0.05790448197077976,
          0.016153059810029957,
          0.29012232082185585,
          0.2394902991628971,
          0.21874787893214442,
          0.024012605272715565,
          0.16929577181584413,
          0.3206971823708506
         ],
         "yaxis": "y18"
        },
        {
         "colorbar": {
          "title": {
           "text": "Objective Value"
          }
         },
         "colorscale": [
          [
           0,
           "rgb(5,10,172)"
          ],
          [
           0.35,
           "rgb(40,60,190)"
          ],
          [
           0.5,
           "rgb(70,100,245)"
          ],
          [
           0.6,
           "rgb(90,120,245)"
          ],
          [
           0.7,
           "rgb(106,137,247)"
          ],
          [
           1,
           "rgb(220,220,220)"
          ]
         ],
         "connectgaps": true,
         "contours": {
          "coloring": "heatmap"
         },
         "hoverinfo": "none",
         "line": {
          "smoothing": 1.3
         },
         "reversescale": true,
         "showscale": false,
         "type": "contour",
         "x": [
          435.2,
          512,
          1024,
          2048,
          2124.8
         ],
         "xaxis": "x23",
         "y": [
          0.6999999999999997,
          3,
          9,
          11,
          12,
          18,
          19,
          22,
          24,
          28,
          32,
          36,
          39,
          40,
          46,
          48,
          49,
          51.3
         ],
         "yaxis": "y23",
         "z": [
          [
           null,
           null,
           null,
           null,
           null
          ],
          [
           null,
           4.379691923500656,
           null,
           null,
           null
          ],
          [
           null,
           null,
           4.286364984404908,
           null,
           null
          ],
          [
           null,
           null,
           null,
           2.72621759199291,
           null
          ],
          [
           null,
           null,
           null,
           3.5489848419873335,
           null
          ],
          [
           null,
           1.782205800572997,
           null,
           null,
           null
          ],
          [
           null,
           1.8388784463677683,
           null,
           null,
           null
          ],
          [
           null,
           null,
           null,
           4.0391112721416205,
           null
          ],
          [
           null,
           1.7537621026978083,
           null,
           null,
           null
          ],
          [
           null,
           null,
           null,
           6.510347181705045,
           null
          ],
          [
           null,
           null,
           7.541810282292155,
           null,
           null
          ],
          [
           null,
           null,
           13.755329523727807,
           null,
           null
          ],
          [
           null,
           1.723743264000504,
           null,
           null,
           null
          ],
          [
           null,
           5.6375453623835305,
           3.856505311800362,
           null,
           null
          ],
          [
           null,
           7.206012513743943,
           null,
           null,
           null
          ],
          [
           null,
           3.68036318934623,
           null,
           null,
           null
          ],
          [
           null,
           2.4943710653546836,
           null,
           null,
           null
          ],
          [
           null,
           null,
           null,
           null,
           null
          ]
         ]
        },
        {
         "marker": {
          "color": "black",
          "line": {
           "color": "Grey",
           "width": 0.5
          }
         },
         "mode": "markers",
         "showlegend": false,
         "type": "scatter",
         "x": [
          512,
          1024,
          2048,
          1024,
          512,
          2048,
          2048,
          512,
          2048,
          1024,
          1024,
          512,
          1024,
          512,
          512,
          512,
          512,
          512,
          512
         ],
         "xaxis": "x23",
         "y": [
          48,
          9,
          22,
          36,
          49,
          11,
          12,
          46,
          28,
          32,
          36,
          39,
          40,
          24,
          19,
          19,
          3,
          18,
          40
         ],
         "yaxis": "y23"
        },
        {
         "colorbar": {
          "title": {
           "text": "Objective Value"
          }
         },
         "colorscale": [
          [
           0,
           "rgb(5,10,172)"
          ],
          [
           0.35,
           "rgb(40,60,190)"
          ],
          [
           0.5,
           "rgb(70,100,245)"
          ],
          [
           0.6,
           "rgb(90,120,245)"
          ],
          [
           0.7,
           "rgb(106,137,247)"
          ],
          [
           1,
           "rgb(220,220,220)"
          ]
         ],
         "connectgaps": true,
         "contours": {
          "coloring": "heatmap"
         },
         "hoverinfo": "none",
         "line": {
          "smoothing": 1.3
         },
         "reversescale": true,
         "showscale": false,
         "type": "contour",
         "x": [
          -0.03124658135830099,
          0.016153059810029957,
          0.024012605272715565,
          0.05790448197077976,
          0.11668022565040757,
          0.16929577181584413,
          0.21874787893214442,
          0.2394902991628971,
          0.29012232082185585,
          0.3206971823708506,
          0.3661364780906169,
          0.400755911070767,
          0.537426676969509,
          0.6620233990736458,
          0.6714645582243436,
          0.8527035073111663,
          0.8672352869210911,
          0.8869328600151958,
          0.9617399842917761,
          0.9641458831766488,
          1.0115455243449798
         ],
         "xaxis": "x4",
         "y": [
          1.75,
          2,
          3,
          4,
          5,
          6,
          7,
          7.25
         ],
         "yaxis": "y4",
         "z": [
          [
           null,
           null,
           null,
           null,
           null,
           null,
           null,
           null,
           null,
           null,
           null,
           null,
           null,
           null,
           null,
           null,
           null,
           null,
           null,
           null,
           null
          ],
          [
           null,
           null,
           4.379691923500656,
           null,
           null,
           null,
           null,
           null,
           null,
           null,
           null,
           null,
           null,
           null,
           null,
           null,
           null,
           null,
           null,
           3.5489848419873335,
           null
          ],
          [
           null,
           3.856505311800362,
           null,
           null,
           null,
           null,
           1.8388784463677683,
           null,
           null,
           5.6375453623835305,
           null,
           null,
           null,
           null,
           13.755329523727807,
           null,
           null,
           null,
           null,
           null,
           null
          ],
          [
           null,
           null,
           null,
           1.723743264000504,
           null,
           1.782205800572997,
           null,
           1.660719525956095,
           1.7537621026978083,
           null,
           null,
           null,
           null,
           null,
           null,
           null,
           4.286364984404908,
           null,
           null,
           null,
           null
          ],
          [
           null,
           null,
           null,
           null,
           2.4943710653546836,
           null,
           null,
           null,
           null,
           null,
           7.541810282292155,
           null,
           6.510347181705045,
           null,
           null,
           null,
           null,
           null,
           null,
           null,
           null
          ],
          [
           null,
           null,
           null,
           null,
           null,
           null,
           null,
           null,
           null,
           null,
           null,
           3.68036318934623,
           null,
           null,
           null,
           null,
           null,
           null,
           2.72621759199291,
           null,
           null
          ],
          [
           null,
           null,
           null,
           null,
           null,
           null,
           null,
           null,
           null,
           null,
           null,
           null,
           null,
           4.0391112721416205,
           null,
           7.206012513743943,
           null,
           2.222044387475331,
           null,
           null,
           null
          ],
          [
           null,
           null,
           null,
           null,
           null,
           null,
           null,
           null,
           null,
           null,
           null,
           null,
           null,
           null,
           null,
           null,
           null,
           null,
           null,
           null,
           null
          ]
         ]
        },
        {
         "marker": {
          "color": "black",
          "line": {
           "color": "Grey",
           "width": 0.5
          }
         },
         "mode": "markers",
         "showlegend": false,
         "type": "scatter",
         "x": [
          0.400755911070767,
          0.8672352869210911,
          0.6620233990736458,
          0.8869328600151958,
          0.11668022565040757,
          0.9617399842917761,
          0.9641458831766488,
          0.8527035073111663,
          0.537426676969509,
          0.3661364780906169,
          0.6714645582243436,
          0.05790448197077976,
          0.016153059810029957,
          0.29012232082185585,
          0.2394902991628971,
          0.21874787893214442,
          0.024012605272715565,
          0.16929577181584413,
          0.3206971823708506
         ],
         "xaxis": "x4",
         "y": [
          6,
          4,
          7,
          7,
          5,
          6,
          2,
          7,
          5,
          5,
          3,
          4,
          3,
          4,
          4,
          3,
          2,
          4,
          3
         ],
         "yaxis": "y4"
        },
        {
         "colorbar": {
          "title": {
           "text": "Objective Value"
          }
         },
         "colorscale": [
          [
           0,
           "rgb(5,10,172)"
          ],
          [
           0.35,
           "rgb(40,60,190)"
          ],
          [
           0.5,
           "rgb(70,100,245)"
          ],
          [
           0.6,
           "rgb(90,120,245)"
          ],
          [
           0.7,
           "rgb(106,137,247)"
          ],
          [
           1,
           "rgb(220,220,220)"
          ]
         ],
         "connectgaps": true,
         "contours": {
          "coloring": "heatmap"
         },
         "hoverinfo": "none",
         "line": {
          "smoothing": 1.3
         },
         "reversescale": true,
         "showscale": false,
         "type": "contour",
         "x": [
          -0.03124658135830099,
          0.016153059810029957,
          0.024012605272715565,
          0.05790448197077976,
          0.11668022565040757,
          0.16929577181584413,
          0.21874787893214442,
          0.2394902991628971,
          0.29012232082185585,
          0.3206971823708506,
          0.3661364780906169,
          0.400755911070767,
          0.537426676969509,
          0.6620233990736458,
          0.6714645582243436,
          0.8527035073111663,
          0.8672352869210911,
          0.8869328600151958,
          0.9617399842917761,
          0.9641458831766488,
          1.0115455243449798
         ],
         "xaxis": "x9",
         "y": [
          0.05632487491151833,
          0.07709935785713605,
          0.10647535234520714,
          0.13908699100675864,
          0.22688482761306694,
          0.22805536984399297,
          0.2590401024018494,
          0.3099987958183471,
          0.3113234437101946,
          0.3410516147501768,
          0.35787088037942416,
          0.3827097209075191,
          0.40376142885282296,
          0.4275546925334964,
          0.4439148436173104,
          0.46180946744895923,
          0.4624114727591695,
          0.49180747245477724,
          0.4921681887174151,
          0.49258901676949035,
          0.5133634997151081
         ],
         "yaxis": "y9",
         "z": [
          [
           null,
           null,
           null,
           null,
           null,
           null,
           null,
           null,
           null,
           null,
           null,
           null,
           null,
           null,
           null,
           null,
           null,
           null,
           null,
           null,
           null
          ],
          [
           null,
           null,
           null,
           null,
           null,
           null,
           null,
           null,
           null,
           null,
           7.541810282292155,
           null,
           null,
           null,
           null,
           null,
           null,
           null,
           null,
           null,
           null
          ],
          [
           null,
           null,
           null,
           null,
           null,
           null,
           null,
           null,
           null,
           null,
           null,
           null,
           null,
           null,
           null,
           null,
           null,
           null,
           null,
           3.5489848419873335,
           null
          ],
          [
           null,
           null,
           null,
           null,
           null,
           null,
           null,
           null,
           null,
           null,
           null,
           null,
           null,
           null,
           null,
           null,
           4.286364984404908,
           null,
           null,
           null,
           null
          ],
          [
           null,
           null,
           null,
           null,
           null,
           null,
           null,
           null,
           null,
           null,
           null,
           null,
           null,
           null,
           null,
           7.206012513743943,
           null,
           null,
           null,
           null,
           null
          ],
          [
           null,
           null,
           null,
           null,
           null,
           null,
           null,
           null,
           null,
           null,
           null,
           null,
           null,
           null,
           13.755329523727807,
           null,
           null,
           null,
           null,
           null,
           null
          ],
          [
           null,
           null,
           null,
           null,
           null,
           1.782205800572997,
           null,
           null,
           null,
           null,
           null,
           null,
           null,
           null,
           null,
           null,
           null,
           null,
           null,
           null,
           null
          ],
          [
           null,
           null,
           null,
           null,
           null,
           null,
           null,
           null,
           null,
           null,
           null,
           null,
           6.510347181705045,
           null,
           null,
           null,
           null,
           null,
           null,
           null,
           null
          ],
          [
           null,
           null,
           null,
           null,
           null,
           null,
           null,
           null,
           null,
           5.6375453623835305,
           null,
           null,
           null,
           null,
           null,
           null,
           null,
           null,
           null,
           null,
           null
          ],
          [
           null,
           null,
           null,
           null,
           null,
           null,
           null,
           null,
           null,
           null,
           null,
           null,
           null,
           null,
           null,
           null,
           null,
           null,
           2.72621759199291,
           null,
           null
          ],
          [
           null,
           null,
           4.379691923500656,
           null,
           null,
           null,
           null,
           null,
           null,
           null,
           null,
           null,
           null,
           null,
           null,
           null,
           null,
           null,
           null,
           null,
           null
          ],
          [
           null,
           null,
           null,
           null,
           null,
           null,
           null,
           null,
           null,
           null,
           null,
           null,
           null,
           4.0391112721416205,
           null,
           null,
           null,
           null,
           null,
           null,
           null
          ],
          [
           null,
           3.856505311800362,
           null,
           null,
           null,
           null,
           null,
           null,
           null,
           null,
           null,
           null,
           null,
           null,
           null,
           null,
           null,
           null,
           null,
           null,
           null
          ],
          [
           null,
           null,
           null,
           null,
           null,
           null,
           null,
           null,
           null,
           null,
           null,
           null,
           null,
           null,
           null,
           null,
           null,
           2.222044387475331,
           null,
           null,
           null
          ],
          [
           null,
           null,
           null,
           null,
           null,
           null,
           null,
           null,
           null,
           null,
           null,
           3.68036318934623,
           null,
           null,
           null,
           null,
           null,
           null,
           null,
           null,
           null
          ],
          [
           null,
           null,
           null,
           1.723743264000504,
           null,
           null,
           null,
           null,
           null,
           null,
           null,
           null,
           null,
           null,
           null,
           null,
           null,
           null,
           null,
           null,
           null
          ],
          [
           null,
           null,
           null,
           null,
           null,
           null,
           null,
           null,
           1.7537621026978083,
           null,
           null,
           null,
           null,
           null,
           null,
           null,
           null,
           null,
           null,
           null,
           null
          ],
          [
           null,
           null,
           null,
           null,
           2.4943710653546836,
           null,
           null,
           null,
           null,
           null,
           null,
           null,
           null,
           null,
           null,
           null,
           null,
           null,
           null,
           null,
           null
          ],
          [
           null,
           null,
           null,
           null,
           null,
           null,
           1.8388784463677683,
           null,
           null,
           null,
           null,
           null,
           null,
           null,
           null,
           null,
           null,
           null,
           null,
           null,
           null
          ],
          [
           null,
           null,
           null,
           null,
           null,
           null,
           null,
           1.660719525956095,
           null,
           null,
           null,
           null,
           null,
           null,
           null,
           null,
           null,
           null,
           null,
           null,
           null
          ],
          [
           null,
           null,
           null,
           null,
           null,
           null,
           null,
           null,
           null,
           null,
           null,
           null,
           null,
           null,
           null,
           null,
           null,
           null,
           null,
           null,
           null
          ]
         ]
        },
        {
         "marker": {
          "color": "black",
          "line": {
           "color": "Grey",
           "width": 0.5
          }
         },
         "mode": "markers",
         "showlegend": false,
         "type": "scatter",
         "x": [
          0.400755911070767,
          0.8672352869210911,
          0.6620233990736458,
          0.8869328600151958,
          0.11668022565040757,
          0.9617399842917761,
          0.9641458831766488,
          0.8527035073111663,
          0.537426676969509,
          0.3661364780906169,
          0.6714645582243436,
          0.05790448197077976,
          0.016153059810029957,
          0.29012232082185585,
          0.2394902991628971,
          0.21874787893214442,
          0.024012605272715565,
          0.16929577181584413,
          0.3206971823708506
         ],
         "xaxis": "x9",
         "y": [
          0.4439148436173104,
          0.13908699100675864,
          0.3827097209075191,
          0.4275546925334964,
          0.49180747245477724,
          0.3410516147501768,
          0.10647535234520714,
          0.22688482761306694,
          0.3099987958183471,
          0.07709935785713605,
          0.22805536984399297,
          0.46180946744895923,
          0.40376142885282296,
          0.4624114727591695,
          0.49258901676949035,
          0.4921681887174151,
          0.35787088037942416,
          0.2590401024018494,
          0.3113234437101946
         ],
         "yaxis": "y9"
        },
        {
         "colorbar": {
          "title": {
           "text": "Objective Value"
          }
         },
         "colorscale": [
          [
           0,
           "rgb(5,10,172)"
          ],
          [
           0.35,
           "rgb(40,60,190)"
          ],
          [
           0.5,
           "rgb(70,100,245)"
          ],
          [
           0.6,
           "rgb(90,120,245)"
          ],
          [
           0.7,
           "rgb(106,137,247)"
          ],
          [
           1,
           "rgb(220,220,220)"
          ]
         ],
         "connectgaps": true,
         "contours": {
          "coloring": "heatmap"
         },
         "hoverinfo": "none",
         "line": {
          "smoothing": 1.3
         },
         "reversescale": true,
         "showscale": false,
         "type": "contour",
         "x": [
          -0.03124658135830099,
          0.016153059810029957,
          0.024012605272715565,
          0.05790448197077976,
          0.11668022565040757,
          0.16929577181584413,
          0.21874787893214442,
          0.2394902991628971,
          0.29012232082185585,
          0.3206971823708506,
          0.3661364780906169,
          0.400755911070767,
          0.537426676969509,
          0.6620233990736458,
          0.6714645582243436,
          0.8527035073111663,
          0.8672352869210911,
          0.8869328600151958,
          0.9617399842917761,
          0.9641458831766488,
          1.0115455243449798
         ],
         "xaxis": "x14",
         "y": [
          435.2,
          512,
          1024,
          2048,
          2124.8
         ],
         "yaxis": "y14",
         "z": [
          [
           null,
           null,
           null,
           null,
           null,
           null,
           null,
           null,
           null,
           null,
           null,
           null,
           null,
           null,
           null,
           null,
           null,
           null,
           null,
           null,
           null
          ],
          [
           null,
           null,
           4.379691923500656,
           1.723743264000504,
           2.4943710653546836,
           1.782205800572997,
           1.8388784463677683,
           1.660719525956095,
           1.7537621026978083,
           5.6375453623835305,
           null,
           3.68036318934623,
           null,
           null,
           null,
           7.206012513743943,
           null,
           null,
           null,
           null,
           null
          ],
          [
           null,
           3.856505311800362,
           null,
           null,
           null,
           null,
           null,
           null,
           null,
           null,
           7.541810282292155,
           null,
           null,
           null,
           13.755329523727807,
           null,
           4.286364984404908,
           2.222044387475331,
           null,
           null,
           null
          ],
          [
           null,
           null,
           null,
           null,
           null,
           null,
           null,
           null,
           null,
           null,
           null,
           null,
           6.510347181705045,
           4.0391112721416205,
           null,
           null,
           null,
           null,
           2.72621759199291,
           3.5489848419873335,
           null
          ],
          [
           null,
           null,
           null,
           null,
           null,
           null,
           null,
           null,
           null,
           null,
           null,
           null,
           null,
           null,
           null,
           null,
           null,
           null,
           null,
           null,
           null
          ]
         ]
        },
        {
         "marker": {
          "color": "black",
          "line": {
           "color": "Grey",
           "width": 0.5
          }
         },
         "mode": "markers",
         "showlegend": false,
         "type": "scatter",
         "x": [
          0.400755911070767,
          0.8672352869210911,
          0.6620233990736458,
          0.8869328600151958,
          0.11668022565040757,
          0.9617399842917761,
          0.9641458831766488,
          0.8527035073111663,
          0.537426676969509,
          0.3661364780906169,
          0.6714645582243436,
          0.05790448197077976,
          0.016153059810029957,
          0.29012232082185585,
          0.2394902991628971,
          0.21874787893214442,
          0.024012605272715565,
          0.16929577181584413,
          0.3206971823708506
         ],
         "xaxis": "x14",
         "y": [
          512,
          1024,
          2048,
          1024,
          512,
          2048,
          2048,
          512,
          2048,
          1024,
          1024,
          512,
          1024,
          512,
          512,
          512,
          512,
          512,
          512
         ],
         "yaxis": "y14"
        },
        {
         "type": "scatter",
         "xaxis": "x19",
         "yaxis": "y19"
        },
        {
         "colorbar": {
          "title": {
           "text": "Objective Value"
          }
         },
         "colorscale": [
          [
           0,
           "rgb(5,10,172)"
          ],
          [
           0.35,
           "rgb(40,60,190)"
          ],
          [
           0.5,
           "rgb(70,100,245)"
          ],
          [
           0.6,
           "rgb(90,120,245)"
          ],
          [
           0.7,
           "rgb(106,137,247)"
          ],
          [
           1,
           "rgb(220,220,220)"
          ]
         ],
         "connectgaps": true,
         "contours": {
          "coloring": "heatmap"
         },
         "hoverinfo": "none",
         "line": {
          "smoothing": 1.3
         },
         "reversescale": true,
         "showscale": false,
         "type": "contour",
         "x": [
          -0.03124658135830099,
          0.016153059810029957,
          0.024012605272715565,
          0.05790448197077976,
          0.11668022565040757,
          0.16929577181584413,
          0.21874787893214442,
          0.2394902991628971,
          0.29012232082185585,
          0.3206971823708506,
          0.3661364780906169,
          0.400755911070767,
          0.537426676969509,
          0.6620233990736458,
          0.6714645582243436,
          0.8527035073111663,
          0.8672352869210911,
          0.8869328600151958,
          0.9617399842917761,
          0.9641458831766488,
          1.0115455243449798
         ],
         "xaxis": "x24",
         "y": [
          0.6999999999999997,
          3,
          9,
          11,
          12,
          18,
          19,
          22,
          24,
          28,
          32,
          36,
          39,
          40,
          46,
          48,
          49,
          51.3
         ],
         "yaxis": "y24",
         "z": [
          [
           null,
           null,
           null,
           null,
           null,
           null,
           null,
           null,
           null,
           null,
           null,
           null,
           null,
           null,
           null,
           null,
           null,
           null,
           null,
           null,
           null
          ],
          [
           null,
           null,
           4.379691923500656,
           null,
           null,
           null,
           null,
           null,
           null,
           null,
           null,
           null,
           null,
           null,
           null,
           null,
           null,
           null,
           null,
           null,
           null
          ],
          [
           null,
           null,
           null,
           null,
           null,
           null,
           null,
           null,
           null,
           null,
           null,
           null,
           null,
           null,
           null,
           null,
           4.286364984404908,
           null,
           null,
           null,
           null
          ],
          [
           null,
           null,
           null,
           null,
           null,
           null,
           null,
           null,
           null,
           null,
           null,
           null,
           null,
           null,
           null,
           null,
           null,
           null,
           2.72621759199291,
           null,
           null
          ],
          [
           null,
           null,
           null,
           null,
           null,
           null,
           null,
           null,
           null,
           null,
           null,
           null,
           null,
           null,
           null,
           null,
           null,
           null,
           null,
           3.5489848419873335,
           null
          ],
          [
           null,
           null,
           null,
           null,
           null,
           1.782205800572997,
           null,
           null,
           null,
           null,
           null,
           null,
           null,
           null,
           null,
           null,
           null,
           null,
           null,
           null,
           null
          ],
          [
           null,
           null,
           null,
           null,
           null,
           null,
           1.8388784463677683,
           1.660719525956095,
           null,
           null,
           null,
           null,
           null,
           null,
           null,
           null,
           null,
           null,
           null,
           null,
           null
          ],
          [
           null,
           null,
           null,
           null,
           null,
           null,
           null,
           null,
           null,
           null,
           null,
           null,
           null,
           4.0391112721416205,
           null,
           null,
           null,
           null,
           null,
           null,
           null
          ],
          [
           null,
           null,
           null,
           null,
           null,
           null,
           null,
           null,
           1.7537621026978083,
           null,
           null,
           null,
           null,
           null,
           null,
           null,
           null,
           null,
           null,
           null,
           null
          ],
          [
           null,
           null,
           null,
           null,
           null,
           null,
           null,
           null,
           null,
           null,
           null,
           null,
           6.510347181705045,
           null,
           null,
           null,
           null,
           null,
           null,
           null,
           null
          ],
          [
           null,
           null,
           null,
           null,
           null,
           null,
           null,
           null,
           null,
           null,
           7.541810282292155,
           null,
           null,
           null,
           null,
           null,
           null,
           null,
           null,
           null,
           null
          ],
          [
           null,
           null,
           null,
           null,
           null,
           null,
           null,
           null,
           null,
           null,
           null,
           null,
           null,
           null,
           13.755329523727807,
           null,
           null,
           2.222044387475331,
           null,
           null,
           null
          ],
          [
           null,
           null,
           null,
           1.723743264000504,
           null,
           null,
           null,
           null,
           null,
           null,
           null,
           null,
           null,
           null,
           null,
           null,
           null,
           null,
           null,
           null,
           null
          ],
          [
           null,
           3.856505311800362,
           null,
           null,
           null,
           null,
           null,
           null,
           null,
           5.6375453623835305,
           null,
           null,
           null,
           null,
           null,
           null,
           null,
           null,
           null,
           null,
           null
          ],
          [
           null,
           null,
           null,
           null,
           null,
           null,
           null,
           null,
           null,
           null,
           null,
           null,
           null,
           null,
           null,
           7.206012513743943,
           null,
           null,
           null,
           null,
           null
          ],
          [
           null,
           null,
           null,
           null,
           null,
           null,
           null,
           null,
           null,
           null,
           null,
           3.68036318934623,
           null,
           null,
           null,
           null,
           null,
           null,
           null,
           null,
           null
          ],
          [
           null,
           null,
           null,
           null,
           2.4943710653546836,
           null,
           null,
           null,
           null,
           null,
           null,
           null,
           null,
           null,
           null,
           null,
           null,
           null,
           null,
           null,
           null
          ],
          [
           null,
           null,
           null,
           null,
           null,
           null,
           null,
           null,
           null,
           null,
           null,
           null,
           null,
           null,
           null,
           null,
           null,
           null,
           null,
           null,
           null
          ]
         ]
        },
        {
         "marker": {
          "color": "black",
          "line": {
           "color": "Grey",
           "width": 0.5
          }
         },
         "mode": "markers",
         "showlegend": false,
         "type": "scatter",
         "x": [
          0.400755911070767,
          0.8672352869210911,
          0.6620233990736458,
          0.8869328600151958,
          0.11668022565040757,
          0.9617399842917761,
          0.9641458831766488,
          0.8527035073111663,
          0.537426676969509,
          0.3661364780906169,
          0.6714645582243436,
          0.05790448197077976,
          0.016153059810029957,
          0.29012232082185585,
          0.2394902991628971,
          0.21874787893214442,
          0.024012605272715565,
          0.16929577181584413,
          0.3206971823708506
         ],
         "xaxis": "x24",
         "y": [
          48,
          9,
          22,
          36,
          49,
          11,
          12,
          46,
          28,
          32,
          36,
          39,
          40,
          24,
          19,
          19,
          3,
          18,
          40
         ],
         "yaxis": "y24"
        },
        {
         "colorbar": {
          "title": {
           "text": "Objective Value"
          }
         },
         "colorscale": [
          [
           0,
           "rgb(5,10,172)"
          ],
          [
           0.35,
           "rgb(40,60,190)"
          ],
          [
           0.5,
           "rgb(70,100,245)"
          ],
          [
           0.6,
           "rgb(90,120,245)"
          ],
          [
           0.7,
           "rgb(106,137,247)"
          ],
          [
           1,
           "rgb(220,220,220)"
          ]
         ],
         "connectgaps": true,
         "contours": {
          "coloring": "heatmap"
         },
         "hoverinfo": "none",
         "line": {
          "smoothing": 1.3
         },
         "reversescale": true,
         "showscale": false,
         "type": "contour",
         "x": [
          0.6999999999999997,
          3,
          9,
          11,
          12,
          18,
          19,
          22,
          24,
          28,
          32,
          36,
          39,
          40,
          46,
          48,
          49,
          51.3
         ],
         "xaxis": "x5",
         "y": [
          1.75,
          2,
          3,
          4,
          5,
          6,
          7,
          7.25
         ],
         "yaxis": "y5",
         "z": [
          [
           null,
           null,
           null,
           null,
           null,
           null,
           null,
           null,
           null,
           null,
           null,
           null,
           null,
           null,
           null,
           null,
           null,
           null
          ],
          [
           null,
           4.379691923500656,
           null,
           null,
           3.5489848419873335,
           null,
           null,
           null,
           null,
           null,
           null,
           null,
           null,
           null,
           null,
           null,
           null,
           null
          ],
          [
           null,
           null,
           null,
           null,
           null,
           null,
           1.8388784463677683,
           null,
           null,
           null,
           null,
           13.755329523727807,
           null,
           5.6375453623835305,
           null,
           null,
           null,
           null
          ],
          [
           null,
           null,
           4.286364984404908,
           null,
           null,
           1.782205800572997,
           1.660719525956095,
           null,
           1.7537621026978083,
           null,
           null,
           null,
           1.723743264000504,
           null,
           null,
           null,
           null,
           null
          ],
          [
           null,
           null,
           null,
           null,
           null,
           null,
           null,
           null,
           null,
           6.510347181705045,
           7.541810282292155,
           null,
           null,
           null,
           null,
           null,
           2.4943710653546836,
           null
          ],
          [
           null,
           null,
           null,
           2.72621759199291,
           null,
           null,
           null,
           null,
           null,
           null,
           null,
           null,
           null,
           null,
           null,
           3.68036318934623,
           null,
           null
          ],
          [
           null,
           null,
           null,
           null,
           null,
           null,
           null,
           4.0391112721416205,
           null,
           null,
           null,
           2.222044387475331,
           null,
           null,
           7.206012513743943,
           null,
           null,
           null
          ],
          [
           null,
           null,
           null,
           null,
           null,
           null,
           null,
           null,
           null,
           null,
           null,
           null,
           null,
           null,
           null,
           null,
           null,
           null
          ]
         ]
        },
        {
         "marker": {
          "color": "black",
          "line": {
           "color": "Grey",
           "width": 0.5
          }
         },
         "mode": "markers",
         "showlegend": false,
         "type": "scatter",
         "x": [
          48,
          9,
          22,
          36,
          49,
          11,
          12,
          46,
          28,
          32,
          36,
          39,
          40,
          24,
          19,
          19,
          3,
          18,
          40
         ],
         "xaxis": "x5",
         "y": [
          6,
          4,
          7,
          7,
          5,
          6,
          2,
          7,
          5,
          5,
          3,
          4,
          3,
          4,
          4,
          3,
          2,
          4,
          3
         ],
         "yaxis": "y5"
        },
        {
         "colorbar": {
          "title": {
           "text": "Objective Value"
          }
         },
         "colorscale": [
          [
           0,
           "rgb(5,10,172)"
          ],
          [
           0.35,
           "rgb(40,60,190)"
          ],
          [
           0.5,
           "rgb(70,100,245)"
          ],
          [
           0.6,
           "rgb(90,120,245)"
          ],
          [
           0.7,
           "rgb(106,137,247)"
          ],
          [
           1,
           "rgb(220,220,220)"
          ]
         ],
         "connectgaps": true,
         "contours": {
          "coloring": "heatmap"
         },
         "hoverinfo": "none",
         "line": {
          "smoothing": 1.3
         },
         "reversescale": true,
         "showscale": false,
         "type": "contour",
         "x": [
          0.6999999999999997,
          3,
          9,
          11,
          12,
          18,
          19,
          22,
          24,
          28,
          32,
          36,
          39,
          40,
          46,
          48,
          49,
          51.3
         ],
         "xaxis": "x10",
         "y": [
          0.05632487491151833,
          0.07709935785713605,
          0.10647535234520714,
          0.13908699100675864,
          0.22688482761306694,
          0.22805536984399297,
          0.2590401024018494,
          0.3099987958183471,
          0.3113234437101946,
          0.3410516147501768,
          0.35787088037942416,
          0.3827097209075191,
          0.40376142885282296,
          0.4275546925334964,
          0.4439148436173104,
          0.46180946744895923,
          0.4624114727591695,
          0.49180747245477724,
          0.4921681887174151,
          0.49258901676949035,
          0.5133634997151081
         ],
         "yaxis": "y10",
         "z": [
          [
           null,
           null,
           null,
           null,
           null,
           null,
           null,
           null,
           null,
           null,
           null,
           null,
           null,
           null,
           null,
           null,
           null,
           null
          ],
          [
           null,
           null,
           null,
           null,
           null,
           null,
           null,
           null,
           null,
           null,
           7.541810282292155,
           null,
           null,
           null,
           null,
           null,
           null,
           null
          ],
          [
           null,
           null,
           null,
           null,
           3.5489848419873335,
           null,
           null,
           null,
           null,
           null,
           null,
           null,
           null,
           null,
           null,
           null,
           null,
           null
          ],
          [
           null,
           null,
           4.286364984404908,
           null,
           null,
           null,
           null,
           null,
           null,
           null,
           null,
           null,
           null,
           null,
           null,
           null,
           null,
           null
          ],
          [
           null,
           null,
           null,
           null,
           null,
           null,
           null,
           null,
           null,
           null,
           null,
           null,
           null,
           null,
           7.206012513743943,
           null,
           null,
           null
          ],
          [
           null,
           null,
           null,
           null,
           null,
           null,
           null,
           null,
           null,
           null,
           null,
           13.755329523727807,
           null,
           null,
           null,
           null,
           null,
           null
          ],
          [
           null,
           null,
           null,
           null,
           null,
           1.782205800572997,
           null,
           null,
           null,
           null,
           null,
           null,
           null,
           null,
           null,
           null,
           null,
           null
          ],
          [
           null,
           null,
           null,
           null,
           null,
           null,
           null,
           null,
           null,
           6.510347181705045,
           null,
           null,
           null,
           null,
           null,
           null,
           null,
           null
          ],
          [
           null,
           null,
           null,
           null,
           null,
           null,
           null,
           null,
           null,
           null,
           null,
           null,
           null,
           5.6375453623835305,
           null,
           null,
           null,
           null
          ],
          [
           null,
           null,
           null,
           2.72621759199291,
           null,
           null,
           null,
           null,
           null,
           null,
           null,
           null,
           null,
           null,
           null,
           null,
           null,
           null
          ],
          [
           null,
           4.379691923500656,
           null,
           null,
           null,
           null,
           null,
           null,
           null,
           null,
           null,
           null,
           null,
           null,
           null,
           null,
           null,
           null
          ],
          [
           null,
           null,
           null,
           null,
           null,
           null,
           null,
           4.0391112721416205,
           null,
           null,
           null,
           null,
           null,
           null,
           null,
           null,
           null,
           null
          ],
          [
           null,
           null,
           null,
           null,
           null,
           null,
           null,
           null,
           null,
           null,
           null,
           null,
           null,
           3.856505311800362,
           null,
           null,
           null,
           null
          ],
          [
           null,
           null,
           null,
           null,
           null,
           null,
           null,
           null,
           null,
           null,
           null,
           2.222044387475331,
           null,
           null,
           null,
           null,
           null,
           null
          ],
          [
           null,
           null,
           null,
           null,
           null,
           null,
           null,
           null,
           null,
           null,
           null,
           null,
           null,
           null,
           null,
           3.68036318934623,
           null,
           null
          ],
          [
           null,
           null,
           null,
           null,
           null,
           null,
           null,
           null,
           null,
           null,
           null,
           null,
           1.723743264000504,
           null,
           null,
           null,
           null,
           null
          ],
          [
           null,
           null,
           null,
           null,
           null,
           null,
           null,
           null,
           1.7537621026978083,
           null,
           null,
           null,
           null,
           null,
           null,
           null,
           null,
           null
          ],
          [
           null,
           null,
           null,
           null,
           null,
           null,
           null,
           null,
           null,
           null,
           null,
           null,
           null,
           null,
           null,
           null,
           2.4943710653546836,
           null
          ],
          [
           null,
           null,
           null,
           null,
           null,
           null,
           1.8388784463677683,
           null,
           null,
           null,
           null,
           null,
           null,
           null,
           null,
           null,
           null,
           null
          ],
          [
           null,
           null,
           null,
           null,
           null,
           null,
           1.660719525956095,
           null,
           null,
           null,
           null,
           null,
           null,
           null,
           null,
           null,
           null,
           null
          ],
          [
           null,
           null,
           null,
           null,
           null,
           null,
           null,
           null,
           null,
           null,
           null,
           null,
           null,
           null,
           null,
           null,
           null,
           null
          ]
         ]
        },
        {
         "marker": {
          "color": "black",
          "line": {
           "color": "Grey",
           "width": 0.5
          }
         },
         "mode": "markers",
         "showlegend": false,
         "type": "scatter",
         "x": [
          48,
          9,
          22,
          36,
          49,
          11,
          12,
          46,
          28,
          32,
          36,
          39,
          40,
          24,
          19,
          19,
          3,
          18,
          40
         ],
         "xaxis": "x10",
         "y": [
          0.4439148436173104,
          0.13908699100675864,
          0.3827097209075191,
          0.4275546925334964,
          0.49180747245477724,
          0.3410516147501768,
          0.10647535234520714,
          0.22688482761306694,
          0.3099987958183471,
          0.07709935785713605,
          0.22805536984399297,
          0.46180946744895923,
          0.40376142885282296,
          0.4624114727591695,
          0.49258901676949035,
          0.4921681887174151,
          0.35787088037942416,
          0.2590401024018494,
          0.3113234437101946
         ],
         "yaxis": "y10"
        },
        {
         "colorbar": {
          "title": {
           "text": "Objective Value"
          }
         },
         "colorscale": [
          [
           0,
           "rgb(5,10,172)"
          ],
          [
           0.35,
           "rgb(40,60,190)"
          ],
          [
           0.5,
           "rgb(70,100,245)"
          ],
          [
           0.6,
           "rgb(90,120,245)"
          ],
          [
           0.7,
           "rgb(106,137,247)"
          ],
          [
           1,
           "rgb(220,220,220)"
          ]
         ],
         "connectgaps": true,
         "contours": {
          "coloring": "heatmap"
         },
         "hoverinfo": "none",
         "line": {
          "smoothing": 1.3
         },
         "reversescale": true,
         "showscale": false,
         "type": "contour",
         "x": [
          0.6999999999999997,
          3,
          9,
          11,
          12,
          18,
          19,
          22,
          24,
          28,
          32,
          36,
          39,
          40,
          46,
          48,
          49,
          51.3
         ],
         "xaxis": "x15",
         "y": [
          435.2,
          512,
          1024,
          2048,
          2124.8
         ],
         "yaxis": "y15",
         "z": [
          [
           null,
           null,
           null,
           null,
           null,
           null,
           null,
           null,
           null,
           null,
           null,
           null,
           null,
           null,
           null,
           null,
           null,
           null
          ],
          [
           null,
           4.379691923500656,
           null,
           null,
           null,
           1.782205800572997,
           1.8388784463677683,
           null,
           1.7537621026978083,
           null,
           null,
           null,
           1.723743264000504,
           5.6375453623835305,
           7.206012513743943,
           3.68036318934623,
           2.4943710653546836,
           null
          ],
          [
           null,
           null,
           4.286364984404908,
           null,
           null,
           null,
           null,
           null,
           null,
           null,
           7.541810282292155,
           13.755329523727807,
           null,
           3.856505311800362,
           null,
           null,
           null,
           null
          ],
          [
           null,
           null,
           null,
           2.72621759199291,
           3.5489848419873335,
           null,
           null,
           4.0391112721416205,
           null,
           6.510347181705045,
           null,
           null,
           null,
           null,
           null,
           null,
           null,
           null
          ],
          [
           null,
           null,
           null,
           null,
           null,
           null,
           null,
           null,
           null,
           null,
           null,
           null,
           null,
           null,
           null,
           null,
           null,
           null
          ]
         ]
        },
        {
         "marker": {
          "color": "black",
          "line": {
           "color": "Grey",
           "width": 0.5
          }
         },
         "mode": "markers",
         "showlegend": false,
         "type": "scatter",
         "x": [
          48,
          9,
          22,
          36,
          49,
          11,
          12,
          46,
          28,
          32,
          36,
          39,
          40,
          24,
          19,
          19,
          3,
          18,
          40
         ],
         "xaxis": "x15",
         "y": [
          512,
          1024,
          2048,
          1024,
          512,
          2048,
          2048,
          512,
          2048,
          1024,
          1024,
          512,
          1024,
          512,
          512,
          512,
          512,
          512,
          512
         ],
         "yaxis": "y15"
        },
        {
         "colorbar": {
          "title": {
           "text": "Objective Value"
          }
         },
         "colorscale": [
          [
           0,
           "rgb(5,10,172)"
          ],
          [
           0.35,
           "rgb(40,60,190)"
          ],
          [
           0.5,
           "rgb(70,100,245)"
          ],
          [
           0.6,
           "rgb(90,120,245)"
          ],
          [
           0.7,
           "rgb(106,137,247)"
          ],
          [
           1,
           "rgb(220,220,220)"
          ]
         ],
         "connectgaps": true,
         "contours": {
          "coloring": "heatmap"
         },
         "hoverinfo": "none",
         "line": {
          "smoothing": 1.3
         },
         "reversescale": true,
         "showscale": false,
         "type": "contour",
         "x": [
          0.6999999999999997,
          3,
          9,
          11,
          12,
          18,
          19,
          22,
          24,
          28,
          32,
          36,
          39,
          40,
          46,
          48,
          49,
          51.3
         ],
         "xaxis": "x20",
         "y": [
          -0.03124658135830099,
          0.016153059810029957,
          0.024012605272715565,
          0.05790448197077976,
          0.11668022565040757,
          0.16929577181584413,
          0.21874787893214442,
          0.2394902991628971,
          0.29012232082185585,
          0.3206971823708506,
          0.3661364780906169,
          0.400755911070767,
          0.537426676969509,
          0.6620233990736458,
          0.6714645582243436,
          0.8527035073111663,
          0.8672352869210911,
          0.8869328600151958,
          0.9617399842917761,
          0.9641458831766488,
          1.0115455243449798
         ],
         "yaxis": "y20",
         "z": [
          [
           null,
           null,
           null,
           null,
           null,
           null,
           null,
           null,
           null,
           null,
           null,
           null,
           null,
           null,
           null,
           null,
           null,
           null
          ],
          [
           null,
           null,
           null,
           null,
           null,
           null,
           null,
           null,
           null,
           null,
           null,
           null,
           null,
           3.856505311800362,
           null,
           null,
           null,
           null
          ],
          [
           null,
           4.379691923500656,
           null,
           null,
           null,
           null,
           null,
           null,
           null,
           null,
           null,
           null,
           null,
           null,
           null,
           null,
           null,
           null
          ],
          [
           null,
           null,
           null,
           null,
           null,
           null,
           null,
           null,
           null,
           null,
           null,
           null,
           1.723743264000504,
           null,
           null,
           null,
           null,
           null
          ],
          [
           null,
           null,
           null,
           null,
           null,
           null,
           null,
           null,
           null,
           null,
           null,
           null,
           null,
           null,
           null,
           null,
           2.4943710653546836,
           null
          ],
          [
           null,
           null,
           null,
           null,
           null,
           1.782205800572997,
           null,
           null,
           null,
           null,
           null,
           null,
           null,
           null,
           null,
           null,
           null,
           null
          ],
          [
           null,
           null,
           null,
           null,
           null,
           null,
           1.8388784463677683,
           null,
           null,
           null,
           null,
           null,
           null,
           null,
           null,
           null,
           null,
           null
          ],
          [
           null,
           null,
           null,
           null,
           null,
           null,
           1.660719525956095,
           null,
           null,
           null,
           null,
           null,
           null,
           null,
           null,
           null,
           null,
           null
          ],
          [
           null,
           null,
           null,
           null,
           null,
           null,
           null,
           null,
           1.7537621026978083,
           null,
           null,
           null,
           null,
           null,
           null,
           null,
           null,
           null
          ],
          [
           null,
           null,
           null,
           null,
           null,
           null,
           null,
           null,
           null,
           null,
           null,
           null,
           null,
           5.6375453623835305,
           null,
           null,
           null,
           null
          ],
          [
           null,
           null,
           null,
           null,
           null,
           null,
           null,
           null,
           null,
           null,
           7.541810282292155,
           null,
           null,
           null,
           null,
           null,
           null,
           null
          ],
          [
           null,
           null,
           null,
           null,
           null,
           null,
           null,
           null,
           null,
           null,
           null,
           null,
           null,
           null,
           null,
           3.68036318934623,
           null,
           null
          ],
          [
           null,
           null,
           null,
           null,
           null,
           null,
           null,
           null,
           null,
           6.510347181705045,
           null,
           null,
           null,
           null,
           null,
           null,
           null,
           null
          ],
          [
           null,
           null,
           null,
           null,
           null,
           null,
           null,
           4.0391112721416205,
           null,
           null,
           null,
           null,
           null,
           null,
           null,
           null,
           null,
           null
          ],
          [
           null,
           null,
           null,
           null,
           null,
           null,
           null,
           null,
           null,
           null,
           null,
           13.755329523727807,
           null,
           null,
           null,
           null,
           null,
           null
          ],
          [
           null,
           null,
           null,
           null,
           null,
           null,
           null,
           null,
           null,
           null,
           null,
           null,
           null,
           null,
           7.206012513743943,
           null,
           null,
           null
          ],
          [
           null,
           null,
           4.286364984404908,
           null,
           null,
           null,
           null,
           null,
           null,
           null,
           null,
           null,
           null,
           null,
           null,
           null,
           null,
           null
          ],
          [
           null,
           null,
           null,
           null,
           null,
           null,
           null,
           null,
           null,
           null,
           null,
           2.222044387475331,
           null,
           null,
           null,
           null,
           null,
           null
          ],
          [
           null,
           null,
           null,
           2.72621759199291,
           null,
           null,
           null,
           null,
           null,
           null,
           null,
           null,
           null,
           null,
           null,
           null,
           null,
           null
          ],
          [
           null,
           null,
           null,
           null,
           3.5489848419873335,
           null,
           null,
           null,
           null,
           null,
           null,
           null,
           null,
           null,
           null,
           null,
           null,
           null
          ],
          [
           null,
           null,
           null,
           null,
           null,
           null,
           null,
           null,
           null,
           null,
           null,
           null,
           null,
           null,
           null,
           null,
           null,
           null
          ]
         ]
        },
        {
         "marker": {
          "color": "black",
          "line": {
           "color": "Grey",
           "width": 0.5
          }
         },
         "mode": "markers",
         "showlegend": false,
         "type": "scatter",
         "x": [
          48,
          9,
          22,
          36,
          49,
          11,
          12,
          46,
          28,
          32,
          36,
          39,
          40,
          24,
          19,
          19,
          3,
          18,
          40
         ],
         "xaxis": "x20",
         "y": [
          0.400755911070767,
          0.8672352869210911,
          0.6620233990736458,
          0.8869328600151958,
          0.11668022565040757,
          0.9617399842917761,
          0.9641458831766488,
          0.8527035073111663,
          0.537426676969509,
          0.3661364780906169,
          0.6714645582243436,
          0.05790448197077976,
          0.016153059810029957,
          0.29012232082185585,
          0.2394902991628971,
          0.21874787893214442,
          0.024012605272715565,
          0.16929577181584413,
          0.3206971823708506
         ],
         "yaxis": "y20"
        },
        {
         "type": "scatter",
         "xaxis": "x25",
         "yaxis": "y25"
        }
       ],
       "layout": {
        "template": {
         "data": {
          "bar": [
           {
            "error_x": {
             "color": "#2a3f5f"
            },
            "error_y": {
             "color": "#2a3f5f"
            },
            "marker": {
             "line": {
              "color": "#E5ECF6",
              "width": 0.5
             },
             "pattern": {
              "fillmode": "overlay",
              "size": 10,
              "solidity": 0.2
             }
            },
            "type": "bar"
           }
          ],
          "barpolar": [
           {
            "marker": {
             "line": {
              "color": "#E5ECF6",
              "width": 0.5
             },
             "pattern": {
              "fillmode": "overlay",
              "size": 10,
              "solidity": 0.2
             }
            },
            "type": "barpolar"
           }
          ],
          "carpet": [
           {
            "aaxis": {
             "endlinecolor": "#2a3f5f",
             "gridcolor": "white",
             "linecolor": "white",
             "minorgridcolor": "white",
             "startlinecolor": "#2a3f5f"
            },
            "baxis": {
             "endlinecolor": "#2a3f5f",
             "gridcolor": "white",
             "linecolor": "white",
             "minorgridcolor": "white",
             "startlinecolor": "#2a3f5f"
            },
            "type": "carpet"
           }
          ],
          "choropleth": [
           {
            "colorbar": {
             "outlinewidth": 0,
             "ticks": ""
            },
            "type": "choropleth"
           }
          ],
          "contour": [
           {
            "colorbar": {
             "outlinewidth": 0,
             "ticks": ""
            },
            "colorscale": [
             [
              0,
              "#0d0887"
             ],
             [
              0.1111111111111111,
              "#46039f"
             ],
             [
              0.2222222222222222,
              "#7201a8"
             ],
             [
              0.3333333333333333,
              "#9c179e"
             ],
             [
              0.4444444444444444,
              "#bd3786"
             ],
             [
              0.5555555555555556,
              "#d8576b"
             ],
             [
              0.6666666666666666,
              "#ed7953"
             ],
             [
              0.7777777777777778,
              "#fb9f3a"
             ],
             [
              0.8888888888888888,
              "#fdca26"
             ],
             [
              1,
              "#f0f921"
             ]
            ],
            "type": "contour"
           }
          ],
          "contourcarpet": [
           {
            "colorbar": {
             "outlinewidth": 0,
             "ticks": ""
            },
            "type": "contourcarpet"
           }
          ],
          "heatmap": [
           {
            "colorbar": {
             "outlinewidth": 0,
             "ticks": ""
            },
            "colorscale": [
             [
              0,
              "#0d0887"
             ],
             [
              0.1111111111111111,
              "#46039f"
             ],
             [
              0.2222222222222222,
              "#7201a8"
             ],
             [
              0.3333333333333333,
              "#9c179e"
             ],
             [
              0.4444444444444444,
              "#bd3786"
             ],
             [
              0.5555555555555556,
              "#d8576b"
             ],
             [
              0.6666666666666666,
              "#ed7953"
             ],
             [
              0.7777777777777778,
              "#fb9f3a"
             ],
             [
              0.8888888888888888,
              "#fdca26"
             ],
             [
              1,
              "#f0f921"
             ]
            ],
            "type": "heatmap"
           }
          ],
          "heatmapgl": [
           {
            "colorbar": {
             "outlinewidth": 0,
             "ticks": ""
            },
            "colorscale": [
             [
              0,
              "#0d0887"
             ],
             [
              0.1111111111111111,
              "#46039f"
             ],
             [
              0.2222222222222222,
              "#7201a8"
             ],
             [
              0.3333333333333333,
              "#9c179e"
             ],
             [
              0.4444444444444444,
              "#bd3786"
             ],
             [
              0.5555555555555556,
              "#d8576b"
             ],
             [
              0.6666666666666666,
              "#ed7953"
             ],
             [
              0.7777777777777778,
              "#fb9f3a"
             ],
             [
              0.8888888888888888,
              "#fdca26"
             ],
             [
              1,
              "#f0f921"
             ]
            ],
            "type": "heatmapgl"
           }
          ],
          "histogram": [
           {
            "marker": {
             "pattern": {
              "fillmode": "overlay",
              "size": 10,
              "solidity": 0.2
             }
            },
            "type": "histogram"
           }
          ],
          "histogram2d": [
           {
            "colorbar": {
             "outlinewidth": 0,
             "ticks": ""
            },
            "colorscale": [
             [
              0,
              "#0d0887"
             ],
             [
              0.1111111111111111,
              "#46039f"
             ],
             [
              0.2222222222222222,
              "#7201a8"
             ],
             [
              0.3333333333333333,
              "#9c179e"
             ],
             [
              0.4444444444444444,
              "#bd3786"
             ],
             [
              0.5555555555555556,
              "#d8576b"
             ],
             [
              0.6666666666666666,
              "#ed7953"
             ],
             [
              0.7777777777777778,
              "#fb9f3a"
             ],
             [
              0.8888888888888888,
              "#fdca26"
             ],
             [
              1,
              "#f0f921"
             ]
            ],
            "type": "histogram2d"
           }
          ],
          "histogram2dcontour": [
           {
            "colorbar": {
             "outlinewidth": 0,
             "ticks": ""
            },
            "colorscale": [
             [
              0,
              "#0d0887"
             ],
             [
              0.1111111111111111,
              "#46039f"
             ],
             [
              0.2222222222222222,
              "#7201a8"
             ],
             [
              0.3333333333333333,
              "#9c179e"
             ],
             [
              0.4444444444444444,
              "#bd3786"
             ],
             [
              0.5555555555555556,
              "#d8576b"
             ],
             [
              0.6666666666666666,
              "#ed7953"
             ],
             [
              0.7777777777777778,
              "#fb9f3a"
             ],
             [
              0.8888888888888888,
              "#fdca26"
             ],
             [
              1,
              "#f0f921"
             ]
            ],
            "type": "histogram2dcontour"
           }
          ],
          "mesh3d": [
           {
            "colorbar": {
             "outlinewidth": 0,
             "ticks": ""
            },
            "type": "mesh3d"
           }
          ],
          "parcoords": [
           {
            "line": {
             "colorbar": {
              "outlinewidth": 0,
              "ticks": ""
             }
            },
            "type": "parcoords"
           }
          ],
          "pie": [
           {
            "automargin": true,
            "type": "pie"
           }
          ],
          "scatter": [
           {
            "marker": {
             "colorbar": {
              "outlinewidth": 0,
              "ticks": ""
             }
            },
            "type": "scatter"
           }
          ],
          "scatter3d": [
           {
            "line": {
             "colorbar": {
              "outlinewidth": 0,
              "ticks": ""
             }
            },
            "marker": {
             "colorbar": {
              "outlinewidth": 0,
              "ticks": ""
             }
            },
            "type": "scatter3d"
           }
          ],
          "scattercarpet": [
           {
            "marker": {
             "colorbar": {
              "outlinewidth": 0,
              "ticks": ""
             }
            },
            "type": "scattercarpet"
           }
          ],
          "scattergeo": [
           {
            "marker": {
             "colorbar": {
              "outlinewidth": 0,
              "ticks": ""
             }
            },
            "type": "scattergeo"
           }
          ],
          "scattergl": [
           {
            "marker": {
             "colorbar": {
              "outlinewidth": 0,
              "ticks": ""
             }
            },
            "type": "scattergl"
           }
          ],
          "scattermapbox": [
           {
            "marker": {
             "colorbar": {
              "outlinewidth": 0,
              "ticks": ""
             }
            },
            "type": "scattermapbox"
           }
          ],
          "scatterpolar": [
           {
            "marker": {
             "colorbar": {
              "outlinewidth": 0,
              "ticks": ""
             }
            },
            "type": "scatterpolar"
           }
          ],
          "scatterpolargl": [
           {
            "marker": {
             "colorbar": {
              "outlinewidth": 0,
              "ticks": ""
             }
            },
            "type": "scatterpolargl"
           }
          ],
          "scatterternary": [
           {
            "marker": {
             "colorbar": {
              "outlinewidth": 0,
              "ticks": ""
             }
            },
            "type": "scatterternary"
           }
          ],
          "surface": [
           {
            "colorbar": {
             "outlinewidth": 0,
             "ticks": ""
            },
            "colorscale": [
             [
              0,
              "#0d0887"
             ],
             [
              0.1111111111111111,
              "#46039f"
             ],
             [
              0.2222222222222222,
              "#7201a8"
             ],
             [
              0.3333333333333333,
              "#9c179e"
             ],
             [
              0.4444444444444444,
              "#bd3786"
             ],
             [
              0.5555555555555556,
              "#d8576b"
             ],
             [
              0.6666666666666666,
              "#ed7953"
             ],
             [
              0.7777777777777778,
              "#fb9f3a"
             ],
             [
              0.8888888888888888,
              "#fdca26"
             ],
             [
              1,
              "#f0f921"
             ]
            ],
            "type": "surface"
           }
          ],
          "table": [
           {
            "cells": {
             "fill": {
              "color": "#EBF0F8"
             },
             "line": {
              "color": "white"
             }
            },
            "header": {
             "fill": {
              "color": "#C8D4E3"
             },
             "line": {
              "color": "white"
             }
            },
            "type": "table"
           }
          ]
         },
         "layout": {
          "annotationdefaults": {
           "arrowcolor": "#2a3f5f",
           "arrowhead": 0,
           "arrowwidth": 1
          },
          "autotypenumbers": "strict",
          "coloraxis": {
           "colorbar": {
            "outlinewidth": 0,
            "ticks": ""
           }
          },
          "colorscale": {
           "diverging": [
            [
             0,
             "#8e0152"
            ],
            [
             0.1,
             "#c51b7d"
            ],
            [
             0.2,
             "#de77ae"
            ],
            [
             0.3,
             "#f1b6da"
            ],
            [
             0.4,
             "#fde0ef"
            ],
            [
             0.5,
             "#f7f7f7"
            ],
            [
             0.6,
             "#e6f5d0"
            ],
            [
             0.7,
             "#b8e186"
            ],
            [
             0.8,
             "#7fbc41"
            ],
            [
             0.9,
             "#4d9221"
            ],
            [
             1,
             "#276419"
            ]
           ],
           "sequential": [
            [
             0,
             "#0d0887"
            ],
            [
             0.1111111111111111,
             "#46039f"
            ],
            [
             0.2222222222222222,
             "#7201a8"
            ],
            [
             0.3333333333333333,
             "#9c179e"
            ],
            [
             0.4444444444444444,
             "#bd3786"
            ],
            [
             0.5555555555555556,
             "#d8576b"
            ],
            [
             0.6666666666666666,
             "#ed7953"
            ],
            [
             0.7777777777777778,
             "#fb9f3a"
            ],
            [
             0.8888888888888888,
             "#fdca26"
            ],
            [
             1,
             "#f0f921"
            ]
           ],
           "sequentialminus": [
            [
             0,
             "#0d0887"
            ],
            [
             0.1111111111111111,
             "#46039f"
            ],
            [
             0.2222222222222222,
             "#7201a8"
            ],
            [
             0.3333333333333333,
             "#9c179e"
            ],
            [
             0.4444444444444444,
             "#bd3786"
            ],
            [
             0.5555555555555556,
             "#d8576b"
            ],
            [
             0.6666666666666666,
             "#ed7953"
            ],
            [
             0.7777777777777778,
             "#fb9f3a"
            ],
            [
             0.8888888888888888,
             "#fdca26"
            ],
            [
             1,
             "#f0f921"
            ]
           ]
          },
          "colorway": [
           "#636efa",
           "#EF553B",
           "#00cc96",
           "#ab63fa",
           "#FFA15A",
           "#19d3f3",
           "#FF6692",
           "#B6E880",
           "#FF97FF",
           "#FECB52"
          ],
          "font": {
           "color": "#2a3f5f"
          },
          "geo": {
           "bgcolor": "white",
           "lakecolor": "white",
           "landcolor": "#E5ECF6",
           "showlakes": true,
           "showland": true,
           "subunitcolor": "white"
          },
          "hoverlabel": {
           "align": "left"
          },
          "hovermode": "closest",
          "mapbox": {
           "style": "light"
          },
          "paper_bgcolor": "white",
          "plot_bgcolor": "#E5ECF6",
          "polar": {
           "angularaxis": {
            "gridcolor": "white",
            "linecolor": "white",
            "ticks": ""
           },
           "bgcolor": "#E5ECF6",
           "radialaxis": {
            "gridcolor": "white",
            "linecolor": "white",
            "ticks": ""
           }
          },
          "scene": {
           "xaxis": {
            "backgroundcolor": "#E5ECF6",
            "gridcolor": "white",
            "gridwidth": 2,
            "linecolor": "white",
            "showbackground": true,
            "ticks": "",
            "zerolinecolor": "white"
           },
           "yaxis": {
            "backgroundcolor": "#E5ECF6",
            "gridcolor": "white",
            "gridwidth": 2,
            "linecolor": "white",
            "showbackground": true,
            "ticks": "",
            "zerolinecolor": "white"
           },
           "zaxis": {
            "backgroundcolor": "#E5ECF6",
            "gridcolor": "white",
            "gridwidth": 2,
            "linecolor": "white",
            "showbackground": true,
            "ticks": "",
            "zerolinecolor": "white"
           }
          },
          "shapedefaults": {
           "line": {
            "color": "#2a3f5f"
           }
          },
          "ternary": {
           "aaxis": {
            "gridcolor": "white",
            "linecolor": "white",
            "ticks": ""
           },
           "baxis": {
            "gridcolor": "white",
            "linecolor": "white",
            "ticks": ""
           },
           "bgcolor": "#E5ECF6",
           "caxis": {
            "gridcolor": "white",
            "linecolor": "white",
            "ticks": ""
           }
          },
          "title": {
           "x": 0.05
          },
          "xaxis": {
           "automargin": true,
           "gridcolor": "white",
           "linecolor": "white",
           "ticks": "",
           "title": {
            "standoff": 15
           },
           "zerolinecolor": "white",
           "zerolinewidth": 2
          },
          "yaxis": {
           "automargin": true,
           "gridcolor": "white",
           "linecolor": "white",
           "ticks": "",
           "title": {
            "standoff": 15
           },
           "zerolinecolor": "white",
           "zerolinewidth": 2
          }
         }
        },
        "title": {
         "text": "Contour Plot"
        },
        "xaxis": {
         "anchor": "y",
         "domain": [
          0,
          0.16799999999999998
         ],
         "matches": "x21",
         "range": [
          1.75,
          7.25
         ],
         "showticklabels": false
        },
        "xaxis10": {
         "anchor": "y10",
         "domain": [
          0.832,
          1
         ],
         "matches": "x25",
         "range": [
          0.6999999999999997,
          51.3
         ],
         "showticklabels": false
        },
        "xaxis11": {
         "anchor": "y11",
         "domain": [
          0,
          0.16799999999999998
         ],
         "matches": "x21",
         "range": [
          1.75,
          7.25
         ],
         "showticklabels": false
        },
        "xaxis12": {
         "anchor": "y12",
         "domain": [
          0.208,
          0.376
         ],
         "matches": "x22",
         "range": [
          0.05632487491151833,
          0.5133634997151081
         ],
         "showticklabels": false
        },
        "xaxis13": {
         "anchor": "y13",
         "domain": [
          0.416,
          0.584
         ],
         "matches": "x23",
         "range": [
          435.2,
          2124.8
         ],
         "showticklabels": false
        },
        "xaxis14": {
         "anchor": "y14",
         "domain": [
          0.624,
          0.792
         ],
         "matches": "x24",
         "range": [
          -0.03124658135830099,
          1.0115455243449798
         ],
         "showticklabels": false
        },
        "xaxis15": {
         "anchor": "y15",
         "domain": [
          0.832,
          1
         ],
         "matches": "x25",
         "range": [
          0.6999999999999997,
          51.3
         ],
         "showticklabels": false
        },
        "xaxis16": {
         "anchor": "y16",
         "domain": [
          0,
          0.16799999999999998
         ],
         "matches": "x21",
         "range": [
          1.75,
          7.25
         ],
         "showticklabels": false
        },
        "xaxis17": {
         "anchor": "y17",
         "domain": [
          0.208,
          0.376
         ],
         "matches": "x22",
         "range": [
          0.05632487491151833,
          0.5133634997151081
         ],
         "showticklabels": false
        },
        "xaxis18": {
         "anchor": "y18",
         "domain": [
          0.416,
          0.584
         ],
         "matches": "x23",
         "range": [
          435.2,
          2124.8
         ],
         "showticklabels": false
        },
        "xaxis19": {
         "anchor": "y19",
         "domain": [
          0.624,
          0.792
         ],
         "matches": "x24",
         "range": [
          -0.03124658135830099,
          1.0115455243449798
         ],
         "showticklabels": false
        },
        "xaxis2": {
         "anchor": "y2",
         "domain": [
          0.208,
          0.376
         ],
         "matches": "x22",
         "range": [
          0.05632487491151833,
          0.5133634997151081
         ],
         "showticklabels": false
        },
        "xaxis20": {
         "anchor": "y20",
         "domain": [
          0.832,
          1
         ],
         "matches": "x25",
         "range": [
          0.6999999999999997,
          51.3
         ],
         "showticklabels": false
        },
        "xaxis21": {
         "anchor": "y21",
         "domain": [
          0,
          0.16799999999999998
         ],
         "range": [
          1.75,
          7.25
         ],
         "title": {
          "text": "blocks"
         }
        },
        "xaxis22": {
         "anchor": "y22",
         "domain": [
          0.208,
          0.376
         ],
         "range": [
          0.05632487491151833,
          0.5133634997151081
         ],
         "title": {
          "text": "dropout"
         }
        },
        "xaxis23": {
         "anchor": "y23",
         "domain": [
          0.416,
          0.584
         ],
         "range": [
          435.2,
          2124.8
         ],
         "title": {
          "text": "hidden_dim"
         }
        },
        "xaxis24": {
         "anchor": "y24",
         "domain": [
          0.624,
          0.792
         ],
         "range": [
          -0.03124658135830099,
          1.0115455243449798
         ],
         "title": {
          "text": "kl_target"
         }
        },
        "xaxis25": {
         "anchor": "y25",
         "domain": [
          0.832,
          1
         ],
         "range": [
          0.6999999999999997,
          51.3
         ],
         "title": {
          "text": "latent_dim"
         }
        },
        "xaxis3": {
         "anchor": "y3",
         "domain": [
          0.416,
          0.584
         ],
         "matches": "x23",
         "range": [
          435.2,
          2124.8
         ],
         "showticklabels": false
        },
        "xaxis4": {
         "anchor": "y4",
         "domain": [
          0.624,
          0.792
         ],
         "matches": "x24",
         "range": [
          -0.03124658135830099,
          1.0115455243449798
         ],
         "showticklabels": false
        },
        "xaxis5": {
         "anchor": "y5",
         "domain": [
          0.832,
          1
         ],
         "matches": "x25",
         "range": [
          0.6999999999999997,
          51.3
         ],
         "showticklabels": false
        },
        "xaxis6": {
         "anchor": "y6",
         "domain": [
          0,
          0.16799999999999998
         ],
         "matches": "x21",
         "range": [
          1.75,
          7.25
         ],
         "showticklabels": false
        },
        "xaxis7": {
         "anchor": "y7",
         "domain": [
          0.208,
          0.376
         ],
         "matches": "x22",
         "range": [
          0.05632487491151833,
          0.5133634997151081
         ],
         "showticklabels": false
        },
        "xaxis8": {
         "anchor": "y8",
         "domain": [
          0.416,
          0.584
         ],
         "matches": "x23",
         "range": [
          435.2,
          2124.8
         ],
         "showticklabels": false
        },
        "xaxis9": {
         "anchor": "y9",
         "domain": [
          0.624,
          0.792
         ],
         "matches": "x24",
         "range": [
          -0.03124658135830099,
          1.0115455243449798
         ],
         "showticklabels": false
        },
        "yaxis": {
         "anchor": "x",
         "domain": [
          0.848,
          1
         ],
         "range": [
          1.75,
          7.25
         ],
         "title": {
          "text": "blocks"
         }
        },
        "yaxis10": {
         "anchor": "x10",
         "domain": [
          0.6359999999999999,
          0.7879999999999999
         ],
         "matches": "y6",
         "range": [
          0.05632487491151833,
          0.5133634997151081
         ],
         "showticklabels": false
        },
        "yaxis11": {
         "anchor": "x11",
         "domain": [
          0.424,
          0.576
         ],
         "range": [
          435.2,
          2124.8
         ],
         "title": {
          "text": "hidden_dim"
         }
        },
        "yaxis12": {
         "anchor": "x12",
         "domain": [
          0.424,
          0.576
         ],
         "matches": "y11",
         "range": [
          435.2,
          2124.8
         ],
         "showticklabels": false
        },
        "yaxis13": {
         "anchor": "x13",
         "domain": [
          0.424,
          0.576
         ],
         "matches": "y11",
         "range": [
          435.2,
          2124.8
         ],
         "showticklabels": false
        },
        "yaxis14": {
         "anchor": "x14",
         "domain": [
          0.424,
          0.576
         ],
         "matches": "y11",
         "range": [
          435.2,
          2124.8
         ],
         "showticklabels": false
        },
        "yaxis15": {
         "anchor": "x15",
         "domain": [
          0.424,
          0.576
         ],
         "matches": "y11",
         "range": [
          435.2,
          2124.8
         ],
         "showticklabels": false
        },
        "yaxis16": {
         "anchor": "x16",
         "domain": [
          0.212,
          0.364
         ],
         "range": [
          -0.03124658135830099,
          1.0115455243449798
         ],
         "title": {
          "text": "kl_target"
         }
        },
        "yaxis17": {
         "anchor": "x17",
         "domain": [
          0.212,
          0.364
         ],
         "matches": "y16",
         "range": [
          -0.03124658135830099,
          1.0115455243449798
         ],
         "showticklabels": false
        },
        "yaxis18": {
         "anchor": "x18",
         "domain": [
          0.212,
          0.364
         ],
         "matches": "y16",
         "range": [
          -0.03124658135830099,
          1.0115455243449798
         ],
         "showticklabels": false
        },
        "yaxis19": {
         "anchor": "x19",
         "domain": [
          0.212,
          0.364
         ],
         "matches": "y16",
         "range": [
          -0.03124658135830099,
          1.0115455243449798
         ],
         "showticklabels": false
        },
        "yaxis2": {
         "anchor": "x2",
         "domain": [
          0.848,
          1
         ],
         "matches": "y",
         "range": [
          1.75,
          7.25
         ],
         "showticklabels": false
        },
        "yaxis20": {
         "anchor": "x20",
         "domain": [
          0.212,
          0.364
         ],
         "matches": "y16",
         "range": [
          -0.03124658135830099,
          1.0115455243449798
         ],
         "showticklabels": false
        },
        "yaxis21": {
         "anchor": "x21",
         "domain": [
          0,
          0.152
         ],
         "range": [
          0.6999999999999997,
          51.3
         ],
         "title": {
          "text": "latent_dim"
         }
        },
        "yaxis22": {
         "anchor": "x22",
         "domain": [
          0,
          0.152
         ],
         "matches": "y21",
         "range": [
          0.6999999999999997,
          51.3
         ],
         "showticklabels": false
        },
        "yaxis23": {
         "anchor": "x23",
         "domain": [
          0,
          0.152
         ],
         "matches": "y21",
         "range": [
          0.6999999999999997,
          51.3
         ],
         "showticklabels": false
        },
        "yaxis24": {
         "anchor": "x24",
         "domain": [
          0,
          0.152
         ],
         "matches": "y21",
         "range": [
          0.6999999999999997,
          51.3
         ],
         "showticklabels": false
        },
        "yaxis25": {
         "anchor": "x25",
         "domain": [
          0,
          0.152
         ],
         "matches": "y21",
         "range": [
          0.6999999999999997,
          51.3
         ],
         "showticklabels": false
        },
        "yaxis3": {
         "anchor": "x3",
         "domain": [
          0.848,
          1
         ],
         "matches": "y",
         "range": [
          1.75,
          7.25
         ],
         "showticklabels": false
        },
        "yaxis4": {
         "anchor": "x4",
         "domain": [
          0.848,
          1
         ],
         "matches": "y",
         "range": [
          1.75,
          7.25
         ],
         "showticklabels": false
        },
        "yaxis5": {
         "anchor": "x5",
         "domain": [
          0.848,
          1
         ],
         "matches": "y",
         "range": [
          1.75,
          7.25
         ],
         "showticklabels": false
        },
        "yaxis6": {
         "anchor": "x6",
         "domain": [
          0.6359999999999999,
          0.7879999999999999
         ],
         "range": [
          0.05632487491151833,
          0.5133634997151081
         ],
         "title": {
          "text": "dropout"
         }
        },
        "yaxis7": {
         "anchor": "x7",
         "domain": [
          0.6359999999999999,
          0.7879999999999999
         ],
         "matches": "y6",
         "range": [
          0.05632487491151833,
          0.5133634997151081
         ],
         "showticklabels": false
        },
        "yaxis8": {
         "anchor": "x8",
         "domain": [
          0.6359999999999999,
          0.7879999999999999
         ],
         "matches": "y6",
         "range": [
          0.05632487491151833,
          0.5133634997151081
         ],
         "showticklabels": false
        },
        "yaxis9": {
         "anchor": "x9",
         "domain": [
          0.6359999999999999,
          0.7879999999999999
         ],
         "matches": "y6",
         "range": [
          0.05632487491151833,
          0.5133634997151081
         ],
         "showticklabels": false
        }
       }
      },
      "text/html": [
       "<div>                            <div id=\"4ea0c9ea-a13b-4b3b-94ce-38e48da9bada\" class=\"plotly-graph-div\" style=\"height:525px; width:100%;\"></div>            <script type=\"text/javascript\">                require([\"plotly\"], function(Plotly) {                    window.PLOTLYENV=window.PLOTLYENV || {};                                    if (document.getElementById(\"4ea0c9ea-a13b-4b3b-94ce-38e48da9bada\")) {                    Plotly.newPlot(                        \"4ea0c9ea-a13b-4b3b-94ce-38e48da9bada\",                        [{\"type\":\"scatter\",\"xaxis\":\"x\",\"yaxis\":\"y\"},{\"colorbar\":{\"title\":{\"text\":\"Objective Value\"}},\"colorscale\":[[0,\"rgb(5,10,172)\"],[0.35,\"rgb(40,60,190)\"],[0.5,\"rgb(70,100,245)\"],[0.6,\"rgb(90,120,245)\"],[0.7,\"rgb(106,137,247)\"],[1,\"rgb(220,220,220)\"]],\"connectgaps\":true,\"contours\":{\"coloring\":\"heatmap\"},\"hoverinfo\":\"none\",\"line\":{\"smoothing\":1.3},\"reversescale\":true,\"showscale\":true,\"x\":[1.75,2,3,4,5,6,7,7.25],\"y\":[0.05632487491151833,0.07709935785713605,0.10647535234520714,0.13908699100675864,0.22688482761306694,0.22805536984399297,0.2590401024018494,0.3099987958183471,0.3113234437101946,0.3410516147501768,0.35787088037942416,0.3827097209075191,0.40376142885282296,0.4275546925334964,0.4439148436173104,0.46180946744895923,0.4624114727591695,0.49180747245477724,0.4921681887174151,0.49258901676949035,0.5133634997151081],\"z\":[[null,null,null,null,null,null,null,null],[null,null,null,null,7.541810282292155,null,null,null],[null,3.5489848419873335,null,null,null,null,null,null],[null,null,null,4.286364984404908,null,null,null,null],[null,null,null,null,null,null,7.206012513743943,null],[null,null,13.755329523727807,null,null,null,null,null],[null,null,null,1.782205800572997,null,null,null,null],[null,null,null,null,6.510347181705045,null,null,null],[null,null,5.6375453623835305,null,null,null,null,null],[null,null,null,null,null,2.72621759199291,null,null],[null,4.379691923500656,null,null,null,null,null,null],[null,null,null,null,null,null,4.0391112721416205,null],[null,null,3.856505311800362,null,null,null,null,null],[null,null,null,null,null,null,2.222044387475331,null],[null,null,null,null,null,3.68036318934623,null,null],[null,null,null,1.723743264000504,null,null,null,null],[null,null,null,1.7537621026978083,null,null,null,null],[null,null,null,null,2.4943710653546836,null,null,null],[null,null,1.8388784463677683,null,null,null,null,null],[null,null,null,1.660719525956095,null,null,null,null],[null,null,null,null,null,null,null,null]],\"type\":\"contour\",\"xaxis\":\"x6\",\"yaxis\":\"y6\"},{\"marker\":{\"color\":\"black\",\"line\":{\"color\":\"Grey\",\"width\":0.5}},\"mode\":\"markers\",\"showlegend\":false,\"x\":[6,4,7,7,5,6,2,7,5,5,3,4,3,4,4,3,2,4,3],\"y\":[0.4439148436173104,0.13908699100675864,0.3827097209075191,0.4275546925334964,0.49180747245477724,0.3410516147501768,0.10647535234520714,0.22688482761306694,0.3099987958183471,0.07709935785713605,0.22805536984399297,0.46180946744895923,0.40376142885282296,0.4624114727591695,0.49258901676949035,0.4921681887174151,0.35787088037942416,0.2590401024018494,0.3113234437101946],\"type\":\"scatter\",\"xaxis\":\"x6\",\"yaxis\":\"y6\"},{\"colorbar\":{\"title\":{\"text\":\"Objective Value\"}},\"colorscale\":[[0,\"rgb(5,10,172)\"],[0.35,\"rgb(40,60,190)\"],[0.5,\"rgb(70,100,245)\"],[0.6,\"rgb(90,120,245)\"],[0.7,\"rgb(106,137,247)\"],[1,\"rgb(220,220,220)\"]],\"connectgaps\":true,\"contours\":{\"coloring\":\"heatmap\"},\"hoverinfo\":\"none\",\"line\":{\"smoothing\":1.3},\"reversescale\":true,\"showscale\":false,\"x\":[1.75,2,3,4,5,6,7,7.25],\"y\":[435.2,512,1024,2048,2124.8],\"z\":[[null,null,null,null,null,null,null,null],[null,4.379691923500656,5.6375453623835305,1.782205800572997,2.4943710653546836,3.68036318934623,7.206012513743943,null],[null,null,3.856505311800362,4.286364984404908,7.541810282292155,null,2.222044387475331,null],[null,3.5489848419873335,null,null,6.510347181705045,2.72621759199291,4.0391112721416205,null],[null,null,null,null,null,null,null,null]],\"type\":\"contour\",\"xaxis\":\"x11\",\"yaxis\":\"y11\"},{\"marker\":{\"color\":\"black\",\"line\":{\"color\":\"Grey\",\"width\":0.5}},\"mode\":\"markers\",\"showlegend\":false,\"x\":[6,4,7,7,5,6,2,7,5,5,3,4,3,4,4,3,2,4,3],\"y\":[512,1024,2048,1024,512,2048,2048,512,2048,1024,1024,512,1024,512,512,512,512,512,512],\"type\":\"scatter\",\"xaxis\":\"x11\",\"yaxis\":\"y11\"},{\"colorbar\":{\"title\":{\"text\":\"Objective Value\"}},\"colorscale\":[[0,\"rgb(5,10,172)\"],[0.35,\"rgb(40,60,190)\"],[0.5,\"rgb(70,100,245)\"],[0.6,\"rgb(90,120,245)\"],[0.7,\"rgb(106,137,247)\"],[1,\"rgb(220,220,220)\"]],\"connectgaps\":true,\"contours\":{\"coloring\":\"heatmap\"},\"hoverinfo\":\"none\",\"line\":{\"smoothing\":1.3},\"reversescale\":true,\"showscale\":false,\"x\":[1.75,2,3,4,5,6,7,7.25],\"y\":[-0.03124658135830099,0.016153059810029957,0.024012605272715565,0.05790448197077976,0.11668022565040757,0.16929577181584413,0.21874787893214442,0.2394902991628971,0.29012232082185585,0.3206971823708506,0.3661364780906169,0.400755911070767,0.537426676969509,0.6620233990736458,0.6714645582243436,0.8527035073111663,0.8672352869210911,0.8869328600151958,0.9617399842917761,0.9641458831766488,1.0115455243449798],\"z\":[[null,null,null,null,null,null,null,null],[null,null,3.856505311800362,null,null,null,null,null],[null,4.379691923500656,null,null,null,null,null,null],[null,null,null,1.723743264000504,null,null,null,null],[null,null,null,null,2.4943710653546836,null,null,null],[null,null,null,1.782205800572997,null,null,null,null],[null,null,1.8388784463677683,null,null,null,null,null],[null,null,null,1.660719525956095,null,null,null,null],[null,null,null,1.7537621026978083,null,null,null,null],[null,null,5.6375453623835305,null,null,null,null,null],[null,null,null,null,7.541810282292155,null,null,null],[null,null,null,null,null,3.68036318934623,null,null],[null,null,null,null,6.510347181705045,null,null,null],[null,null,null,null,null,null,4.0391112721416205,null],[null,null,13.755329523727807,null,null,null,null,null],[null,null,null,null,null,null,7.206012513743943,null],[null,null,null,4.286364984404908,null,null,null,null],[null,null,null,null,null,null,2.222044387475331,null],[null,null,null,null,null,2.72621759199291,null,null],[null,3.5489848419873335,null,null,null,null,null,null],[null,null,null,null,null,null,null,null]],\"type\":\"contour\",\"xaxis\":\"x16\",\"yaxis\":\"y16\"},{\"marker\":{\"color\":\"black\",\"line\":{\"color\":\"Grey\",\"width\":0.5}},\"mode\":\"markers\",\"showlegend\":false,\"x\":[6,4,7,7,5,6,2,7,5,5,3,4,3,4,4,3,2,4,3],\"y\":[0.400755911070767,0.8672352869210911,0.6620233990736458,0.8869328600151958,0.11668022565040757,0.9617399842917761,0.9641458831766488,0.8527035073111663,0.537426676969509,0.3661364780906169,0.6714645582243436,0.05790448197077976,0.016153059810029957,0.29012232082185585,0.2394902991628971,0.21874787893214442,0.024012605272715565,0.16929577181584413,0.3206971823708506],\"type\":\"scatter\",\"xaxis\":\"x16\",\"yaxis\":\"y16\"},{\"colorbar\":{\"title\":{\"text\":\"Objective Value\"}},\"colorscale\":[[0,\"rgb(5,10,172)\"],[0.35,\"rgb(40,60,190)\"],[0.5,\"rgb(70,100,245)\"],[0.6,\"rgb(90,120,245)\"],[0.7,\"rgb(106,137,247)\"],[1,\"rgb(220,220,220)\"]],\"connectgaps\":true,\"contours\":{\"coloring\":\"heatmap\"},\"hoverinfo\":\"none\",\"line\":{\"smoothing\":1.3},\"reversescale\":true,\"showscale\":false,\"x\":[1.75,2,3,4,5,6,7,7.25],\"y\":[0.6999999999999997,3,9,11,12,18,19,22,24,28,32,36,39,40,46,48,49,51.3],\"z\":[[null,null,null,null,null,null,null,null],[null,4.379691923500656,null,null,null,null,null,null],[null,null,null,4.286364984404908,null,null,null,null],[null,null,null,null,null,2.72621759199291,null,null],[null,3.5489848419873335,null,null,null,null,null,null],[null,null,null,1.782205800572997,null,null,null,null],[null,null,1.8388784463677683,1.660719525956095,null,null,null,null],[null,null,null,null,null,null,4.0391112721416205,null],[null,null,null,1.7537621026978083,null,null,null,null],[null,null,null,null,6.510347181705045,null,null,null],[null,null,null,null,7.541810282292155,null,null,null],[null,null,13.755329523727807,null,null,null,2.222044387475331,null],[null,null,null,1.723743264000504,null,null,null,null],[null,null,5.6375453623835305,null,null,null,null,null],[null,null,null,null,null,null,7.206012513743943,null],[null,null,null,null,null,3.68036318934623,null,null],[null,null,null,null,2.4943710653546836,null,null,null],[null,null,null,null,null,null,null,null]],\"type\":\"contour\",\"xaxis\":\"x21\",\"yaxis\":\"y21\"},{\"marker\":{\"color\":\"black\",\"line\":{\"color\":\"Grey\",\"width\":0.5}},\"mode\":\"markers\",\"showlegend\":false,\"x\":[6,4,7,7,5,6,2,7,5,5,3,4,3,4,4,3,2,4,3],\"y\":[48,9,22,36,49,11,12,46,28,32,36,39,40,24,19,19,3,18,40],\"type\":\"scatter\",\"xaxis\":\"x21\",\"yaxis\":\"y21\"},{\"colorbar\":{\"title\":{\"text\":\"Objective Value\"}},\"colorscale\":[[0,\"rgb(5,10,172)\"],[0.35,\"rgb(40,60,190)\"],[0.5,\"rgb(70,100,245)\"],[0.6,\"rgb(90,120,245)\"],[0.7,\"rgb(106,137,247)\"],[1,\"rgb(220,220,220)\"]],\"connectgaps\":true,\"contours\":{\"coloring\":\"heatmap\"},\"hoverinfo\":\"none\",\"line\":{\"smoothing\":1.3},\"reversescale\":true,\"showscale\":false,\"x\":[0.05632487491151833,0.07709935785713605,0.10647535234520714,0.13908699100675864,0.22688482761306694,0.22805536984399297,0.2590401024018494,0.3099987958183471,0.3113234437101946,0.3410516147501768,0.35787088037942416,0.3827097209075191,0.40376142885282296,0.4275546925334964,0.4439148436173104,0.46180946744895923,0.4624114727591695,0.49180747245477724,0.4921681887174151,0.49258901676949035,0.5133634997151081],\"y\":[1.75,2,3,4,5,6,7,7.25],\"z\":[[null,null,null,null,null,null,null,null,null,null,null,null,null,null,null,null,null,null,null,null,null],[null,null,3.5489848419873335,null,null,null,null,null,null,null,4.379691923500656,null,null,null,null,null,null,null,null,null,null],[null,null,null,null,null,13.755329523727807,null,null,5.6375453623835305,null,null,null,3.856505311800362,null,null,null,null,null,1.8388784463677683,null,null],[null,null,null,4.286364984404908,null,null,1.782205800572997,null,null,null,null,null,null,null,null,1.723743264000504,1.7537621026978083,null,null,1.660719525956095,null],[null,7.541810282292155,null,null,null,null,null,6.510347181705045,null,null,null,null,null,null,null,null,null,2.4943710653546836,null,null,null],[null,null,null,null,null,null,null,null,null,2.72621759199291,null,null,null,null,3.68036318934623,null,null,null,null,null,null],[null,null,null,null,7.206012513743943,null,null,null,null,null,null,4.0391112721416205,null,2.222044387475331,null,null,null,null,null,null,null],[null,null,null,null,null,null,null,null,null,null,null,null,null,null,null,null,null,null,null,null,null]],\"type\":\"contour\",\"xaxis\":\"x2\",\"yaxis\":\"y2\"},{\"marker\":{\"color\":\"black\",\"line\":{\"color\":\"Grey\",\"width\":0.5}},\"mode\":\"markers\",\"showlegend\":false,\"x\":[0.4439148436173104,0.13908699100675864,0.3827097209075191,0.4275546925334964,0.49180747245477724,0.3410516147501768,0.10647535234520714,0.22688482761306694,0.3099987958183471,0.07709935785713605,0.22805536984399297,0.46180946744895923,0.40376142885282296,0.4624114727591695,0.49258901676949035,0.4921681887174151,0.35787088037942416,0.2590401024018494,0.3113234437101946],\"y\":[6,4,7,7,5,6,2,7,5,5,3,4,3,4,4,3,2,4,3],\"type\":\"scatter\",\"xaxis\":\"x2\",\"yaxis\":\"y2\"},{\"type\":\"scatter\",\"xaxis\":\"x7\",\"yaxis\":\"y7\"},{\"colorbar\":{\"title\":{\"text\":\"Objective Value\"}},\"colorscale\":[[0,\"rgb(5,10,172)\"],[0.35,\"rgb(40,60,190)\"],[0.5,\"rgb(70,100,245)\"],[0.6,\"rgb(90,120,245)\"],[0.7,\"rgb(106,137,247)\"],[1,\"rgb(220,220,220)\"]],\"connectgaps\":true,\"contours\":{\"coloring\":\"heatmap\"},\"hoverinfo\":\"none\",\"line\":{\"smoothing\":1.3},\"reversescale\":true,\"showscale\":false,\"x\":[0.05632487491151833,0.07709935785713605,0.10647535234520714,0.13908699100675864,0.22688482761306694,0.22805536984399297,0.2590401024018494,0.3099987958183471,0.3113234437101946,0.3410516147501768,0.35787088037942416,0.3827097209075191,0.40376142885282296,0.4275546925334964,0.4439148436173104,0.46180946744895923,0.4624114727591695,0.49180747245477724,0.4921681887174151,0.49258901676949035,0.5133634997151081],\"y\":[435.2,512,1024,2048,2124.8],\"z\":[[null,null,null,null,null,null,null,null,null,null,null,null,null,null,null,null,null,null,null,null,null],[null,null,null,null,7.206012513743943,null,1.782205800572997,null,5.6375453623835305,null,4.379691923500656,null,null,null,3.68036318934623,1.723743264000504,1.7537621026978083,2.4943710653546836,1.8388784463677683,1.660719525956095,null],[null,7.541810282292155,null,4.286364984404908,null,13.755329523727807,null,null,null,null,null,null,3.856505311800362,2.222044387475331,null,null,null,null,null,null,null],[null,null,3.5489848419873335,null,null,null,null,6.510347181705045,null,2.72621759199291,null,4.0391112721416205,null,null,null,null,null,null,null,null,null],[null,null,null,null,null,null,null,null,null,null,null,null,null,null,null,null,null,null,null,null,null]],\"type\":\"contour\",\"xaxis\":\"x12\",\"yaxis\":\"y12\"},{\"marker\":{\"color\":\"black\",\"line\":{\"color\":\"Grey\",\"width\":0.5}},\"mode\":\"markers\",\"showlegend\":false,\"x\":[0.4439148436173104,0.13908699100675864,0.3827097209075191,0.4275546925334964,0.49180747245477724,0.3410516147501768,0.10647535234520714,0.22688482761306694,0.3099987958183471,0.07709935785713605,0.22805536984399297,0.46180946744895923,0.40376142885282296,0.4624114727591695,0.49258901676949035,0.4921681887174151,0.35787088037942416,0.2590401024018494,0.3113234437101946],\"y\":[512,1024,2048,1024,512,2048,2048,512,2048,1024,1024,512,1024,512,512,512,512,512,512],\"type\":\"scatter\",\"xaxis\":\"x12\",\"yaxis\":\"y12\"},{\"colorbar\":{\"title\":{\"text\":\"Objective Value\"}},\"colorscale\":[[0,\"rgb(5,10,172)\"],[0.35,\"rgb(40,60,190)\"],[0.5,\"rgb(70,100,245)\"],[0.6,\"rgb(90,120,245)\"],[0.7,\"rgb(106,137,247)\"],[1,\"rgb(220,220,220)\"]],\"connectgaps\":true,\"contours\":{\"coloring\":\"heatmap\"},\"hoverinfo\":\"none\",\"line\":{\"smoothing\":1.3},\"reversescale\":true,\"showscale\":false,\"x\":[0.05632487491151833,0.07709935785713605,0.10647535234520714,0.13908699100675864,0.22688482761306694,0.22805536984399297,0.2590401024018494,0.3099987958183471,0.3113234437101946,0.3410516147501768,0.35787088037942416,0.3827097209075191,0.40376142885282296,0.4275546925334964,0.4439148436173104,0.46180946744895923,0.4624114727591695,0.49180747245477724,0.4921681887174151,0.49258901676949035,0.5133634997151081],\"y\":[-0.03124658135830099,0.016153059810029957,0.024012605272715565,0.05790448197077976,0.11668022565040757,0.16929577181584413,0.21874787893214442,0.2394902991628971,0.29012232082185585,0.3206971823708506,0.3661364780906169,0.400755911070767,0.537426676969509,0.6620233990736458,0.6714645582243436,0.8527035073111663,0.8672352869210911,0.8869328600151958,0.9617399842917761,0.9641458831766488,1.0115455243449798],\"z\":[[null,null,null,null,null,null,null,null,null,null,null,null,null,null,null,null,null,null,null,null,null],[null,null,null,null,null,null,null,null,null,null,null,null,3.856505311800362,null,null,null,null,null,null,null,null],[null,null,null,null,null,null,null,null,null,null,4.379691923500656,null,null,null,null,null,null,null,null,null,null],[null,null,null,null,null,null,null,null,null,null,null,null,null,null,null,1.723743264000504,null,null,null,null,null],[null,null,null,null,null,null,null,null,null,null,null,null,null,null,null,null,null,2.4943710653546836,null,null,null],[null,null,null,null,null,null,1.782205800572997,null,null,null,null,null,null,null,null,null,null,null,null,null,null],[null,null,null,null,null,null,null,null,null,null,null,null,null,null,null,null,null,null,1.8388784463677683,null,null],[null,null,null,null,null,null,null,null,null,null,null,null,null,null,null,null,null,null,null,1.660719525956095,null],[null,null,null,null,null,null,null,null,null,null,null,null,null,null,null,null,1.7537621026978083,null,null,null,null],[null,null,null,null,null,null,null,null,5.6375453623835305,null,null,null,null,null,null,null,null,null,null,null,null],[null,7.541810282292155,null,null,null,null,null,null,null,null,null,null,null,null,null,null,null,null,null,null,null],[null,null,null,null,null,null,null,null,null,null,null,null,null,null,3.68036318934623,null,null,null,null,null,null],[null,null,null,null,null,null,null,6.510347181705045,null,null,null,null,null,null,null,null,null,null,null,null,null],[null,null,null,null,null,null,null,null,null,null,null,4.0391112721416205,null,null,null,null,null,null,null,null,null],[null,null,null,null,null,13.755329523727807,null,null,null,null,null,null,null,null,null,null,null,null,null,null,null],[null,null,null,null,7.206012513743943,null,null,null,null,null,null,null,null,null,null,null,null,null,null,null,null],[null,null,null,4.286364984404908,null,null,null,null,null,null,null,null,null,null,null,null,null,null,null,null,null],[null,null,null,null,null,null,null,null,null,null,null,null,null,2.222044387475331,null,null,null,null,null,null,null],[null,null,null,null,null,null,null,null,null,2.72621759199291,null,null,null,null,null,null,null,null,null,null,null],[null,null,3.5489848419873335,null,null,null,null,null,null,null,null,null,null,null,null,null,null,null,null,null,null],[null,null,null,null,null,null,null,null,null,null,null,null,null,null,null,null,null,null,null,null,null]],\"type\":\"contour\",\"xaxis\":\"x17\",\"yaxis\":\"y17\"},{\"marker\":{\"color\":\"black\",\"line\":{\"color\":\"Grey\",\"width\":0.5}},\"mode\":\"markers\",\"showlegend\":false,\"x\":[0.4439148436173104,0.13908699100675864,0.3827097209075191,0.4275546925334964,0.49180747245477724,0.3410516147501768,0.10647535234520714,0.22688482761306694,0.3099987958183471,0.07709935785713605,0.22805536984399297,0.46180946744895923,0.40376142885282296,0.4624114727591695,0.49258901676949035,0.4921681887174151,0.35787088037942416,0.2590401024018494,0.3113234437101946],\"y\":[0.400755911070767,0.8672352869210911,0.6620233990736458,0.8869328600151958,0.11668022565040757,0.9617399842917761,0.9641458831766488,0.8527035073111663,0.537426676969509,0.3661364780906169,0.6714645582243436,0.05790448197077976,0.016153059810029957,0.29012232082185585,0.2394902991628971,0.21874787893214442,0.024012605272715565,0.16929577181584413,0.3206971823708506],\"type\":\"scatter\",\"xaxis\":\"x17\",\"yaxis\":\"y17\"},{\"colorbar\":{\"title\":{\"text\":\"Objective Value\"}},\"colorscale\":[[0,\"rgb(5,10,172)\"],[0.35,\"rgb(40,60,190)\"],[0.5,\"rgb(70,100,245)\"],[0.6,\"rgb(90,120,245)\"],[0.7,\"rgb(106,137,247)\"],[1,\"rgb(220,220,220)\"]],\"connectgaps\":true,\"contours\":{\"coloring\":\"heatmap\"},\"hoverinfo\":\"none\",\"line\":{\"smoothing\":1.3},\"reversescale\":true,\"showscale\":false,\"x\":[0.05632487491151833,0.07709935785713605,0.10647535234520714,0.13908699100675864,0.22688482761306694,0.22805536984399297,0.2590401024018494,0.3099987958183471,0.3113234437101946,0.3410516147501768,0.35787088037942416,0.3827097209075191,0.40376142885282296,0.4275546925334964,0.4439148436173104,0.46180946744895923,0.4624114727591695,0.49180747245477724,0.4921681887174151,0.49258901676949035,0.5133634997151081],\"y\":[0.6999999999999997,3,9,11,12,18,19,22,24,28,32,36,39,40,46,48,49,51.3],\"z\":[[null,null,null,null,null,null,null,null,null,null,null,null,null,null,null,null,null,null,null,null,null],[null,null,null,null,null,null,null,null,null,null,4.379691923500656,null,null,null,null,null,null,null,null,null,null],[null,null,null,4.286364984404908,null,null,null,null,null,null,null,null,null,null,null,null,null,null,null,null,null],[null,null,null,null,null,null,null,null,null,2.72621759199291,null,null,null,null,null,null,null,null,null,null,null],[null,null,3.5489848419873335,null,null,null,null,null,null,null,null,null,null,null,null,null,null,null,null,null,null],[null,null,null,null,null,null,1.782205800572997,null,null,null,null,null,null,null,null,null,null,null,null,null,null],[null,null,null,null,null,null,null,null,null,null,null,null,null,null,null,null,null,null,1.8388784463677683,1.660719525956095,null],[null,null,null,null,null,null,null,null,null,null,null,4.0391112721416205,null,null,null,null,null,null,null,null,null],[null,null,null,null,null,null,null,null,null,null,null,null,null,null,null,null,1.7537621026978083,null,null,null,null],[null,null,null,null,null,null,null,6.510347181705045,null,null,null,null,null,null,null,null,null,null,null,null,null],[null,7.541810282292155,null,null,null,null,null,null,null,null,null,null,null,null,null,null,null,null,null,null,null],[null,null,null,null,null,13.755329523727807,null,null,null,null,null,null,null,2.222044387475331,null,null,null,null,null,null,null],[null,null,null,null,null,null,null,null,null,null,null,null,null,null,null,1.723743264000504,null,null,null,null,null],[null,null,null,null,null,null,null,null,5.6375453623835305,null,null,null,3.856505311800362,null,null,null,null,null,null,null,null],[null,null,null,null,7.206012513743943,null,null,null,null,null,null,null,null,null,null,null,null,null,null,null,null],[null,null,null,null,null,null,null,null,null,null,null,null,null,null,3.68036318934623,null,null,null,null,null,null],[null,null,null,null,null,null,null,null,null,null,null,null,null,null,null,null,null,2.4943710653546836,null,null,null],[null,null,null,null,null,null,null,null,null,null,null,null,null,null,null,null,null,null,null,null,null]],\"type\":\"contour\",\"xaxis\":\"x22\",\"yaxis\":\"y22\"},{\"marker\":{\"color\":\"black\",\"line\":{\"color\":\"Grey\",\"width\":0.5}},\"mode\":\"markers\",\"showlegend\":false,\"x\":[0.4439148436173104,0.13908699100675864,0.3827097209075191,0.4275546925334964,0.49180747245477724,0.3410516147501768,0.10647535234520714,0.22688482761306694,0.3099987958183471,0.07709935785713605,0.22805536984399297,0.46180946744895923,0.40376142885282296,0.4624114727591695,0.49258901676949035,0.4921681887174151,0.35787088037942416,0.2590401024018494,0.3113234437101946],\"y\":[48,9,22,36,49,11,12,46,28,32,36,39,40,24,19,19,3,18,40],\"type\":\"scatter\",\"xaxis\":\"x22\",\"yaxis\":\"y22\"},{\"colorbar\":{\"title\":{\"text\":\"Objective Value\"}},\"colorscale\":[[0,\"rgb(5,10,172)\"],[0.35,\"rgb(40,60,190)\"],[0.5,\"rgb(70,100,245)\"],[0.6,\"rgb(90,120,245)\"],[0.7,\"rgb(106,137,247)\"],[1,\"rgb(220,220,220)\"]],\"connectgaps\":true,\"contours\":{\"coloring\":\"heatmap\"},\"hoverinfo\":\"none\",\"line\":{\"smoothing\":1.3},\"reversescale\":true,\"showscale\":false,\"x\":[435.2,512,1024,2048,2124.8],\"y\":[1.75,2,3,4,5,6,7,7.25],\"z\":[[null,null,null,null,null],[null,4.379691923500656,null,3.5489848419873335,null],[null,5.6375453623835305,3.856505311800362,null,null],[null,1.782205800572997,4.286364984404908,null,null],[null,2.4943710653546836,7.541810282292155,6.510347181705045,null],[null,3.68036318934623,null,2.72621759199291,null],[null,7.206012513743943,2.222044387475331,4.0391112721416205,null],[null,null,null,null,null]],\"type\":\"contour\",\"xaxis\":\"x3\",\"yaxis\":\"y3\"},{\"marker\":{\"color\":\"black\",\"line\":{\"color\":\"Grey\",\"width\":0.5}},\"mode\":\"markers\",\"showlegend\":false,\"x\":[512,1024,2048,1024,512,2048,2048,512,2048,1024,1024,512,1024,512,512,512,512,512,512],\"y\":[6,4,7,7,5,6,2,7,5,5,3,4,3,4,4,3,2,4,3],\"type\":\"scatter\",\"xaxis\":\"x3\",\"yaxis\":\"y3\"},{\"colorbar\":{\"title\":{\"text\":\"Objective Value\"}},\"colorscale\":[[0,\"rgb(5,10,172)\"],[0.35,\"rgb(40,60,190)\"],[0.5,\"rgb(70,100,245)\"],[0.6,\"rgb(90,120,245)\"],[0.7,\"rgb(106,137,247)\"],[1,\"rgb(220,220,220)\"]],\"connectgaps\":true,\"contours\":{\"coloring\":\"heatmap\"},\"hoverinfo\":\"none\",\"line\":{\"smoothing\":1.3},\"reversescale\":true,\"showscale\":false,\"x\":[435.2,512,1024,2048,2124.8],\"y\":[0.05632487491151833,0.07709935785713605,0.10647535234520714,0.13908699100675864,0.22688482761306694,0.22805536984399297,0.2590401024018494,0.3099987958183471,0.3113234437101946,0.3410516147501768,0.35787088037942416,0.3827097209075191,0.40376142885282296,0.4275546925334964,0.4439148436173104,0.46180946744895923,0.4624114727591695,0.49180747245477724,0.4921681887174151,0.49258901676949035,0.5133634997151081],\"z\":[[null,null,null,null,null],[null,null,7.541810282292155,null,null],[null,null,null,3.5489848419873335,null],[null,null,4.286364984404908,null,null],[null,7.206012513743943,null,null,null],[null,null,13.755329523727807,null,null],[null,1.782205800572997,null,null,null],[null,null,null,6.510347181705045,null],[null,5.6375453623835305,null,null,null],[null,null,null,2.72621759199291,null],[null,4.379691923500656,null,null,null],[null,null,null,4.0391112721416205,null],[null,null,3.856505311800362,null,null],[null,null,2.222044387475331,null,null],[null,3.68036318934623,null,null,null],[null,1.723743264000504,null,null,null],[null,1.7537621026978083,null,null,null],[null,2.4943710653546836,null,null,null],[null,1.8388784463677683,null,null,null],[null,1.660719525956095,null,null,null],[null,null,null,null,null]],\"type\":\"contour\",\"xaxis\":\"x8\",\"yaxis\":\"y8\"},{\"marker\":{\"color\":\"black\",\"line\":{\"color\":\"Grey\",\"width\":0.5}},\"mode\":\"markers\",\"showlegend\":false,\"x\":[512,1024,2048,1024,512,2048,2048,512,2048,1024,1024,512,1024,512,512,512,512,512,512],\"y\":[0.4439148436173104,0.13908699100675864,0.3827097209075191,0.4275546925334964,0.49180747245477724,0.3410516147501768,0.10647535234520714,0.22688482761306694,0.3099987958183471,0.07709935785713605,0.22805536984399297,0.46180946744895923,0.40376142885282296,0.4624114727591695,0.49258901676949035,0.4921681887174151,0.35787088037942416,0.2590401024018494,0.3113234437101946],\"type\":\"scatter\",\"xaxis\":\"x8\",\"yaxis\":\"y8\"},{\"type\":\"scatter\",\"xaxis\":\"x13\",\"yaxis\":\"y13\"},{\"colorbar\":{\"title\":{\"text\":\"Objective Value\"}},\"colorscale\":[[0,\"rgb(5,10,172)\"],[0.35,\"rgb(40,60,190)\"],[0.5,\"rgb(70,100,245)\"],[0.6,\"rgb(90,120,245)\"],[0.7,\"rgb(106,137,247)\"],[1,\"rgb(220,220,220)\"]],\"connectgaps\":true,\"contours\":{\"coloring\":\"heatmap\"},\"hoverinfo\":\"none\",\"line\":{\"smoothing\":1.3},\"reversescale\":true,\"showscale\":false,\"x\":[435.2,512,1024,2048,2124.8],\"y\":[-0.03124658135830099,0.016153059810029957,0.024012605272715565,0.05790448197077976,0.11668022565040757,0.16929577181584413,0.21874787893214442,0.2394902991628971,0.29012232082185585,0.3206971823708506,0.3661364780906169,0.400755911070767,0.537426676969509,0.6620233990736458,0.6714645582243436,0.8527035073111663,0.8672352869210911,0.8869328600151958,0.9617399842917761,0.9641458831766488,1.0115455243449798],\"z\":[[null,null,null,null,null],[null,null,3.856505311800362,null,null],[null,4.379691923500656,null,null,null],[null,1.723743264000504,null,null,null],[null,2.4943710653546836,null,null,null],[null,1.782205800572997,null,null,null],[null,1.8388784463677683,null,null,null],[null,1.660719525956095,null,null,null],[null,1.7537621026978083,null,null,null],[null,5.6375453623835305,null,null,null],[null,null,7.541810282292155,null,null],[null,3.68036318934623,null,null,null],[null,null,null,6.510347181705045,null],[null,null,null,4.0391112721416205,null],[null,null,13.755329523727807,null,null],[null,7.206012513743943,null,null,null],[null,null,4.286364984404908,null,null],[null,null,2.222044387475331,null,null],[null,null,null,2.72621759199291,null],[null,null,null,3.5489848419873335,null],[null,null,null,null,null]],\"type\":\"contour\",\"xaxis\":\"x18\",\"yaxis\":\"y18\"},{\"marker\":{\"color\":\"black\",\"line\":{\"color\":\"Grey\",\"width\":0.5}},\"mode\":\"markers\",\"showlegend\":false,\"x\":[512,1024,2048,1024,512,2048,2048,512,2048,1024,1024,512,1024,512,512,512,512,512,512],\"y\":[0.400755911070767,0.8672352869210911,0.6620233990736458,0.8869328600151958,0.11668022565040757,0.9617399842917761,0.9641458831766488,0.8527035073111663,0.537426676969509,0.3661364780906169,0.6714645582243436,0.05790448197077976,0.016153059810029957,0.29012232082185585,0.2394902991628971,0.21874787893214442,0.024012605272715565,0.16929577181584413,0.3206971823708506],\"type\":\"scatter\",\"xaxis\":\"x18\",\"yaxis\":\"y18\"},{\"colorbar\":{\"title\":{\"text\":\"Objective Value\"}},\"colorscale\":[[0,\"rgb(5,10,172)\"],[0.35,\"rgb(40,60,190)\"],[0.5,\"rgb(70,100,245)\"],[0.6,\"rgb(90,120,245)\"],[0.7,\"rgb(106,137,247)\"],[1,\"rgb(220,220,220)\"]],\"connectgaps\":true,\"contours\":{\"coloring\":\"heatmap\"},\"hoverinfo\":\"none\",\"line\":{\"smoothing\":1.3},\"reversescale\":true,\"showscale\":false,\"x\":[435.2,512,1024,2048,2124.8],\"y\":[0.6999999999999997,3,9,11,12,18,19,22,24,28,32,36,39,40,46,48,49,51.3],\"z\":[[null,null,null,null,null],[null,4.379691923500656,null,null,null],[null,null,4.286364984404908,null,null],[null,null,null,2.72621759199291,null],[null,null,null,3.5489848419873335,null],[null,1.782205800572997,null,null,null],[null,1.8388784463677683,null,null,null],[null,null,null,4.0391112721416205,null],[null,1.7537621026978083,null,null,null],[null,null,null,6.510347181705045,null],[null,null,7.541810282292155,null,null],[null,null,13.755329523727807,null,null],[null,1.723743264000504,null,null,null],[null,5.6375453623835305,3.856505311800362,null,null],[null,7.206012513743943,null,null,null],[null,3.68036318934623,null,null,null],[null,2.4943710653546836,null,null,null],[null,null,null,null,null]],\"type\":\"contour\",\"xaxis\":\"x23\",\"yaxis\":\"y23\"},{\"marker\":{\"color\":\"black\",\"line\":{\"color\":\"Grey\",\"width\":0.5}},\"mode\":\"markers\",\"showlegend\":false,\"x\":[512,1024,2048,1024,512,2048,2048,512,2048,1024,1024,512,1024,512,512,512,512,512,512],\"y\":[48,9,22,36,49,11,12,46,28,32,36,39,40,24,19,19,3,18,40],\"type\":\"scatter\",\"xaxis\":\"x23\",\"yaxis\":\"y23\"},{\"colorbar\":{\"title\":{\"text\":\"Objective Value\"}},\"colorscale\":[[0,\"rgb(5,10,172)\"],[0.35,\"rgb(40,60,190)\"],[0.5,\"rgb(70,100,245)\"],[0.6,\"rgb(90,120,245)\"],[0.7,\"rgb(106,137,247)\"],[1,\"rgb(220,220,220)\"]],\"connectgaps\":true,\"contours\":{\"coloring\":\"heatmap\"},\"hoverinfo\":\"none\",\"line\":{\"smoothing\":1.3},\"reversescale\":true,\"showscale\":false,\"x\":[-0.03124658135830099,0.016153059810029957,0.024012605272715565,0.05790448197077976,0.11668022565040757,0.16929577181584413,0.21874787893214442,0.2394902991628971,0.29012232082185585,0.3206971823708506,0.3661364780906169,0.400755911070767,0.537426676969509,0.6620233990736458,0.6714645582243436,0.8527035073111663,0.8672352869210911,0.8869328600151958,0.9617399842917761,0.9641458831766488,1.0115455243449798],\"y\":[1.75,2,3,4,5,6,7,7.25],\"z\":[[null,null,null,null,null,null,null,null,null,null,null,null,null,null,null,null,null,null,null,null,null],[null,null,4.379691923500656,null,null,null,null,null,null,null,null,null,null,null,null,null,null,null,null,3.5489848419873335,null],[null,3.856505311800362,null,null,null,null,1.8388784463677683,null,null,5.6375453623835305,null,null,null,null,13.755329523727807,null,null,null,null,null,null],[null,null,null,1.723743264000504,null,1.782205800572997,null,1.660719525956095,1.7537621026978083,null,null,null,null,null,null,null,4.286364984404908,null,null,null,null],[null,null,null,null,2.4943710653546836,null,null,null,null,null,7.541810282292155,null,6.510347181705045,null,null,null,null,null,null,null,null],[null,null,null,null,null,null,null,null,null,null,null,3.68036318934623,null,null,null,null,null,null,2.72621759199291,null,null],[null,null,null,null,null,null,null,null,null,null,null,null,null,4.0391112721416205,null,7.206012513743943,null,2.222044387475331,null,null,null],[null,null,null,null,null,null,null,null,null,null,null,null,null,null,null,null,null,null,null,null,null]],\"type\":\"contour\",\"xaxis\":\"x4\",\"yaxis\":\"y4\"},{\"marker\":{\"color\":\"black\",\"line\":{\"color\":\"Grey\",\"width\":0.5}},\"mode\":\"markers\",\"showlegend\":false,\"x\":[0.400755911070767,0.8672352869210911,0.6620233990736458,0.8869328600151958,0.11668022565040757,0.9617399842917761,0.9641458831766488,0.8527035073111663,0.537426676969509,0.3661364780906169,0.6714645582243436,0.05790448197077976,0.016153059810029957,0.29012232082185585,0.2394902991628971,0.21874787893214442,0.024012605272715565,0.16929577181584413,0.3206971823708506],\"y\":[6,4,7,7,5,6,2,7,5,5,3,4,3,4,4,3,2,4,3],\"type\":\"scatter\",\"xaxis\":\"x4\",\"yaxis\":\"y4\"},{\"colorbar\":{\"title\":{\"text\":\"Objective Value\"}},\"colorscale\":[[0,\"rgb(5,10,172)\"],[0.35,\"rgb(40,60,190)\"],[0.5,\"rgb(70,100,245)\"],[0.6,\"rgb(90,120,245)\"],[0.7,\"rgb(106,137,247)\"],[1,\"rgb(220,220,220)\"]],\"connectgaps\":true,\"contours\":{\"coloring\":\"heatmap\"},\"hoverinfo\":\"none\",\"line\":{\"smoothing\":1.3},\"reversescale\":true,\"showscale\":false,\"x\":[-0.03124658135830099,0.016153059810029957,0.024012605272715565,0.05790448197077976,0.11668022565040757,0.16929577181584413,0.21874787893214442,0.2394902991628971,0.29012232082185585,0.3206971823708506,0.3661364780906169,0.400755911070767,0.537426676969509,0.6620233990736458,0.6714645582243436,0.8527035073111663,0.8672352869210911,0.8869328600151958,0.9617399842917761,0.9641458831766488,1.0115455243449798],\"y\":[0.05632487491151833,0.07709935785713605,0.10647535234520714,0.13908699100675864,0.22688482761306694,0.22805536984399297,0.2590401024018494,0.3099987958183471,0.3113234437101946,0.3410516147501768,0.35787088037942416,0.3827097209075191,0.40376142885282296,0.4275546925334964,0.4439148436173104,0.46180946744895923,0.4624114727591695,0.49180747245477724,0.4921681887174151,0.49258901676949035,0.5133634997151081],\"z\":[[null,null,null,null,null,null,null,null,null,null,null,null,null,null,null,null,null,null,null,null,null],[null,null,null,null,null,null,null,null,null,null,7.541810282292155,null,null,null,null,null,null,null,null,null,null],[null,null,null,null,null,null,null,null,null,null,null,null,null,null,null,null,null,null,null,3.5489848419873335,null],[null,null,null,null,null,null,null,null,null,null,null,null,null,null,null,null,4.286364984404908,null,null,null,null],[null,null,null,null,null,null,null,null,null,null,null,null,null,null,null,7.206012513743943,null,null,null,null,null],[null,null,null,null,null,null,null,null,null,null,null,null,null,null,13.755329523727807,null,null,null,null,null,null],[null,null,null,null,null,1.782205800572997,null,null,null,null,null,null,null,null,null,null,null,null,null,null,null],[null,null,null,null,null,null,null,null,null,null,null,null,6.510347181705045,null,null,null,null,null,null,null,null],[null,null,null,null,null,null,null,null,null,5.6375453623835305,null,null,null,null,null,null,null,null,null,null,null],[null,null,null,null,null,null,null,null,null,null,null,null,null,null,null,null,null,null,2.72621759199291,null,null],[null,null,4.379691923500656,null,null,null,null,null,null,null,null,null,null,null,null,null,null,null,null,null,null],[null,null,null,null,null,null,null,null,null,null,null,null,null,4.0391112721416205,null,null,null,null,null,null,null],[null,3.856505311800362,null,null,null,null,null,null,null,null,null,null,null,null,null,null,null,null,null,null,null],[null,null,null,null,null,null,null,null,null,null,null,null,null,null,null,null,null,2.222044387475331,null,null,null],[null,null,null,null,null,null,null,null,null,null,null,3.68036318934623,null,null,null,null,null,null,null,null,null],[null,null,null,1.723743264000504,null,null,null,null,null,null,null,null,null,null,null,null,null,null,null,null,null],[null,null,null,null,null,null,null,null,1.7537621026978083,null,null,null,null,null,null,null,null,null,null,null,null],[null,null,null,null,2.4943710653546836,null,null,null,null,null,null,null,null,null,null,null,null,null,null,null,null],[null,null,null,null,null,null,1.8388784463677683,null,null,null,null,null,null,null,null,null,null,null,null,null,null],[null,null,null,null,null,null,null,1.660719525956095,null,null,null,null,null,null,null,null,null,null,null,null,null],[null,null,null,null,null,null,null,null,null,null,null,null,null,null,null,null,null,null,null,null,null]],\"type\":\"contour\",\"xaxis\":\"x9\",\"yaxis\":\"y9\"},{\"marker\":{\"color\":\"black\",\"line\":{\"color\":\"Grey\",\"width\":0.5}},\"mode\":\"markers\",\"showlegend\":false,\"x\":[0.400755911070767,0.8672352869210911,0.6620233990736458,0.8869328600151958,0.11668022565040757,0.9617399842917761,0.9641458831766488,0.8527035073111663,0.537426676969509,0.3661364780906169,0.6714645582243436,0.05790448197077976,0.016153059810029957,0.29012232082185585,0.2394902991628971,0.21874787893214442,0.024012605272715565,0.16929577181584413,0.3206971823708506],\"y\":[0.4439148436173104,0.13908699100675864,0.3827097209075191,0.4275546925334964,0.49180747245477724,0.3410516147501768,0.10647535234520714,0.22688482761306694,0.3099987958183471,0.07709935785713605,0.22805536984399297,0.46180946744895923,0.40376142885282296,0.4624114727591695,0.49258901676949035,0.4921681887174151,0.35787088037942416,0.2590401024018494,0.3113234437101946],\"type\":\"scatter\",\"xaxis\":\"x9\",\"yaxis\":\"y9\"},{\"colorbar\":{\"title\":{\"text\":\"Objective Value\"}},\"colorscale\":[[0,\"rgb(5,10,172)\"],[0.35,\"rgb(40,60,190)\"],[0.5,\"rgb(70,100,245)\"],[0.6,\"rgb(90,120,245)\"],[0.7,\"rgb(106,137,247)\"],[1,\"rgb(220,220,220)\"]],\"connectgaps\":true,\"contours\":{\"coloring\":\"heatmap\"},\"hoverinfo\":\"none\",\"line\":{\"smoothing\":1.3},\"reversescale\":true,\"showscale\":false,\"x\":[-0.03124658135830099,0.016153059810029957,0.024012605272715565,0.05790448197077976,0.11668022565040757,0.16929577181584413,0.21874787893214442,0.2394902991628971,0.29012232082185585,0.3206971823708506,0.3661364780906169,0.400755911070767,0.537426676969509,0.6620233990736458,0.6714645582243436,0.8527035073111663,0.8672352869210911,0.8869328600151958,0.9617399842917761,0.9641458831766488,1.0115455243449798],\"y\":[435.2,512,1024,2048,2124.8],\"z\":[[null,null,null,null,null,null,null,null,null,null,null,null,null,null,null,null,null,null,null,null,null],[null,null,4.379691923500656,1.723743264000504,2.4943710653546836,1.782205800572997,1.8388784463677683,1.660719525956095,1.7537621026978083,5.6375453623835305,null,3.68036318934623,null,null,null,7.206012513743943,null,null,null,null,null],[null,3.856505311800362,null,null,null,null,null,null,null,null,7.541810282292155,null,null,null,13.755329523727807,null,4.286364984404908,2.222044387475331,null,null,null],[null,null,null,null,null,null,null,null,null,null,null,null,6.510347181705045,4.0391112721416205,null,null,null,null,2.72621759199291,3.5489848419873335,null],[null,null,null,null,null,null,null,null,null,null,null,null,null,null,null,null,null,null,null,null,null]],\"type\":\"contour\",\"xaxis\":\"x14\",\"yaxis\":\"y14\"},{\"marker\":{\"color\":\"black\",\"line\":{\"color\":\"Grey\",\"width\":0.5}},\"mode\":\"markers\",\"showlegend\":false,\"x\":[0.400755911070767,0.8672352869210911,0.6620233990736458,0.8869328600151958,0.11668022565040757,0.9617399842917761,0.9641458831766488,0.8527035073111663,0.537426676969509,0.3661364780906169,0.6714645582243436,0.05790448197077976,0.016153059810029957,0.29012232082185585,0.2394902991628971,0.21874787893214442,0.024012605272715565,0.16929577181584413,0.3206971823708506],\"y\":[512,1024,2048,1024,512,2048,2048,512,2048,1024,1024,512,1024,512,512,512,512,512,512],\"type\":\"scatter\",\"xaxis\":\"x14\",\"yaxis\":\"y14\"},{\"type\":\"scatter\",\"xaxis\":\"x19\",\"yaxis\":\"y19\"},{\"colorbar\":{\"title\":{\"text\":\"Objective Value\"}},\"colorscale\":[[0,\"rgb(5,10,172)\"],[0.35,\"rgb(40,60,190)\"],[0.5,\"rgb(70,100,245)\"],[0.6,\"rgb(90,120,245)\"],[0.7,\"rgb(106,137,247)\"],[1,\"rgb(220,220,220)\"]],\"connectgaps\":true,\"contours\":{\"coloring\":\"heatmap\"},\"hoverinfo\":\"none\",\"line\":{\"smoothing\":1.3},\"reversescale\":true,\"showscale\":false,\"x\":[-0.03124658135830099,0.016153059810029957,0.024012605272715565,0.05790448197077976,0.11668022565040757,0.16929577181584413,0.21874787893214442,0.2394902991628971,0.29012232082185585,0.3206971823708506,0.3661364780906169,0.400755911070767,0.537426676969509,0.6620233990736458,0.6714645582243436,0.8527035073111663,0.8672352869210911,0.8869328600151958,0.9617399842917761,0.9641458831766488,1.0115455243449798],\"y\":[0.6999999999999997,3,9,11,12,18,19,22,24,28,32,36,39,40,46,48,49,51.3],\"z\":[[null,null,null,null,null,null,null,null,null,null,null,null,null,null,null,null,null,null,null,null,null],[null,null,4.379691923500656,null,null,null,null,null,null,null,null,null,null,null,null,null,null,null,null,null,null],[null,null,null,null,null,null,null,null,null,null,null,null,null,null,null,null,4.286364984404908,null,null,null,null],[null,null,null,null,null,null,null,null,null,null,null,null,null,null,null,null,null,null,2.72621759199291,null,null],[null,null,null,null,null,null,null,null,null,null,null,null,null,null,null,null,null,null,null,3.5489848419873335,null],[null,null,null,null,null,1.782205800572997,null,null,null,null,null,null,null,null,null,null,null,null,null,null,null],[null,null,null,null,null,null,1.8388784463677683,1.660719525956095,null,null,null,null,null,null,null,null,null,null,null,null,null],[null,null,null,null,null,null,null,null,null,null,null,null,null,4.0391112721416205,null,null,null,null,null,null,null],[null,null,null,null,null,null,null,null,1.7537621026978083,null,null,null,null,null,null,null,null,null,null,null,null],[null,null,null,null,null,null,null,null,null,null,null,null,6.510347181705045,null,null,null,null,null,null,null,null],[null,null,null,null,null,null,null,null,null,null,7.541810282292155,null,null,null,null,null,null,null,null,null,null],[null,null,null,null,null,null,null,null,null,null,null,null,null,null,13.755329523727807,null,null,2.222044387475331,null,null,null],[null,null,null,1.723743264000504,null,null,null,null,null,null,null,null,null,null,null,null,null,null,null,null,null],[null,3.856505311800362,null,null,null,null,null,null,null,5.6375453623835305,null,null,null,null,null,null,null,null,null,null,null],[null,null,null,null,null,null,null,null,null,null,null,null,null,null,null,7.206012513743943,null,null,null,null,null],[null,null,null,null,null,null,null,null,null,null,null,3.68036318934623,null,null,null,null,null,null,null,null,null],[null,null,null,null,2.4943710653546836,null,null,null,null,null,null,null,null,null,null,null,null,null,null,null,null],[null,null,null,null,null,null,null,null,null,null,null,null,null,null,null,null,null,null,null,null,null]],\"type\":\"contour\",\"xaxis\":\"x24\",\"yaxis\":\"y24\"},{\"marker\":{\"color\":\"black\",\"line\":{\"color\":\"Grey\",\"width\":0.5}},\"mode\":\"markers\",\"showlegend\":false,\"x\":[0.400755911070767,0.8672352869210911,0.6620233990736458,0.8869328600151958,0.11668022565040757,0.9617399842917761,0.9641458831766488,0.8527035073111663,0.537426676969509,0.3661364780906169,0.6714645582243436,0.05790448197077976,0.016153059810029957,0.29012232082185585,0.2394902991628971,0.21874787893214442,0.024012605272715565,0.16929577181584413,0.3206971823708506],\"y\":[48,9,22,36,49,11,12,46,28,32,36,39,40,24,19,19,3,18,40],\"type\":\"scatter\",\"xaxis\":\"x24\",\"yaxis\":\"y24\"},{\"colorbar\":{\"title\":{\"text\":\"Objective Value\"}},\"colorscale\":[[0,\"rgb(5,10,172)\"],[0.35,\"rgb(40,60,190)\"],[0.5,\"rgb(70,100,245)\"],[0.6,\"rgb(90,120,245)\"],[0.7,\"rgb(106,137,247)\"],[1,\"rgb(220,220,220)\"]],\"connectgaps\":true,\"contours\":{\"coloring\":\"heatmap\"},\"hoverinfo\":\"none\",\"line\":{\"smoothing\":1.3},\"reversescale\":true,\"showscale\":false,\"x\":[0.6999999999999997,3,9,11,12,18,19,22,24,28,32,36,39,40,46,48,49,51.3],\"y\":[1.75,2,3,4,5,6,7,7.25],\"z\":[[null,null,null,null,null,null,null,null,null,null,null,null,null,null,null,null,null,null],[null,4.379691923500656,null,null,3.5489848419873335,null,null,null,null,null,null,null,null,null,null,null,null,null],[null,null,null,null,null,null,1.8388784463677683,null,null,null,null,13.755329523727807,null,5.6375453623835305,null,null,null,null],[null,null,4.286364984404908,null,null,1.782205800572997,1.660719525956095,null,1.7537621026978083,null,null,null,1.723743264000504,null,null,null,null,null],[null,null,null,null,null,null,null,null,null,6.510347181705045,7.541810282292155,null,null,null,null,null,2.4943710653546836,null],[null,null,null,2.72621759199291,null,null,null,null,null,null,null,null,null,null,null,3.68036318934623,null,null],[null,null,null,null,null,null,null,4.0391112721416205,null,null,null,2.222044387475331,null,null,7.206012513743943,null,null,null],[null,null,null,null,null,null,null,null,null,null,null,null,null,null,null,null,null,null]],\"type\":\"contour\",\"xaxis\":\"x5\",\"yaxis\":\"y5\"},{\"marker\":{\"color\":\"black\",\"line\":{\"color\":\"Grey\",\"width\":0.5}},\"mode\":\"markers\",\"showlegend\":false,\"x\":[48,9,22,36,49,11,12,46,28,32,36,39,40,24,19,19,3,18,40],\"y\":[6,4,7,7,5,6,2,7,5,5,3,4,3,4,4,3,2,4,3],\"type\":\"scatter\",\"xaxis\":\"x5\",\"yaxis\":\"y5\"},{\"colorbar\":{\"title\":{\"text\":\"Objective Value\"}},\"colorscale\":[[0,\"rgb(5,10,172)\"],[0.35,\"rgb(40,60,190)\"],[0.5,\"rgb(70,100,245)\"],[0.6,\"rgb(90,120,245)\"],[0.7,\"rgb(106,137,247)\"],[1,\"rgb(220,220,220)\"]],\"connectgaps\":true,\"contours\":{\"coloring\":\"heatmap\"},\"hoverinfo\":\"none\",\"line\":{\"smoothing\":1.3},\"reversescale\":true,\"showscale\":false,\"x\":[0.6999999999999997,3,9,11,12,18,19,22,24,28,32,36,39,40,46,48,49,51.3],\"y\":[0.05632487491151833,0.07709935785713605,0.10647535234520714,0.13908699100675864,0.22688482761306694,0.22805536984399297,0.2590401024018494,0.3099987958183471,0.3113234437101946,0.3410516147501768,0.35787088037942416,0.3827097209075191,0.40376142885282296,0.4275546925334964,0.4439148436173104,0.46180946744895923,0.4624114727591695,0.49180747245477724,0.4921681887174151,0.49258901676949035,0.5133634997151081],\"z\":[[null,null,null,null,null,null,null,null,null,null,null,null,null,null,null,null,null,null],[null,null,null,null,null,null,null,null,null,null,7.541810282292155,null,null,null,null,null,null,null],[null,null,null,null,3.5489848419873335,null,null,null,null,null,null,null,null,null,null,null,null,null],[null,null,4.286364984404908,null,null,null,null,null,null,null,null,null,null,null,null,null,null,null],[null,null,null,null,null,null,null,null,null,null,null,null,null,null,7.206012513743943,null,null,null],[null,null,null,null,null,null,null,null,null,null,null,13.755329523727807,null,null,null,null,null,null],[null,null,null,null,null,1.782205800572997,null,null,null,null,null,null,null,null,null,null,null,null],[null,null,null,null,null,null,null,null,null,6.510347181705045,null,null,null,null,null,null,null,null],[null,null,null,null,null,null,null,null,null,null,null,null,null,5.6375453623835305,null,null,null,null],[null,null,null,2.72621759199291,null,null,null,null,null,null,null,null,null,null,null,null,null,null],[null,4.379691923500656,null,null,null,null,null,null,null,null,null,null,null,null,null,null,null,null],[null,null,null,null,null,null,null,4.0391112721416205,null,null,null,null,null,null,null,null,null,null],[null,null,null,null,null,null,null,null,null,null,null,null,null,3.856505311800362,null,null,null,null],[null,null,null,null,null,null,null,null,null,null,null,2.222044387475331,null,null,null,null,null,null],[null,null,null,null,null,null,null,null,null,null,null,null,null,null,null,3.68036318934623,null,null],[null,null,null,null,null,null,null,null,null,null,null,null,1.723743264000504,null,null,null,null,null],[null,null,null,null,null,null,null,null,1.7537621026978083,null,null,null,null,null,null,null,null,null],[null,null,null,null,null,null,null,null,null,null,null,null,null,null,null,null,2.4943710653546836,null],[null,null,null,null,null,null,1.8388784463677683,null,null,null,null,null,null,null,null,null,null,null],[null,null,null,null,null,null,1.660719525956095,null,null,null,null,null,null,null,null,null,null,null],[null,null,null,null,null,null,null,null,null,null,null,null,null,null,null,null,null,null]],\"type\":\"contour\",\"xaxis\":\"x10\",\"yaxis\":\"y10\"},{\"marker\":{\"color\":\"black\",\"line\":{\"color\":\"Grey\",\"width\":0.5}},\"mode\":\"markers\",\"showlegend\":false,\"x\":[48,9,22,36,49,11,12,46,28,32,36,39,40,24,19,19,3,18,40],\"y\":[0.4439148436173104,0.13908699100675864,0.3827097209075191,0.4275546925334964,0.49180747245477724,0.3410516147501768,0.10647535234520714,0.22688482761306694,0.3099987958183471,0.07709935785713605,0.22805536984399297,0.46180946744895923,0.40376142885282296,0.4624114727591695,0.49258901676949035,0.4921681887174151,0.35787088037942416,0.2590401024018494,0.3113234437101946],\"type\":\"scatter\",\"xaxis\":\"x10\",\"yaxis\":\"y10\"},{\"colorbar\":{\"title\":{\"text\":\"Objective Value\"}},\"colorscale\":[[0,\"rgb(5,10,172)\"],[0.35,\"rgb(40,60,190)\"],[0.5,\"rgb(70,100,245)\"],[0.6,\"rgb(90,120,245)\"],[0.7,\"rgb(106,137,247)\"],[1,\"rgb(220,220,220)\"]],\"connectgaps\":true,\"contours\":{\"coloring\":\"heatmap\"},\"hoverinfo\":\"none\",\"line\":{\"smoothing\":1.3},\"reversescale\":true,\"showscale\":false,\"x\":[0.6999999999999997,3,9,11,12,18,19,22,24,28,32,36,39,40,46,48,49,51.3],\"y\":[435.2,512,1024,2048,2124.8],\"z\":[[null,null,null,null,null,null,null,null,null,null,null,null,null,null,null,null,null,null],[null,4.379691923500656,null,null,null,1.782205800572997,1.8388784463677683,null,1.7537621026978083,null,null,null,1.723743264000504,5.6375453623835305,7.206012513743943,3.68036318934623,2.4943710653546836,null],[null,null,4.286364984404908,null,null,null,null,null,null,null,7.541810282292155,13.755329523727807,null,3.856505311800362,null,null,null,null],[null,null,null,2.72621759199291,3.5489848419873335,null,null,4.0391112721416205,null,6.510347181705045,null,null,null,null,null,null,null,null],[null,null,null,null,null,null,null,null,null,null,null,null,null,null,null,null,null,null]],\"type\":\"contour\",\"xaxis\":\"x15\",\"yaxis\":\"y15\"},{\"marker\":{\"color\":\"black\",\"line\":{\"color\":\"Grey\",\"width\":0.5}},\"mode\":\"markers\",\"showlegend\":false,\"x\":[48,9,22,36,49,11,12,46,28,32,36,39,40,24,19,19,3,18,40],\"y\":[512,1024,2048,1024,512,2048,2048,512,2048,1024,1024,512,1024,512,512,512,512,512,512],\"type\":\"scatter\",\"xaxis\":\"x15\",\"yaxis\":\"y15\"},{\"colorbar\":{\"title\":{\"text\":\"Objective Value\"}},\"colorscale\":[[0,\"rgb(5,10,172)\"],[0.35,\"rgb(40,60,190)\"],[0.5,\"rgb(70,100,245)\"],[0.6,\"rgb(90,120,245)\"],[0.7,\"rgb(106,137,247)\"],[1,\"rgb(220,220,220)\"]],\"connectgaps\":true,\"contours\":{\"coloring\":\"heatmap\"},\"hoverinfo\":\"none\",\"line\":{\"smoothing\":1.3},\"reversescale\":true,\"showscale\":false,\"x\":[0.6999999999999997,3,9,11,12,18,19,22,24,28,32,36,39,40,46,48,49,51.3],\"y\":[-0.03124658135830099,0.016153059810029957,0.024012605272715565,0.05790448197077976,0.11668022565040757,0.16929577181584413,0.21874787893214442,0.2394902991628971,0.29012232082185585,0.3206971823708506,0.3661364780906169,0.400755911070767,0.537426676969509,0.6620233990736458,0.6714645582243436,0.8527035073111663,0.8672352869210911,0.8869328600151958,0.9617399842917761,0.9641458831766488,1.0115455243449798],\"z\":[[null,null,null,null,null,null,null,null,null,null,null,null,null,null,null,null,null,null],[null,null,null,null,null,null,null,null,null,null,null,null,null,3.856505311800362,null,null,null,null],[null,4.379691923500656,null,null,null,null,null,null,null,null,null,null,null,null,null,null,null,null],[null,null,null,null,null,null,null,null,null,null,null,null,1.723743264000504,null,null,null,null,null],[null,null,null,null,null,null,null,null,null,null,null,null,null,null,null,null,2.4943710653546836,null],[null,null,null,null,null,1.782205800572997,null,null,null,null,null,null,null,null,null,null,null,null],[null,null,null,null,null,null,1.8388784463677683,null,null,null,null,null,null,null,null,null,null,null],[null,null,null,null,null,null,1.660719525956095,null,null,null,null,null,null,null,null,null,null,null],[null,null,null,null,null,null,null,null,1.7537621026978083,null,null,null,null,null,null,null,null,null],[null,null,null,null,null,null,null,null,null,null,null,null,null,5.6375453623835305,null,null,null,null],[null,null,null,null,null,null,null,null,null,null,7.541810282292155,null,null,null,null,null,null,null],[null,null,null,null,null,null,null,null,null,null,null,null,null,null,null,3.68036318934623,null,null],[null,null,null,null,null,null,null,null,null,6.510347181705045,null,null,null,null,null,null,null,null],[null,null,null,null,null,null,null,4.0391112721416205,null,null,null,null,null,null,null,null,null,null],[null,null,null,null,null,null,null,null,null,null,null,13.755329523727807,null,null,null,null,null,null],[null,null,null,null,null,null,null,null,null,null,null,null,null,null,7.206012513743943,null,null,null],[null,null,4.286364984404908,null,null,null,null,null,null,null,null,null,null,null,null,null,null,null],[null,null,null,null,null,null,null,null,null,null,null,2.222044387475331,null,null,null,null,null,null],[null,null,null,2.72621759199291,null,null,null,null,null,null,null,null,null,null,null,null,null,null],[null,null,null,null,3.5489848419873335,null,null,null,null,null,null,null,null,null,null,null,null,null],[null,null,null,null,null,null,null,null,null,null,null,null,null,null,null,null,null,null]],\"type\":\"contour\",\"xaxis\":\"x20\",\"yaxis\":\"y20\"},{\"marker\":{\"color\":\"black\",\"line\":{\"color\":\"Grey\",\"width\":0.5}},\"mode\":\"markers\",\"showlegend\":false,\"x\":[48,9,22,36,49,11,12,46,28,32,36,39,40,24,19,19,3,18,40],\"y\":[0.400755911070767,0.8672352869210911,0.6620233990736458,0.8869328600151958,0.11668022565040757,0.9617399842917761,0.9641458831766488,0.8527035073111663,0.537426676969509,0.3661364780906169,0.6714645582243436,0.05790448197077976,0.016153059810029957,0.29012232082185585,0.2394902991628971,0.21874787893214442,0.024012605272715565,0.16929577181584413,0.3206971823708506],\"type\":\"scatter\",\"xaxis\":\"x20\",\"yaxis\":\"y20\"},{\"type\":\"scatter\",\"xaxis\":\"x25\",\"yaxis\":\"y25\"}],                        {\"template\":{\"data\":{\"bar\":[{\"error_x\":{\"color\":\"#2a3f5f\"},\"error_y\":{\"color\":\"#2a3f5f\"},\"marker\":{\"line\":{\"color\":\"#E5ECF6\",\"width\":0.5},\"pattern\":{\"fillmode\":\"overlay\",\"size\":10,\"solidity\":0.2}},\"type\":\"bar\"}],\"barpolar\":[{\"marker\":{\"line\":{\"color\":\"#E5ECF6\",\"width\":0.5},\"pattern\":{\"fillmode\":\"overlay\",\"size\":10,\"solidity\":0.2}},\"type\":\"barpolar\"}],\"carpet\":[{\"aaxis\":{\"endlinecolor\":\"#2a3f5f\",\"gridcolor\":\"white\",\"linecolor\":\"white\",\"minorgridcolor\":\"white\",\"startlinecolor\":\"#2a3f5f\"},\"baxis\":{\"endlinecolor\":\"#2a3f5f\",\"gridcolor\":\"white\",\"linecolor\":\"white\",\"minorgridcolor\":\"white\",\"startlinecolor\":\"#2a3f5f\"},\"type\":\"carpet\"}],\"choropleth\":[{\"colorbar\":{\"outlinewidth\":0,\"ticks\":\"\"},\"type\":\"choropleth\"}],\"contour\":[{\"colorbar\":{\"outlinewidth\":0,\"ticks\":\"\"},\"colorscale\":[[0.0,\"#0d0887\"],[0.1111111111111111,\"#46039f\"],[0.2222222222222222,\"#7201a8\"],[0.3333333333333333,\"#9c179e\"],[0.4444444444444444,\"#bd3786\"],[0.5555555555555556,\"#d8576b\"],[0.6666666666666666,\"#ed7953\"],[0.7777777777777778,\"#fb9f3a\"],[0.8888888888888888,\"#fdca26\"],[1.0,\"#f0f921\"]],\"type\":\"contour\"}],\"contourcarpet\":[{\"colorbar\":{\"outlinewidth\":0,\"ticks\":\"\"},\"type\":\"contourcarpet\"}],\"heatmap\":[{\"colorbar\":{\"outlinewidth\":0,\"ticks\":\"\"},\"colorscale\":[[0.0,\"#0d0887\"],[0.1111111111111111,\"#46039f\"],[0.2222222222222222,\"#7201a8\"],[0.3333333333333333,\"#9c179e\"],[0.4444444444444444,\"#bd3786\"],[0.5555555555555556,\"#d8576b\"],[0.6666666666666666,\"#ed7953\"],[0.7777777777777778,\"#fb9f3a\"],[0.8888888888888888,\"#fdca26\"],[1.0,\"#f0f921\"]],\"type\":\"heatmap\"}],\"heatmapgl\":[{\"colorbar\":{\"outlinewidth\":0,\"ticks\":\"\"},\"colorscale\":[[0.0,\"#0d0887\"],[0.1111111111111111,\"#46039f\"],[0.2222222222222222,\"#7201a8\"],[0.3333333333333333,\"#9c179e\"],[0.4444444444444444,\"#bd3786\"],[0.5555555555555556,\"#d8576b\"],[0.6666666666666666,\"#ed7953\"],[0.7777777777777778,\"#fb9f3a\"],[0.8888888888888888,\"#fdca26\"],[1.0,\"#f0f921\"]],\"type\":\"heatmapgl\"}],\"histogram\":[{\"marker\":{\"pattern\":{\"fillmode\":\"overlay\",\"size\":10,\"solidity\":0.2}},\"type\":\"histogram\"}],\"histogram2d\":[{\"colorbar\":{\"outlinewidth\":0,\"ticks\":\"\"},\"colorscale\":[[0.0,\"#0d0887\"],[0.1111111111111111,\"#46039f\"],[0.2222222222222222,\"#7201a8\"],[0.3333333333333333,\"#9c179e\"],[0.4444444444444444,\"#bd3786\"],[0.5555555555555556,\"#d8576b\"],[0.6666666666666666,\"#ed7953\"],[0.7777777777777778,\"#fb9f3a\"],[0.8888888888888888,\"#fdca26\"],[1.0,\"#f0f921\"]],\"type\":\"histogram2d\"}],\"histogram2dcontour\":[{\"colorbar\":{\"outlinewidth\":0,\"ticks\":\"\"},\"colorscale\":[[0.0,\"#0d0887\"],[0.1111111111111111,\"#46039f\"],[0.2222222222222222,\"#7201a8\"],[0.3333333333333333,\"#9c179e\"],[0.4444444444444444,\"#bd3786\"],[0.5555555555555556,\"#d8576b\"],[0.6666666666666666,\"#ed7953\"],[0.7777777777777778,\"#fb9f3a\"],[0.8888888888888888,\"#fdca26\"],[1.0,\"#f0f921\"]],\"type\":\"histogram2dcontour\"}],\"mesh3d\":[{\"colorbar\":{\"outlinewidth\":0,\"ticks\":\"\"},\"type\":\"mesh3d\"}],\"parcoords\":[{\"line\":{\"colorbar\":{\"outlinewidth\":0,\"ticks\":\"\"}},\"type\":\"parcoords\"}],\"pie\":[{\"automargin\":true,\"type\":\"pie\"}],\"scatter\":[{\"marker\":{\"colorbar\":{\"outlinewidth\":0,\"ticks\":\"\"}},\"type\":\"scatter\"}],\"scatter3d\":[{\"line\":{\"colorbar\":{\"outlinewidth\":0,\"ticks\":\"\"}},\"marker\":{\"colorbar\":{\"outlinewidth\":0,\"ticks\":\"\"}},\"type\":\"scatter3d\"}],\"scattercarpet\":[{\"marker\":{\"colorbar\":{\"outlinewidth\":0,\"ticks\":\"\"}},\"type\":\"scattercarpet\"}],\"scattergeo\":[{\"marker\":{\"colorbar\":{\"outlinewidth\":0,\"ticks\":\"\"}},\"type\":\"scattergeo\"}],\"scattergl\":[{\"marker\":{\"colorbar\":{\"outlinewidth\":0,\"ticks\":\"\"}},\"type\":\"scattergl\"}],\"scattermapbox\":[{\"marker\":{\"colorbar\":{\"outlinewidth\":0,\"ticks\":\"\"}},\"type\":\"scattermapbox\"}],\"scatterpolar\":[{\"marker\":{\"colorbar\":{\"outlinewidth\":0,\"ticks\":\"\"}},\"type\":\"scatterpolar\"}],\"scatterpolargl\":[{\"marker\":{\"colorbar\":{\"outlinewidth\":0,\"ticks\":\"\"}},\"type\":\"scatterpolargl\"}],\"scatterternary\":[{\"marker\":{\"colorbar\":{\"outlinewidth\":0,\"ticks\":\"\"}},\"type\":\"scatterternary\"}],\"surface\":[{\"colorbar\":{\"outlinewidth\":0,\"ticks\":\"\"},\"colorscale\":[[0.0,\"#0d0887\"],[0.1111111111111111,\"#46039f\"],[0.2222222222222222,\"#7201a8\"],[0.3333333333333333,\"#9c179e\"],[0.4444444444444444,\"#bd3786\"],[0.5555555555555556,\"#d8576b\"],[0.6666666666666666,\"#ed7953\"],[0.7777777777777778,\"#fb9f3a\"],[0.8888888888888888,\"#fdca26\"],[1.0,\"#f0f921\"]],\"type\":\"surface\"}],\"table\":[{\"cells\":{\"fill\":{\"color\":\"#EBF0F8\"},\"line\":{\"color\":\"white\"}},\"header\":{\"fill\":{\"color\":\"#C8D4E3\"},\"line\":{\"color\":\"white\"}},\"type\":\"table\"}]},\"layout\":{\"annotationdefaults\":{\"arrowcolor\":\"#2a3f5f\",\"arrowhead\":0,\"arrowwidth\":1},\"autotypenumbers\":\"strict\",\"coloraxis\":{\"colorbar\":{\"outlinewidth\":0,\"ticks\":\"\"}},\"colorscale\":{\"diverging\":[[0,\"#8e0152\"],[0.1,\"#c51b7d\"],[0.2,\"#de77ae\"],[0.3,\"#f1b6da\"],[0.4,\"#fde0ef\"],[0.5,\"#f7f7f7\"],[0.6,\"#e6f5d0\"],[0.7,\"#b8e186\"],[0.8,\"#7fbc41\"],[0.9,\"#4d9221\"],[1,\"#276419\"]],\"sequential\":[[0.0,\"#0d0887\"],[0.1111111111111111,\"#46039f\"],[0.2222222222222222,\"#7201a8\"],[0.3333333333333333,\"#9c179e\"],[0.4444444444444444,\"#bd3786\"],[0.5555555555555556,\"#d8576b\"],[0.6666666666666666,\"#ed7953\"],[0.7777777777777778,\"#fb9f3a\"],[0.8888888888888888,\"#fdca26\"],[1.0,\"#f0f921\"]],\"sequentialminus\":[[0.0,\"#0d0887\"],[0.1111111111111111,\"#46039f\"],[0.2222222222222222,\"#7201a8\"],[0.3333333333333333,\"#9c179e\"],[0.4444444444444444,\"#bd3786\"],[0.5555555555555556,\"#d8576b\"],[0.6666666666666666,\"#ed7953\"],[0.7777777777777778,\"#fb9f3a\"],[0.8888888888888888,\"#fdca26\"],[1.0,\"#f0f921\"]]},\"colorway\":[\"#636efa\",\"#EF553B\",\"#00cc96\",\"#ab63fa\",\"#FFA15A\",\"#19d3f3\",\"#FF6692\",\"#B6E880\",\"#FF97FF\",\"#FECB52\"],\"font\":{\"color\":\"#2a3f5f\"},\"geo\":{\"bgcolor\":\"white\",\"lakecolor\":\"white\",\"landcolor\":\"#E5ECF6\",\"showlakes\":true,\"showland\":true,\"subunitcolor\":\"white\"},\"hoverlabel\":{\"align\":\"left\"},\"hovermode\":\"closest\",\"mapbox\":{\"style\":\"light\"},\"paper_bgcolor\":\"white\",\"plot_bgcolor\":\"#E5ECF6\",\"polar\":{\"angularaxis\":{\"gridcolor\":\"white\",\"linecolor\":\"white\",\"ticks\":\"\"},\"bgcolor\":\"#E5ECF6\",\"radialaxis\":{\"gridcolor\":\"white\",\"linecolor\":\"white\",\"ticks\":\"\"}},\"scene\":{\"xaxis\":{\"backgroundcolor\":\"#E5ECF6\",\"gridcolor\":\"white\",\"gridwidth\":2,\"linecolor\":\"white\",\"showbackground\":true,\"ticks\":\"\",\"zerolinecolor\":\"white\"},\"yaxis\":{\"backgroundcolor\":\"#E5ECF6\",\"gridcolor\":\"white\",\"gridwidth\":2,\"linecolor\":\"white\",\"showbackground\":true,\"ticks\":\"\",\"zerolinecolor\":\"white\"},\"zaxis\":{\"backgroundcolor\":\"#E5ECF6\",\"gridcolor\":\"white\",\"gridwidth\":2,\"linecolor\":\"white\",\"showbackground\":true,\"ticks\":\"\",\"zerolinecolor\":\"white\"}},\"shapedefaults\":{\"line\":{\"color\":\"#2a3f5f\"}},\"ternary\":{\"aaxis\":{\"gridcolor\":\"white\",\"linecolor\":\"white\",\"ticks\":\"\"},\"baxis\":{\"gridcolor\":\"white\",\"linecolor\":\"white\",\"ticks\":\"\"},\"bgcolor\":\"#E5ECF6\",\"caxis\":{\"gridcolor\":\"white\",\"linecolor\":\"white\",\"ticks\":\"\"}},\"title\":{\"x\":0.05},\"xaxis\":{\"automargin\":true,\"gridcolor\":\"white\",\"linecolor\":\"white\",\"ticks\":\"\",\"title\":{\"standoff\":15},\"zerolinecolor\":\"white\",\"zerolinewidth\":2},\"yaxis\":{\"automargin\":true,\"gridcolor\":\"white\",\"linecolor\":\"white\",\"ticks\":\"\",\"title\":{\"standoff\":15},\"zerolinecolor\":\"white\",\"zerolinewidth\":2}}},\"xaxis\":{\"anchor\":\"y\",\"domain\":[0.0,0.16799999999999998],\"matches\":\"x21\",\"showticklabels\":false,\"range\":[1.75,7.25]},\"yaxis\":{\"anchor\":\"x\",\"domain\":[0.848,1.0],\"range\":[1.75,7.25],\"title\":{\"text\":\"blocks\"}},\"xaxis2\":{\"anchor\":\"y2\",\"domain\":[0.208,0.376],\"matches\":\"x22\",\"showticklabels\":false,\"range\":[0.05632487491151833,0.5133634997151081]},\"yaxis2\":{\"anchor\":\"x2\",\"domain\":[0.848,1.0],\"matches\":\"y\",\"showticklabels\":false,\"range\":[1.75,7.25]},\"xaxis3\":{\"anchor\":\"y3\",\"domain\":[0.416,0.584],\"matches\":\"x23\",\"showticklabels\":false,\"range\":[435.2,2124.8]},\"yaxis3\":{\"anchor\":\"x3\",\"domain\":[0.848,1.0],\"matches\":\"y\",\"showticklabels\":false,\"range\":[1.75,7.25]},\"xaxis4\":{\"anchor\":\"y4\",\"domain\":[0.624,0.792],\"matches\":\"x24\",\"showticklabels\":false,\"range\":[-0.03124658135830099,1.0115455243449798]},\"yaxis4\":{\"anchor\":\"x4\",\"domain\":[0.848,1.0],\"matches\":\"y\",\"showticklabels\":false,\"range\":[1.75,7.25]},\"xaxis5\":{\"anchor\":\"y5\",\"domain\":[0.832,1.0],\"matches\":\"x25\",\"showticklabels\":false,\"range\":[0.6999999999999997,51.3]},\"yaxis5\":{\"anchor\":\"x5\",\"domain\":[0.848,1.0],\"matches\":\"y\",\"showticklabels\":false,\"range\":[1.75,7.25]},\"xaxis6\":{\"anchor\":\"y6\",\"domain\":[0.0,0.16799999999999998],\"matches\":\"x21\",\"showticklabels\":false,\"range\":[1.75,7.25]},\"yaxis6\":{\"anchor\":\"x6\",\"domain\":[0.6359999999999999,0.7879999999999999],\"range\":[0.05632487491151833,0.5133634997151081],\"title\":{\"text\":\"dropout\"}},\"xaxis7\":{\"anchor\":\"y7\",\"domain\":[0.208,0.376],\"matches\":\"x22\",\"showticklabels\":false,\"range\":[0.05632487491151833,0.5133634997151081]},\"yaxis7\":{\"anchor\":\"x7\",\"domain\":[0.6359999999999999,0.7879999999999999],\"matches\":\"y6\",\"showticklabels\":false,\"range\":[0.05632487491151833,0.5133634997151081]},\"xaxis8\":{\"anchor\":\"y8\",\"domain\":[0.416,0.584],\"matches\":\"x23\",\"showticklabels\":false,\"range\":[435.2,2124.8]},\"yaxis8\":{\"anchor\":\"x8\",\"domain\":[0.6359999999999999,0.7879999999999999],\"matches\":\"y6\",\"showticklabels\":false,\"range\":[0.05632487491151833,0.5133634997151081]},\"xaxis9\":{\"anchor\":\"y9\",\"domain\":[0.624,0.792],\"matches\":\"x24\",\"showticklabels\":false,\"range\":[-0.03124658135830099,1.0115455243449798]},\"yaxis9\":{\"anchor\":\"x9\",\"domain\":[0.6359999999999999,0.7879999999999999],\"matches\":\"y6\",\"showticklabels\":false,\"range\":[0.05632487491151833,0.5133634997151081]},\"xaxis10\":{\"anchor\":\"y10\",\"domain\":[0.832,1.0],\"matches\":\"x25\",\"showticklabels\":false,\"range\":[0.6999999999999997,51.3]},\"yaxis10\":{\"anchor\":\"x10\",\"domain\":[0.6359999999999999,0.7879999999999999],\"matches\":\"y6\",\"showticklabels\":false,\"range\":[0.05632487491151833,0.5133634997151081]},\"xaxis11\":{\"anchor\":\"y11\",\"domain\":[0.0,0.16799999999999998],\"matches\":\"x21\",\"showticklabels\":false,\"range\":[1.75,7.25]},\"yaxis11\":{\"anchor\":\"x11\",\"domain\":[0.424,0.576],\"range\":[435.2,2124.8],\"title\":{\"text\":\"hidden_dim\"}},\"xaxis12\":{\"anchor\":\"y12\",\"domain\":[0.208,0.376],\"matches\":\"x22\",\"showticklabels\":false,\"range\":[0.05632487491151833,0.5133634997151081]},\"yaxis12\":{\"anchor\":\"x12\",\"domain\":[0.424,0.576],\"matches\":\"y11\",\"showticklabels\":false,\"range\":[435.2,2124.8]},\"xaxis13\":{\"anchor\":\"y13\",\"domain\":[0.416,0.584],\"matches\":\"x23\",\"showticklabels\":false,\"range\":[435.2,2124.8]},\"yaxis13\":{\"anchor\":\"x13\",\"domain\":[0.424,0.576],\"matches\":\"y11\",\"showticklabels\":false,\"range\":[435.2,2124.8]},\"xaxis14\":{\"anchor\":\"y14\",\"domain\":[0.624,0.792],\"matches\":\"x24\",\"showticklabels\":false,\"range\":[-0.03124658135830099,1.0115455243449798]},\"yaxis14\":{\"anchor\":\"x14\",\"domain\":[0.424,0.576],\"matches\":\"y11\",\"showticklabels\":false,\"range\":[435.2,2124.8]},\"xaxis15\":{\"anchor\":\"y15\",\"domain\":[0.832,1.0],\"matches\":\"x25\",\"showticklabels\":false,\"range\":[0.6999999999999997,51.3]},\"yaxis15\":{\"anchor\":\"x15\",\"domain\":[0.424,0.576],\"matches\":\"y11\",\"showticklabels\":false,\"range\":[435.2,2124.8]},\"xaxis16\":{\"anchor\":\"y16\",\"domain\":[0.0,0.16799999999999998],\"matches\":\"x21\",\"showticklabels\":false,\"range\":[1.75,7.25]},\"yaxis16\":{\"anchor\":\"x16\",\"domain\":[0.212,0.364],\"range\":[-0.03124658135830099,1.0115455243449798],\"title\":{\"text\":\"kl_target\"}},\"xaxis17\":{\"anchor\":\"y17\",\"domain\":[0.208,0.376],\"matches\":\"x22\",\"showticklabels\":false,\"range\":[0.05632487491151833,0.5133634997151081]},\"yaxis17\":{\"anchor\":\"x17\",\"domain\":[0.212,0.364],\"matches\":\"y16\",\"showticklabels\":false,\"range\":[-0.03124658135830099,1.0115455243449798]},\"xaxis18\":{\"anchor\":\"y18\",\"domain\":[0.416,0.584],\"matches\":\"x23\",\"showticklabels\":false,\"range\":[435.2,2124.8]},\"yaxis18\":{\"anchor\":\"x18\",\"domain\":[0.212,0.364],\"matches\":\"y16\",\"showticklabels\":false,\"range\":[-0.03124658135830099,1.0115455243449798]},\"xaxis19\":{\"anchor\":\"y19\",\"domain\":[0.624,0.792],\"matches\":\"x24\",\"showticklabels\":false,\"range\":[-0.03124658135830099,1.0115455243449798]},\"yaxis19\":{\"anchor\":\"x19\",\"domain\":[0.212,0.364],\"matches\":\"y16\",\"showticklabels\":false,\"range\":[-0.03124658135830099,1.0115455243449798]},\"xaxis20\":{\"anchor\":\"y20\",\"domain\":[0.832,1.0],\"matches\":\"x25\",\"showticklabels\":false,\"range\":[0.6999999999999997,51.3]},\"yaxis20\":{\"anchor\":\"x20\",\"domain\":[0.212,0.364],\"matches\":\"y16\",\"showticklabels\":false,\"range\":[-0.03124658135830099,1.0115455243449798]},\"xaxis21\":{\"anchor\":\"y21\",\"domain\":[0.0,0.16799999999999998],\"range\":[1.75,7.25],\"title\":{\"text\":\"blocks\"}},\"yaxis21\":{\"anchor\":\"x21\",\"domain\":[0.0,0.152],\"range\":[0.6999999999999997,51.3],\"title\":{\"text\":\"latent_dim\"}},\"xaxis22\":{\"anchor\":\"y22\",\"domain\":[0.208,0.376],\"range\":[0.05632487491151833,0.5133634997151081],\"title\":{\"text\":\"dropout\"}},\"yaxis22\":{\"anchor\":\"x22\",\"domain\":[0.0,0.152],\"matches\":\"y21\",\"showticklabels\":false,\"range\":[0.6999999999999997,51.3]},\"xaxis23\":{\"anchor\":\"y23\",\"domain\":[0.416,0.584],\"range\":[435.2,2124.8],\"title\":{\"text\":\"hidden_dim\"}},\"yaxis23\":{\"anchor\":\"x23\",\"domain\":[0.0,0.152],\"matches\":\"y21\",\"showticklabels\":false,\"range\":[0.6999999999999997,51.3]},\"xaxis24\":{\"anchor\":\"y24\",\"domain\":[0.624,0.792],\"range\":[-0.03124658135830099,1.0115455243449798],\"title\":{\"text\":\"kl_target\"}},\"yaxis24\":{\"anchor\":\"x24\",\"domain\":[0.0,0.152],\"matches\":\"y21\",\"showticklabels\":false,\"range\":[0.6999999999999997,51.3]},\"xaxis25\":{\"anchor\":\"y25\",\"domain\":[0.832,1.0],\"range\":[0.6999999999999997,51.3],\"title\":{\"text\":\"latent_dim\"}},\"yaxis25\":{\"anchor\":\"x25\",\"domain\":[0.0,0.152],\"matches\":\"y21\",\"showticklabels\":false,\"range\":[0.6999999999999997,51.3]},\"title\":{\"text\":\"Contour Plot\"}},                        {\"responsive\": true}                    ).then(function(){\n",
       "                            \n",
       "var gd = document.getElementById('4ea0c9ea-a13b-4b3b-94ce-38e48da9bada');\n",
       "var x = new MutationObserver(function (mutations, observer) {{\n",
       "        var display = window.getComputedStyle(gd).display;\n",
       "        if (!display || display === 'none') {{\n",
       "            console.log([gd, 'removed!']);\n",
       "            Plotly.purge(gd);\n",
       "            observer.disconnect();\n",
       "        }}\n",
       "}});\n",
       "\n",
       "// Listen for the removal of the full notebook cells\n",
       "var notebookContainer = gd.closest('#notebook-container');\n",
       "if (notebookContainer) {{\n",
       "    x.observe(notebookContainer, {childList: true});\n",
       "}}\n",
       "\n",
       "// Listen for the clearing of the current output cell\n",
       "var outputEl = gd.closest('.output');\n",
       "if (outputEl) {{\n",
       "    x.observe(outputEl, {childList: true});\n",
       "}}\n",
       "\n",
       "                        })                };                });            </script>        </div>"
      ]
     },
     "metadata": {},
     "output_type": "display_data"
    }
   ],
   "source": [
    "optuna.visualization.plot_contour(study)"
   ]
  },
  {
   "cell_type": "markdown",
   "id": "98b6c175",
   "metadata": {},
   "source": [
    "## training and loading "
   ]
  },
  {
   "cell_type": "code",
   "execution_count": 91,
   "id": "f278ae51",
   "metadata": {
    "scrolled": true
   },
   "outputs": [],
   "source": [
    "LOG_PATH = f\".{os.sep}tb_logs\"\n",
    "CKPT = \"epoch=24-step=25424.ckpt\""
   ]
  },
  {
   "cell_type": "code",
   "execution_count": 105,
   "id": "145ed048",
   "metadata": {},
   "outputs": [],
   "source": [
    "def url_from_trial(trial):\n",
    "    for key, value in trial.params.items():\n",
    "        print(f\" {key:<20s}: {value}\")\n",
    "    \n",
    "    hyp_latent_dim = trial.params['latent_dim']\n",
    "    hyp_blocks = trial.params['blocks']\n",
    "    hyp_hidden = trial.params['hidden_dim']\n",
    "    hyp_kl_target = trial.params['kl_target']\n",
    "    hyp_dropout = trial.params['dropout']\n",
    "    experiment_name = f\"OPTUNA-LATENT_DIM-{hyp_latent_dim}-BLOCKS-{hyp_blocks}-HIDDEN-{hyp_hidden}-KL_TARGET-{hyp_kl_target:.3f}-DROPOUT-{hyp_dropout:.3f}\"\n",
    "\n",
    "    url = f\"{LOG_PATH}{os.sep}{experiment_name}{os.sep}version_0{os.sep}checkpoints{os.sep}{CKPT}\"\n",
    "    \n",
    "    return url, experiment_name"
   ]
  },
  {
   "cell_type": "code",
   "execution_count": null,
   "id": "2cd3cd1a",
   "metadata": {},
   "outputs": [],
   "source": [
    "if FC_SAVE:\n",
    "    VAE = FcVAE(\n",
    "            aa_dim = AA_ENC_DIM,\n",
    "            sequence_len = MAX_SEQ_LEN,\n",
    "            blocks = FC_BLOCKS,\n",
    "            hidden_dim = FC_HIDDEN_DIM,\n",
    "            hidden_dim_scaling_factor=(0.5, 2.0),\n",
    "            latent_dim = FC_LATENT_DIM,\n",
    "            conditional = 3,\n",
    "            dropout = FC_DROPOUT,\n",
    "            kl_target = FC_KL_TARGET,\n",
    "            lr = FC_LR,\n",
    "            batch_size = FC_BATCH_SIZE,\n",
    "            weight_decay = FC_WEIGHT_DECAY\n",
    "    )\n",
    "    \n",
    "    VAE.ds = ds\n",
    "    trainer = Trainer(max_epochs=FC_EPOCHS, gpus=1)\n",
    "    trainer.fit(VAE)\n",
    "    trainer.save_checkpoint(f\"..{os.sep}models{os.sep}{MODEL_NAME}.ckpt\")"
   ]
  },
  {
   "cell_type": "code",
   "execution_count": 114,
   "id": "9dc6678b",
   "metadata": {},
   "outputs": [
    {
     "name": "stdout",
     "output_type": "stream",
     "text": [
      " blocks              : 5\n",
      " dropout             : 0.3941869036221446\n",
      " hidden_dim          : 512\n",
      " kl_target           : 0.2315779299781796\n",
      " latent_dim          : 30\n"
     ]
    },
    {
     "name": "stderr",
     "output_type": "stream",
     "text": [
      "GPU available: True, used: True\n",
      "TPU available: False, using: 0 TPU cores\n",
      "IPU available: False, using: 0 IPUs\n",
      "Restoring states from the checkpoint path at .\\tb_logs\\OPTUNA-LATENT_DIM-30-BLOCKS-5-HIDDEN-512-KL_TARGET-0.232-DROPOUT-0.394\\version_0\\checkpoints\\epoch=24-step=25424.ckpt\n",
      "LOCAL_RANK: 0 - CUDA_VISIBLE_DEVICES: [0]\n",
      "C:\\Users\\s2118339\\anaconda3\\envs\\GroupProject\\lib\\site-packages\\pytorch_lightning\\trainer\\connectors\\checkpoint_connector.py:251: UserWarning:\n",
      "\n",
      "You're resuming from a checkpoint that ended mid-epoch. Training will start from the beginning of the next epoch. This can cause unreliable results if further training is done, consider using an end of epoch checkpoint.\n",
      "\n",
      "Restored all states from the checkpoint file at .\\tb_logs\\OPTUNA-LATENT_DIM-30-BLOCKS-5-HIDDEN-512-KL_TARGET-0.232-DROPOUT-0.394\\version_0\\checkpoints\\epoch=24-step=25424.ckpt\n",
      "\n",
      "  | Name    | Type      | Params\n",
      "--------------------------------------\n",
      "0 | encoder | FcNetwork | 14.1 M\n",
      "1 | fc_mu   | Linear    | 990   \n",
      "2 | fc_var  | Linear    | 990   \n",
      "3 | decoder | FcNetwork | 14.2 M\n",
      "--------------------------------------\n",
      "28.4 M    Trainable params\n",
      "0         Non-trainable params\n",
      "28.4 M    Total params\n",
      "113.493   Total estimated model params size (MB)\n"
     ]
    },
    {
     "data": {
      "application/vnd.jupyter.widget-view+json": {
       "model_id": "",
       "version_major": 2,
       "version_minor": 0
      },
      "text/plain": [
       "Validation sanity check: 0it [00:00, ?it/s]"
      ]
     },
     "metadata": {},
     "output_type": "display_data"
    },
    {
     "name": "stderr",
     "output_type": "stream",
     "text": [
      "C:\\Users\\s2118339\\anaconda3\\envs\\GroupProject\\lib\\site-packages\\pytorch_lightning\\trainer\\data_loading.py:133: UserWarning:\n",
      "\n",
      "The dataloader, val_dataloader 0, does not have many workers which may be a bottleneck. Consider increasing the value of the `num_workers` argument` (try 12 which is the number of cpus on this machine) in the `DataLoader` init to improve performance.\n",
      "\n",
      "Global seed set to 42\n",
      "C:\\Users\\s2118339\\anaconda3\\envs\\GroupProject\\lib\\site-packages\\pytorch_lightning\\trainer\\data_loading.py:133: UserWarning:\n",
      "\n",
      "The dataloader, train_dataloader, does not have many workers which may be a bottleneck. Consider increasing the value of the `num_workers` argument` (try 12 which is the number of cpus on this machine) in the `DataLoader` init to improve performance.\n",
      "\n"
     ]
    },
    {
     "data": {
      "application/vnd.jupyter.widget-view+json": {
       "model_id": "e99f4ec9ce1047ea93083a02eaced286",
       "version_major": 2,
       "version_minor": 0
      },
      "text/plain": [
       "Training: 0it [00:00, ?it/s]"
      ]
     },
     "metadata": {},
     "output_type": "display_data"
    },
    {
     "data": {
      "application/vnd.jupyter.widget-view+json": {
       "model_id": "",
       "version_major": 2,
       "version_minor": 0
      },
      "text/plain": [
       "Validating: 0it [00:00, ?it/s]"
      ]
     },
     "metadata": {},
     "output_type": "display_data"
    },
    {
     "data": {
      "application/vnd.jupyter.widget-view+json": {
       "model_id": "",
       "version_major": 2,
       "version_minor": 0
      },
      "text/plain": [
       "Validating: 0it [00:00, ?it/s]"
      ]
     },
     "metadata": {},
     "output_type": "display_data"
    },
    {
     "data": {
      "application/vnd.jupyter.widget-view+json": {
       "model_id": "",
       "version_major": 2,
       "version_minor": 0
      },
      "text/plain": [
       "Validating: 0it [00:00, ?it/s]"
      ]
     },
     "metadata": {},
     "output_type": "display_data"
    },
    {
     "data": {
      "application/vnd.jupyter.widget-view+json": {
       "model_id": "",
       "version_major": 2,
       "version_minor": 0
      },
      "text/plain": [
       "Validating: 0it [00:00, ?it/s]"
      ]
     },
     "metadata": {},
     "output_type": "display_data"
    },
    {
     "data": {
      "application/vnd.jupyter.widget-view+json": {
       "model_id": "",
       "version_major": 2,
       "version_minor": 0
      },
      "text/plain": [
       "Validating: 0it [00:00, ?it/s]"
      ]
     },
     "metadata": {},
     "output_type": "display_data"
    },
    {
     "data": {
      "application/vnd.jupyter.widget-view+json": {
       "model_id": "",
       "version_major": 2,
       "version_minor": 0
      },
      "text/plain": [
       "Validating: 0it [00:00, ?it/s]"
      ]
     },
     "metadata": {},
     "output_type": "display_data"
    },
    {
     "data": {
      "application/vnd.jupyter.widget-view+json": {
       "model_id": "",
       "version_major": 2,
       "version_minor": 0
      },
      "text/plain": [
       "Validating: 0it [00:00, ?it/s]"
      ]
     },
     "metadata": {},
     "output_type": "display_data"
    },
    {
     "data": {
      "application/vnd.jupyter.widget-view+json": {
       "model_id": "",
       "version_major": 2,
       "version_minor": 0
      },
      "text/plain": [
       "Validating: 0it [00:00, ?it/s]"
      ]
     },
     "metadata": {},
     "output_type": "display_data"
    },
    {
     "data": {
      "application/vnd.jupyter.widget-view+json": {
       "model_id": "",
       "version_major": 2,
       "version_minor": 0
      },
      "text/plain": [
       "Validating: 0it [00:00, ?it/s]"
      ]
     },
     "metadata": {},
     "output_type": "display_data"
    },
    {
     "data": {
      "application/vnd.jupyter.widget-view+json": {
       "model_id": "",
       "version_major": 2,
       "version_minor": 0
      },
      "text/plain": [
       "Validating: 0it [00:00, ?it/s]"
      ]
     },
     "metadata": {},
     "output_type": "display_data"
    },
    {
     "data": {
      "application/vnd.jupyter.widget-view+json": {
       "model_id": "",
       "version_major": 2,
       "version_minor": 0
      },
      "text/plain": [
       "Validating: 0it [00:00, ?it/s]"
      ]
     },
     "metadata": {},
     "output_type": "display_data"
    },
    {
     "data": {
      "application/vnd.jupyter.widget-view+json": {
       "model_id": "",
       "version_major": 2,
       "version_minor": 0
      },
      "text/plain": [
       "Validating: 0it [00:00, ?it/s]"
      ]
     },
     "metadata": {},
     "output_type": "display_data"
    },
    {
     "data": {
      "application/vnd.jupyter.widget-view+json": {
       "model_id": "",
       "version_major": 2,
       "version_minor": 0
      },
      "text/plain": [
       "Validating: 0it [00:00, ?it/s]"
      ]
     },
     "metadata": {},
     "output_type": "display_data"
    },
    {
     "data": {
      "application/vnd.jupyter.widget-view+json": {
       "model_id": "",
       "version_major": 2,
       "version_minor": 0
      },
      "text/plain": [
       "Validating: 0it [00:00, ?it/s]"
      ]
     },
     "metadata": {},
     "output_type": "display_data"
    },
    {
     "data": {
      "application/vnd.jupyter.widget-view+json": {
       "model_id": "",
       "version_major": 2,
       "version_minor": 0
      },
      "text/plain": [
       "Validating: 0it [00:00, ?it/s]"
      ]
     },
     "metadata": {},
     "output_type": "display_data"
    },
    {
     "data": {
      "application/vnd.jupyter.widget-view+json": {
       "model_id": "",
       "version_major": 2,
       "version_minor": 0
      },
      "text/plain": [
       "Validating: 0it [00:00, ?it/s]"
      ]
     },
     "metadata": {},
     "output_type": "display_data"
    },
    {
     "data": {
      "application/vnd.jupyter.widget-view+json": {
       "model_id": "",
       "version_major": 2,
       "version_minor": 0
      },
      "text/plain": [
       "Validating: 0it [00:00, ?it/s]"
      ]
     },
     "metadata": {},
     "output_type": "display_data"
    },
    {
     "data": {
      "application/vnd.jupyter.widget-view+json": {
       "model_id": "",
       "version_major": 2,
       "version_minor": 0
      },
      "text/plain": [
       "Validating: 0it [00:00, ?it/s]"
      ]
     },
     "metadata": {},
     "output_type": "display_data"
    },
    {
     "data": {
      "application/vnd.jupyter.widget-view+json": {
       "model_id": "",
       "version_major": 2,
       "version_minor": 0
      },
      "text/plain": [
       "Validating: 0it [00:00, ?it/s]"
      ]
     },
     "metadata": {},
     "output_type": "display_data"
    },
    {
     "data": {
      "application/vnd.jupyter.widget-view+json": {
       "model_id": "",
       "version_major": 2,
       "version_minor": 0
      },
      "text/plain": [
       "Validating: 0it [00:00, ?it/s]"
      ]
     },
     "metadata": {},
     "output_type": "display_data"
    },
    {
     "data": {
      "application/vnd.jupyter.widget-view+json": {
       "model_id": "",
       "version_major": 2,
       "version_minor": 0
      },
      "text/plain": [
       "Validating: 0it [00:00, ?it/s]"
      ]
     },
     "metadata": {},
     "output_type": "display_data"
    },
    {
     "data": {
      "application/vnd.jupyter.widget-view+json": {
       "model_id": "",
       "version_major": 2,
       "version_minor": 0
      },
      "text/plain": [
       "Validating: 0it [00:00, ?it/s]"
      ]
     },
     "metadata": {},
     "output_type": "display_data"
    },
    {
     "data": {
      "application/vnd.jupyter.widget-view+json": {
       "model_id": "",
       "version_major": 2,
       "version_minor": 0
      },
      "text/plain": [
       "Validating: 0it [00:00, ?it/s]"
      ]
     },
     "metadata": {},
     "output_type": "display_data"
    },
    {
     "data": {
      "application/vnd.jupyter.widget-view+json": {
       "model_id": "",
       "version_major": 2,
       "version_minor": 0
      },
      "text/plain": [
       "Validating: 0it [00:00, ?it/s]"
      ]
     },
     "metadata": {},
     "output_type": "display_data"
    },
    {
     "data": {
      "application/vnd.jupyter.widget-view+json": {
       "model_id": "",
       "version_major": 2,
       "version_minor": 0
      },
      "text/plain": [
       "Validating: 0it [00:00, ?it/s]"
      ]
     },
     "metadata": {},
     "output_type": "display_data"
    },
    {
     "data": {
      "application/vnd.jupyter.widget-view+json": {
       "model_id": "",
       "version_major": 2,
       "version_minor": 0
      },
      "text/plain": [
       "Validating: 0it [00:00, ?it/s]"
      ]
     },
     "metadata": {},
     "output_type": "display_data"
    },
    {
     "data": {
      "application/vnd.jupyter.widget-view+json": {
       "model_id": "",
       "version_major": 2,
       "version_minor": 0
      },
      "text/plain": [
       "Validating: 0it [00:00, ?it/s]"
      ]
     },
     "metadata": {},
     "output_type": "display_data"
    },
    {
     "data": {
      "application/vnd.jupyter.widget-view+json": {
       "model_id": "",
       "version_major": 2,
       "version_minor": 0
      },
      "text/plain": [
       "Validating: 0it [00:00, ?it/s]"
      ]
     },
     "metadata": {},
     "output_type": "display_data"
    },
    {
     "data": {
      "application/vnd.jupyter.widget-view+json": {
       "model_id": "",
       "version_major": 2,
       "version_minor": 0
      },
      "text/plain": [
       "Validating: 0it [00:00, ?it/s]"
      ]
     },
     "metadata": {},
     "output_type": "display_data"
    },
    {
     "data": {
      "application/vnd.jupyter.widget-view+json": {
       "model_id": "",
       "version_major": 2,
       "version_minor": 0
      },
      "text/plain": [
       "Validating: 0it [00:00, ?it/s]"
      ]
     },
     "metadata": {},
     "output_type": "display_data"
    },
    {
     "data": {
      "application/vnd.jupyter.widget-view+json": {
       "model_id": "",
       "version_major": 2,
       "version_minor": 0
      },
      "text/plain": [
       "Validating: 0it [00:00, ?it/s]"
      ]
     },
     "metadata": {},
     "output_type": "display_data"
    },
    {
     "data": {
      "application/vnd.jupyter.widget-view+json": {
       "model_id": "",
       "version_major": 2,
       "version_minor": 0
      },
      "text/plain": [
       "Validating: 0it [00:00, ?it/s]"
      ]
     },
     "metadata": {},
     "output_type": "display_data"
    },
    {
     "data": {
      "application/vnd.jupyter.widget-view+json": {
       "model_id": "",
       "version_major": 2,
       "version_minor": 0
      },
      "text/plain": [
       "Validating: 0it [00:00, ?it/s]"
      ]
     },
     "metadata": {},
     "output_type": "display_data"
    },
    {
     "data": {
      "application/vnd.jupyter.widget-view+json": {
       "model_id": "",
       "version_major": 2,
       "version_minor": 0
      },
      "text/plain": [
       "Validating: 0it [00:00, ?it/s]"
      ]
     },
     "metadata": {},
     "output_type": "display_data"
    },
    {
     "data": {
      "application/vnd.jupyter.widget-view+json": {
       "model_id": "",
       "version_major": 2,
       "version_minor": 0
      },
      "text/plain": [
       "Validating: 0it [00:00, ?it/s]"
      ]
     },
     "metadata": {},
     "output_type": "display_data"
    },
    {
     "data": {
      "application/vnd.jupyter.widget-view+json": {
       "model_id": "",
       "version_major": 2,
       "version_minor": 0
      },
      "text/plain": [
       "Validating: 0it [00:00, ?it/s]"
      ]
     },
     "metadata": {},
     "output_type": "display_data"
    },
    {
     "data": {
      "application/vnd.jupyter.widget-view+json": {
       "model_id": "",
       "version_major": 2,
       "version_minor": 0
      },
      "text/plain": [
       "Validating: 0it [00:00, ?it/s]"
      ]
     },
     "metadata": {},
     "output_type": "display_data"
    },
    {
     "data": {
      "application/vnd.jupyter.widget-view+json": {
       "model_id": "",
       "version_major": 2,
       "version_minor": 0
      },
      "text/plain": [
       "Validating: 0it [00:00, ?it/s]"
      ]
     },
     "metadata": {},
     "output_type": "display_data"
    },
    {
     "data": {
      "application/vnd.jupyter.widget-view+json": {
       "model_id": "",
       "version_major": 2,
       "version_minor": 0
      },
      "text/plain": [
       "Validating: 0it [00:00, ?it/s]"
      ]
     },
     "metadata": {},
     "output_type": "display_data"
    },
    {
     "data": {
      "application/vnd.jupyter.widget-view+json": {
       "model_id": "",
       "version_major": 2,
       "version_minor": 0
      },
      "text/plain": [
       "Validating: 0it [00:00, ?it/s]"
      ]
     },
     "metadata": {},
     "output_type": "display_data"
    },
    {
     "data": {
      "application/vnd.jupyter.widget-view+json": {
       "model_id": "",
       "version_major": 2,
       "version_minor": 0
      },
      "text/plain": [
       "Validating: 0it [00:00, ?it/s]"
      ]
     },
     "metadata": {},
     "output_type": "display_data"
    },
    {
     "data": {
      "application/vnd.jupyter.widget-view+json": {
       "model_id": "",
       "version_major": 2,
       "version_minor": 0
      },
      "text/plain": [
       "Validating: 0it [00:00, ?it/s]"
      ]
     },
     "metadata": {},
     "output_type": "display_data"
    },
    {
     "data": {
      "application/vnd.jupyter.widget-view+json": {
       "model_id": "",
       "version_major": 2,
       "version_minor": 0
      },
      "text/plain": [
       "Validating: 0it [00:00, ?it/s]"
      ]
     },
     "metadata": {},
     "output_type": "display_data"
    },
    {
     "data": {
      "application/vnd.jupyter.widget-view+json": {
       "model_id": "",
       "version_major": 2,
       "version_minor": 0
      },
      "text/plain": [
       "Validating: 0it [00:00, ?it/s]"
      ]
     },
     "metadata": {},
     "output_type": "display_data"
    },
    {
     "data": {
      "application/vnd.jupyter.widget-view+json": {
       "model_id": "",
       "version_major": 2,
       "version_minor": 0
      },
      "text/plain": [
       "Validating: 0it [00:00, ?it/s]"
      ]
     },
     "metadata": {},
     "output_type": "display_data"
    },
    {
     "data": {
      "application/vnd.jupyter.widget-view+json": {
       "model_id": "",
       "version_major": 2,
       "version_minor": 0
      },
      "text/plain": [
       "Validating: 0it [00:00, ?it/s]"
      ]
     },
     "metadata": {},
     "output_type": "display_data"
    },
    {
     "data": {
      "application/vnd.jupyter.widget-view+json": {
       "model_id": "",
       "version_major": 2,
       "version_minor": 0
      },
      "text/plain": [
       "Validating: 0it [00:00, ?it/s]"
      ]
     },
     "metadata": {},
     "output_type": "display_data"
    },
    {
     "data": {
      "application/vnd.jupyter.widget-view+json": {
       "model_id": "",
       "version_major": 2,
       "version_minor": 0
      },
      "text/plain": [
       "Validating: 0it [00:00, ?it/s]"
      ]
     },
     "metadata": {},
     "output_type": "display_data"
    },
    {
     "data": {
      "application/vnd.jupyter.widget-view+json": {
       "model_id": "",
       "version_major": 2,
       "version_minor": 0
      },
      "text/plain": [
       "Validating: 0it [00:00, ?it/s]"
      ]
     },
     "metadata": {},
     "output_type": "display_data"
    },
    {
     "data": {
      "application/vnd.jupyter.widget-view+json": {
       "model_id": "",
       "version_major": 2,
       "version_minor": 0
      },
      "text/plain": [
       "Validating: 0it [00:00, ?it/s]"
      ]
     },
     "metadata": {},
     "output_type": "display_data"
    },
    {
     "data": {
      "application/vnd.jupyter.widget-view+json": {
       "model_id": "",
       "version_major": 2,
       "version_minor": 0
      },
      "text/plain": [
       "Validating: 0it [00:00, ?it/s]"
      ]
     },
     "metadata": {},
     "output_type": "display_data"
    },
    {
     "data": {
      "application/vnd.jupyter.widget-view+json": {
       "model_id": "",
       "version_major": 2,
       "version_minor": 0
      },
      "text/plain": [
       "Validating: 0it [00:00, ?it/s]"
      ]
     },
     "metadata": {},
     "output_type": "display_data"
    },
    {
     "data": {
      "application/vnd.jupyter.widget-view+json": {
       "model_id": "",
       "version_major": 2,
       "version_minor": 0
      },
      "text/plain": [
       "Validating: 0it [00:00, ?it/s]"
      ]
     },
     "metadata": {},
     "output_type": "display_data"
    },
    {
     "data": {
      "application/vnd.jupyter.widget-view+json": {
       "model_id": "",
       "version_major": 2,
       "version_minor": 0
      },
      "text/plain": [
       "Validating: 0it [00:00, ?it/s]"
      ]
     },
     "metadata": {},
     "output_type": "display_data"
    },
    {
     "data": {
      "application/vnd.jupyter.widget-view+json": {
       "model_id": "",
       "version_major": 2,
       "version_minor": 0
      },
      "text/plain": [
       "Validating: 0it [00:00, ?it/s]"
      ]
     },
     "metadata": {},
     "output_type": "display_data"
    },
    {
     "data": {
      "application/vnd.jupyter.widget-view+json": {
       "model_id": "",
       "version_major": 2,
       "version_minor": 0
      },
      "text/plain": [
       "Validating: 0it [00:00, ?it/s]"
      ]
     },
     "metadata": {},
     "output_type": "display_data"
    },
    {
     "data": {
      "application/vnd.jupyter.widget-view+json": {
       "model_id": "",
       "version_major": 2,
       "version_minor": 0
      },
      "text/plain": [
       "Validating: 0it [00:00, ?it/s]"
      ]
     },
     "metadata": {},
     "output_type": "display_data"
    },
    {
     "data": {
      "application/vnd.jupyter.widget-view+json": {
       "model_id": "",
       "version_major": 2,
       "version_minor": 0
      },
      "text/plain": [
       "Validating: 0it [00:00, ?it/s]"
      ]
     },
     "metadata": {},
     "output_type": "display_data"
    },
    {
     "data": {
      "application/vnd.jupyter.widget-view+json": {
       "model_id": "",
       "version_major": 2,
       "version_minor": 0
      },
      "text/plain": [
       "Validating: 0it [00:00, ?it/s]"
      ]
     },
     "metadata": {},
     "output_type": "display_data"
    },
    {
     "data": {
      "application/vnd.jupyter.widget-view+json": {
       "model_id": "",
       "version_major": 2,
       "version_minor": 0
      },
      "text/plain": [
       "Validating: 0it [00:00, ?it/s]"
      ]
     },
     "metadata": {},
     "output_type": "display_data"
    },
    {
     "data": {
      "application/vnd.jupyter.widget-view+json": {
       "model_id": "",
       "version_major": 2,
       "version_minor": 0
      },
      "text/plain": [
       "Validating: 0it [00:00, ?it/s]"
      ]
     },
     "metadata": {},
     "output_type": "display_data"
    },
    {
     "data": {
      "application/vnd.jupyter.widget-view+json": {
       "model_id": "",
       "version_major": 2,
       "version_minor": 0
      },
      "text/plain": [
       "Validating: 0it [00:00, ?it/s]"
      ]
     },
     "metadata": {},
     "output_type": "display_data"
    },
    {
     "data": {
      "application/vnd.jupyter.widget-view+json": {
       "model_id": "",
       "version_major": 2,
       "version_minor": 0
      },
      "text/plain": [
       "Validating: 0it [00:00, ?it/s]"
      ]
     },
     "metadata": {},
     "output_type": "display_data"
    },
    {
     "data": {
      "application/vnd.jupyter.widget-view+json": {
       "model_id": "",
       "version_major": 2,
       "version_minor": 0
      },
      "text/plain": [
       "Validating: 0it [00:00, ?it/s]"
      ]
     },
     "metadata": {},
     "output_type": "display_data"
    },
    {
     "data": {
      "application/vnd.jupyter.widget-view+json": {
       "model_id": "",
       "version_major": 2,
       "version_minor": 0
      },
      "text/plain": [
       "Validating: 0it [00:00, ?it/s]"
      ]
     },
     "metadata": {},
     "output_type": "display_data"
    },
    {
     "data": {
      "application/vnd.jupyter.widget-view+json": {
       "model_id": "",
       "version_major": 2,
       "version_minor": 0
      },
      "text/plain": [
       "Validating: 0it [00:00, ?it/s]"
      ]
     },
     "metadata": {},
     "output_type": "display_data"
    },
    {
     "data": {
      "application/vnd.jupyter.widget-view+json": {
       "model_id": "",
       "version_major": 2,
       "version_minor": 0
      },
      "text/plain": [
       "Validating: 0it [00:00, ?it/s]"
      ]
     },
     "metadata": {},
     "output_type": "display_data"
    },
    {
     "data": {
      "application/vnd.jupyter.widget-view+json": {
       "model_id": "",
       "version_major": 2,
       "version_minor": 0
      },
      "text/plain": [
       "Validating: 0it [00:00, ?it/s]"
      ]
     },
     "metadata": {},
     "output_type": "display_data"
    },
    {
     "data": {
      "application/vnd.jupyter.widget-view+json": {
       "model_id": "",
       "version_major": 2,
       "version_minor": 0
      },
      "text/plain": [
       "Validating: 0it [00:00, ?it/s]"
      ]
     },
     "metadata": {},
     "output_type": "display_data"
    },
    {
     "data": {
      "application/vnd.jupyter.widget-view+json": {
       "model_id": "",
       "version_major": 2,
       "version_minor": 0
      },
      "text/plain": [
       "Validating: 0it [00:00, ?it/s]"
      ]
     },
     "metadata": {},
     "output_type": "display_data"
    },
    {
     "data": {
      "application/vnd.jupyter.widget-view+json": {
       "model_id": "",
       "version_major": 2,
       "version_minor": 0
      },
      "text/plain": [
       "Validating: 0it [00:00, ?it/s]"
      ]
     },
     "metadata": {},
     "output_type": "display_data"
    },
    {
     "data": {
      "application/vnd.jupyter.widget-view+json": {
       "model_id": "",
       "version_major": 2,
       "version_minor": 0
      },
      "text/plain": [
       "Validating: 0it [00:00, ?it/s]"
      ]
     },
     "metadata": {},
     "output_type": "display_data"
    },
    {
     "data": {
      "application/vnd.jupyter.widget-view+json": {
       "model_id": "",
       "version_major": 2,
       "version_minor": 0
      },
      "text/plain": [
       "Validating: 0it [00:00, ?it/s]"
      ]
     },
     "metadata": {},
     "output_type": "display_data"
    },
    {
     "data": {
      "application/vnd.jupyter.widget-view+json": {
       "model_id": "",
       "version_major": 2,
       "version_minor": 0
      },
      "text/plain": [
       "Validating: 0it [00:00, ?it/s]"
      ]
     },
     "metadata": {},
     "output_type": "display_data"
    },
    {
     "data": {
      "application/vnd.jupyter.widget-view+json": {
       "model_id": "",
       "version_major": 2,
       "version_minor": 0
      },
      "text/plain": [
       "Validating: 0it [00:00, ?it/s]"
      ]
     },
     "metadata": {},
     "output_type": "display_data"
    }
   ],
   "source": [
    "if FC_LOAD:\n",
    "    logger = TensorBoardLogger(\"tb_logs\", name=experiment_name) \n",
    "    url, experiment_name = url_from_trial(trial)\n",
    "    VAE = FcVAE.load_from_checkpoint(checkpoint_path=url) #f\"..{os.sep}models{os.sep}{MODEL_NAME}.ckpt\")\n",
    "    VAE = VAE.cuda()\n",
    "    VAE.ds = [ds, ds_val, ds_test]\n",
    "    trainer = pl.Trainer(gpus=1,  logger=logger, max_epochs=FC_EPOCHS)\n",
    "    trainer.fit(VAE, ckpt_path=url)"
   ]
  },
  {
   "cell_type": "code",
   "execution_count": 115,
   "id": "3eb1dc89",
   "metadata": {},
   "outputs": [
    {
     "data": {
      "text/plain": [
       "FcVAE(\n",
       "  (encoder): FcNetwork(\n",
       "    (network): Sequential(\n",
       "      (block_0): Sequential(\n",
       "        (0): Linear(in_features=27282, out_features=512, bias=True)\n",
       "        (1): BatchNorm1d(512, eps=1e-05, momentum=0.1, affine=True, track_running_stats=True)\n",
       "        (2): LeakyReLU(negative_slope=0.1)\n",
       "        (3): Dropout(p=0.3941869036221446, inplace=False)\n",
       "      )\n",
       "      (block_1): Sequential(\n",
       "        (0): Linear(in_features=512, out_features=256, bias=True)\n",
       "        (1): BatchNorm1d(256, eps=1e-05, momentum=0.1, affine=True, track_running_stats=True)\n",
       "        (2): LeakyReLU(negative_slope=0.1)\n",
       "        (3): Dropout(p=0.3941869036221446, inplace=False)\n",
       "      )\n",
       "      (block_2): Sequential(\n",
       "        (0): Linear(in_features=256, out_features=128, bias=True)\n",
       "        (1): BatchNorm1d(128, eps=1e-05, momentum=0.1, affine=True, track_running_stats=True)\n",
       "        (2): LeakyReLU(negative_slope=0.1)\n",
       "        (3): Dropout(p=0.3941869036221446, inplace=False)\n",
       "      )\n",
       "      (block_3): Sequential(\n",
       "        (0): Linear(in_features=128, out_features=64, bias=True)\n",
       "        (1): BatchNorm1d(64, eps=1e-05, momentum=0.1, affine=True, track_running_stats=True)\n",
       "        (2): LeakyReLU(negative_slope=0.1)\n",
       "        (3): Dropout(p=0.3941869036221446, inplace=False)\n",
       "      )\n",
       "      (block_4): Sequential(\n",
       "        (0): Linear(in_features=64, out_features=32, bias=True)\n",
       "        (1): BatchNorm1d(32, eps=1e-05, momentum=0.1, affine=True, track_running_stats=True)\n",
       "        (2): LeakyReLU(negative_slope=0.1)\n",
       "      )\n",
       "    )\n",
       "  )\n",
       "  (fc_mu): Linear(in_features=32, out_features=30, bias=True)\n",
       "  (fc_var): Linear(in_features=32, out_features=30, bias=True)\n",
       "  (decoder): FcNetwork(\n",
       "    (network): Sequential(\n",
       "      (block_0): Sequential(\n",
       "        (0): Linear(in_features=33, out_features=64, bias=True)\n",
       "        (1): BatchNorm1d(64, eps=1e-05, momentum=0.1, affine=True, track_running_stats=True)\n",
       "        (2): LeakyReLU(negative_slope=0.1)\n",
       "        (3): Dropout(p=0.3941869036221446, inplace=False)\n",
       "      )\n",
       "      (block_1): Sequential(\n",
       "        (0): Linear(in_features=64, out_features=128, bias=True)\n",
       "        (1): BatchNorm1d(128, eps=1e-05, momentum=0.1, affine=True, track_running_stats=True)\n",
       "        (2): LeakyReLU(negative_slope=0.1)\n",
       "        (3): Dropout(p=0.3941869036221446, inplace=False)\n",
       "      )\n",
       "      (block_2): Sequential(\n",
       "        (0): Linear(in_features=128, out_features=256, bias=True)\n",
       "        (1): BatchNorm1d(256, eps=1e-05, momentum=0.1, affine=True, track_running_stats=True)\n",
       "        (2): LeakyReLU(negative_slope=0.1)\n",
       "        (3): Dropout(p=0.3941869036221446, inplace=False)\n",
       "      )\n",
       "      (block_3): Sequential(\n",
       "        (0): Linear(in_features=256, out_features=512, bias=True)\n",
       "        (1): BatchNorm1d(512, eps=1e-05, momentum=0.1, affine=True, track_running_stats=True)\n",
       "        (2): LeakyReLU(negative_slope=0.1)\n",
       "        (3): Dropout(p=0.3941869036221446, inplace=False)\n",
       "      )\n",
       "      (block_4): Sequential(\n",
       "        (0): Linear(in_features=512, out_features=27279, bias=True)\n",
       "        (1): BatchNorm1d(27279, eps=1e-05, momentum=0.1, affine=True, track_running_stats=True)\n",
       "        (2): LeakyReLU(negative_slope=0.1)\n",
       "      )\n",
       "    )\n",
       "  )\n",
       ")"
      ]
     },
     "execution_count": 115,
     "metadata": {},
     "output_type": "execute_result"
    }
   ],
   "source": [
    "VAE.eval()"
   ]
  },
  {
   "cell_type": "code",
   "execution_count": 116,
   "id": "7219f694",
   "metadata": {},
   "outputs": [],
   "source": [
    "j = -1"
   ]
  },
  {
   "cell_type": "code",
   "execution_count": 117,
   "id": "d5761ac0",
   "metadata": {},
   "outputs": [
    {
     "name": "stdout",
     "output_type": "stream",
     "text": [
      "MFV-F-LVLLPLVSSQCVNLTTRTQLPPAYTNSFTRGVYYPDKVFRSSVLHSTQDLFLPFFSNVTWFHVI--SGTNGTKRFDNPVLPFNDGVYFASIEKSNIIRGWIFGT--TLDSKTQSLLIVNNATNVVIKVCEFQFCNDPFLD-----HKNNKSWMESEFRVYSSANNCTFEYVSQPFLMDLEGKQGNFKNLREFVFKNIDGYFKIYSKHTPINL--V---R------D---LPQGFSALEPLVDLPIGINITRFQTLLALHRS---YLTPGD-SSSGWTAGAAAYYVGYLQPRTFLLKYNENGTITDAVDCALDPLSETKCTLKSFTVEKGIYQTSNFRVQPTESIVRFPNITNLCPFG-EVFNATRFASVYAWNRKRISNCVADYSVLYNS-AS-FS-TFKCYGVSPTKLNDLCFTNVYADSFVIRGDEVRQIAPGQTGK-IADYNYKLPDDFTGCVIAWNSNN-LDSKVG-GNYNYLYRLFRKSNLKPFERDISTEIYQAGST--PCNGVE-GFNCYFPLQ-SYG-FQ-PTN-GVGY-QPYRVVVLSFELLHAPATVCGPKKSTNLVKNKCVNFNFNGLKGTGVLTESNKKFLPFQQFGRDIADTTDAVRDPQTLEILDITPCSFGGVSVITPGTNTSNQVAVLYQGVNCTEVPVAIHADQLTPTWRVYSTGSNVFQTRAGCLIGAEYVNNSYECDIPIGAGICASYQTQTK----SHRRARSVASQSIIAYTMSLGAENSVAYSNNSIAIPTNFTISVTTEILPVSMTKTSVDCTMYICGDSTECSNLLLQYGSFCTQLKRALTGIAVEQDKNTQEVFAQVKQIYKTPPIKYFGGFNFSQILPDPSKPSKRSFIEDLLFNKVTLADAGFIKQYGDCLGDIAARDLICAQKFKGLTVLPPLLTDEMIAQYTSALLAGTITSGWTFGAGAALQIPFAMQMAYRFNGIGVTQNVLYENQKLIANQFNSAIGKIQDSLSSTASALGKLQDVVNHNAQALNTLVKQLSSKFGAISSVLNDIFSRLDKVEAEVQIDRLITGRLQSLQTYVTQQLIRAAEIRASANLAATKMSECVLGQSKRVDFCGKGYHLMSFPQSAPHGVVFLHVTYVPAQEKNFTTAPAICHDGKAHFPREGVFVSNGTHWFVTQRNFYEPQIITTDNTFVSGNCDVVIGIVNNTVYDPLQPELDSFKEELDKYFKNHTSPDVDLGDISGINASVVNIQKEIDRLNEVAKNLNESLIDLQELGKYEQYIKWPWYIWLGFIAGLIAIVMVTIMLCCMTSCCSCLKGCCSCGSCCKFDEDDSEPVLKGVKLHYT\n",
      "||||||||||||||||||||||||||||||||||||||||||||||||||||||||||||||||||||||||||||||||||||||||||||||||||||||||||||||||||||||||||||||||||||||||||||||||||||||||||||||||||||||||||||||||||||||||||||||||||||||||||||||||||||||||  | ||||||||||||||||||||||||||||||||||||||||||||||||||||||||||||||||||||||||||||||||||||||||||||||||||||||||||||||||||||||||||||||||||||||||||||||  |||||||||||||||||||||||||||||||  |  |  |||||||||||||||||||||||||||||||||||||||||  ||||||||||||||||||||| | |||||  ||||||||||||||||||||||||||||||    |||||  ||||||||  ||  |  ||  |||  ||||||||||||||||||||||||||||||||||||||||||||||||||||||||||||||||||||||||||||||||||||||||||||||||||||||||||||||||||||||||||||||||||||||||||||||||||||||||||||||||||||||||||||||||||||||||||||||||||||||||||||||||||||||||||||||||||||||||||||||||||||||||||||||||||||||||||||||||||||||||||||||||||||||||||||||||||||||||||||||||||||||||||||||||||||||||||||||||||||||||||||||||||||||||||||||||||||||||||||||||||||||||||||||||||||||||||||||||||||||||||||||||||||||||||||||||||||||||||||||||||||||||||||||||||||||||||||||||||||||||||||||||||||||||||||||||||||||||||||||||||||||||||||||||||||||||||||||||||||||||||||||||||||||||||||||||||||||||||||||||||||||||||||||||||||||||||||||||||||||||||||||||||||||||||||||||||||||||||||||||||||||||||||||||||||||||||||||||||||||||||||||||||||\n",
      "MFV-F-LVLLPLVSSQCVNLTTRTQLPPAYTNSFTRGVYYPDKVFRSSVLHSTQDLFLPFFSNVTWFHVI--SGTNGTKRFDNPVLPFNDGVYFASIEKSNIIRGWIFGT--TLDSKTQSLLIVNNATNVVIKVCEFQFCNDPFLD-----HKNNKSWMESEFRVYSSANNCTFEYVSQPFLMDLEGKQGNFKNLREFVFKNIDGYFKIYSKHTPI---IV---R------D---LPQGFSALEPLVDLPIGINITRFQTLLALHRS---YLTPGD-SSSGWTAGAAAYYVGYLQPRTFLLKYNENGTITDAVDCALDPLSETKCTLKSFTVEKGIYQTSNFRVQPTESIVRFPNITNLCPF-DEVFNATRFASVYAWNRKRISNCVADYSVLYN-LA-PF-FTFKCYGVSPTKLNDLCFTNVYADSFVIRGDEVRQIAPGQTG-NIADYNYKLPDDFTGCVIAWNS-NKLDSKV-SGNYNYLYRLFRKSNLKPFERDISTEIYQAG--NKPCNGV-AGFNCYFPL-RSY-SF-RPT-YGVG-HQPYRVVVLSFELLHAPATVCGPKKSTNLVKNKCVNFNFNGLKGTGVLTESNKKFLPFQQFGRDIADTTDAVRDPQTLEILDITPCSFGGVSVITPGTNTSNQVAVLYQGVNCTEVPVAIHADQLTPTWRVYSTGSNVFQTRAGCLIGAEYVNNSYECDIPIGAGICASYQTQTK----SHRRARSVASQSIIAYTMSLGAENSVAYSNNSIAIPTNFTISVTTEILPVSMTKTSVDCTMYICGDSTECSNLLLQYGSFCTQLKRALTGIAVEQDKNTQEVFAQVKQIYKTPPIKYFGGFNFSQILPDPSKPSKRSFIEDLLFNKVTLADAGFIKQYGDCLGDIAARDLICAQKFKGLTVLPPLLTDEMIAQYTSALLAGTITSGWTFGAGAALQIPFAMQMAYRFNGIGVTQNVLYENQKLIANQFNSAIGKIQDSLSSTASALGKLQDVVNHNAQALNTLVKQLSSKFGAISSVLNDIFSRLDKVEAEVQIDRLITGRLQSLQTYVTQQLIRAAEIRASANLAATKMSECVLGQSKRVDFCGKGYHLMSFPQSAPHGVVFLHVTYVPAQEKNFTTAPAICHDGKAHFPREGVFVSNGTHWFVTQRNFYEPQIITTDNTFVSGNCDVVIGIVNNTVYDPLQPELDSFKEELDKYFKNHTSPDVDLGDISGINASVVNIQKEIDRLNEVAKNLNESLIDLQELGKYEQYIKWPWYIWLGFIAGLIAIVMVTIMLCCMTSCCSCLKGCCSCGSCCKFDEDDSEPVLKGVKLHYT\n",
      "  Score=1282\n",
      "\n"
     ]
    }
   ],
   "source": [
    "j += 1\n",
    "h = ds.tok.decode(\n",
    "        VAE.forward(\n",
    "            ds.tok.tokenize(ds.viral_seqs[j][:MAX_SEQ_LEN]).unsqueeze(dim=0).to(VAE.device),\n",
    "            torch.tensor(ds.seq_immuno_cat_tokens[ds.seq_immuno_cat[ds.viral_seqs[j]]]).unsqueeze(dim=0).to(VAE.device),\n",
    "            sample=False).reshape(1, MAX_SEQ_LEN, -1)\n",
    ")\n",
    "alignments = pairwise2.align.globalxx(ds.viral_seqs[j][:MAX_SEQ_LEN], h[0])\n",
    "print(format_alignment(*alignments[0]))"
   ]
  },
  {
   "cell_type": "markdown",
   "id": "0317c9f8",
   "metadata": {},
   "source": [
    "## latent space"
   ]
  },
  {
   "cell_type": "code",
   "execution_count": 147,
   "id": "465cedac",
   "metadata": {},
   "outputs": [],
   "source": [
    "import statsmodels"
   ]
  },
  {
   "cell_type": "code",
   "execution_count": 148,
   "id": "8499a53e",
   "metadata": {},
   "outputs": [
    {
     "data": {
      "text/plain": [
       "<module 'statsmodels.stats.diagnostic' from 'C:\\\\Users\\\\s2118339\\\\anaconda3\\\\envs\\\\GroupProject\\\\lib\\\\site-packages\\\\statsmodels\\\\stats\\\\diagnostic.py'>"
      ]
     },
     "execution_count": 148,
     "metadata": {},
     "output_type": "execute_result"
    }
   ],
   "source": [
    "statsmodels.stats.diagnostic.normal_ad"
   ]
  },
  {
   "cell_type": "code",
   "execution_count": 149,
   "id": "e19e6dc2",
   "metadata": {},
   "outputs": [],
   "source": [
    "mus, log_vars, latents, cats = VAE.get_latent_from_seq(VAE.ds[PHASE_TRAIN].viral_seqs)"
   ]
  },
  {
   "cell_type": "markdown",
   "id": "2094a720",
   "metadata": {},
   "source": [
    "### remove outliers"
   ]
  },
  {
   "cell_type": "code",
   "execution_count": null,
   "id": "ebb9fa56",
   "metadata": {},
   "outputs": [],
   "source": [
    "np.cov(Latent_Xs, Latent_Ys)"
   ]
  },
  {
   "cell_type": "markdown",
   "id": "d86122a1",
   "metadata": {},
   "source": [
    "## generate new sequences"
   ]
  },
  {
   "cell_type": "code",
   "execution_count": 136,
   "id": "2fcb9c44",
   "metadata": {},
   "outputs": [],
   "source": [
    "generated_seqs_new = [None, None, None]\n",
    "antigenicity_names = [\"low\", \"medium\", \"high\"]"
   ]
  },
  {
   "cell_type": "markdown",
   "id": "5e460bc4",
   "metadata": {},
   "source": [
    "### lowly antigenic"
   ]
  },
  {
   "cell_type": "code",
   "execution_count": 126,
   "id": "6bfbe731",
   "metadata": {},
   "outputs": [],
   "source": [
    "j = 0"
   ]
  },
  {
   "cell_type": "code",
   "execution_count": 137,
   "id": "e34ef188",
   "metadata": {},
   "outputs": [
    {
     "name": "stdout",
     "output_type": "stream",
     "text": [
      "Generated: 948 New: 897\n"
     ]
    }
   ],
   "source": [
    "generated_seqs[j] = generate_seqs(VAE, FC_SAMPLES, antigenicity=j)\n",
    "\n",
    "generated_seqs_new[j] = {}\n",
    "for seq, cnt in generated_seqs[j].items():\n",
    "    if seq not in VAE.ds[PHASE_TRAIN].viral_seqs:\n",
    "        generated_seqs_new[j].update({seq: cnt})\n",
    "        \n",
    "print(f\"Generated: {len(generated_seqs[j])} New: {len(generated_seqs_new[j])}\")"
   ]
  },
  {
   "cell_type": "code",
   "execution_count": 139,
   "id": "9954b878",
   "metadata": {},
   "outputs": [],
   "source": [
    "write_seqs_to_fasta(generated_seqs[j], f\"..{os.sep}data{os.sep}spike_protein_sequences{os.sep}{MODEL_NAME}_gen_{antigenicity_names[j]}_all.fasta\");\n",
    "write_seqs_to_fasta(generated_seqs_new[j], f\"..{os.sep}data{os.sep}spike_protein_sequences{os.sep}{MODEL_NAME}_gen_{antigenicity_names[j]}.fasta\");"
   ]
  },
  {
   "cell_type": "markdown",
   "id": "a933444b",
   "metadata": {},
   "source": [
    "### intermediate antigenic"
   ]
  },
  {
   "cell_type": "code",
   "execution_count": 140,
   "id": "a008b8dc",
   "metadata": {},
   "outputs": [],
   "source": [
    "j = 1"
   ]
  },
  {
   "cell_type": "code",
   "execution_count": 141,
   "id": "dc7a6124",
   "metadata": {},
   "outputs": [
    {
     "name": "stderr",
     "output_type": "stream",
     "text": [
      "Global seed set to 42\n"
     ]
    },
    {
     "data": {
      "application/vnd.jupyter.widget-view+json": {
       "model_id": "987f131a74db4980ac5214dcceec1a12",
       "version_major": 2,
       "version_minor": 0
      },
      "text/plain": [
       "  0%|          | 0/50000 [00:00<?, ?it/s]"
      ]
     },
     "metadata": {},
     "output_type": "display_data"
    },
    {
     "name": "stdout",
     "output_type": "stream",
     "text": [
      "Generated: 1331 New: 1154\n"
     ]
    }
   ],
   "source": [
    "generated_seqs[j] = generate_seqs(VAE, FC_SAMPLES, antigenicity=j)\n",
    "\n",
    "generated_seqs_new[j] = {}\n",
    "for seq, cnt in generated_seqs[j].items():\n",
    "    if seq not in VAE.ds[PHASE_TRAIN].viral_seqs:\n",
    "        generated_seqs_new[j].update({seq: cnt})\n",
    "        \n",
    "print(f\"Generated: {len(generated_seqs[j])} New: {len(generated_seqs_new[j])}\")"
   ]
  },
  {
   "cell_type": "code",
   "execution_count": 142,
   "id": "bc8c613e",
   "metadata": {},
   "outputs": [],
   "source": [
    "write_seqs_to_fasta(generated_seqs[j], f\"..{os.sep}data{os.sep}spike_protein_sequences{os.sep}{MODEL_NAME}_gen_{antigenicity_names[j]}_all.fasta\");\n",
    "write_seqs_to_fasta(generated_seqs_new[j], f\"..{os.sep}data{os.sep}spike_protein_sequences{os.sep}{MODEL_NAME}_gen_{antigenicity_names[j]}.fasta\");"
   ]
  },
  {
   "cell_type": "markdown",
   "id": "309e7bcf",
   "metadata": {},
   "source": [
    "### highly antigenic"
   ]
  },
  {
   "cell_type": "code",
   "execution_count": 143,
   "id": "5ad6653b",
   "metadata": {},
   "outputs": [],
   "source": [
    "j = 2"
   ]
  },
  {
   "cell_type": "code",
   "execution_count": 144,
   "id": "25ceb164",
   "metadata": {},
   "outputs": [
    {
     "name": "stderr",
     "output_type": "stream",
     "text": [
      "Global seed set to 42\n"
     ]
    },
    {
     "data": {
      "application/vnd.jupyter.widget-view+json": {
       "model_id": "525b3e41307a4552ae7513af54504f34",
       "version_major": 2,
       "version_minor": 0
      },
      "text/plain": [
       "  0%|          | 0/50000 [00:00<?, ?it/s]"
      ]
     },
     "metadata": {},
     "output_type": "display_data"
    },
    {
     "name": "stdout",
     "output_type": "stream",
     "text": [
      "Generated: 1323 New: 1138\n"
     ]
    }
   ],
   "source": [
    "generated_seqs[j] = generate_seqs(VAE, FC_SAMPLES, antigenicity=j)\n",
    "\n",
    "generated_seqs_new[j] = {}\n",
    "for seq, cnt in generated_seqs[j].items():\n",
    "    if seq not in VAE.ds[PHASE_TRAIN].viral_seqs:\n",
    "        generated_seqs_new[j].update({seq: cnt})\n",
    "        \n",
    "print(f\"Generated: {len(generated_seqs[j])} New: {len(generated_seqs_new[j])}\")"
   ]
  },
  {
   "cell_type": "code",
   "execution_count": 152,
   "id": "8644a3da",
   "metadata": {},
   "outputs": [],
   "source": [
    "write_seqs_to_fasta(generated_seqs[j], f\"..{os.sep}data{os.sep}spike_protein_sequences{os.sep}{MODEL_NAME}_gen_{antigenicity_names[j]}_all.fasta\");\n",
    "write_seqs_to_fasta(generated_seqs_new[j], f\"..{os.sep}data{os.sep}spike_protein_sequences{os.sep}{MODEL_NAME}_gen_{antigenicity_names[j]}.fasta\");"
   ]
  },
  {
   "cell_type": "markdown",
   "id": "bba11ab9",
   "metadata": {},
   "source": [
    "### evaluate antigenicity"
   ]
  },
  {
   "cell_type": "markdown",
   "id": "5c79d216",
   "metadata": {},
   "source": [
    "#### with ImmunoBERT"
   ]
  },
  {
   "cell_type": "code",
   "execution_count": null,
   "id": "c4b80b85",
   "metadata": {},
   "outputs": [],
   "source": [
    "for j in range(3):\n",
    "    for seq in tqdm(generated_seqs_new[j].keys()):             \n",
    "        IB_seq_presentation[seq], IB_seq_scores[seq] = score_seq_IB(model, seq,  MHC_list, IB_peptide_scores)"
   ]
  },
  {
   "cell_type": "code",
   "execution_count": null,
   "id": "3eff4747",
   "metadata": {},
   "outputs": [],
   "source": [
    "matplotlib.rcParams.update({'font.size': 15})\n",
    "\n",
    "for j in range(3):\n",
    "    sns.distplot([IB_seq_scores[seq] for seq in generated_seqs_new[j].keys()])\n",
    "\n",
    "plt.legend(labels=[\"low\",\"medium\", \"high\"])"
   ]
  },
  {
   "cell_type": "markdown",
   "id": "7995cdb1",
   "metadata": {},
   "source": [
    "#### with netMHCpan"
   ]
  },
  {
   "cell_type": "code",
   "execution_count": 151,
   "id": "5519cf70",
   "metadata": {},
   "outputs": [
    {
     "data": {
      "application/vnd.jupyter.widget-view+json": {
       "model_id": "0309f787794c409fb276f7186d83eb6c",
       "version_major": 2,
       "version_minor": 0
      },
      "text/plain": [
       "  0%|          | 0/897 [00:00<?, ?it/s]"
      ]
     },
     "metadata": {},
     "output_type": "display_data"
    },
    {
     "data": {
      "application/vnd.jupyter.widget-view+json": {
       "model_id": "5803947d5c3b4915abe68716caa0245a",
       "version_major": 2,
       "version_minor": 0
      },
      "text/plain": [
       "  0%|          | 0/1154 [00:00<?, ?it/s]"
      ]
     },
     "metadata": {},
     "output_type": "display_data"
    },
    {
     "data": {
      "application/vnd.jupyter.widget-view+json": {
       "model_id": "5c63be9260714e858e7d3aba5d1ce223",
       "version_major": 2,
       "version_minor": 0
      },
      "text/plain": [
       "  0%|          | 0/1138 [00:00<?, ?it/s]"
      ]
     },
     "metadata": {},
     "output_type": "display_data"
    },
    {
     "name": "stdout",
     "output_type": "stream",
     "text": [
      "./netMHCpan -p ~/win/Documents/2022H1/Group_project/CovidProject/netMHCpan/missing.pep -a HLA-A01:01 > ~/win/Documents/2022H1/Group_project/CovidProject/netMHCpan/missing_A0101.pep.out\n",
      "\n",
      "\n",
      "./netMHCpan -p ~/win/Documents/2022H1/Group_project/CovidProject/netMHCpan/missing.pep -a HLA-A02:01 > ~/win/Documents/2022H1/Group_project/CovidProject/netMHCpan/missing_A0201.pep.out\n",
      "\n",
      "\n",
      "./netMHCpan -p ~/win/Documents/2022H1/Group_project/CovidProject/netMHCpan/missing.pep -a HLA-A03:01 > ~/win/Documents/2022H1/Group_project/CovidProject/netMHCpan/missing_A0301.pep.out\n",
      "\n",
      "\n",
      "./netMHCpan -p ~/win/Documents/2022H1/Group_project/CovidProject/netMHCpan/missing.pep -a HLA-A24:02 > ~/win/Documents/2022H1/Group_project/CovidProject/netMHCpan/missing_A2402.pep.out\n",
      "\n",
      "\n",
      "./netMHCpan -p ~/win/Documents/2022H1/Group_project/CovidProject/netMHCpan/missing.pep -a HLA-A26:01 > ~/win/Documents/2022H1/Group_project/CovidProject/netMHCpan/missing_A2601.pep.out\n",
      "\n",
      "\n",
      "./netMHCpan -p ~/win/Documents/2022H1/Group_project/CovidProject/netMHCpan/missing.pep -a HLA-B07:02 > ~/win/Documents/2022H1/Group_project/CovidProject/netMHCpan/missing_B0702.pep.out\n",
      "\n",
      "\n",
      "./netMHCpan -p ~/win/Documents/2022H1/Group_project/CovidProject/netMHCpan/missing.pep -a HLA-B08:01 > ~/win/Documents/2022H1/Group_project/CovidProject/netMHCpan/missing_B0801.pep.out\n",
      "\n",
      "\n",
      "./netMHCpan -p ~/win/Documents/2022H1/Group_project/CovidProject/netMHCpan/missing.pep -a HLA-B27:05 > ~/win/Documents/2022H1/Group_project/CovidProject/netMHCpan/missing_B2705.pep.out\n",
      "\n",
      "\n",
      "./netMHCpan -p ~/win/Documents/2022H1/Group_project/CovidProject/netMHCpan/missing.pep -a HLA-B39:01 > ~/win/Documents/2022H1/Group_project/CovidProject/netMHCpan/missing_B3901.pep.out\n",
      "\n",
      "\n",
      "./netMHCpan -p ~/win/Documents/2022H1/Group_project/CovidProject/netMHCpan/missing.pep -a HLA-B40:01 > ~/win/Documents/2022H1/Group_project/CovidProject/netMHCpan/missing_B4001.pep.out\n",
      "\n",
      "\n",
      "./netMHCpan -p ~/win/Documents/2022H1/Group_project/CovidProject/netMHCpan/missing.pep -a HLA-B58:01 > ~/win/Documents/2022H1/Group_project/CovidProject/netMHCpan/missing_B5801.pep.out\n",
      "\n",
      "\n",
      "./netMHCpan -p ~/win/Documents/2022H1/Group_project/CovidProject/netMHCpan/missing.pep -a HLA-B15:01 > ~/win/Documents/2022H1/Group_project/CovidProject/netMHCpan/missing_B1501.pep.out\n",
      "\n",
      "\n"
     ]
    }
   ],
   "source": [
    "missing = []\n",
    "for j in range(3):\n",
    "    for seq in tqdm(list(generated_seqs_new[j].keys())):\n",
    "        seq = seq.replace(\"-\", \"\")\n",
    "        for position in range(len(seq)-9):\n",
    "            if seq[position:(position+9)] not in nMp_peptide_scores:\n",
    "                missing.append(seq[position:(position+9)])\n",
    "                \n",
    "file = open(f\"{NMP_FOLDER_1}{os.sep}missing.pep\", \"w\")\n",
    "for peptide in missing:\n",
    "      file.writelines([peptide, \"\\n\"])\n",
    "file.close()\n",
    "\n",
    "for mhc_name in MHC_list:\n",
    "    # print(mhc_name)\n",
    "    mhc_name_2 = mhc_name.replace(\":\", \"\").replace(\"HLA-\", \"\")\n",
    "    \n",
    "    print(f\"./netMHCpan -p {NMP_FOLDER_2}/missing.pep -a {mhc_name} > {NMP_FOLDER_2}/missing_{mhc_name_2}.pep.out\")\n",
    "    print(\"\\n\")"
   ]
  },
  {
   "cell_type": "code",
   "execution_count": null,
   "id": "a02d4b41",
   "metadata": {},
   "outputs": [],
   "source": [
    "nMp_peptide_scores.update(eval_peptides_nMp(\"missing\", MHC_list))"
   ]
  },
  {
   "cell_type": "code",
   "execution_count": null,
   "id": "b90564d9",
   "metadata": {},
   "outputs": [],
   "source": [
    "nMp_epitopes_gen = [set(), set(), set()]\n",
    "for j in range(3):\n",
    "    for seq in tqdm(generated_seqs_new[j].keys()):\n",
    "        nMp_seq_scores[seq], epitopes = score_seq_nMp(seq, MHC_list, nMp_peptide_scores)\n",
    "        nMp_epitopes_gen[j] = nMp_epitopes_gen[j].union(epitopes)"
   ]
  },
  {
   "cell_type": "code",
   "execution_count": null,
   "id": "51398e18",
   "metadata": {},
   "outputs": [],
   "source": [
    "for j, name in enumerate(antigenicity_names):\n",
    "    print(f\"{name}: antigenic epitopes - {len(nMp_epitopes_gen[j])} \\t\", end=\"\")\n",
    "    print(f\"new antigenic epitopes - {len(nMp_epitopes_gen[j].difference(nMp_epitopes_db))}\")"
   ]
  },
  {
   "cell_type": "code",
   "execution_count": null,
   "id": "45b328c5",
   "metadata": {},
   "outputs": [],
   "source": [
    "matplotlib.rcParams.update({'font.size': 15})\n",
    "\n",
    "for j in range(3):\n",
    "    sns.distplot([nMp_seq_scores[seq] for seq in generated_seqs_new[j].keys()])\n",
    "\n",
    "plt.legend(labels=[\"low\",\"medium\", \"high\"])"
   ]
  },
  {
   "cell_type": "code",
   "execution_count": null,
   "id": "917b06d2",
   "metadata": {},
   "outputs": [],
   "source": [
    "for j in range(3):\n",
    "    print(nMp_epitopes_gen[j].difference(nMp_epitopes_db))"
   ]
  },
  {
   "cell_type": "markdown",
   "id": "a4944e5b",
   "metadata": {},
   "source": [
    "# Conv VAE"
   ]
  },
  {
   "cell_type": "code",
   "execution_count": null,
   "id": "74155676",
   "metadata": {},
   "outputs": [],
   "source": [
    "SEQ_LEN = 1304\n",
    "ds.pad_to = SEQ_LEN\n",
    "ds.max_seq_len = SEQ_LEN\n",
    "ds.conv = True"
   ]
  },
  {
   "cell_type": "code",
   "execution_count": null,
   "id": "7233e2bc",
   "metadata": {},
   "outputs": [],
   "source": [
    "CONV_BLOCKS = 3\n",
    "CONV_INPUT_DIM = [AA_ENC_DIM, SEQ_LEN]"
   ]
  },
  {
   "cell_type": "code",
   "execution_count": null,
   "id": "5fe40627",
   "metadata": {},
   "outputs": [],
   "source": [
    "VAE = ConvVAE(\n",
    "        conv_blocks = CONV_BLOCKS,\n",
    "        conv_input_dim = CONV_INPUT_DIM,\n",
    "        conv_image_scaling_factor = 0.5,\n",
    "        fc_blocks = FC_BLOCKS,\n",
    "        fc_hidden_dim = FC_HIDDEN_DIM,\n",
    "        fc_hidden_dim_scaling_factor=(0.5, 2.0),\n",
    "        latent_dim = FC_LATENT_DIM,\n",
    "        conditional = 3,\n",
    "        dropout = FC_DROPOUT,\n",
    "        kl_target = FC_KL_TARGET,\n",
    "        lr = FC_LR,\n",
    "        batch_size = FC_BATCH_SIZE,\n",
    "        weight_decay = FC_WEIGHT_DECAY\n",
    ")\n",
    "\n",
    "print(VAE.conv_encoder.output_dim)\n",
    "print(VAE.conv_decoder.output_dim)"
   ]
  },
  {
   "cell_type": "code",
   "execution_count": null,
   "id": "92ff9e7f",
   "metadata": {},
   "outputs": [],
   "source": [
    "VAE.ds = ds"
   ]
  },
  {
   "cell_type": "code",
   "execution_count": null,
   "id": "6b703425",
   "metadata": {},
   "outputs": [],
   "source": [
    "VAE"
   ]
  },
  {
   "cell_type": "markdown",
   "id": "1032f48b",
   "metadata": {},
   "source": [
    "## training and loading"
   ]
  },
  {
   "cell_type": "code",
   "execution_count": null,
   "id": "9c3ace64",
   "metadata": {},
   "outputs": [],
   "source": [
    "CONV_EPOCHS = FC_EPOCHS\n",
    "CONV_SAVE = True\n",
    "CONV_LOAD = True\n",
    "CONV_MODEL_NAME = \"conv001\""
   ]
  },
  {
   "cell_type": "code",
   "execution_count": null,
   "id": "e317182a",
   "metadata": {},
   "outputs": [],
   "source": [
    "conv_trainer = Trainer(max_epochs=CONV_EPOCHS, gpus=1)"
   ]
  },
  {
   "cell_type": "code",
   "execution_count": null,
   "id": "c622d879",
   "metadata": {},
   "outputs": [],
   "source": [
    "if CONV_SAVE:\n",
    "    conv_trainer.fit(VAE)\n",
    "    conv_trainer.save_checkpoint(f\"..{os.sep}models{os.sep}{CONV_MODEL_NAME}.ckpt\")"
   ]
  },
  {
   "cell_type": "code",
   "execution_count": null,
   "id": "eeeb9173",
   "metadata": {},
   "outputs": [],
   "source": [
    "if CONV_LOAD:\n",
    "    VAE = ConvVAE.load_from_checkpoint(checkpoint_path=f\"..{os.sep}models{os.sep}{CONV_MODEL_NAME}.ckpt\")\n",
    "    VAE = VAE.cuda()\n",
    "    VAE.ds = ds"
   ]
  },
  {
   "cell_type": "code",
   "execution_count": null,
   "id": "936a3ce7",
   "metadata": {},
   "outputs": [],
   "source": [
    "VAE.eval()"
   ]
  },
  {
   "cell_type": "code",
   "execution_count": null,
   "id": "c679ca27",
   "metadata": {},
   "outputs": [],
   "source": [
    "j = -1"
   ]
  },
  {
   "cell_type": "code",
   "execution_count": null,
   "id": "99d11c43",
   "metadata": {},
   "outputs": [],
   "source": [
    "j += 1\n",
    "h = ds.tok.decode(\n",
    "        VAE.forward(\n",
    "            ds.tok.tokenize(ds.viral_seqs[j][:SEQ_LEN]).unsqueeze(dim=0).to(VAE.device),\n",
    "            torch.tensor(ds.seq_immuno_cat_tokens[ds.seq_immuno_cat[ds.viral_seqs[j]]]).unsqueeze(dim=0).to(VAE.device),\n",
    "            sample=False).reshape(1, SEQ_LEN, -1)\n",
    ")\n",
    "alignments = pairwise2.align.globalxx(ds.viral_seqs[j][:MAX_SEQ_LEN], h[0])\n",
    "print(format_alignment(*alignments[0]))"
   ]
  },
  {
   "cell_type": "code",
   "execution_count": null,
   "id": "5edf0b51",
   "metadata": {},
   "outputs": [],
   "source": [
    "import numpy as np\n",
    "\n",
    "import torch\n",
    "from torch.utils.data import DataLoader\n",
    "from torch import nn\n",
    "import torch.nn.functional as F\n",
    "\n",
    "import pytorch_lightning as pl\n",
    "\n",
    "from SpikeOracle.models.VAE.fc import FcNetwork\n",
    "\n",
    "class ConvNetwork(torch.nn.Module):\n",
    "    def __init__(self,\n",
    "                 blocks: int,\n",
    "                 input_dim: (int, int),\n",
    "                 image_scaling_factor: float,\n",
    "                 dropout: float\n",
    "                 ):\n",
    "        super().__init__()\n",
    "        self.input_dim = input_dim\n",
    "        self.input_seq_len = input_dim[1]\n",
    "        self.dropout = dropout\n",
    "\n",
    "        channel_scaling_factor = 1. / image_scaling_factor\n",
    "\n",
    "        dim_ = input_dim\n",
    "        self.network = nn.Sequential()\n",
    "        for block in range(blocks - 1):\n",
    "            block_, dim_ = self.get_conv_block(dim_, image_scaling_factor, dropout)\n",
    "            self.network.add_module(f\"block_{block}\", block_)\n",
    "\n",
    "        block_, dim_ = self.get_conv_block(dim_, image_scaling_factor, 0)\n",
    "        self.network.add_module(f\"block_{block + 1}\", block_)\n",
    "\n",
    "        self.output_dim = dim_\n",
    "\n",
    "\n",
    "    def forward(self, x):\n",
    "        return self.network(x)\n",
    "\n",
    "    def get_conv_block(self, dim, image_scaling_factor, dropout):\n",
    "        channel_scaling_factor = 1./image_scaling_factor\n",
    "        out_dim = [int(dim[0]/image_scaling_factor), dim[1]]\n",
    "\n",
    "        block = nn.Sequential()\n",
    "        if image_scaling_factor > 1.:\n",
    "            block.add_module(f\"Upsample\", nn.Upsample(scale_factor=image_scaling_factor, mode='linear'))\n",
    "            if out_dim[1]:\n",
    "                out_dim[1] *= image_scaling_factor\n",
    "\n",
    "        block.add_module(f\"Conv\", nn.Conv1d(dim[0], out_dim[0], kernel_size=3, padding=1))\n",
    "        block.add_module(f\"BN\", nn.BatchNorm1d(out_dim[0]))\n",
    "        block.add_module(f\"Activation\", nn.LeakyReLU(0.1))\n",
    "\n",
    "        if dropout > 0:\n",
    "            block.add_module(\"Dropout\", nn.Dropout(dropout))\n",
    "\n",
    "        if channel_scaling_factor > 1.:\n",
    "            block.add_module(f\"Pooling\", nn.MaxPool1d(int(channel_scaling_factor), stride=int(channel_scaling_factor)))\n",
    "            if out_dim[1]:\n",
    "                out_dim[1] = int(out_dim[1] * image_scaling_factor)\n",
    "\n",
    "        return block, out_dim\n",
    "\n",
    "\n",
    "class ConvVAE(pl.LightningModule):\n",
    "    \"\"\"Standard VAE with Gaussian Prior and approx posterior.\n",
    "    \"\"\"\n",
    "\n",
    "    def __init__(\n",
    "            self,\n",
    "            conv_blocks: int,\n",
    "            conv_input_dim: (int, int),\n",
    "            conv_image_scaling_factor: float,\n",
    "            fc_blocks: int,\n",
    "            fc_hidden_dim: int,\n",
    "            fc_hidden_dim_scaling_factor: (float, float),\n",
    "            latent_dim: int,\n",
    "            conditional: int,\n",
    "            dropout: float,\n",
    "            kl_target: float,\n",
    "            lr: float,\n",
    "            batch_size: int,\n",
    "            weight_decay: float\n",
    "    ):\n",
    "        super().__init__()\n",
    "\n",
    "        self.save_hyperparameters()\n",
    "\n",
    "        self.conv_blocks = conv_blocks\n",
    "        self.conv_input_dim = conv_input_dim\n",
    "        self.conv_image_scaling_factor = conv_image_scaling_factor\n",
    "        self.fc_blocks = fc_blocks\n",
    "        self.fc_hidden_dim = fc_hidden_dim\n",
    "        self.fc_hidden_dim_scaling_factor = fc_hidden_dim_scaling_factor\n",
    "        self.latent_dim = latent_dim\n",
    "        self.conditional = conditional\n",
    "        self.dropout = dropout\n",
    "        self.kl_target = kl_target\n",
    "        self.lr = lr\n",
    "        self.batch_size = batch_size\n",
    "        self.weight_decay = weight_decay\n",
    "\n",
    "\n",
    "        self.beta = 0\n",
    "        self.P = 0\n",
    "        self.I = 0\n",
    "\n",
    "        self.ds = None\n",
    "        self.dl = None\n",
    "\n",
    "\n",
    "        self.conv_encoder = ConvNetwork(\n",
    "            blocks=conv_blocks,\n",
    "            input_dim=conv_input_dim,\n",
    "            image_scaling_factor=conv_image_scaling_factor,\n",
    "            dropout=dropout\n",
    "        )\n",
    "\n",
    "        enc_fc_input_dim = self.conv_encoder.output_dim[0]*self.conv_encoder.output_dim[1] + conditional\n",
    "        enc_output_dim = int(fc_hidden_dim * (fc_hidden_dim_scaling_factor[0]**(fc_blocks - 1)))\n",
    "        self.fc_encoder = FcNetwork(\n",
    "            blocks=fc_blocks,\n",
    "            input_dim=enc_fc_input_dim,\n",
    "            hidden_dim=fc_hidden_dim,\n",
    "            hidden_dim_scaling_factor=fc_hidden_dim_scaling_factor[0],\n",
    "            output_dim=enc_output_dim,\n",
    "            dropout=dropout\n",
    "        )\n",
    "\n",
    "        self.fc_mu = nn.Linear(enc_output_dim, latent_dim)\n",
    "        self.fc_var = nn.Linear(enc_output_dim, latent_dim)\n",
    "\n",
    "        dec_fc_input_dim = self.latent_dim + conditional\n",
    "        dec_fc_output_dim = self.conv_encoder.output_dim[0] * self.conv_encoder.output_dim[1]\n",
    "        self.fc_decoder = FcNetwork(\n",
    "            blocks=fc_blocks,\n",
    "            input_dim=dec_fc_input_dim,\n",
    "            hidden_dim=int(enc_output_dim * fc_hidden_dim_scaling_factor[1]),\n",
    "            hidden_dim_scaling_factor=fc_hidden_dim_scaling_factor[1],\n",
    "            output_dim=dec_fc_output_dim,\n",
    "            dropout=dropout\n",
    "        )\n",
    "\n",
    "        self.conv_decoder_input_dim = self.conv_encoder.output_dim\n",
    "        self.conv_decoder = ConvNetwork(\n",
    "            blocks=conv_blocks,\n",
    "            input_dim=self.conv_decoder_input_dim,\n",
    "            image_scaling_factor=int(1./conv_image_scaling_factor),\n",
    "            dropout=dropout\n",
    "        )\n",
    "\n",
    "        self.z = None\n",
    "\n",
    "    def forward(self, x, y, sample=True):\n",
    "        self.z, x_hat_logit, _, _ = self._run_step(x, y, sample)\n",
    "        print(x_hat_logit.shape)\n",
    "        #x_hat_logit = x_hat_logit.reshape(-1, self.conv_input_dim[0], self.conv_input_dim[1])\n",
    "        x_hat_logit = x_hat_logit.permute(0, 2, 1)\n",
    "        x_hat = torch.nn.functional.softmax(x_hat_logit, -1)\n",
    "        return x_hat\n",
    "\n",
    "    def _run_step(self, x, y, sample=True):\n",
    "        x = self.conv_encoder(x)\n",
    "\n",
    "        x = torch.flatten(x, start_dim=-2)\n",
    "        x = x if self.conditional == 0 else torch.cat([x, y], dim=1)\n",
    "        x = self.fc_encoder(x)\n",
    "        x = F.relu(x)\n",
    "\n",
    "        mu = self.fc_mu(x)\n",
    "        log_var = self.fc_var(x)\n",
    "        if sample:\n",
    "            p, q, z = self.sample(mu, log_var)\n",
    "        else:\n",
    "            p, q, z = None, None, mu\n",
    "\n",
    "        d = z if self.conditional == 0 else torch.cat([z, y], dim=1)\n",
    "\n",
    "        d = self.fc_decoder(d)\n",
    "        d = d.reshape(-1, self.conv_decoder_input_dim[0], self.conv_decoder_input_dim[1])\n",
    "        d = self.conv_decoder(d)\n",
    "\n",
    "        return z, d, p, q\n",
    "\n",
    "    def sample(self, mu, log_var):\n",
    "        std = torch.exp(log_var / 2)\n",
    "        p = torch.distributions.Normal(torch.zeros_like(mu), torch.ones_like(std))\n",
    "        q = torch.distributions.Normal(mu, std)\n",
    "        z = q.rsample()\n",
    "        return p, q, z\n",
    "\n",
    "    def step(self, batch, batch_idx):\n",
    "        x, y = batch\n",
    "\n",
    "        z, x_hat_logit, p, q = self._run_step(x, y)\n",
    "\n",
    "        # recon_loss = F.mse_loss(x_hat, x, reduction=\"mean\")\n",
    "        recon_loss = F.cross_entropy(\n",
    "            x_hat_logit.view(-1, self.conv_input_dim[-1]),\n",
    "            torch.max(x, dim=-1).indices.contiguous().view(-1))\n",
    "\n",
    "        kl = torch.distributions.kl_divergence(q, p)\n",
    "        kl = kl.mean()\n",
    "\n",
    "        kl_coeff = self.calc_beta(float(kl.detach()), self.kl_target, 1e-3, 5e-4, 1e-4, 1)\n",
    "\n",
    "        loss = kl * kl_coeff + recon_loss\n",
    "\n",
    "        logs = {\n",
    "            \"recon_loss\": recon_loss,\n",
    "            \"kl\": kl,\n",
    "            \"kl_coeff\": kl_coeff,\n",
    "            \"loss\": loss,\n",
    "        }\n",
    "        return loss, logs\n",
    "\n",
    "    def calc_beta(self, actual_kl, target_kl, Kp, Ki, beta_min, beta_max):\n",
    "        error = target_kl - actual_kl\n",
    "        self.P = Kp / (1 + np.exp(error))\n",
    "\n",
    "        if beta_min < self.beta and self.beta < beta_max:\n",
    "            self.I = self.I - Ki * error\n",
    "\n",
    "        self.beta = min(max(self.P + self.I + beta_min, beta_min), beta_max)\n",
    "        return self.beta\n",
    "\n",
    "    def training_step(self, batch, batch_idx):\n",
    "        loss, logs = self.step(batch, batch_idx)\n",
    "        self.log_dict({f\"train_{k}\": v for k, v in logs.items()}, on_step=True, on_epoch=False)\n",
    "        return loss\n",
    "\n",
    "    def validation_step(self, batch, batch_idx):\n",
    "        loss, logs = self.step(batch, batch_idx)\n",
    "        self.log_dict({f\"val_{k}\": v for k, v in logs.items()})\n",
    "        return loss\n",
    "\n",
    "    def configure_optimizers(self):\n",
    "        return torch.optim.Adam(self.parameters(), lr=self.lr, weight_decay=self.weight_decay)\n",
    "\n",
    "    def train_dataloader(self):\n",
    "        self.dl = DataLoader(self.ds,\n",
    "                             shuffle=True,\n",
    "                             batch_size=self.batch_size)\n",
    "        return self.dl"
   ]
  },
  {
   "cell_type": "code",
   "execution_count": null,
   "id": "65d22f6b",
   "metadata": {},
   "outputs": [],
   "source": []
  }
 ],
 "metadata": {
  "kernelspec": {
   "display_name": "Python 3 (ipykernel)",
   "language": "python",
   "name": "python3"
  },
  "language_info": {
   "codemirror_mode": {
    "name": "ipython",
    "version": 3
   },
   "file_extension": ".py",
   "mimetype": "text/x-python",
   "name": "python",
   "nbconvert_exporter": "python",
   "pygments_lexer": "ipython3",
   "version": "3.7.11"
  },
  "toc": {
   "base_numbering": 1,
   "nav_menu": {},
   "number_sections": true,
   "sideBar": true,
   "skip_h1_title": false,
   "title_cell": "Table of Contents",
   "title_sidebar": "Contents",
   "toc_cell": false,
   "toc_position": {
    "height": "calc(100% - 180px)",
    "left": "10px",
    "top": "150px",
    "width": "320px"
   },
   "toc_section_display": true,
   "toc_window_display": true
  }
 },
 "nbformat": 4,
 "nbformat_minor": 5
}
