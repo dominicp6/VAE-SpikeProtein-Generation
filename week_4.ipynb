{
 "cells": [
  {
   "cell_type": "code",
   "execution_count": 1,
   "id": "303035a3",
   "metadata": {},
   "outputs": [
    {
     "name": "stderr",
     "output_type": "stream",
     "text": [
      "C:\\Users\\s2118339\\anaconda3\\envs\\VC\\lib\\site-packages\\Bio\\SubsMat\\__init__.py:126: BiopythonDeprecationWarning: Bio.SubsMat has been deprecated, and we intend to remove it in a future release of Biopython. As an alternative, please consider using Bio.Align.substitution_matrices as a replacement, and contact the Biopython developers if you still need the Bio.SubsMat module.\n",
      "  warnings.warn(\n"
     ]
    }
   ],
   "source": [
    "import numpy as np\n",
    "import pandas as pd\n",
    "from tqdm import tqdm\n",
    "\n",
    "import json\n",
    "import os\n",
    "\n",
    "import matplotlib.pyplot as plt\n",
    "\n",
    "from collections import defaultdict\n",
    "\n",
    "import Bio\n",
    "from Bio import SeqIO\n",
    "from Bio import pairwise2\n",
    "from Bio.Seq import Seq\n",
    "from Bio.SeqRecord import SeqRecord\n",
    "from Bio.pairwise2 import format_alignment\n",
    "from Bio.SubsMat import MatrixInfo as matlist\n",
    "\n",
    "import torch\n",
    "from torch.utils.data import DataLoader\n",
    "from torch.utils.data import Dataset\n",
    "from torch import nn\n",
    "import torch.nn.functional as F\n",
    "\n",
    "import pytorch_lightning as pl\n",
    "from pytorch_lightning import Trainer\n",
    "from pl_bolts.models import VAE"
   ]
  },
  {
   "cell_type": "code",
   "execution_count": 2,
   "id": "eadbba5b",
   "metadata": {},
   "outputs": [],
   "source": [
    "from protein_map_visualisation_tools import generate_embedding_map_from_database"
   ]
  },
  {
   "cell_type": "code",
   "execution_count": 3,
   "id": "3586a901",
   "metadata": {},
   "outputs": [],
   "source": [
    "FILENAME = \"1_in_500_cleaned_aligned.afa\" "
   ]
  },
  {
   "cell_type": "markdown",
   "id": "9da95d08",
   "metadata": {},
   "source": [
    "# Variational Autoencoder"
   ]
  },
  {
   "cell_type": "code",
   "execution_count": 4,
   "id": "c7d5b893",
   "metadata": {},
   "outputs": [],
   "source": [
    "SEQ_LEN = 1282  # 18   # restricted to 1271 aa sequence lenghts\n",
    "AA_ENC_DIM = 21   # count of amino acid encoding dimensions\n",
    "SEP = os.sep"
   ]
  },
  {
   "cell_type": "code",
   "execution_count": 5,
   "id": "28c40da1",
   "metadata": {},
   "outputs": [],
   "source": [
    "class StandardDataset(Dataset):\n",
    "\n",
    "    def __init__(self, filename, seq_len=SEQ_LEN, max_seq_len=SEQ_LEN):\n",
    "        self.seq_len = seq_len\n",
    "        self.max_seq_len = max_seq_len\n",
    "        \n",
    "        self.viral_seqs = []\n",
    "        self.max_len = 0\n",
    "        \n",
    "        self.tok = Tokenizer(f\"One_hot_2.json\", self.max_seq_len)\n",
    "        \n",
    "        viral_seq_dict = defaultdict(lambda: 0)\n",
    "        for record in tqdm(SeqIO.parse(filename, \"fasta\")):\n",
    "            seq = str(record.seq)\n",
    "            viral_seq_dict[seq] += 1\n",
    "\n",
    "        for seq in viral_seq_dict.keys():\n",
    "            if len(seq) == seq_len:\n",
    "                self.viral_seqs.append(seq)\n",
    "            if len(seq) > self.max_len:\n",
    "                self.max_len = len(seq)\n",
    "\n",
    "    def __getitem__(self, idx):\n",
    "        seq = self.tok.tokenize(self.viral_seqs[idx])\n",
    "        return (seq, 1)\n",
    "\n",
    "    def __len__(self):\n",
    "        return len(self.viral_seqs)\n",
    "\n",
    "\n",
    "class Tokenizer:\n",
    "    def __init__(self, filename, max_seq_len):\n",
    "        f = open(filename)\n",
    "        self.enc_dict = json.load(f)\n",
    "        self.dec_dict = {}\n",
    "        for key, value in self.enc_dict.items():\n",
    "            if len(key) == 1:\n",
    "                v = int(torch.max(torch.tensor(value), dim=-1).indices)\n",
    "                self.dec_dict[v] =  key\n",
    "        self.max_seq_len = max_seq_len\n",
    "\n",
    "    def tokenize(self, sequence):\n",
    "        enc = []\n",
    "        for aa in sequence[:self.max_seq_len]:\n",
    "            enc.append(self.enc_dict[aa])\n",
    "\n",
    "        t = torch.tensor(enc)\n",
    "        return t.float()\n",
    "    \n",
    "    def decode(self, batch):\n",
    "        batch_size, seq_len, aa_dim = batch.size()\n",
    "        \n",
    "        batch_seq = []\n",
    "        \n",
    "        h = torch.max(batch, dim=-1).indices\n",
    "        \n",
    "        for b in range(batch_size):\n",
    "            seq = \"\"\n",
    "            for s in range(seq_len):\n",
    "                seq += self.dec_dict[int(h[b][s])]\n",
    "            batch_seq.append(seq)\n",
    "        \n",
    "        return batch_seq"
   ]
  },
  {
   "cell_type": "markdown",
   "id": "26e2927b",
   "metadata": {},
   "source": [
    "## Fully connected"
   ]
  },
  {
   "cell_type": "code",
   "execution_count": 59,
   "id": "cf9c9b1a",
   "metadata": {},
   "outputs": [],
   "source": [
    "# encoder parameters\n",
    "ENC_INT_DIM = 512 # intermediate dimensions of the encoder\n",
    "ENC_OUT_DIM = 128 # output dimensions of the encoder\n",
    "\n",
    "# latent space\n",
    "LATENT_DIM = 2   # dimensions of the latent space\n",
    "\n",
    "# decoder parameters\n",
    "DEC_INT_DIM = 512 # intermediate dimensions of the decoder\n",
    "\n",
    "# VAE parameters\n",
    "KL_COEFF = 0.0    # weighting of the KL divergence in the loss function\n",
    "KL_MAX = 0.005\n",
    "KL_CYCLE = 200\n",
    "KL_WARMUP = 200\n",
    "\n",
    "# training parameters\n",
    "LR = 3e-4         # the learning rate\n",
    "BATCH_SIZE = 64   # batch size\n",
    "DROPOUT = 0.05\n",
    "WEIGHT_DECAY = 1e-6 # 3e-5"
   ]
  },
  {
   "cell_type": "code",
   "execution_count": 60,
   "id": "bbeec9e9",
   "metadata": {},
   "outputs": [],
   "source": [
    "# lightning-bolts/pl_bolts/models/autoencoders/basic_vae/basic_vae_module.py\n",
    "# https://github.com/PyTorchLightning/Lightning-Bolts/blob/master/pl_bolts/models/autoencoders/basic_vae/basic_vae_module.py#L18-L186\n",
    "\n",
    "class Encoder_Fully(torch.nn.Module):\n",
    "    def __init__(self,\n",
    "        enc_input_dim: int,\n",
    "        enc_int_dim: int,\n",
    "        enc_out_dim: int,\n",
    "        enc_dropout: float\n",
    "    ):\n",
    "        super().__init__()\n",
    "        self.enc_input_dim = enc_input_dim\n",
    "        self.enc_int_dim = enc_int_dim\n",
    "        self.enc_out_dim = enc_out_dim\n",
    "        self.enc_dropout = enc_dropout\n",
    "        \n",
    "        self.l1 = nn.Linear(self.enc_input_dim, self.enc_int_dim)\n",
    "        self.b1 = nn.BatchNorm1d(enc_int_dim)\n",
    "        \n",
    "        self.d2 = nn.Dropout(enc_dropout)\n",
    "        self.l2 = nn.Linear(self.enc_int_dim, self.enc_int_dim)\n",
    "        self.b2 = nn.BatchNorm1d(enc_int_dim)\n",
    "        \n",
    "        self.d3 = nn.Dropout(enc_dropout)\n",
    "        self.l3 = nn.Linear(self.enc_int_dim, self.enc_int_dim)\n",
    "        self.b3 = nn.BatchNorm1d(enc_int_dim)\n",
    "        \n",
    "        self.d4 = nn.Dropout(enc_dropout)\n",
    "        self.l4 = nn.Linear(self.enc_int_dim, self.enc_int_dim)\n",
    "        self.b4 = nn.BatchNorm1d(enc_int_dim)\n",
    "        \n",
    "        self.d5 = nn.Dropout(enc_dropout)\n",
    "        self.l5 = nn.Linear(self.enc_int_dim, self.enc_out_dim)\n",
    "        \n",
    "    def forward(self, x):\n",
    "        x = self.l1(x)\n",
    "        x = self.b1(x)\n",
    "        x = F.relu(x)\n",
    "        \n",
    "        x = self.d2(x)\n",
    "        x = self.l2(x)\n",
    "        x = self.b2(x)\n",
    "        x = F.relu(x)\n",
    "        \n",
    "        x = self.d3(x)\n",
    "        x = self.l3(x)\n",
    "        x = self.b3(x)\n",
    "        x = F.relu(x)\n",
    "        \n",
    "        x = self.d4(x)\n",
    "        x = self.l4(x)\n",
    "        x = self.b4(x)\n",
    "        x = F.relu(x)\n",
    "        \n",
    "        x = self.d5(x)\n",
    "        x = self.l5(x)\n",
    "        return x\n",
    "    \n",
    "    \n",
    "class Decoder_Fully(torch.nn.Module):\n",
    "    def __init__(self, \n",
    "        latent_dim: int,\n",
    "        dec_int_dim: int,\n",
    "        dec_out_dim: int,\n",
    "        dec_dropout: float\n",
    "    ):\n",
    "        super().__init__()\n",
    "        self.dec_input_dim = latent_dim\n",
    "        self.dec_int_dim = dec_int_dim\n",
    "        self.dec_out_dim = dec_out_dim\n",
    "        self.dec_dropout = dec_dropout\n",
    "        \n",
    "        self.l1 = nn.Linear(self.dec_input_dim, self.dec_int_dim)\n",
    "        self.b1 = nn.BatchNorm1d(dec_int_dim)\n",
    "        \n",
    "        self.d2 = nn.Dropout(dec_dropout)\n",
    "        self.l2 = nn.Linear(self.dec_int_dim, self.dec_int_dim)\n",
    "        self.b2 = nn.BatchNorm1d(dec_int_dim)\n",
    "        \n",
    "        self.d3 = nn.Dropout(dec_dropout)\n",
    "        self.l3 = nn.Linear(self.dec_int_dim, self.dec_int_dim)\n",
    "        self.b3 = nn.BatchNorm1d(dec_int_dim)\n",
    "        \n",
    "        self.d4 = nn.Dropout(dec_dropout)\n",
    "        self.l4 = nn.Linear(self.dec_int_dim, self.dec_int_dim)\n",
    "        self.b4 = nn.BatchNorm1d(dec_int_dim)\n",
    "        \n",
    "        self.d5 = nn.Dropout(dec_dropout)\n",
    "        self.l5 = nn.Linear(self.dec_int_dim, self.dec_out_dim)\n",
    "        \n",
    "    def forward(self, x):\n",
    "        x = self.l1(x)\n",
    "        x = self.b1(x)\n",
    "        x = F.relu(x)\n",
    "        \n",
    "        x = self.d2(x)\n",
    "        x = self.l2(x)\n",
    "        x = self.b2(x)\n",
    "        x = F.relu(x)\n",
    "        \n",
    "        x = self.d3(x)\n",
    "        x = self.l3(x)\n",
    "        x = self.b3(x)\n",
    "        x = F.relu(x)\n",
    "        \n",
    "        x = self.d4(x)\n",
    "        x = self.l4(x)\n",
    "        x = self.b4(x)\n",
    "        x = F.relu(x)\n",
    "        \n",
    "        x = self.d5(x)\n",
    "        x = self.l5(x)\n",
    "        \n",
    "        return x\n",
    "    \n",
    "\n",
    "class VAE_Fully(pl.LightningModule):\n",
    "    \"\"\"Standard VAE with Gaussian Prior and approx posterior.\n",
    "    \"\"\"\n",
    "\n",
    "    def __init__(\n",
    "        self,\n",
    "        aa_dim: int = AA_ENC_DIM,\n",
    "        sequence_len: int = SEQ_LEN,\n",
    "        enc_int_dim: int = ENC_INT_DIM,\n",
    "        enc_out_dim: int = ENC_OUT_DIM,\n",
    "        latent_dim: int = LATENT_DIM,\n",
    "        dec_int_dim: int = DEC_INT_DIM,\n",
    "        kl_coeff: float = KL_COEFF,\n",
    "        KL_max = KL_MAX,\n",
    "        KL_cycle: int = KL_CYCLE,\n",
    "        KL_warmup: int = KL_WARMUP,\n",
    "        lr: float = LR,\n",
    "        batch_size: int = BATCH_SIZE,\n",
    "        dropout: float = DROPOUT,\n",
    "        weight_decay: float = WEIGHT_DECAY,\n",
    "        **kwargs,\n",
    "    ):\n",
    "        super().__init__()\n",
    "\n",
    "        self.save_hyperparameters()\n",
    "\n",
    "        self.aa_dim = aa_dim\n",
    "        self.sequence_len = sequence_len\n",
    "        self.enc_int_dim = enc_int_dim\n",
    "        self.enc_out_dim = enc_out_dim\n",
    "        self.latent_dim = latent_dim\n",
    "        self.dec_int_dim = dec_int_dim\n",
    "        self.kl_coeff = kl_coeff\n",
    "        self.KL_max = KL_max\n",
    "        self.KL_cycle = KL_cycle\n",
    "        self.KL_warmup = KL_warmup\n",
    "        self.lr = lr\n",
    "        self.batch_size = batch_size\n",
    "        self.dropout = dropout\n",
    "        self.weight_decay = weight_decay\n",
    "\n",
    "        self.ds = None\n",
    "        self.dl = None\n",
    "\n",
    "        self.encoder = Encoder_Fully(\n",
    "            enc_input_dim = self.aa_dim*sequence_len,\n",
    "            enc_int_dim = self.enc_int_dim,\n",
    "            enc_out_dim = self.enc_out_dim,\n",
    "            enc_dropout = dropout\n",
    "        )\n",
    "\n",
    "        self.decoder = Decoder_Fully(\n",
    "            latent_dim = self.latent_dim,\n",
    "            dec_int_dim = self.dec_int_dim,\n",
    "            dec_out_dim = self.aa_dim*sequence_len,\n",
    "            dec_dropout = dropout\n",
    "        )\n",
    "\n",
    "        self.fc_mu = nn.Linear(self.enc_out_dim, self.latent_dim)\n",
    "        self.fc_var = nn.Linear(self.enc_out_dim, self.latent_dim)\n",
    "        \n",
    "        self.z = None\n",
    "\n",
    "    def forward(self, x):\n",
    "        self.z, x_hat_logit, _, _ = self._run_step(x)\n",
    "        x_hat_logit = x_hat_logit.reshape(-1, self.sequence_len, self.aa_dim)\n",
    "        x_hat = torch.nn.functional.softmax(x_hat_logit, -1)\n",
    "        return x_hat\n",
    "    \n",
    "    def forward_mu(self, x):\n",
    "        x = torch.flatten(x, start_dim=-2)\n",
    "        x = self.encoder(x)\n",
    "        x = F.relu(x)\n",
    "        mu = self.fc_mu(x)\n",
    "        x_hat_logit = self.decoder(mu).reshape(-1, self.sequence_len, self.aa_dim)\n",
    "        x_hat = torch.nn.functional.softmax(x_hat_logit, -1)\n",
    "        return x_hat\n",
    "\n",
    "    def _run_step(self, x):\n",
    "        x = torch.flatten(x, start_dim=-2)\n",
    "        x = self.encoder(x)\n",
    "        x = F.relu(x)\n",
    "        mu = self.fc_mu(x)\n",
    "        log_var = self.fc_var(x)\n",
    "        p, q, z = self.sample(mu, log_var)\n",
    "        return z, self.decoder(z), p, q\n",
    "\n",
    "    def sample(self, mu, log_var):\n",
    "        std = torch.exp(log_var / 2)\n",
    "        p = torch.distributions.Normal(torch.zeros_like(mu), torch.ones_like(std))\n",
    "        q = torch.distributions.Normal(mu, std)\n",
    "        z = q.rsample()\n",
    "        return p, q, z\n",
    "\n",
    "    def step(self, batch, batch_idx):\n",
    "        x, y = batch\n",
    "        \n",
    "        z, x_hat_logit, p, q = self._run_step(x)\n",
    "\n",
    "        #recon_loss = F.mse_loss(x_hat, x, reduction=\"mean\")\n",
    "        recon_loss = F.cross_entropy(\n",
    "            x_hat_logit.view(-1, self.aa_dim),\n",
    "            torch.max(x, dim=-1).indices.contiguous().view(-1))\n",
    "\n",
    "        kl = torch.distributions.kl_divergence(q, p)\n",
    "        kl = kl.mean()\n",
    "\n",
    "        loss = kl*self.kl_coeff + recon_loss\n",
    "        \n",
    "        self.p = p\n",
    "        self.q = q\n",
    "        self.kl_loss = kl\n",
    "        self.recon_loss = recon_loss\n",
    "\n",
    "        logs = {\n",
    "            \"recon_loss\": recon_loss,\n",
    "            \"kl\": kl,\n",
    "            \"kl_coeff\": self.kl_coeff,\n",
    "            \"loss\": loss,\n",
    "        }\n",
    "        return loss, logs\n",
    "    \n",
    "    def on_train_epoch_start(self):\n",
    "        if self.KL_cycle > 0:\n",
    "            self.kl_coeff = min(2 * (self.current_epoch % self.KL_cycle) / self.KL_cycle, 1) * self.KL_max\n",
    "            \n",
    "        if self.current_epoch <= self.KL_warmup:\n",
    "            self.kl_coeff = 0\n",
    "\n",
    "    def training_step(self, batch, batch_idx):\n",
    "        loss, logs = self.step(batch, batch_idx)\n",
    "        self.log_dict({f\"train_{k}\": v for k, v in logs.items()}, on_step=True, on_epoch=False)\n",
    "        return loss\n",
    "\n",
    "    def validation_step(self, batch, batch_idx):\n",
    "        loss, logs = self.step(batch, batch_idx)\n",
    "        self.log_dict({f\"val_{k}\": v for k, v in logs.items()})\n",
    "        return loss\n",
    "\n",
    "    def configure_optimizers(self):\n",
    "        return torch.optim.Adam(self.parameters(), lr=self.lr, weight_decay=self.weight_decay)\n",
    "\n",
    "    def train_dataloader(self):\n",
    "        self.dl = DataLoader(self.ds,\n",
    "                        shuffle=True,\n",
    "                        batch_size=self.batch_size)\n",
    "        return self.dl"
   ]
  },
  {
   "cell_type": "code",
   "execution_count": 61,
   "id": "447e1551",
   "metadata": {},
   "outputs": [
    {
     "name": "stdout",
     "output_type": "stream",
     "text": [
      "ONLY sequences of length 1282 considered\n"
     ]
    }
   ],
   "source": [
    "VAE = VAE_Fully(\n",
    "        aa_dim = AA_ENC_DIM,\n",
    "        sequence_len = SEQ_LEN,\n",
    "        enc_int_dim = ENC_INT_DIM,\n",
    "        enc_out_dim = ENC_OUT_DIM,\n",
    "        latent_dim = LATENT_DIM,\n",
    "        dec_int_dim = DEC_INT_DIM,\n",
    "        kl_coeff = KL_COEFF,\n",
    "        KL_max = KL_MAX,\n",
    "        KL_cycle = KL_CYCLE,\n",
    "        KL_warmup = KL_WARMUP,\n",
    "        lr = LR,\n",
    "        batch_size = BATCH_SIZE,\n",
    "        dropout = DROPOUT,\n",
    "        weight_decay = WEIGHT_DECAY\n",
    ")\n",
    "\n",
    "print(f\"ONLY sequences of length {SEQ_LEN} considered\")"
   ]
  },
  {
   "cell_type": "code",
   "execution_count": 62,
   "id": "ca0eaa83",
   "metadata": {},
   "outputs": [
    {
     "name": "stderr",
     "output_type": "stream",
     "text": [
      "\n",
      "2274it [00:00, 51283.99it/s]\n"
     ]
    }
   ],
   "source": [
    "ds = StandardDataset(FILENAME,  SEQ_LEN, SEQ_LEN)"
   ]
  },
  {
   "cell_type": "code",
   "execution_count": 63,
   "id": "f3b09698",
   "metadata": {},
   "outputs": [],
   "source": [
    "VAE.ds = ds"
   ]
  },
  {
   "cell_type": "code",
   "execution_count": 64,
   "id": "8f1d56d0",
   "metadata": {},
   "outputs": [
    {
     "data": {
      "text/plain": [
       "0.0"
      ]
     },
     "execution_count": 64,
     "metadata": {},
     "output_type": "execute_result"
    }
   ],
   "source": [
    "KL_COEFF"
   ]
  },
  {
   "cell_type": "code",
   "execution_count": 65,
   "id": "2a1ddf9f",
   "metadata": {},
   "outputs": [
    {
     "data": {
      "text/plain": [
       "200"
      ]
     },
     "execution_count": 65,
     "metadata": {},
     "output_type": "execute_result"
    }
   ],
   "source": [
    "KL_CYCLE"
   ]
  },
  {
   "cell_type": "code",
   "execution_count": 66,
   "id": "8963b8f0",
   "metadata": {},
   "outputs": [
    {
     "name": "stderr",
     "output_type": "stream",
     "text": [
      "GPU available: True, used: True\n",
      "TPU available: False, using: 0 TPU cores\n",
      "IPU available: False, using: 0 IPUs\n"
     ]
    }
   ],
   "source": [
    "trainer = Trainer(max_epochs=5000, gpus=1)"
   ]
  },
  {
   "cell_type": "code",
   "execution_count": null,
   "id": "8d856a46",
   "metadata": {},
   "outputs": [
    {
     "name": "stderr",
     "output_type": "stream",
     "text": [
      "LOCAL_RANK: 0 - CUDA_VISIBLE_DEVICES: [0]\n",
      "\n",
      "  | Name    | Type          | Params\n",
      "------------------------------------------\n",
      "0 | encoder | Encoder_Fully | 14.6 M\n",
      "1 | decoder | Decoder_Fully | 14.6 M\n",
      "2 | fc_mu   | Linear        | 258   \n",
      "3 | fc_var  | Linear        | 258   \n",
      "------------------------------------------\n",
      "29.2 M    Trainable params\n",
      "0         Non-trainable params\n",
      "29.2 M    Total params\n",
      "116.990   Total estimated model params size (MB)\n"
     ]
    },
    {
     "name": "stdout",
     "output_type": "stream",
     "text": [
      "Epoch 726:   3%|████▌                                                                                                                                                                | 1/36 [00:00<00:06,  5.28it/s, loss=0.014, v_num=58]"
     ]
    }
   ],
   "source": [
    "trainer.fit(VAE)"
   ]
  },
  {
   "cell_type": "code",
   "execution_count": null,
   "id": "33dc6b5f",
   "metadata": {},
   "outputs": [],
   "source": []
  },
  {
   "cell_type": "code",
   "execution_count": null,
   "id": "f601ab48",
   "metadata": {},
   "outputs": [],
   "source": []
  },
  {
   "cell_type": "code",
   "execution_count": 24,
   "id": "3d8242d2",
   "metadata": {},
   "outputs": [],
   "source": [
    "trainer.save_checkpoint(\"Fully_5000epochs_5e-2KL.ckpt\")"
   ]
  },
  {
   "cell_type": "code",
   "execution_count": 56,
   "id": "776a86e2",
   "metadata": {},
   "outputs": [],
   "source": [
    "VAE = VAE_Fully.load_from_checkpoint(checkpoint_path=\"Fully_5000epochs.ckpt\")\n",
    "VAE = VAE.cuda()"
   ]
  },
  {
   "cell_type": "code",
   "execution_count": 34,
   "id": "4682ccfa",
   "metadata": {},
   "outputs": [],
   "source": [
    "j = 0"
   ]
  },
  {
   "cell_type": "code",
   "execution_count": 35,
   "id": "5ee7c79d",
   "metadata": {},
   "outputs": [
    {
     "data": {
      "text/plain": [
       "'MFVFLVLLPLVSSQCVNLITRTQ---SYTNSFTRGVYYPDKVFRSSVLHSTQDLFLPFFSNVTWFHA-IHVSGTNGTKRFDNPVLPFNDGVYFASTEKSNIIRGWIFGTTLDSKTQSLLIVNNATNVVIKVCEFQFCNDPFLDV-YYHKNNKSWMESEFRVYSSANNCTFEYVSQPFLMDLEGKQGNFKNLREFVFKNIDGYFKIYSKHTPINLGR----D---LPQGFSALEPLVDLPIGINITRFQTLLALHRSYLTPGDSSSGWTAGAAAYYVGYLQPRTFLLKYNENGTITDAVDCALDPLSETKCTLKSFTVEKGIYQTSNFRVQPTESIVRFPNITNLCPFDEVFNATRFASVYAWNRKRISNCVADYSVLYNFAPFFAFKCYGVSPTKLNDLCFTNVYADSFVIRGNEVSQIAPGQTGNIADYNYKLPDDFTGCVIAWNSNKLDSKVGGNYNYLYRLFRKSNLKPFERDISTEIYQAGNKPCNGVAGFNCYFPLRSYGFRPTYGVGHQPYRVVVLSFELLHAPATVCGPKKSTNLVKNKCVNFNFNGLTGTGVLTESNKKFLPFQQFGRDIADTTDAVRDPQTLEILDITPCSFGGVSVITPGTNTSNQVAVLYQGVNCTEVPVAIHADQLTPTWRVYSTGSNVFQTRAGCLIGAEYVNNSYECDIPIGAGICASYQTQTKSHRRARSVASQSIIAYTMSLGAENSVAYSNNSIAIPTNFTISVTTEILPVSMTKTSVDCTMYICGDSTECSNLLLQYGSFCTQLKRALTGIAVEQDKNTQEVFAQVKQIYKTPPIKYFGGFNFSQILPDPSKPSKRSFIEDLLFNKVTLADAGFIKQYGDCLGDIAARDLICAQKFNGLTVLPPLLTDEMIAQYTSALLAGTITSGWTFGAGAALQIPFAMQMAYRFNGIGVTQNVLYENQKLIANQFNSAIGKIQDSLSSTASALGKLQDVVNHNAQALNTLVKQLSSKFGAISSVLNDILSRLDKVEAEVQIDRLITGRLQSLQTYVTQQLIRAAEIRASANLAATKMSECVLGQSKRVDFCGKGYHLMSFPQSAPHGVVFLHVTYVPAQEKNFTTAPAICHDGKAHFPREGVFVSNGTHWFVTQRNFYEPQIITTDNTFVSGNCDVVIGIVNNTVYDPLQPELDSFKEELDKYFKNHTSPDVDLGDISGINASVVNIQKEIDRLNEVAKNLNESLIDLQELGKYEQYIKWPWYIWLGFIAGLIAIVMVTIMLCCMTSCCSCLKGCCSCGSCCKFDEDDSEPVLKGVKLHYT'"
      ]
     },
     "execution_count": 35,
     "metadata": {},
     "output_type": "execute_result"
    }
   ],
   "source": [
    "ds.viral_seqs[j]"
   ]
  },
  {
   "cell_type": "code",
   "execution_count": 36,
   "id": "3ed7f4eb",
   "metadata": {},
   "outputs": [
    {
     "data": {
      "text/plain": [
       "VAE_Fully(\n",
       "  (encoder): Encoder_Fully(\n",
       "    (l1): Linear(in_features=26922, out_features=512, bias=True)\n",
       "    (b1): BatchNorm1d(512, eps=1e-05, momentum=0.1, affine=True, track_running_stats=True)\n",
       "    (d2): Dropout(p=0.05, inplace=False)\n",
       "    (l2): Linear(in_features=512, out_features=512, bias=True)\n",
       "    (b2): BatchNorm1d(512, eps=1e-05, momentum=0.1, affine=True, track_running_stats=True)\n",
       "    (d3): Dropout(p=0.05, inplace=False)\n",
       "    (l3): Linear(in_features=512, out_features=512, bias=True)\n",
       "    (b3): BatchNorm1d(512, eps=1e-05, momentum=0.1, affine=True, track_running_stats=True)\n",
       "    (d4): Dropout(p=0.05, inplace=False)\n",
       "    (l4): Linear(in_features=512, out_features=512, bias=True)\n",
       "    (b4): BatchNorm1d(512, eps=1e-05, momentum=0.1, affine=True, track_running_stats=True)\n",
       "    (d5): Dropout(p=0.05, inplace=False)\n",
       "    (l5): Linear(in_features=512, out_features=128, bias=True)\n",
       "  )\n",
       "  (decoder): Decoder_Fully(\n",
       "    (l1): Linear(in_features=2, out_features=512, bias=True)\n",
       "    (b1): BatchNorm1d(512, eps=1e-05, momentum=0.1, affine=True, track_running_stats=True)\n",
       "    (d2): Dropout(p=0.05, inplace=False)\n",
       "    (l2): Linear(in_features=512, out_features=512, bias=True)\n",
       "    (b2): BatchNorm1d(512, eps=1e-05, momentum=0.1, affine=True, track_running_stats=True)\n",
       "    (d3): Dropout(p=0.05, inplace=False)\n",
       "    (l3): Linear(in_features=512, out_features=512, bias=True)\n",
       "    (b3): BatchNorm1d(512, eps=1e-05, momentum=0.1, affine=True, track_running_stats=True)\n",
       "    (d4): Dropout(p=0.05, inplace=False)\n",
       "    (l4): Linear(in_features=512, out_features=512, bias=True)\n",
       "    (b4): BatchNorm1d(512, eps=1e-05, momentum=0.1, affine=True, track_running_stats=True)\n",
       "    (d5): Dropout(p=0.05, inplace=False)\n",
       "    (l5): Linear(in_features=512, out_features=26922, bias=True)\n",
       "  )\n",
       "  (fc_mu): Linear(in_features=128, out_features=2, bias=True)\n",
       "  (fc_var): Linear(in_features=128, out_features=2, bias=True)\n",
       ")"
      ]
     },
     "execution_count": 36,
     "metadata": {},
     "output_type": "execute_result"
    }
   ],
   "source": [
    "VAE.eval()"
   ]
  },
  {
   "cell_type": "code",
   "execution_count": 37,
   "id": "4a94cf09",
   "metadata": {},
   "outputs": [
    {
     "data": {
      "text/plain": [
       "['MFVFLVLLPLVSSQCVNLTTRTQLPPAYTNSFTRGVYYPDKVFRSSVLHSTQDLFLPFFSNVTWFHV---ISGTNGTKRFDNPVLPFNDGVYFASIEKSNIIRGWIFGTTLDSKTQSLLIVNNATNVVIKVCEFQFCNDPFLD---YHKNNKSWMESEFRVYSSANNCTFEYVSQPFLMDLEGKQGNFKNLREFVFKNIDGYFKIYSKHTPI-LVR----D---LPQGFSALEPLVDLPIGINITRFQTLLALHRSYLTPGDSSSGWTAGAAAYYVGYLQPRTFLLKYNENGTITDAVDCALDPLSETKCTLKSFTVEKGIYQTSNFRVQPTESIVRFPNITNLCPFDEVFNATRFASVYAWNRKRISNCVADYSVLYNLAPFFTFKCYGVSPTKLNDLCFTNVYADSFVIRGDEVRQIAPGQTGNIADYNYKLPDDFTGCVIAWNSNKLDSKVGGNYNYLYRLFRKSNLKPFERDISTEIYQAGNKPCNGVAGFNCYFPLRSYSFRPTYGVGHQPYRVVVLSFELLHAPATVCGPKKSTNLVKNKCVNFNFNGLKGTGVLTESNKKFLPFQQFGRDIADTTDAVRDPQTLEILDITPCSFGGVSVITPGTNTSNQVAVLYQGVNCTEVPVAIHADQLTPTWRVYSTGSNVFQTRAGCLIGAEYVNNSYECDIPIGAGICASYQTQTKSHRRARSVASQSIIAYTMSLGAENSVAYSNNSIAIPTNFTISVTTEILPVSMTKTSVDCTMYICGDSTECSNLLLQYGSFCTQLKRALTGIAVEQDKNTQEVFAQVKQIYKTPPIKYFGGFNFSQILPDPSKPSKRSFIEDLLFNKVTLADAGFIKQYGDCLGDIAARDLICAQKFKGLTVLPPLLTDEMIAQYTSALLAGTITSGWTFGAGAALQIPFAMQMAYRFNGIGVTQNVLYENQKLIANQFNSAIGKIQDSLSSTASALGKLQDVVNHNAQALNTLVKQLSSKFGAISSVLNDIFSRLDKVEAEVQIDRLITGRLQSLQTYVTQQLIRAAEIRASANLAATKMSECVLGQSKRVDFCGKGYHLMSFPQSAPHGVVFLHVTYVPAQEKNFTTAPAICHDGKAHFPREGVFVSNGTHWFVTQRNFYEPQIITTDNTFVSGNCDVVIGIVNNTVYDPLQPELDSFKEELDKYFKNHTSPDVDLGDISGINASVVNIQKEIDRLNEVAKNLNESLIDLQELGKYEQYIKWPWYIWLGFIAGLIAIVMVTIMLCCMTSCCSCLKGCCSCGSCCKFDEDDSEPVLKGVKLHYT']"
      ]
     },
     "execution_count": 37,
     "metadata": {},
     "output_type": "execute_result"
    }
   ],
   "source": [
    "h = ds.tok.decode(VAE.forward_mu(ds.tok.tokenize(ds.viral_seqs[j]).unsqueeze(dim=0).cuda()).reshape(1, SEQ_LEN, -1))\n",
    "h"
   ]
  },
  {
   "cell_type": "code",
   "execution_count": 38,
   "id": "fa8e0091",
   "metadata": {},
   "outputs": [],
   "source": [
    "alignments = pairwise2.align.globalxx(ds.viral_seqs[j], h[0])"
   ]
  },
  {
   "cell_type": "code",
   "execution_count": 40,
   "id": "65f6816c",
   "metadata": {},
   "outputs": [
    {
     "name": "stdout",
     "output_type": "stream",
     "text": [
      "MFVFLVLLPLVSSQCVNLIT-RTQ---S----YTNSFTRGVYYPDKVFRSSVLHSTQDLFLPFFSNVTWFHA----IHVSGTNGTKRFDNPVLPFNDGVYFAST-EKSNIIRGWIFGTTLDSKTQSLLIVNNATNVVIKVCEFQFCNDPFLDV-Y--YHKNNKSWMESEFRVYSSANNCTFEYVSQPFLMDLEGKQGNFKNLREFVFKNIDGYFKIYSKHTPIN-LG-R----D---LPQGFSALEPLVDLPIGINITRFQTLLALHRSYLTPGDSSSGWTAGAAAYYVGYLQPRTFLLKYNENGTITDAVDCALDPLSETKCTLKSFTVEKGIYQTSNFRVQPTESIVRFPNITNLCPFDEVFNATRFASVYAWNRKRISNCVADYSVLYNF-APFFA-FKCYGVSPTKLNDLCFTNVYADSFVIRGN-EVS-QIAPGQTGNIADYNYKLPDDFTGCVIAWNSNKLDSKVGGNYNYLYRLFRKSNLKPFERDISTEIYQAGNKPCNGVAGFNCYFPLRSYG-FRPTYGVGHQPYRVVVLSFELLHAPATVCGPKKSTNLVKNKCVNFNFNGLT-GTGVLTESNKKFLPFQQFGRDIADTTDAVRDPQTLEILDITPCSFGGVSVITPGTNTSNQVAVLYQGVNCTEVPVAIHADQLTPTWRVYSTGSNVFQTRAGCLIGAEYVNNSYECDIPIGAGICASYQTQTKSHRRARSVASQSIIAYTMSLGAENSVAYSNNSIAIPTNFTISVTTEILPVSMTKTSVDCTMYICGDSTECSNLLLQYGSFCTQLKRALTGIAVEQDKNTQEVFAQVKQIYKTPPIKYFGGFNFSQILPDPSKPSKRSFIEDLLFNKVTLADAGFIKQYGDCLGDIAARDLICAQKFN-GLTVLPPLLTDEMIAQYTSALLAGTITSGWTFGAGAALQIPFAMQMAYRFNGIGVTQNVLYENQKLIANQFNSAIGKIQDSLSSTASALGKLQDVVNHNAQALNTLVKQLSSKFGAISSVLNDIL-SRLDKVEAEVQIDRLITGRLQSLQTYVTQQLIRAAEIRASANLAATKMSECVLGQSKRVDFCGKGYHLMSFPQSAPHGVVFLHVTYVPAQEKNFTTAPAICHDGKAHFPREGVFVSNGTHWFVTQRNFYEPQIITTDNTFVSGNCDVVIGIVNNTVYDPLQPELDSFKEELDKYFKNHTSPDVDLGDISGINASVVNIQKEIDRLNEVAKNLNESLIDLQELGKYEQYIKWPWYIWLGFIAGLIAIVMVTIMLCCMTSCCSCLKGCCSCGSCCKFDEDDSEPVLKGVKLHYT\n",
      "|||||||||||||||||| | ||||||     |||||||||||||||||||||||||||||||||||||||  ||||  ||||||||||||||||||||||||  ||||||||||||||||||||||||||||||||||||||||||||||| | |||||||||||||||||||||||||||||||||||||||||||||||||||||||||||||||||||| ||  ||||||||||||||||||||||||||||||||||||||||||||||||||||||||||||||||||||||||||||||||||||||||||||||||||||||||||||||||||||||||||||||||||||||||||||||||||||||||||||||||||||  ||||  ||||||||||||||||||||||||||||  ||  |||||||||||||||||||||||||||||||||||||||||||||||||||||||||||||||||||||||||||||||||||||||  ||||||||||||||||||||||||||||||||||||||||||||||||||  ||||||||||||||||||||||||||||||||||||||||||||||||||||||||||||||||||||||||||||||||||||||||||||||||||||||||||||||||||||||||||||||||||||||||||||||||||||||||||||||||||||||||||||||||||||||||||||||||||||||||||||||||||||||||||||||||||||||||||||||||||||||||||||||||||||||||||||||||||||||||||||||||||||||||||||||||||||  ||||||||||||||||||||||||||||||||||||||||||||||||||||||||||||||||||||||||||||||||||||||||||||||||||||||||||||||||||||||||||||  ||||||||||||||||||||||||||||||||||||||||||||||||||||||||||||||||||||||||||||||||||||||||||||||||||||||||||||||||||||||||||||||||||||||||||||||||||||||||||||||||||||||||||||||||||||||||||||||||||||||||||||||||||||||||||||||||||||||||||||||||||||||||||||||||||||||||||||||||||||||||||||||||||||\n",
      "MFVFLVLLPLVSSQCVNL-TTRTQ----LPPAYTNSFTRGVYYPDKVFRSSVLHSTQDLFLPFFSNVTWFH-V---I--SGTNGTKRFDNPVLPFNDGVYFAS-IEKSNIIRGWIFGTTLDSKTQSLLIVNNATNVVIKVCEFQFCNDPFLD-----YHKNNKSWMESEFRVYSSANNCTFEYVSQPFLMDLEGKQGNFKNLREFVFKNIDGYFKIYSKHTPI--L-VR----D---LPQGFSALEPLVDLPIGINITRFQTLLALHRSYLTPGDSSSGWTAGAAAYYVGYLQPRTFLLKYNENGTITDAVDCALDPLSETKCTLKSFTVEKGIYQTSNFRVQPTESIVRFPNITNLCPFDEVFNATRFASVYAWNRKRISNCVADYSVLYN-LAPFF-TFKCYGVSPTKLNDLCFTNVYADSFVIRG-DEV-RQIAPGQTGNIADYNYKLPDDFTGCVIAWNSNKLDSKVGGNYNYLYRLFRKSNLKPFERDISTEIYQAGNKPCNGVAGFNCYFPLRSY-SFRPTYGVGHQPYRVVVLSFELLHAPATVCGPKKSTNLVKNKCVNFNFNGL-KGTGVLTESNKKFLPFQQFGRDIADTTDAVRDPQTLEILDITPCSFGGVSVITPGTNTSNQVAVLYQGVNCTEVPVAIHADQLTPTWRVYSTGSNVFQTRAGCLIGAEYVNNSYECDIPIGAGICASYQTQTKSHRRARSVASQSIIAYTMSLGAENSVAYSNNSIAIPTNFTISVTTEILPVSMTKTSVDCTMYICGDSTECSNLLLQYGSFCTQLKRALTGIAVEQDKNTQEVFAQVKQIYKTPPIKYFGGFNFSQILPDPSKPSKRSFIEDLLFNKVTLADAGFIKQYGDCLGDIAARDLICAQKF-KGLTVLPPLLTDEMIAQYTSALLAGTITSGWTFGAGAALQIPFAMQMAYRFNGIGVTQNVLYENQKLIANQFNSAIGKIQDSLSSTASALGKLQDVVNHNAQALNTLVKQLSSKFGAISSVLNDI-FSRLDKVEAEVQIDRLITGRLQSLQTYVTQQLIRAAEIRASANLAATKMSECVLGQSKRVDFCGKGYHLMSFPQSAPHGVVFLHVTYVPAQEKNFTTAPAICHDGKAHFPREGVFVSNGTHWFVTQRNFYEPQIITTDNTFVSGNCDVVIGIVNNTVYDPLQPELDSFKEELDKYFKNHTSPDVDLGDISGINASVVNIQKEIDRLNEVAKNLNESLIDLQELGKYEQYIKWPWYIWLGFIAGLIAIVMVTIMLCCMTSCCSCLKGCCSCGSCCKFDEDDSEPVLKGVKLHYT\n",
      "  Score=1261\n",
      "\n",
      "Epoch 106:   0%|                                                                                                                                                                           | 0/36 [00:14<?, ?it/s, loss=0.00693, v_num=57]"
     ]
    }
   ],
   "source": [
    "print(format_alignment(*alignments[0]))"
   ]
  },
  {
   "cell_type": "code",
   "execution_count": 41,
   "id": "9fc973c6",
   "metadata": {},
   "outputs": [
    {
     "name": "stdout",
     "output_type": "stream",
     "text": [
      "MFVFLVLLPLVSSQCVNLTTRTQLPPAYTNSFTRGVYYPDKVFRSSVLHSTQDLFLPFFSNVTWFHV---ISGTNGTKRFDNPVLPFNDGVYFASIEKSNIIRGWIFGTTLDSKTQSLLIVNNATNVVIKVCEFQFCNDPFLD----HKNNKSWMESEFRVYSSANNCTFEYVSQPFLMDLEGKQGNFKNLREFVFKNIDGYFKIYSKHTPI-IVR----EPEDLPQGFSALEPLVDLPIGINITRFQTLLALHRSYLTPGDSSSGWTAGAAAYYVGYLQPRTFLLKYNENGTITDAVDCALDPLSETKCTLKSFTVEKGIYQTSNFRVQPTESIVRFPNITNLCPFG-EVFNATRFASVYAWNRKRISNCVADYSVLYNS-AS-FS-TFKCYGVSPTKLNDLCFTNVYADSFVIRGDEVRQIAPGQTGNIADYNYKLPDDFTGCVIAWNSNKLDSKVSGNYNYLYRLFRKSNLKPFERDISTEIYQAGNKPCNGVAGFNCYFPLRSYSFRPTYGVGHQPYRVVVLSFELLHAPATVCGPKKSTNLVKNKCVNFNFNGLKGTGVLTESNKKFLPFQQFGRDIADTTDAVRDPQTLEILDITPCSFGGVSVITPGTNTSNQVAVLYQGVNCTEVPVAIHADQLTPTWRVYSTGSNVFQTRAGCLIGAEYVNNSYECDIPIGAGICASYQTQTKSHRRARSVASQSIIAYTMSLGAENSVAYSNNSIAIPTNFTISVTTEILPVSMTKTSVDCTMYICGDSTECSNLLLQYGSFCTQLN-RALTGIAVEQDKNTQEVFAQVKQIYKTPPIKD-FGGFNFSQILPDPSKPSKRSFIEDLLFNKVTLADAGFIKQYGDCLGDIAARDLICAQKFKGLTVLPPLLTDEMIAQYTSALLAGTITSGWTFGAGAALQIPFAMQMAYRFNGIGVTQNVLYENQKLIANQFNSAIGKIQDSLSSTASALGKLQDVVNHNAQALNTLVKQLSSKFGAISSVLNDIFSRLDKVEAEVQIDRLITGRLQSLQTYVTQQLIRAAEIRASANLAATKMSECVLGQSKRVDFCGKGYHLMSFPQSAPHGVVFLHVTYVPAQEKNFTTAPAICHDGKAHFPREGVFVSNGTHWFVTQRNFYEPQIITTDNTFVSGNCDVVIGIVNNTVYDPLQPELDSFKEELDKYFKNHTSPDVDLGDISGINASVVNIQKEIDRLNEVAKNLNESLIDLQELGKYEQYIKWPWYIWLGFIAGLIAIVMVTIMLCCMTSCCSCLKGCCSCGSCCKFDEDDSEPVLKGVKLHYT\n",
      "|||||||||||||||||||||||||||||||||||||||||||||||||||||||||||||||||||||||||||||||||||||||||||||||||||||||||||||||||||||||||||||||||||||||||||||||||||||||||||||||||||||||||||||||||||||||||||||||||||||||||||||||||||||||||||||||||||||||||||||||||||||||||||||||||||||||||||||||||||||||||||||||||||||||||||||||||||||||||||||||||||||||||||||||||||||||||||  |||||||||||||||||||||||||||||||  |  |  ||||||||||||||||||||||||||||||||||||||||||||||||||||||||||||||||||||||||||||||||||||||||||||||||||||||||||||||||||||||||||||||||||||||||||||||||||||||||||||||||||||||||||||||||||||||||||||||||||||||||||||||||||||||||||||||||||||||||||||||||||||||||||||||||||||||||||||||||||||||||||||||||||||||||||||||||||||||||||||||||||||||||||||||||||||||||||||||||||||||||||||||||||||||||||||||||||||  |||||||||||||||||||||||||||||||  |||||||||||||||||||||||||||||||||||||||||||||||||||||||||||||||||||||||||||||||||||||||||||||||||||||||||||||||||||||||||||||||||||||||||||||||||||||||||||||||||||||||||||||||||||||||||||||||||||||||||||||||||||||||||||||||||||||||||||||||||||||||||||||||||||||||||||||||||||||||||||||||||||||||||||||||||||||||||||||||||||||||||||||||||||||||||||||||||||||||||||||||||||||||||||||||||||||||||||||||||||||||||||||||||||||||||||||||||||||||||||||||||||||||||||||||||||||||||||||\n",
      "MFVFLVLLPLVSSQCVNLTTRTQLPPAYTNSFTRGVYYPDKVFRSSVLHSTQDLFLPFFSNVTWFHV---ISGTNGTKRFDNPVLPFNDGVYFASIEKSNIIRGWIFGTTLDSKTQSLLIVNNATNVVIKVCEFQFCNDPFLD----HKNNKSWMESEFRVYSSANNCTFEYVSQPFLMDLEGKQGNFKNLREFVFKNIDGYFKIYSKHTPI-IVR----EPEDLPQGFSALEPLVDLPIGINITRFQTLLALHRSYLTPGDSSSGWTAGAAAYYVGYLQPRTFLLKYNENGTITDAVDCALDPLSETKCTLKSFTVEKGIYQTSNFRVQPTESIVRFPNITNLCPF-DEVFNATRFASVYAWNRKRISNCVADYSVLYN-LA-PF-FTFKCYGVSPTKLNDLCFTNVYADSFVIRGDEVRQIAPGQTGNIADYNYKLPDDFTGCVIAWNSNKLDSKVSGNYNYLYRLFRKSNLKPFERDISTEIYQAGNKPCNGVAGFNCYFPLRSYSFRPTYGVGHQPYRVVVLSFELLHAPATVCGPKKSTNLVKNKCVNFNFNGLKGTGVLTESNKKFLPFQQFGRDIADTTDAVRDPQTLEILDITPCSFGGVSVITPGTNTSNQVAVLYQGVNCTEVPVAIHADQLTPTWRVYSTGSNVFQTRAGCLIGAEYVNNSYECDIPIGAGICASYQTQTKSHRRARSVASQSIIAYTMSLGAENSVAYSNNSIAIPTNFTISVTTEILPVSMTKTSVDCTMYICGDSTECSNLLLQYGSFCTQL-KRALTGIAVEQDKNTQEVFAQVKQIYKTPPIK-YFGGFNFSQILPDPSKPSKRSFIEDLLFNKVTLADAGFIKQYGDCLGDIAARDLICAQKFKGLTVLPPLLTDEMIAQYTSALLAGTITSGWTFGAGAALQIPFAMQMAYRFNGIGVTQNVLYENQKLIANQFNSAIGKIQDSLSSTASALGKLQDVVNHNAQALNTLVKQLSSKFGAISSVLNDIFSRLDKVEAEVQIDRLITGRLQSLQTYVTQQLIRAAEIRASANLAATKMSECVLGQSKRVDFCGKGYHLMSFPQSAPHGVVFLHVTYVPAQEKNFTTAPAICHDGKAHFPREGVFVSNGTHWFVTQRNFYEPQIITTDNTFVSGNCDVVIGIVNNTVYDPLQPELDSFKEELDKYFKNHTSPDVDLGDISGINASVVNIQKEIDRLNEVAKNLNESLIDLQELGKYEQYIKWPWYIWLGFIAGLIAIVMVTIMLCCMTSCCSCLKGCCSCGSCCKFDEDDSEPVLKGVKLHYT\n",
      "  Score=1276\n",
      "\n"
     ]
    }
   ],
   "source": [
    "j += 1\n",
    "h = ds.tok.decode(VAE.forward_mu(ds.tok.tokenize(ds.viral_seqs[j]).unsqueeze(dim=0).cuda()).reshape(1, SEQ_LEN, -1))\n",
    "alignments = pairwise2.align.globalxx(ds.viral_seqs[j], h[0])\n",
    "print(format_alignment(*alignments[0]))"
   ]
  },
  {
   "cell_type": "code",
   "execution_count": 161,
   "id": "f4e53240",
   "metadata": {},
   "outputs": [
    {
     "ename": "SyntaxError",
     "evalue": "unexpected EOF while parsing (Temp/ipykernel_33476/1300510402.py, line 3)",
     "output_type": "error",
     "traceback": [
      "\u001b[1;36m  File \u001b[1;32m\"C:\\Users\\s2118339\\AppData\\Local\\Temp/ipykernel_33476/1300510402.py\"\u001b[1;36m, line \u001b[1;32m3\u001b[0m\n\u001b[1;33m    \u001b[0m\n\u001b[1;37m    ^\u001b[0m\n\u001b[1;31mSyntaxError\u001b[0m\u001b[1;31m:\u001b[0m unexpected EOF while parsing\n"
     ]
    },
    {
     "name": "stdout",
     "output_type": "stream",
     "text": [
      "\r",
      "Epoch 247: 100%|███████████████████████████████████████████████████████████████████████████████████████████████████████████████████████████████████████████████████████████████████| 36/36 [00:15<00:00,  2.37it/s, loss=0.0556, v_num=47]"
     ]
    }
   ],
   "source": [
    "seqs_recon = []\n",
    "for seq in ds.viral_seqs:\n",
    "    "
   ]
  },
  {
   "cell_type": "markdown",
   "id": "0ff4fb4f",
   "metadata": {},
   "source": [
    "## latent space"
   ]
  },
  {
   "cell_type": "code",
   "execution_count": 42,
   "id": "e17593a7",
   "metadata": {},
   "outputs": [
    {
     "name": "stderr",
     "output_type": "stream",
     "text": [
      "\n",
      "  0%|                                                                                                                                                                                                            | 0/2274 [00:00<?, ?it/s]\u001b[A\n",
      "  1%|██▍                                                                                                                                                                                               | 29/2274 [00:00<00:07, 287.57it/s]\u001b[A\n",
      "  3%|█████▍                                                                                                                                                                                            | 64/2274 [00:00<00:07, 314.17it/s]\u001b[A\n",
      "  4%|████████▏                                                                                                                                                                                         | 96/2274 [00:00<00:06, 315.41it/s]\u001b[A\n",
      "  6%|███████████▋                                                                                                                                                                                     | 138/2274 [00:00<00:06, 335.25it/s]\u001b[A\n",
      "  8%|███████████████▎                                                                                                                                                                                 | 180/2274 [00:00<00:06, 346.01it/s]\u001b[A\n",
      "  9%|██████████████████▎                                                                                                                                                                              | 216/2274 [00:00<00:05, 343.64it/s]\u001b[A\n",
      " 11%|█████████████████████▎                                                                                                                                                                           | 251/2274 [00:00<00:06, 321.02it/s]\u001b[A\n",
      " 12%|████████████████████████                                                                                                                                                                         | 284/2274 [00:00<00:06, 295.16it/s]\u001b[A\n",
      " 14%|██████████████████████████▋                                                                                                                                                                      | 314/2274 [00:01<00:06, 281.66it/s]\u001b[A\n",
      " 15%|█████████████████████████████                                                                                                                                                                    | 343/2274 [00:01<00:06, 282.97it/s]\u001b[A\n",
      " 16%|███████████████████████████████▌                                                                                                                                                                 | 372/2274 [00:01<00:07, 270.88it/s]\u001b[A\n",
      " 18%|██████████████████████████████████                                                                                                                                                               | 402/2274 [00:01<00:06, 269.46it/s]\u001b[A\n",
      " 19%|████████████████████████████████████▍                                                                                                                                                            | 430/2274 [00:01<00:06, 272.02it/s]\u001b[A\n",
      " 20%|███████████████████████████████████████▍                                                                                                                                                         | 464/2274 [00:01<00:06, 279.48it/s]\u001b[A\n",
      " 22%|█████████████████████████████████████████▊                                                                                                                                                       | 492/2274 [00:01<00:06, 278.36it/s]\u001b[A\n",
      " 23%|████████████████████████████████████████████▏                                                                                                                                                    | 520/2274 [00:01<00:06, 265.54it/s]\u001b[A\n",
      " 24%|██████████████████████████████████████████████▋                                                                                                                                                  | 550/2274 [00:01<00:06, 264.48it/s]\u001b[A\n",
      " 25%|████████████████████████████████████████████████▉                                                                                                                                                | 577/2274 [00:02<00:06, 260.71it/s]\u001b[A\n",
      " 27%|███████████████████████████████████████████████████▎                                                                                                                                             | 604/2274 [00:02<00:06, 252.97it/s]\u001b[A\n",
      " 28%|█████████████████████████████████████████████████████▍                                                                                                                                           | 630/2274 [00:02<00:06, 252.91it/s]\u001b[A\n",
      " 29%|███████████████████████████████████████████████████████▉                                                                                                                                         | 659/2274 [00:02<00:06, 257.13it/s]\u001b[A\n",
      " 30%|██████████████████████████████████████████████████████████▏                                                                                                                                      | 686/2274 [00:02<00:06, 260.02it/s]\u001b[A\n",
      " 32%|█████████████████████████████████████████████████████████████▎                                                                                                                                   | 723/2274 [00:02<00:05, 279.11it/s]\u001b[A\n",
      " 33%|████████████████████████████████████████████████████████████████▍                                                                                                                                | 759/2274 [00:02<00:05, 298.95it/s]\u001b[A\n",
      " 35%|██████████████████████████████████████████████████████████████████▉                                                                                                                              | 789/2274 [00:02<00:05, 289.50it/s]\u001b[A\n",
      " 36%|█████████████████████████████████████████████████████████████████████▍                                                                                                                           | 818/2274 [00:02<00:05, 287.51it/s]\u001b[A\n",
      " 37%|███████████████████████████████████████████████████████████████████████▉                                                                                                                         | 847/2274 [00:02<00:05, 275.07it/s]\u001b[A\n",
      " 39%|██████████████████████████████████████████████████████████████████████████▋                                                                                                                      | 880/2274 [00:03<00:04, 279.66it/s]\u001b[A\n",
      " 40%|█████████████████████████████████████████████████████████████████████████████▏                                                                                                                   | 909/2274 [00:03<00:04, 281.34it/s]\u001b[A\n",
      " 41%|███████████████████████████████████████████████████████████████████████████████▌                                                                                                                 | 938/2274 [00:03<00:04, 278.76it/s]\u001b[A\n",
      " 42%|█████████████████████████████████████████████████████████████████████████████████▉                                                                                                               | 966/2274 [00:03<00:04, 268.77it/s]\u001b[A\n",
      " 44%|████████████████████████████████████████████████████████████████████████████████████▎                                                                                                            | 993/2274 [00:03<00:04, 267.18it/s]\u001b[A\n",
      " 45%|██████████████████████████████████████████████████████████████████████████████████████                                                                                                          | 1020/2274 [00:03<00:04, 259.90it/s]\u001b[A\n"
     ]
    },
    {
     "name": "stderr",
     "output_type": "stream",
     "text": [
      " 46%|████████████████████████████████████████████████████████████████████████████████████████▌                                                                                                       | 1049/2274 [00:03<00:04, 257.10it/s]\u001b[A\n",
      " 47%|██████████████████████████████████████████████████████████████████████████████████████████▊                                                                                                     | 1075/2274 [00:03<00:04, 253.25it/s]\u001b[A\n",
      " 49%|█████████████████████████████████████████████████████████████████████████████████████████████▏                                                                                                  | 1103/2274 [00:03<00:04, 253.28it/s]\u001b[A\n",
      " 50%|███████████████████████████████████████████████████████████████████████████████████████████████▎                                                                                                | 1129/2274 [00:04<00:04, 250.79it/s]\u001b[A\n",
      " 51%|█████████████████████████████████████████████████████████████████████████████████████████████████▋                                                                                              | 1157/2274 [00:04<00:04, 249.41it/s]\u001b[A\n",
      " 52%|████████████████████████████████████████████████████████████████████████████████████████████████████▍                                                                                           | 1189/2274 [00:04<00:04, 260.29it/s]\u001b[A\n",
      " 54%|███████████████████████████████████████████████████████████████████████████████████████████████████████▎                                                                                        | 1224/2274 [00:04<00:03, 284.59it/s]\u001b[A\n",
      " 55%|█████████████████████████████████████████████████████████████████████████████████████████████████████████▉                                                                                      | 1255/2274 [00:04<00:03, 279.44it/s]\u001b[A\n",
      " 56%|████████████████████████████████████████████████████████████████████████████████████████████████████████████▍                                                                                   | 1284/2274 [00:04<00:03, 276.24it/s]\u001b[A\n",
      " 58%|██████████████████████████████████████████████████████████████████████████████████████████████████████████████▊                                                                                 | 1312/2274 [00:04<00:03, 271.98it/s]\u001b[A\n",
      " 59%|█████████████████████████████████████████████████████████████████████████████████████████████████████████████████▋                                                                              | 1346/2274 [00:04<00:03, 289.35it/s]\u001b[A\n",
      " 61%|████████████████████████████████████████████████████████████████████████████████████████████████████████████████████▎                                                                           | 1378/2274 [00:04<00:03, 297.60it/s]\u001b[A\n",
      " 62%|███████████████████████████████████████████████████████████████████████████████████████████████████████████████████████▍                                                                        | 1415/2274 [00:05<00:02, 304.78it/s]\u001b[A\n",
      " 64%|██████████████████████████████████████████████████████████████████████████████████████████████████████████████████████████▏                                                                     | 1447/2274 [00:05<00:02, 306.65it/s]\u001b[A\n",
      " 65%|█████████████████████████████████████████████████████████████████████████████████████████████████████████████████████████████                                                                   | 1481/2274 [00:05<00:02, 313.58it/s]\u001b[A\n",
      " 67%|████████████████████████████████████████████████████████████████████████████████████████████████████████████████████████████████▌                                                               | 1522/2274 [00:05<00:02, 331.09it/s]\u001b[A\n",
      " 68%|███████████████████████████████████████████████████████████████████████████████████████████████████████████████████████████████████▍                                                            | 1556/2274 [00:05<00:02, 333.33it/s]\u001b[A\n",
      " 70%|██████████████████████████████████████████████████████████████████████████████████████████████████████████████████████████████████████▍                                                         | 1592/2274 [00:05<00:02, 327.00it/s]\u001b[A\n",
      " 71%|█████████████████████████████████████████████████████████████████████████████████████████████████████████████████████████████████████████▏                                                      | 1625/2274 [00:05<00:01, 326.89it/s]\u001b[A\n",
      " 73%|███████████████████████████████████████████████████████████████████████████████████████████████████████████████████████████████████████████▉                                                    | 1658/2274 [00:05<00:01, 327.41it/s]\u001b[A\n",
      " 75%|███████████████████████████████████████████████████████████████████████████████████████████████████████████████████████████████████████████████▎                                                | 1698/2274 [00:05<00:01, 333.45it/s]\u001b[A\n",
      " 76%|██████████████████████████████████████████████████████████████████████████████████████████████████████████████████████████████████████████████████▍                                             | 1735/2274 [00:06<00:01, 341.99it/s]\u001b[A\n",
      " 78%|██████████████████████████████████████████████████████████████████████████████████████████████████████████████████████████████████████████████████████                                          | 1777/2274 [00:06<00:01, 349.80it/s]\u001b[A\n",
      " 80%|████████████████████████████████████████████████████████████████████████████████████████████████████████████████████████████████████████████████████████▉                                       | 1812/2274 [00:06<00:01, 338.48it/s]\u001b[A\n",
      " 81%|███████████████████████████████████████████████████████████████████████████████████████████████████████████████████████████████████████████████████████████▊                                    | 1846/2274 [00:06<00:01, 332.24it/s]\u001b[A\n",
      " 83%|██████████████████████████████████████████████████████████████████████████████████████████████████████████████████████████████████████████████████████████████▋                                 | 1880/2274 [00:06<00:01, 329.79it/s]\u001b[A\n",
      " 84%|█████████████████████████████████████████████████████████████████████████████████████████████████████████████████████████████████████████████████████████████████▌                              | 1913/2274 [00:06<00:01, 320.27it/s]\u001b[A\n",
      " 86%|████████████████████████████████████████████████████████████████████████████████████████████████████████████████████████████████████████████████████████████████████▎                           | 1946/2274 [00:06<00:01, 322.18it/s]\u001b[A\n",
      " 87%|███████████████████████████████████████████████████████████████████████████████████████████████████████████████████████████████████████████████████████████████████████                         | 1979/2274 [00:06<00:00, 319.62it/s]\u001b[A\n",
      " 88%|█████████████████████████████████████████████████████████████████████████████████████████████████████████████████████████████████████████████████████████████████████████▊                      | 2011/2274 [00:06<00:00, 309.71it/s]\u001b[A\n",
      " 90%|████████████████████████████████████████████████████████████████████████████████████████████████████████████████████████████████████████████████████████████████████████████▉                   | 2048/2274 [00:06<00:00, 314.27it/s]\u001b[A\n",
      " 92%|███████████████████████████████████████████████████████████████████████████████████████████████████████████████████████████████████████████████████████████████████████████████▋                | 2081/2274 [00:07<00:00, 316.94it/s]\u001b[A\n",
      " 93%|██████████████████████████████████████████████████████████████████████████████████████████████████████████████████████████████████████████████████████████████████████████████████▉             | 2119/2274 [00:07<00:00, 321.56it/s]\u001b[A\n",
      " 95%|█████████████████████████████████████████████████████████████████████████████████████████████████████████████████████████████████████████████████████████████████████████████████████▋          | 2152/2274 [00:07<00:00, 323.11it/s]\u001b[A\n"
     ]
    },
    {
     "name": "stderr",
     "output_type": "stream",
     "text": [
      " 96%|████████████████████████████████████████████████████████████████████████████████████████████████████████████████████████████████████████████████████████████████████████████████████████▍       | 2185/2274 [00:07<00:00, 323.19it/s]\u001b[A\n",
      " 98%|███████████████████████████████████████████████████████████████████████████████████████████████████████████████████████████████████████████████████████████████████████████████████████████▎    | 2218/2274 [00:07<00:00, 310.81it/s]\u001b[A\n",
      "100%|████████████████████████████████████████████████████████████████████████████████████████████████████████████████████████████████████████████████████████████████████████████████████████████████| 2274/2274 [00:07<00:00, 295.70it/s]\u001b[A\n"
     ]
    }
   ],
   "source": [
    "mus = []\n",
    "log_vars = []\n",
    "latents = []\n",
    "\n",
    "Mu_Xs, Mu_Ys = [], []\n",
    "Latent_Xs, Latent_Ys = [], []\n",
    "\n",
    "for seq in tqdm(VAE.ds.viral_seqs):\n",
    "    x = ds.tok.tokenize(seq).unsqueeze(dim=0).cuda()\n",
    "    encoded = VAE.encoder(torch.flatten(x, start_dim=-2))\n",
    "    mu = VAE.fc_mu(encoded)\n",
    "    mus.append(mu.detach())\n",
    "    log_var = VAE.fc_var(encoded)\n",
    "    log_vars.append(log_var.detach())\n",
    "    p, q, z = VAE.sample(mu, log_var)\n",
    "    latents.append(z.detach())\n",
    "    \n",
    "    Mu_Xs.append(float(mu[0][0].detach()))\n",
    "    Mu_Ys.append(float(mu[0][1].detach()))\n",
    "    \n",
    "    Latent_Xs.append(float(z[0][0].detach()))\n",
    "    Latent_Ys.append(float(z[0][1].detach()))"
   ]
  },
  {
   "cell_type": "code",
   "execution_count": 43,
   "id": "040e7deb",
   "metadata": {},
   "outputs": [
    {
     "data": {
      "text/plain": [
       "<matplotlib.collections.PathCollection at 0x2278251bb50>"
      ]
     },
     "execution_count": 43,
     "metadata": {},
     "output_type": "execute_result"
    },
    {
     "data": {
      "image/png": "[encoded data removed]",
      "text/plain": [
       "<Figure size 432x288 with 1 Axes>"
      ]
     },
     "metadata": {
      "needs_background": "light"
     },
     "output_type": "display_data"
    }
   ],
   "source": [
    "plt.scatter(Mu_Xs, Mu_Ys, s=1)"
   ]
  },
  {
   "cell_type": "code",
   "execution_count": 44,
   "id": "a236b941",
   "metadata": {},
   "outputs": [
    {
     "data": {
      "text/plain": [
       "<matplotlib.collections.PathCollection at 0x2278239b1c0>"
      ]
     },
     "execution_count": 44,
     "metadata": {},
     "output_type": "execute_result"
    },
    {
     "data": {
      "image/png": "[encoded data removed]",
      "text/plain": [
       "<Figure size 432x288 with 1 Axes>"
      ]
     },
     "metadata": {
      "needs_background": "light"
     },
     "output_type": "display_data"
    }
   ],
   "source": [
    "plt.scatter(Latent_Xs, Latent_Ys, s=1)\n",
    "# plt.xlim((-100, 100))\n",
    "# plt.ylim((-100, 100))"
   ]
  },
  {
   "cell_type": "code",
   "execution_count": 45,
   "id": "251e1677",
   "metadata": {},
   "outputs": [
    {
     "data": {
      "text/plain": [
       "(array([  2.,   0.,   3.,  11.,  30., 294., 613., 571., 718.,  32.]),\n",
       " array([-24.12975311, -20.88434362, -17.63893414, -14.39352465,\n",
       "        -11.14811516,  -7.90270567,  -4.65729618,  -1.41188669,\n",
       "          1.8335228 ,   5.07893229,   8.32434177]),\n",
       " <BarContainer object of 10 artists>)"
      ]
     },
     "execution_count": 45,
     "metadata": {},
     "output_type": "execute_result"
    },
    {
     "data": {
      "image/png": "[encoded data removed]",
      "text/plain": [
       "<Figure size 432x288 with 1 Axes>"
      ]
     },
     "metadata": {
      "needs_background": "light"
     },
     "output_type": "display_data"
    }
   ],
   "source": [
    "plt.hist(Latent_Xs)"
   ]
  },
  {
   "cell_type": "code",
   "execution_count": 46,
   "id": "f448e2c7",
   "metadata": {},
   "outputs": [
    {
     "data": {
      "text/plain": [
       "(array([ 22.,  46.,  38., 460., 264., 697., 327., 352.,  60.,   8.]),\n",
       " array([-11.96631908,  -9.67512274,  -7.38392639,  -5.09273005,\n",
       "         -2.8015337 ,  -0.51033735,   1.78085899,   4.07205534,\n",
       "          6.36325169,   8.65444803,  10.94564438]),\n",
       " <BarContainer object of 10 artists>)"
      ]
     },
     "execution_count": 46,
     "metadata": {},
     "output_type": "execute_result"
    },
    {
     "data": {
      "image/png": "[encoded data removed]",
      "text/plain": [
       "<Figure size 432x288 with 1 Axes>"
      ]
     },
     "metadata": {
      "needs_background": "light"
     },
     "output_type": "display_data"
    }
   ],
   "source": [
    "plt.hist(Latent_Ys)"
   ]
  },
  {
   "cell_type": "code",
   "execution_count": 28,
   "id": "175fcc3c",
   "metadata": {},
   "outputs": [
    {
     "data": {
      "image/png": "[encoded data removed]",
      "text/plain": [
       "<Figure size 864x864 with 1 Axes>"
      ]
     },
     "metadata": {
      "needs_background": "light"
     },
     "output_type": "display_data"
    }
   ],
   "source": [
    "generate_embedding_map_from_database(FILENAME)"
   ]
  },
  {
   "cell_type": "code",
   "execution_count": 29,
   "id": "e65b5c6b",
   "metadata": {},
   "outputs": [
    {
     "data": {
      "text/plain": [
       "'1_in_500_cleaned_aligned.afa'"
      ]
     },
     "execution_count": 29,
     "metadata": {},
     "output_type": "execute_result"
    }
   ],
   "source": [
    "FILENAME"
   ]
  },
  {
   "cell_type": "markdown",
   "id": "57690db0",
   "metadata": {},
   "source": [
    "# generate sequences"
   ]
  },
  {
   "cell_type": "code",
   "execution_count": 47,
   "id": "09fc4b37",
   "metadata": {},
   "outputs": [],
   "source": [
    "FILENAME_GENERATED = \"generated2\""
   ]
  },
  {
   "cell_type": "code",
   "execution_count": 48,
   "id": "e268c241",
   "metadata": {},
   "outputs": [],
   "source": [
    "device = VAE.device"
   ]
  },
  {
   "cell_type": "code",
   "execution_count": 49,
   "id": "f384e019",
   "metadata": {},
   "outputs": [],
   "source": [
    "device = torch.device('cuda')"
   ]
  },
  {
   "cell_type": "code",
   "execution_count": 55,
   "id": "b802a132",
   "metadata": {},
   "outputs": [],
   "source": [
    "SAMPLES = 10000\n",
    "\n",
    "p = torch.distributions.Normal(torch.zeros(LATENT_DIM, device=device), torch.ones(LATENT_DIM, device=device))"
   ]
  },
  {
   "cell_type": "code",
   "execution_count": 56,
   "id": "fd02ca98",
   "metadata": {},
   "outputs": [],
   "source": [
    "Zs = q.sample(sample_shape=torch.Size([SAMPLES]))"
   ]
  },
  {
   "cell_type": "code",
   "execution_count": 57,
   "id": "a8b9a56e",
   "metadata": {},
   "outputs": [
    {
     "name": "stderr",
     "output_type": "stream",
     "text": [
      "\n",
      "  0%|                                                                                                                                                                                                           | 0/10000 [00:00<?, ?it/s]\u001b[A\n",
      "  0%|                                                                                                                                                                                                   | 3/10000 [00:00<06:11, 26.90it/s]\u001b[A\n",
      "  0%|▏                                                                                                                                                                                                  | 8/10000 [00:00<04:53, 34.08it/s]\u001b[A\n",
      "  0%|▏                                                                                                                                                                                                 | 12/10000 [00:00<06:03, 27.45it/s]\u001b[A\n",
      "  0%|▎                                                                                                                                                                                                 | 15/10000 [00:00<06:16, 26.50it/s]\u001b[A\n",
      "  0%|▎                                                                                                                                                                                                 | 18/10000 [00:00<06:35, 25.26it/s]\u001b[A\n",
      "  0%|▍                                                                                                                                                                                                 | 22/10000 [00:00<05:42, 29.10it/s]\u001b[A\n",
      "  0%|▌                                                                                                                                                                                                 | 27/10000 [00:00<05:10, 32.16it/s]\u001b[A\n",
      "  0%|▌                                                                                                                                                                                                 | 31/10000 [00:01<05:44, 28.96it/s]\u001b[A\n",
      "  0%|▋                                                                                                                                                                                                 | 34/10000 [00:01<05:55, 28.00it/s]\u001b[A\n",
      "  0%|▋                                                                                                                                                                                                 | 37/10000 [00:01<06:04, 27.33it/s]\u001b[A\n",
      "  0%|▊                                                                                                                                                                                                 | 41/10000 [00:01<06:03, 27.40it/s]\u001b[A\n",
      "  0%|▊                                                                                                                                                                                                 | 45/10000 [00:01<05:41, 29.14it/s]\u001b[A\n",
      "  0%|▉                                                                                                                                                                                                 | 48/10000 [00:01<05:53, 28.17it/s]\u001b[A\n",
      "  1%|▉                                                                                                                                                                                                 | 51/10000 [00:01<06:03, 27.37it/s]\u001b[A\n",
      "  1%|█                                                                                                                                                                                                 | 54/10000 [00:01<06:25, 25.83it/s]\u001b[A\n",
      "  1%|█▏                                                                                                                                                                                                | 58/10000 [00:02<06:05, 27.17it/s]\u001b[A\n",
      "  1%|█▏                                                                                                                                                                                                | 62/10000 [00:02<05:39, 29.25it/s]\u001b[A\n",
      "  1%|█▎                                                                                                                                                                                                | 65/10000 [00:02<06:04, 27.28it/s]\u001b[A\n",
      "  1%|█▎                                                                                                                                                                                                | 68/10000 [00:02<06:25, 25.74it/s]\u001b[A\n",
      "  1%|█▍                                                                                                                                                                                                | 71/10000 [00:02<06:29, 25.52it/s]\u001b[A\n",
      "  1%|█▍                                                                                                                                                                                                | 74/10000 [00:02<07:23, 22.39it/s]\u001b[A\n",
      "  1%|█▍                                                                                                                                                                                                | 77/10000 [00:02<07:43, 21.42it/s]\u001b[A\n",
      "  1%|█▌                                                                                                                                                                                                | 80/10000 [00:03<07:38, 21.66it/s]\u001b[A\n",
      "  1%|█▌                                                                                                                                                                                                | 83/10000 [00:03<08:01, 20.59it/s]\u001b[A\n",
      "  1%|█▋                                                                                                                                                                                                | 86/10000 [00:03<08:39, 19.07it/s]\u001b[A\n",
      "  1%|█▋                                                                                                                                                                                                | 88/10000 [00:03<08:36, 19.19it/s]\u001b[A\n",
      "  1%|█▊                                                                                                                                                                                                | 91/10000 [00:03<08:21, 19.76it/s]\u001b[A\n",
      "  1%|█▊                                                                                                                                                                                                | 94/10000 [00:03<07:33, 21.84it/s]\u001b[A\n",
      "  1%|█▉                                                                                                                                                                                                | 97/10000 [00:03<07:12, 22.91it/s]\u001b[A\n",
      "  1%|█▉                                                                                                                                                                                               | 100/10000 [00:04<07:45, 21.29it/s]\u001b[A\n",
      "  1%|█▉                                                                                                                                                                                               | 103/10000 [00:04<07:56, 20.77it/s]\u001b[A\n",
      "  1%|██                                                                                                                                                                                               | 106/10000 [00:04<07:14, 22.78it/s]\u001b[A\n",
      "  1%|██                                                                                                                                                                                               | 109/10000 [00:04<07:54, 20.83it/s]\u001b[A\n"
     ]
    },
    {
     "name": "stderr",
     "output_type": "stream",
     "text": [
      "  1%|██▏                                                                                                                                                                                              | 112/10000 [00:04<07:24, 22.25it/s]\u001b[A\n",
      "  1%|██▏                                                                                                                                                                                              | 116/10000 [00:04<06:37, 24.88it/s]\u001b[A\n",
      "  1%|██▎                                                                                                                                                                                              | 119/10000 [00:04<07:03, 23.33it/s]\u001b[A\n",
      "  1%|██▎                                                                                                                                                                                              | 122/10000 [00:04<06:53, 23.86it/s]\u001b[A\n",
      "  1%|██▍                                                                                                                                                                                              | 125/10000 [00:05<06:29, 25.34it/s]\u001b[A\n",
      "  1%|██▍                                                                                                                                                                                              | 128/10000 [00:05<07:27, 22.07it/s]\u001b[A\n",
      "  1%|██▌                                                                                                                                                                                              | 131/10000 [00:05<07:13, 22.76it/s]\u001b[A\n",
      "  1%|██▌                                                                                                                                                                                              | 134/10000 [00:05<07:44, 21.22it/s]\u001b[A\n",
      "  1%|██▋                                                                                                                                                                                              | 137/10000 [00:05<08:30, 19.32it/s]\u001b[A\n",
      "  1%|██▋                                                                                                                                                                                              | 140/10000 [00:05<08:55, 18.42it/s]\u001b[A\n",
      "  1%|██▋                                                                                                                                                                                              | 142/10000 [00:05<08:46, 18.71it/s]\u001b[A\n",
      "  1%|██▊                                                                                                                                                                                              | 145/10000 [00:06<08:14, 19.92it/s]\u001b[A\n",
      "  1%|██▊                                                                                                                                                                                              | 148/10000 [00:06<07:56, 20.67it/s]\u001b[A\n",
      "  2%|██▉                                                                                                                                                                                              | 151/10000 [00:06<07:12, 22.75it/s]\u001b[A\n",
      "  2%|██▉                                                                                                                                                                                              | 154/10000 [00:06<07:14, 22.67it/s]\u001b[A\n",
      "  2%|███                                                                                                                                                                                              | 157/10000 [00:06<07:14, 22.65it/s]\u001b[A\n",
      "  2%|███                                                                                                                                                                                              | 160/10000 [00:06<08:00, 20.49it/s]\u001b[A\n",
      "  2%|███▏                                                                                                                                                                                             | 163/10000 [00:06<07:35, 21.61it/s]\u001b[A\n",
      "  2%|███▏                                                                                                                                                                                             | 167/10000 [00:07<06:19, 25.92it/s]\u001b[A\n",
      "  2%|███▎                                                                                                                                                                                             | 170/10000 [00:07<06:19, 25.93it/s]\u001b[A\n",
      "  2%|███▎                                                                                                                                                                                             | 174/10000 [00:07<05:34, 29.35it/s]\u001b[A\n",
      "  2%|███▍                                                                                                                                                                                             | 178/10000 [00:07<05:42, 28.72it/s]\u001b[A\n",
      "  2%|███▍                                                                                                                                                                                             | 181/10000 [00:07<05:39, 28.90it/s]\u001b[A\n",
      "  2%|███▌                                                                                                                                                                                             | 185/10000 [00:07<05:17, 30.93it/s]\u001b[A\n",
      "  2%|███▋                                                                                                                                                                                             | 189/10000 [00:07<04:58, 32.81it/s]\u001b[A\n",
      "  2%|███▋                                                                                                                                                                                             | 193/10000 [00:07<04:46, 34.23it/s]\u001b[A\n",
      "  2%|███▊                                                                                                                                                                                             | 197/10000 [00:07<04:40, 35.00it/s]\u001b[A\n",
      "  2%|███▉                                                                                                                                                                                             | 201/10000 [00:08<04:43, 34.59it/s]\u001b[A\n",
      "  2%|███▉                                                                                                                                                                                             | 205/10000 [00:08<04:47, 34.05it/s]\u001b[A\n",
      "  2%|████                                                                                                                                                                                             | 209/10000 [00:08<04:57, 32.87it/s]\u001b[A\n",
      "  2%|████▏                                                                                                                                                                                            | 214/10000 [00:08<04:34, 35.71it/s]\u001b[A\n",
      "  2%|████▏                                                                                                                                                                                            | 218/10000 [00:08<04:49, 33.78it/s]\u001b[A\n",
      "  2%|████▎                                                                                                                                                                                            | 222/10000 [00:08<04:43, 34.50it/s]\u001b[A\n",
      "  2%|████▎                                                                                                                                                                                            | 226/10000 [00:08<04:37, 35.25it/s]\u001b[A\n"
     ]
    },
    {
     "name": "stderr",
     "output_type": "stream",
     "text": [
      "  2%|████▍                                                                                                                                                                                            | 230/10000 [00:08<04:30, 36.09it/s]\u001b[A\n",
      "  2%|████▌                                                                                                                                                                                            | 234/10000 [00:08<04:27, 36.57it/s]\u001b[A\n",
      "  2%|████▌                                                                                                                                                                                            | 238/10000 [00:09<04:24, 36.95it/s]\u001b[A\n",
      "  2%|████▋                                                                                                                                                                                            | 243/10000 [00:09<04:20, 37.44it/s]\u001b[A\n",
      "  2%|████▊                                                                                                                                                                                            | 247/10000 [00:09<04:24, 36.84it/s]\u001b[A\n",
      "  3%|████▊                                                                                                                                                                                            | 251/10000 [00:09<04:32, 35.73it/s]\u001b[A\n",
      "  3%|████▉                                                                                                                                                                                            | 255/10000 [00:09<04:27, 36.39it/s]\u001b[A\n",
      "  3%|████▉                                                                                                                                                                                            | 259/10000 [00:09<04:32, 35.74it/s]\u001b[A\n",
      "  3%|█████                                                                                                                                                                                            | 263/10000 [00:09<04:28, 36.25it/s]\u001b[A\n",
      "  3%|█████▏                                                                                                                                                                                           | 267/10000 [00:09<04:25, 36.62it/s]\u001b[A\n",
      "  3%|█████▏                                                                                                                                                                                           | 271/10000 [00:10<04:44, 34.16it/s]\u001b[A\n",
      "  3%|█████▎                                                                                                                                                                                           | 275/10000 [00:10<04:47, 33.87it/s]\u001b[A\n",
      "  3%|█████▍                                                                                                                                                                                           | 279/10000 [00:10<04:55, 32.94it/s]\u001b[A\n",
      "  3%|█████▍                                                                                                                                                                                           | 283/10000 [00:10<05:05, 31.84it/s]\u001b[A\n",
      "  3%|█████▌                                                                                                                                                                                           | 287/10000 [00:10<04:54, 32.96it/s]\u001b[A\n",
      "  3%|█████▋                                                                                                                                                                                           | 292/10000 [00:10<04:25, 36.50it/s]\u001b[A\n",
      "  3%|█████▋                                                                                                                                                                                           | 296/10000 [00:10<05:28, 29.56it/s]\u001b[A\n",
      "  3%|█████▊                                                                                                                                                                                           | 300/10000 [00:11<06:32, 24.74it/s]\u001b[A\n",
      "  3%|█████▊                                                                                                                                                                                           | 303/10000 [00:11<06:22, 25.36it/s]\u001b[A\n",
      "  3%|█████▉                                                                                                                                                                                           | 306/10000 [00:11<06:19, 25.56it/s]\u001b[A\n",
      "  3%|█████▉                                                                                                                                                                                           | 309/10000 [00:11<06:31, 24.75it/s]\u001b[A\n",
      "  3%|██████                                                                                                                                                                                           | 312/10000 [00:11<06:44, 23.92it/s]\u001b[A\n",
      "  3%|██████                                                                                                                                                                                           | 315/10000 [00:11<06:50, 23.61it/s]\u001b[A\n",
      "  3%|██████▏                                                                                                                                                                                          | 318/10000 [00:11<07:39, 21.07it/s]\u001b[A\n",
      "  3%|██████▏                                                                                                                                                                                          | 321/10000 [00:12<08:16, 19.49it/s]\u001b[A\n",
      "  3%|██████▎                                                                                                                                                                                          | 324/10000 [00:12<08:32, 18.87it/s]\u001b[A\n",
      "  3%|██████▎                                                                                                                                                                                          | 326/10000 [00:12<08:27, 19.07it/s]\u001b[A\n",
      "  3%|██████▎                                                                                                                                                                                          | 328/10000 [00:12<08:26, 19.10it/s]\u001b[A\n",
      "  3%|██████▎                                                                                                                                                                                          | 330/10000 [00:12<08:35, 18.75it/s]\u001b[A\n",
      "  3%|██████▍                                                                                                                                                                                          | 333/10000 [00:12<08:21, 19.26it/s]\u001b[A\n",
      "  3%|██████▍                                                                                                                                                                                          | 336/10000 [00:12<08:14, 19.54it/s]\u001b[A\n",
      "  3%|██████▌                                                                                                                                                                                          | 338/10000 [00:12<08:31, 18.88it/s]\u001b[A\n",
      "  3%|██████▌                                                                                                                                                                                          | 340/10000 [00:13<08:28, 19.01it/s]\u001b[A\n",
      "  3%|██████▌                                                                                                                                                                                          | 342/10000 [00:13<08:41, 18.51it/s]\u001b[A\n"
     ]
    },
    {
     "name": "stderr",
     "output_type": "stream",
     "text": [
      "  3%|██████▋                                                                                                                                                                                          | 346/10000 [00:13<07:29, 21.47it/s]\u001b[A\n",
      "  3%|██████▋                                                                                                                                                                                          | 349/10000 [00:13<07:38, 21.06it/s]\u001b[A\n",
      "  4%|██████▊                                                                                                                                                                                          | 352/10000 [00:13<07:29, 21.47it/s]\u001b[A\n",
      "  4%|██████▊                                                                                                                                                                                          | 356/10000 [00:13<06:41, 24.00it/s]\u001b[A\n",
      "  4%|██████▉                                                                                                                                                                                          | 359/10000 [00:13<06:51, 23.45it/s]\u001b[A\n",
      "  4%|██████▉                                                                                                                                                                                          | 362/10000 [00:13<06:38, 24.19it/s]\u001b[A\n",
      "  4%|███████                                                                                                                                                                                          | 365/10000 [00:14<07:32, 21.31it/s]\u001b[A\n",
      "  4%|███████                                                                                                                                                                                          | 368/10000 [00:14<07:26, 21.58it/s]\u001b[A\n",
      "  4%|███████▏                                                                                                                                                                                         | 371/10000 [00:14<07:50, 20.44it/s]\u001b[A\n",
      "  4%|███████▏                                                                                                                                                                                         | 374/10000 [00:14<08:09, 19.66it/s]\u001b[A\n",
      "  4%|███████▎                                                                                                                                                                                         | 377/10000 [00:14<08:38, 18.55it/s]\u001b[A\n",
      "  4%|███████▎                                                                                                                                                                                         | 379/10000 [00:14<08:34, 18.69it/s]\u001b[A\n",
      "  4%|███████▎                                                                                                                                                                                         | 381/10000 [00:15<08:43, 18.39it/s]\u001b[A\n",
      "  4%|███████▍                                                                                                                                                                                         | 384/10000 [00:15<08:04, 19.86it/s]\u001b[A\n",
      "  4%|███████▍                                                                                                                                                                                         | 387/10000 [00:15<07:30, 21.36it/s]\u001b[A\n",
      "  4%|███████▌                                                                                                                                                                                         | 392/10000 [00:15<06:14, 25.68it/s]\u001b[A\n",
      "  4%|███████▋                                                                                                                                                                                         | 396/10000 [00:15<05:30, 29.10it/s]\u001b[A\n",
      "  4%|███████▋                                                                                                                                                                                         | 400/10000 [00:15<05:10, 30.92it/s]\u001b[A\n",
      "  4%|███████▊                                                                                                                                                                                         | 404/10000 [00:15<05:41, 28.11it/s]\u001b[A\n",
      "  4%|███████▊                                                                                                                                                                                         | 408/10000 [00:15<05:45, 27.76it/s]\u001b[A\n",
      "  4%|███████▉                                                                                                                                                                                         | 411/10000 [00:16<05:50, 27.40it/s]\u001b[A\n",
      "  4%|███████▉                                                                                                                                                                                         | 414/10000 [00:16<05:55, 26.95it/s]\u001b[A\n",
      "  4%|████████                                                                                                                                                                                         | 418/10000 [00:16<05:17, 30.20it/s]\u001b[A\n",
      "  4%|████████▏                                                                                                                                                                                        | 422/10000 [00:16<05:52, 27.15it/s]\u001b[A\n",
      "  4%|████████▏                                                                                                                                                                                        | 426/10000 [00:16<05:20, 29.88it/s]\u001b[A\n",
      "  4%|████████▎                                                                                                                                                                                        | 430/10000 [00:16<05:42, 27.97it/s]\u001b[A\n",
      "  4%|████████▎                                                                                                                                                                                        | 433/10000 [00:16<06:06, 26.09it/s]\u001b[A\n",
      "  4%|████████▍                                                                                                                                                                                        | 436/10000 [00:16<06:17, 25.37it/s]\u001b[A\n",
      "  4%|████████▍                                                                                                                                                                                        | 439/10000 [00:17<06:31, 24.45it/s]\u001b[A\n",
      "  4%|████████▌                                                                                                                                                                                        | 442/10000 [00:17<06:25, 24.82it/s]\u001b[A\n",
      "  4%|████████▌                                                                                                                                                                                        | 445/10000 [00:17<06:22, 24.96it/s]\u001b[A\n",
      "  4%|████████▋                                                                                                                                                                                        | 450/10000 [00:17<05:29, 29.02it/s]\u001b[A\n",
      "  5%|████████▊                                                                                                                                                                                        | 454/10000 [00:17<05:04, 31.35it/s]\u001b[A\n",
      "  5%|████████▊                                                                                                                                                                                        | 458/10000 [00:17<05:27, 29.16it/s]\u001b[A\n"
     ]
    },
    {
     "name": "stderr",
     "output_type": "stream",
     "text": [
      "  5%|████████▉                                                                                                                                                                                        | 461/10000 [00:17<05:52, 27.10it/s]\u001b[A\n",
      "  5%|████████▉                                                                                                                                                                                        | 464/10000 [00:17<05:44, 27.69it/s]\u001b[A\n",
      "  5%|█████████                                                                                                                                                                                        | 467/10000 [00:18<06:10, 25.74it/s]\u001b[A\n",
      "  5%|█████████                                                                                                                                                                                        | 470/10000 [00:18<06:20, 25.04it/s]\u001b[A\n",
      "  5%|█████████▏                                                                                                                                                                                       | 473/10000 [00:18<06:09, 25.78it/s]\u001b[A\n",
      "  5%|█████████▏                                                                                                                                                                                       | 476/10000 [00:18<06:10, 25.67it/s]\u001b[A\n",
      "  5%|█████████▏                                                                                                                                                                                       | 479/10000 [00:18<06:04, 26.14it/s]\u001b[A\n",
      "  5%|█████████▎                                                                                                                                                                                       | 482/10000 [00:18<06:25, 24.70it/s]\u001b[A\n",
      "  5%|█████████▎                                                                                                                                                                                       | 485/10000 [00:18<06:32, 24.23it/s]\u001b[A\n",
      "  5%|█████████▍                                                                                                                                                                                       | 488/10000 [00:19<07:28, 21.19it/s]\u001b[A\n",
      "  5%|█████████▍                                                                                                                                                                                       | 491/10000 [00:19<07:08, 22.20it/s]\u001b[A\n",
      "  5%|█████████▌                                                                                                                                                                                       | 494/10000 [00:19<06:35, 24.06it/s]\u001b[A\n",
      "  5%|█████████▌                                                                                                                                                                                       | 497/10000 [00:19<06:35, 24.03it/s]\u001b[A\n",
      "  5%|█████████▋                                                                                                                                                                                       | 500/10000 [00:19<06:28, 24.46it/s]\u001b[A\n",
      "  5%|█████████▋                                                                                                                                                                                       | 503/10000 [00:19<07:30, 21.07it/s]\u001b[A\n",
      "  5%|█████████▊                                                                                                                                                                                       | 506/10000 [00:19<07:54, 20.01it/s]\u001b[A\n",
      "  5%|█████████▊                                                                                                                                                                                       | 509/10000 [00:19<07:08, 22.15it/s]\u001b[A\n",
      "  5%|█████████▉                                                                                                                                                                                       | 513/10000 [00:20<06:02, 26.19it/s]\u001b[A\n",
      "  5%|█████████▉                                                                                                                                                                                       | 516/10000 [00:20<06:08, 25.77it/s]\u001b[A\n",
      "  5%|██████████                                                                                                                                                                                       | 519/10000 [00:20<05:55, 26.70it/s]\u001b[A\n",
      "  5%|██████████                                                                                                                                                                                       | 523/10000 [00:20<05:38, 27.97it/s]\u001b[A\n",
      "  5%|██████████▏                                                                                                                                                                                      | 526/10000 [00:20<06:16, 25.20it/s]\u001b[A\n",
      "  5%|██████████▏                                                                                                                                                                                      | 529/10000 [00:20<06:26, 24.48it/s]\u001b[A\n",
      "  5%|██████████▎                                                                                                                                                                                      | 532/10000 [00:20<06:25, 24.54it/s]\u001b[A\n",
      "  5%|██████████▎                                                                                                                                                                                      | 535/10000 [00:20<06:17, 25.08it/s]\u001b[A\n",
      "  5%|██████████▍                                                                                                                                                                                      | 539/10000 [00:21<05:48, 27.14it/s]\u001b[A\n",
      "  5%|██████████▍                                                                                                                                                                                      | 543/10000 [00:21<05:13, 30.18it/s]\u001b[A\n",
      "  5%|██████████▌                                                                                                                                                                                      | 547/10000 [00:21<04:52, 32.35it/s]\u001b[A\n",
      "  6%|██████████▋                                                                                                                                                                                      | 551/10000 [00:21<04:39, 33.81it/s]\u001b[A\n",
      "  6%|██████████▋                                                                                                                                                                                      | 556/10000 [00:21<04:22, 35.94it/s]\u001b[A\n",
      "  6%|██████████▊                                                                                                                                                                                      | 560/10000 [00:21<04:21, 36.16it/s]\u001b[A\n",
      "  6%|██████████▉                                                                                                                                                                                      | 564/10000 [00:21<04:17, 36.70it/s]\u001b[A\n",
      "  6%|██████████▉                                                                                                                                                                                      | 568/10000 [00:21<04:15, 36.93it/s]\u001b[A\n",
      "  6%|███████████                                                                                                                                                                                      | 572/10000 [00:21<04:21, 36.11it/s]\u001b[A\n"
     ]
    },
    {
     "name": "stderr",
     "output_type": "stream",
     "text": [
      "  6%|███████████                                                                                                                                                                                      | 576/10000 [00:22<04:17, 36.59it/s]\u001b[A\n",
      "  6%|███████████▏                                                                                                                                                                                     | 580/10000 [00:22<04:14, 37.05it/s]\u001b[A\n",
      "  6%|███████████▎                                                                                                                                                                                     | 584/10000 [00:22<04:12, 37.36it/s]\u001b[A\n",
      "  6%|███████████▎                                                                                                                                                                                     | 588/10000 [00:22<04:10, 37.51it/s]\u001b[A\n",
      "  6%|███████████▍                                                                                                                                                                                     | 592/10000 [00:22<04:10, 37.59it/s]\u001b[A\n",
      "  6%|███████████▌                                                                                                                                                                                     | 596/10000 [00:22<04:09, 37.63it/s]\u001b[A\n",
      "  6%|███████████▌                                                                                                                                                                                     | 600/10000 [00:22<04:05, 38.27it/s]\u001b[A\n",
      "  6%|███████████▋                                                                                                                                                                                     | 604/10000 [00:22<04:35, 34.08it/s]\u001b[A\n",
      "  6%|███████████▋                                                                                                                                                                                     | 608/10000 [00:22<04:27, 35.13it/s]\u001b[A\n",
      "  6%|███████████▊                                                                                                                                                                                     | 612/10000 [00:23<04:19, 36.17it/s]\u001b[A\n",
      "  6%|███████████▉                                                                                                                                                                                     | 617/10000 [00:23<04:09, 37.63it/s]\u001b[A\n",
      "  6%|███████████▉                                                                                                                                                                                     | 621/10000 [00:23<04:06, 38.01it/s]\u001b[A\n",
      "  6%|████████████                                                                                                                                                                                     | 626/10000 [00:23<03:54, 40.03it/s]\u001b[A\n",
      "  6%|████████████▏                                                                                                                                                                                    | 631/10000 [00:23<04:03, 38.41it/s]\u001b[A\n",
      "  6%|████████████▎                                                                                                                                                                                    | 635/10000 [00:23<04:09, 37.60it/s]\u001b[A\n",
      "  6%|████████████▎                                                                                                                                                                                    | 639/10000 [00:23<04:25, 35.28it/s]\u001b[A\n",
      "  6%|████████████▍                                                                                                                                                                                    | 643/10000 [00:23<04:19, 36.12it/s]\u001b[A\n",
      "  6%|████████████▍                                                                                                                                                                                    | 647/10000 [00:23<04:32, 34.28it/s]\u001b[A\n",
      "  7%|████████████▌                                                                                                                                                                                    | 651/10000 [00:24<05:04, 30.70it/s]\u001b[A\n",
      "  7%|████████████▋                                                                                                                                                                                    | 656/10000 [00:24<04:33, 34.17it/s]\u001b[A\n",
      "  7%|████████████▋                                                                                                                                                                                    | 660/10000 [00:24<04:46, 32.62it/s]\u001b[A\n",
      "  7%|████████████▊                                                                                                                                                                                    | 664/10000 [00:24<04:32, 34.27it/s]\u001b[A\n",
      "  7%|████████████▉                                                                                                                                                                                    | 669/10000 [00:24<04:16, 36.38it/s]\u001b[A\n",
      "  7%|████████████▉                                                                                                                                                                                    | 673/10000 [00:24<04:15, 36.48it/s]\u001b[A\n",
      "  7%|█████████████                                                                                                                                                                                    | 677/10000 [00:24<04:13, 36.74it/s]\u001b[A\n",
      "  7%|█████████████▏                                                                                                                                                                                   | 681/10000 [00:24<04:11, 37.03it/s]\u001b[A\n",
      "  7%|█████████████▏                                                                                                                                                                                   | 685/10000 [00:25<04:09, 37.29it/s]\u001b[A\n",
      "  7%|█████████████▎                                                                                                                                                                                   | 689/10000 [00:25<04:08, 37.45it/s]\u001b[A\n",
      "  7%|█████████████▎                                                                                                                                                                                   | 693/10000 [00:25<04:53, 31.73it/s]\u001b[A\n",
      "  7%|█████████████▍                                                                                                                                                                                   | 697/10000 [00:25<05:05, 30.41it/s]\u001b[A\n",
      "  7%|█████████████▌                                                                                                                                                                                   | 701/10000 [00:25<05:03, 30.66it/s]\u001b[A\n",
      "  7%|█████████████▌                                                                                                                                                                                   | 705/10000 [00:25<05:14, 29.54it/s]\u001b[A\n",
      "  7%|█████████████▋                                                                                                                                                                                   | 709/10000 [00:25<05:46, 26.82it/s]\u001b[A\n",
      "  7%|█████████████▊                                                                                                                                                                                   | 714/10000 [00:26<05:02, 30.67it/s]\u001b[A\n"
     ]
    },
    {
     "name": "stderr",
     "output_type": "stream",
     "text": [
      "  7%|█████████████▊                                                                                                                                                                                   | 718/10000 [00:26<06:11, 24.96it/s]\u001b[A\n",
      "  7%|█████████████▉                                                                                                                                                                                   | 721/10000 [00:26<06:54, 22.36it/s]\u001b[A\n",
      "  7%|█████████████▉                                                                                                                                                                                   | 725/10000 [00:26<06:03, 25.48it/s]\u001b[A\n",
      "  7%|██████████████                                                                                                                                                                                   | 728/10000 [00:26<06:22, 24.23it/s]\u001b[A\n",
      "  7%|██████████████                                                                                                                                                                                   | 731/10000 [00:26<06:32, 23.64it/s]\u001b[A\n",
      "  7%|██████████████▏                                                                                                                                                                                  | 735/10000 [00:26<06:03, 25.49it/s]\u001b[A\n",
      "  7%|██████████████▎                                                                                                                                                                                  | 739/10000 [00:27<05:46, 26.76it/s]\u001b[A\n",
      "  7%|██████████████▎                                                                                                                                                                                  | 742/10000 [00:27<06:02, 25.54it/s]\u001b[A\n",
      "  7%|██████████████▍                                                                                                                                                                                  | 745/10000 [00:27<06:16, 24.58it/s]\u001b[A\n",
      "  7%|██████████████▍                                                                                                                                                                                  | 748/10000 [00:27<06:50, 22.53it/s]\u001b[A\n",
      "  8%|██████████████▍                                                                                                                                                                                  | 751/10000 [00:27<06:25, 24.01it/s]\u001b[A\n",
      "  8%|██████████████▌                                                                                                                                                                                  | 754/10000 [00:27<06:04, 25.39it/s]\u001b[A\n",
      "  8%|██████████████▌                                                                                                                                                                                  | 757/10000 [00:27<06:42, 22.96it/s]\u001b[A\n",
      "  8%|██████████████▋                                                                                                                                                                                  | 760/10000 [00:28<06:48, 22.62it/s]\u001b[A\n",
      "  8%|██████████████▋                                                                                                                                                                                  | 763/10000 [00:28<06:47, 22.70it/s]\u001b[A\n",
      "  8%|██████████████▊                                                                                                                                                                                  | 766/10000 [00:28<07:26, 20.69it/s]\u001b[A\n",
      "  8%|██████████████▊                                                                                                                                                                                  | 770/10000 [00:28<06:28, 23.76it/s]\u001b[A\n",
      "  8%|██████████████▉                                                                                                                                                                                  | 773/10000 [00:28<06:34, 23.38it/s]\u001b[A\n",
      "  8%|██████████████▉                                                                                                                                                                                  | 776/10000 [00:28<06:29, 23.66it/s]\u001b[A\n",
      "  8%|███████████████                                                                                                                                                                                  | 779/10000 [00:28<06:53, 22.27it/s]\u001b[A\n",
      "  8%|███████████████                                                                                                                                                                                  | 782/10000 [00:29<06:44, 22.80it/s]\u001b[A\n",
      "  8%|███████████████▏                                                                                                                                                                                 | 785/10000 [00:29<07:27, 20.61it/s]\u001b[A\n",
      "  8%|███████████████▏                                                                                                                                                                                 | 790/10000 [00:29<05:43, 26.83it/s]\u001b[A\n"
     ]
    },
    {
     "ename": "KeyboardInterrupt",
     "evalue": "",
     "output_type": "error",
     "traceback": [
      "\u001b[1;31m---------------------------------------------------------------------------\u001b[0m",
      "\u001b[1;31mKeyboardInterrupt\u001b[0m                         Traceback (most recent call last)",
      "\u001b[1;32m~\\AppData\\Local\\Temp/ipykernel_18936/3052437449.py\u001b[0m in \u001b[0;36m<module>\u001b[1;34m\u001b[0m\n\u001b[0;32m      3\u001b[0m \u001b[1;32mfor\u001b[0m \u001b[0mz\u001b[0m \u001b[1;32min\u001b[0m \u001b[0mtqdm\u001b[0m\u001b[1;33m(\u001b[0m\u001b[0mZs\u001b[0m\u001b[1;33m)\u001b[0m\u001b[1;33m:\u001b[0m\u001b[1;33m\u001b[0m\u001b[1;33m\u001b[0m\u001b[0m\n\u001b[0;32m      4\u001b[0m     \u001b[0mseq\u001b[0m \u001b[1;33m=\u001b[0m \u001b[0mVAE\u001b[0m\u001b[1;33m.\u001b[0m\u001b[0mdecoder\u001b[0m\u001b[1;33m(\u001b[0m\u001b[0mz\u001b[0m\u001b[1;33m)\u001b[0m\u001b[1;33m\u001b[0m\u001b[1;33m\u001b[0m\u001b[0m\n\u001b[1;32m----> 5\u001b[1;33m     \u001b[0mseq\u001b[0m \u001b[1;33m=\u001b[0m \u001b[0mds\u001b[0m\u001b[1;33m.\u001b[0m\u001b[0mtok\u001b[0m\u001b[1;33m.\u001b[0m\u001b[0mdecode\u001b[0m\u001b[1;33m(\u001b[0m\u001b[0mseq\u001b[0m\u001b[1;33m.\u001b[0m\u001b[0mreshape\u001b[0m\u001b[1;33m(\u001b[0m\u001b[1;36m1\u001b[0m\u001b[1;33m,\u001b[0m \u001b[0mSEQ_LEN\u001b[0m\u001b[1;33m,\u001b[0m \u001b[1;33m-\u001b[0m\u001b[1;36m1\u001b[0m\u001b[1;33m)\u001b[0m\u001b[1;33m)\u001b[0m\u001b[1;33m[\u001b[0m\u001b[1;36m0\u001b[0m\u001b[1;33m]\u001b[0m\u001b[1;33m\u001b[0m\u001b[1;33m\u001b[0m\u001b[0m\n\u001b[0m\u001b[0;32m      6\u001b[0m     \u001b[0mseqs\u001b[0m\u001b[1;33m[\u001b[0m\u001b[0mseq\u001b[0m\u001b[1;33m]\u001b[0m \u001b[1;33m+=\u001b[0m \u001b[1;36m1\u001b[0m\u001b[1;33m\u001b[0m\u001b[1;33m\u001b[0m\u001b[0m\n",
      "\u001b[1;32m~\\AppData\\Local\\Temp/ipykernel_18936/1889002757.py\u001b[0m in \u001b[0;36mdecode\u001b[1;34m(self, batch)\u001b[0m\n\u001b[0;32m     58\u001b[0m             \u001b[0mseq\u001b[0m \u001b[1;33m=\u001b[0m \u001b[1;34m\"\"\u001b[0m\u001b[1;33m\u001b[0m\u001b[1;33m\u001b[0m\u001b[0m\n\u001b[0;32m     59\u001b[0m             \u001b[1;32mfor\u001b[0m \u001b[0ms\u001b[0m \u001b[1;32min\u001b[0m \u001b[0mrange\u001b[0m\u001b[1;33m(\u001b[0m\u001b[0mseq_len\u001b[0m\u001b[1;33m)\u001b[0m\u001b[1;33m:\u001b[0m\u001b[1;33m\u001b[0m\u001b[1;33m\u001b[0m\u001b[0m\n\u001b[1;32m---> 60\u001b[1;33m                 \u001b[0mseq\u001b[0m \u001b[1;33m+=\u001b[0m \u001b[0mself\u001b[0m\u001b[1;33m.\u001b[0m\u001b[0mdec_dict\u001b[0m\u001b[1;33m[\u001b[0m\u001b[0mint\u001b[0m\u001b[1;33m(\u001b[0m\u001b[0mh\u001b[0m\u001b[1;33m[\u001b[0m\u001b[0mb\u001b[0m\u001b[1;33m]\u001b[0m\u001b[1;33m[\u001b[0m\u001b[0ms\u001b[0m\u001b[1;33m]\u001b[0m\u001b[1;33m)\u001b[0m\u001b[1;33m]\u001b[0m\u001b[1;33m\u001b[0m\u001b[1;33m\u001b[0m\u001b[0m\n\u001b[0m\u001b[0;32m     61\u001b[0m             \u001b[0mbatch_seq\u001b[0m\u001b[1;33m.\u001b[0m\u001b[0mappend\u001b[0m\u001b[1;33m(\u001b[0m\u001b[0mseq\u001b[0m\u001b[1;33m)\u001b[0m\u001b[1;33m\u001b[0m\u001b[1;33m\u001b[0m\u001b[0m\n\u001b[0;32m     62\u001b[0m \u001b[1;33m\u001b[0m\u001b[0m\n",
      "\u001b[1;31mKeyboardInterrupt\u001b[0m: "
     ]
    }
   ],
   "source": [
    "VAE.eval()\n",
    "seqs = defaultdict(lambda : 0)\n",
    "for z in tqdm(Zs):\n",
    "    seq = VAE.decoder(z)\n",
    "    seq = ds.tok.decode(seq.reshape(1, SEQ_LEN, -1))[0]\n",
    "    seqs[seq] += 1\n"
   ]
  },
  {
   "cell_type": "code",
   "execution_count": 31,
   "id": "b8202dae",
   "metadata": {},
   "outputs": [
    {
     "data": {
      "text/plain": [
       "defaultdict(<function __main__.<lambda>()>,\n",
       "            {'MFVFLVLLPLVSSQCVNLRTRTQLPPAYTNSFTRGVYYPDKVFRSSVLHSTQDLFLPFFSNVTWFHA-IHVSGTNGTKRFDNPVLPFNDGVYFASTEKSNIIRGWIFGTTLDSKTQSLLIVNNATNVVIKVCEFQFCNDPFLGV-YYHKNNKSWMESG--VYSSANNCTFEYVSQPFLMDLEGKQGNFKNLREFVFKNIDGYFKIYSKHTPINLVR----D---LPQGFSALEPLVDLPIGINITRFQTLLALHRSYLTPGDSSSGWTAGAAAYYVGYLQPRTFLLKYNENGTITDAVDCALDPLSETKCTLKSFTVEKGIYQTSNFRVQPTESIVRFPNITNLCPFGEVFNATRFASVYAWNRKRISNCVADYSVLYNSASFSTFKCYGVSPTKLNDLCFTNVYADSFVIRGDEVRQIAPGQTGKIADYNYKLPDDFTGCVIAWNSNNLDSKVGGNYNYRYRLFRKSNLKPFERDISTEIYQAGSKPCNGVEGFNCYFPLQSYGFQPTNGVGYQPYRVVVLSFELLHAPATVCGPKKSTNLVKNKCVNFNFNGLTGTGVLTESNKKFLPFQQFGRDIADTTDAVRDPQTLEILDITPCSFGGVSVITPGTNTSNQVAVLYQGVNCTEVPVAIHADQLTPTWRVYSTGSNVFQTRAGCLIGAEHVNNSYECDIPIGAGICASYQTQTNSRRRARSVASQSIIAYTMSLGAENSVAYSNNSIAIPTNFTISVTTEILPVSMTKTSVDCTMYICGDSTECSNLLLQYGSFCTQLNRALTGIAVEQDKNTQEVFAQVKQIYKTPPIKDFGGFNFSQILPDPSKPSKRSFIEDLLFNKVTLADAGFIKQYGDCLGDIAARDLICAQKFNGLTVLPPLLTDEMIAQYTSALLAGTITSGWTFGAGAALQIPFAMQMAYRFNGIGVTQNVLYENQKLIANQFNSAIGKIQDSLSSTASALGKLQNVVNQNAQALNTLVKQLSSNFGAISSVLNDILSRLDKVEAEVQIDRLITGRLQSLQTYVTQQLIRAAEIRASANLAATKMSECVLGQSKRVDFCGKGYHLMSFPQSAPHGVVFLHVTYVPAQEKNFTTAPAICHDGKAHFPREGVFVSNGTHWFVTQRNFYEPQIITTDNTFVSGNCDVVIGIVNNTVYDPLQPELDSFKEELDKYFKNHTSPDVDLGDISGINASVVNIQKEIDRLNEVAKNLNESLIDLQELGKYEQYIKWPWYIWLGFIAGLIAIVMVTIMLCCMTSCCSCLKGCCSCGSCCKFDEDDSEPVLKGVKLHYT': 10000})"
      ]
     },
     "execution_count": 31,
     "metadata": {},
     "output_type": "execute_result"
    }
   ],
   "source": [
    "seqs"
   ]
  },
  {
   "cell_type": "code",
   "execution_count": 58,
   "id": "09a1316f",
   "metadata": {},
   "outputs": [
    {
     "data": {
      "text/plain": [
       "1"
      ]
     },
     "execution_count": 58,
     "metadata": {},
     "output_type": "execute_result"
    }
   ],
   "source": [
    "len(seqs)"
   ]
  },
  {
   "cell_type": "code",
   "execution_count": 71,
   "id": "e9dd0bf7",
   "metadata": {},
   "outputs": [],
   "source": [
    "records = []"
   ]
  },
  {
   "cell_type": "code",
   "execution_count": 72,
   "id": "81c43f20",
   "metadata": {},
   "outputs": [],
   "source": [
    "for seq, cnt in seqs.items():\n",
    "    record = SeqRecord(Seq(seq), id=f\"\", description=f\"{cnt}\")\n",
    "    records.append(record)"
   ]
  },
  {
   "cell_type": "code",
   "execution_count": 73,
   "id": "00d31740",
   "metadata": {},
   "outputs": [],
   "source": [
    "for seq in VAE.ds.viral_seqs:\n",
    "    record = SeqRecord(Seq(seq), id=f\"\", description=f\"{cnt}\")\n",
    "    records.append(record)   "
   ]
  },
  {
   "cell_type": "code",
   "execution_count": 74,
   "id": "611615e8",
   "metadata": {},
   "outputs": [
    {
     "data": {
      "text/plain": [
       "2542"
      ]
     },
     "execution_count": 74,
     "metadata": {},
     "output_type": "execute_result"
    }
   ],
   "source": [
    "fd = open(f\".{os.sep}data{os.sep}spike_protein_sequences{os.sep}{FILENAME_GENERATED}.fasta\", \"w\")\n",
    "#for record in records:\n",
    "SeqIO.write(records, fd, format=\"fasta\")"
   ]
  },
  {
   "cell_type": "code",
   "execution_count": 75,
   "id": "d8a014a2",
   "metadata": {},
   "outputs": [],
   "source": [
    "fd.close()"
   ]
  },
  {
   "cell_type": "code",
   "execution_count": 76,
   "id": "4a114dd8",
   "metadata": {},
   "outputs": [
    {
     "data": {
      "text/plain": [
       "'generated2'"
      ]
     },
     "execution_count": 76,
     "metadata": {},
     "output_type": "execute_result"
    }
   ],
   "source": [
    "FILENAME_GENERATED"
   ]
  },
  {
   "cell_type": "code",
   "execution_count": 77,
   "id": "f9d709ad",
   "metadata": {},
   "outputs": [],
   "source": [
    "from Bio.Align.Applications import MuscleCommandline"
   ]
  },
  {
   "cell_type": "code",
   "execution_count": 56,
   "id": "16721403",
   "metadata": {},
   "outputs": [
    {
     "name": "stdout",
     "output_type": "stream",
     "text": [
      "muscle -in .\\data\\spike_protein_sequences\\generated.fasta -out .\\data\\spike_protein_sequences\\generated.aln -clwstrict\n"
     ]
    }
   ],
   "source": [
    "cline = MuscleCommandline(input=f\".{os.sep}data{os.sep}spike_protein_sequences{os.sep}{FILENAME_GENERATED}.fasta\", out=f\".{os.sep}data{os.sep}spike_protein_sequences{os.sep}{FILENAME_GENERATED}.aln\", clwstrict=True)\n",
    "print(cline)"
   ]
  },
  {
   "cell_type": "code",
   "execution_count": 57,
   "id": "59c3a14a",
   "metadata": {},
   "outputs": [
    {
     "ename": "ApplicationError",
     "evalue": "Non-zero return code 2 from 'muscle -in .\\\\data\\\\spike_protein_sequences\\\\generated.fasta -out .\\\\data\\\\spike_protein_sequences\\\\generated.aln -clwstrict', message 'MUSCLE v3.8.31 by Robert C. Edgar'",
     "output_type": "error",
     "traceback": [
      "\u001b[1;31m---------------------------------------------------------------------------\u001b[0m",
      "\u001b[1;31mApplicationError\u001b[0m                          Traceback (most recent call last)",
      "\u001b[1;32m~\\AppData\\Local\\Temp/ipykernel_26668/1874596374.py\u001b[0m in \u001b[0;36m<module>\u001b[1;34m\u001b[0m\n\u001b[1;32m----> 1\u001b[1;33m \u001b[0mstdout\u001b[0m\u001b[1;33m,\u001b[0m \u001b[0mstderr\u001b[0m \u001b[1;33m=\u001b[0m \u001b[0mcline\u001b[0m\u001b[1;33m(\u001b[0m\u001b[1;33m)\u001b[0m\u001b[1;33m\u001b[0m\u001b[1;33m\u001b[0m\u001b[0m\n\u001b[0m",
      "\u001b[1;32m~\\anaconda3\\envs\\VC\\lib\\site-packages\\Bio\\Application\\__init__.py\u001b[0m in \u001b[0;36m__call__\u001b[1;34m(self, stdin, stdout, stderr, cwd, env)\u001b[0m\n\u001b[0;32m    572\u001b[0m \u001b[1;33m\u001b[0m\u001b[0m\n\u001b[0;32m    573\u001b[0m         \u001b[1;32mif\u001b[0m \u001b[0mreturn_code\u001b[0m\u001b[1;33m:\u001b[0m\u001b[1;33m\u001b[0m\u001b[1;33m\u001b[0m\u001b[0m\n\u001b[1;32m--> 574\u001b[1;33m             \u001b[1;32mraise\u001b[0m \u001b[0mApplicationError\u001b[0m\u001b[1;33m(\u001b[0m\u001b[0mreturn_code\u001b[0m\u001b[1;33m,\u001b[0m \u001b[0mstr\u001b[0m\u001b[1;33m(\u001b[0m\u001b[0mself\u001b[0m\u001b[1;33m)\u001b[0m\u001b[1;33m,\u001b[0m \u001b[0mstdout_str\u001b[0m\u001b[1;33m,\u001b[0m \u001b[0mstderr_str\u001b[0m\u001b[1;33m)\u001b[0m\u001b[1;33m\u001b[0m\u001b[1;33m\u001b[0m\u001b[0m\n\u001b[0m\u001b[0;32m    575\u001b[0m         \u001b[1;32mreturn\u001b[0m \u001b[0mstdout_str\u001b[0m\u001b[1;33m,\u001b[0m \u001b[0mstderr_str\u001b[0m\u001b[1;33m\u001b[0m\u001b[1;33m\u001b[0m\u001b[0m\n\u001b[0;32m    576\u001b[0m \u001b[1;33m\u001b[0m\u001b[0m\n",
      "\u001b[1;31mApplicationError\u001b[0m: Non-zero return code 2 from 'muscle -in .\\\\data\\\\spike_protein_sequences\\\\generated.fasta -out .\\\\data\\\\spike_protein_sequences\\\\generated.aln -clwstrict', message 'MUSCLE v3.8.31 by Robert C. Edgar'"
     ]
    }
   ],
   "source": [
    "stdout, stderr = cline()"
   ]
  },
  {
   "cell_type": "code",
   "execution_count": 78,
   "id": "380c65b0",
   "metadata": {},
   "outputs": [
    {
     "ename": "FileNotFoundError",
     "evalue": "[Errno 2] No such file or directory: 'C:\\\\Users\\\\s2118339\\\\Documents\\\\2022H1\\\\Group_project\\\\CovidProject\\\\week_4/data/spike_protein_sequences/generated2.aln'",
     "output_type": "error",
     "traceback": [
      "\u001b[1;31m---------------------------------------------------------------------------\u001b[0m",
      "\u001b[1;31mFileNotFoundError\u001b[0m                         Traceback (most recent call last)",
      "\u001b[1;32m~\\AppData\\Local\\Temp/ipykernel_26668/2307240701.py\u001b[0m in \u001b[0;36m<module>\u001b[1;34m\u001b[0m\n\u001b[1;32m----> 1\u001b[1;33m \u001b[0mgenerate_embedding_map_from_database\u001b[0m\u001b[1;33m(\u001b[0m\u001b[1;34mf\"{FILENAME_GENERATED}.aln\"\u001b[0m\u001b[1;33m)\u001b[0m\u001b[1;33m\u001b[0m\u001b[1;33m\u001b[0m\u001b[0m\n\u001b[0m",
      "\u001b[1;32m~\\Documents\\2022H1\\Group_project\\CovidProject\\week_4\\protein_map_visualisation_tools.py\u001b[0m in \u001b[0;36mgenerate_embedding_map_from_database\u001b[1;34m(aligned_fasta_file, encoding_type, UMAP_metric, seed, markerSize, method, mask)\u001b[0m\n\u001b[0;32m    129\u001b[0m \u001b[1;33m\u001b[0m\u001b[0m\n\u001b[0;32m    130\u001b[0m     \u001b[1;31m# encoded the protein sequences\u001b[0m\u001b[1;33m\u001b[0m\u001b[1;33m\u001b[0m\u001b[1;33m\u001b[0m\u001b[0m\n\u001b[1;32m--> 131\u001b[1;33m     \u001b[0mfrequencies\u001b[0m\u001b[1;33m,\u001b[0m \u001b[0mencoded_sequences\u001b[0m \u001b[1;33m=\u001b[0m \u001b[0mencode_sequences\u001b[0m\u001b[1;33m(\u001b[0m\u001b[0minfile\u001b[0m\u001b[1;33m=\u001b[0m\u001b[0maligned_fasta_file\u001b[0m\u001b[1;33m,\u001b[0m \u001b[0mencoding_type\u001b[0m\u001b[1;33m=\u001b[0m\u001b[0mencoding_type\u001b[0m\u001b[1;33m,\u001b[0m \u001b[0mmask\u001b[0m\u001b[1;33m=\u001b[0m\u001b[0mmask\u001b[0m\u001b[1;33m)\u001b[0m\u001b[1;33m\u001b[0m\u001b[1;33m\u001b[0m\u001b[0m\n\u001b[0m\u001b[0;32m    132\u001b[0m \u001b[1;33m\u001b[0m\u001b[0m\n\u001b[0;32m    133\u001b[0m     \u001b[1;31m# compute the sequence embeddings\u001b[0m\u001b[1;33m\u001b[0m\u001b[1;33m\u001b[0m\u001b[1;33m\u001b[0m\u001b[0m\n",
      "\u001b[1;32m~\\Documents\\2022H1\\Group_project\\CovidProject\\week_4\\protein_map_visualisation_tools.py\u001b[0m in \u001b[0;36mencode_sequences\u001b[1;34m(infile, encoding_type, mask)\u001b[0m\n\u001b[0;32m     27\u001b[0m     \"\"\"\n\u001b[0;32m     28\u001b[0m     \u001b[0mencoder\u001b[0m \u001b[1;33m=\u001b[0m \u001b[0mProteinSequenceEncoder\u001b[0m\u001b[1;33m(\u001b[0m\u001b[0mencoding_type\u001b[0m\u001b[1;33m=\u001b[0m\u001b[0mencoding_type\u001b[0m\u001b[1;33m,\u001b[0m \u001b[0mmask\u001b[0m\u001b[1;33m=\u001b[0m\u001b[0mmask\u001b[0m\u001b[1;33m)\u001b[0m\u001b[1;33m\u001b[0m\u001b[1;33m\u001b[0m\u001b[0m\n\u001b[1;32m---> 29\u001b[1;33m     \u001b[0mfrequencies\u001b[0m\u001b[1;33m,\u001b[0m \u001b[0mencoded_sequences\u001b[0m \u001b[1;33m=\u001b[0m \u001b[0mencoder\u001b[0m\u001b[1;33m.\u001b[0m\u001b[0mencode_from_fasta_file\u001b[0m\u001b[1;33m(\u001b[0m\u001b[0minfile\u001b[0m\u001b[1;33m,\u001b[0m \u001b[1;34mf'1_in_500_encoded_{encoding_type}.txt'\u001b[0m\u001b[1;33m)\u001b[0m\u001b[1;33m\u001b[0m\u001b[1;33m\u001b[0m\u001b[0m\n\u001b[0m\u001b[0;32m     30\u001b[0m     \u001b[1;32mreturn\u001b[0m \u001b[0mfrequencies\u001b[0m\u001b[1;33m,\u001b[0m \u001b[0mencoded_sequences\u001b[0m\u001b[1;33m\u001b[0m\u001b[1;33m\u001b[0m\u001b[0m\n\u001b[0;32m     31\u001b[0m \u001b[1;33m\u001b[0m\u001b[0m\n",
      "\u001b[1;32m~\\Documents\\2022H1\\Group_project\\CovidProject\\week_4\\amino_acid_encoding.py\u001b[0m in \u001b[0;36mencode_from_fasta_file\u001b[1;34m(self, fasta_file, outfilename, data_dir)\u001b[0m\n\u001b[0;32m    124\u001b[0m         \u001b[0mReads\u001b[0m \u001b[1;32min\u001b[0m \u001b[0ma\u001b[0m \u001b[0mfasta\u001b[0m \u001b[0mfile\u001b[0m \u001b[0mof\u001b[0m \u001b[0mprotein\u001b[0m \u001b[0msequences\u001b[0m \u001b[1;32mand\u001b[0m \u001b[0mencodes\u001b[0m \u001b[0meach\u001b[0m \u001b[0msequence\u001b[0m\u001b[1;33m.\u001b[0m\u001b[1;33m\u001b[0m\u001b[1;33m\u001b[0m\u001b[0m\n\u001b[0;32m    125\u001b[0m         \"\"\"\n\u001b[1;32m--> 126\u001b[1;33m         \u001b[0mfasta_sequences\u001b[0m \u001b[1;33m=\u001b[0m \u001b[0mSeqIO\u001b[0m\u001b[1;33m.\u001b[0m\u001b[0mparse\u001b[0m\u001b[1;33m(\u001b[0m\u001b[0mopen\u001b[0m\u001b[1;33m(\u001b[0m\u001b[0mself\u001b[0m\u001b[1;33m.\u001b[0m\u001b[0mproject_directory\u001b[0m \u001b[1;33m+\u001b[0m \u001b[0mdata_dir\u001b[0m \u001b[1;33m+\u001b[0m \u001b[0mfasta_file\u001b[0m\u001b[1;33m)\u001b[0m\u001b[1;33m,\u001b[0m \u001b[1;34m'fasta'\u001b[0m\u001b[1;33m)\u001b[0m\u001b[1;33m\u001b[0m\u001b[1;33m\u001b[0m\u001b[0m\n\u001b[0m\u001b[0;32m    127\u001b[0m         \u001b[0mnumber_of_sequences\u001b[0m \u001b[1;33m=\u001b[0m \u001b[0mlen\u001b[0m\u001b[1;33m(\u001b[0m\u001b[0mlist\u001b[0m\u001b[1;33m(\u001b[0m\u001b[0mfasta_sequences\u001b[0m\u001b[1;33m)\u001b[0m\u001b[1;33m)\u001b[0m\u001b[1;33m\u001b[0m\u001b[1;33m\u001b[0m\u001b[0m\n\u001b[0;32m    128\u001b[0m         \u001b[0mencoded_sequences\u001b[0m \u001b[1;33m=\u001b[0m \u001b[1;32mNone\u001b[0m\u001b[1;33m\u001b[0m\u001b[1;33m\u001b[0m\u001b[0m\n",
      "\u001b[1;31mFileNotFoundError\u001b[0m: [Errno 2] No such file or directory: 'C:\\\\Users\\\\s2118339\\\\Documents\\\\2022H1\\\\Group_project\\\\CovidProject\\\\week_4/data/spike_protein_sequences/generated2.aln'"
     ]
    }
   ],
   "source": [
    "generate_embedding_map_from_database(f\"{FILENAME_GENERATED}.aln\")"
   ]
  },
  {
   "cell_type": "code",
   "execution_count": 62,
   "id": "92a7f0f2",
   "metadata": {},
   "outputs": [
    {
     "data": {
      "image/png": "[encoded data removed]",
      "text/plain": [
       "<Figure size 864x864 with 1 Axes>"
      ]
     },
     "metadata": {
      "needs_background": "light"
     },
     "output_type": "display_data"
    }
   ],
   "source": [
    "generate_embedding_map_from_database(f\"{FILENAME_GENERATED}.aln\")"
   ]
  },
  {
   "cell_type": "code",
   "execution_count": null,
   "id": "fc9cce73",
   "metadata": {},
   "outputs": [],
   "source": []
  }
 ],
 "metadata": {
  "kernelspec": {
   "display_name": "Python 3 (ipykernel)",
   "language": "python",
   "name": "python3"
  },
  "language_info": {
   "codemirror_mode": {
    "name": "ipython",
    "version": 3
   },
   "file_extension": ".py",
   "mimetype": "text/x-python",
   "name": "python",
   "nbconvert_exporter": "python",
   "pygments_lexer": "ipython3",
   "version": "3.8.12"
  },
  "toc": {
   "base_numbering": 1,
   "nav_menu": {},
   "number_sections": true,
   "sideBar": true,
   "skip_h1_title": false,
   "title_cell": "Table of Contents",
   "title_sidebar": "Contents",
   "toc_cell": false,
   "toc_position": {},
   "toc_section_display": true,
   "toc_window_display": false
  }
 },
 "nbformat": 4,
 "nbformat_minor": 5
}
