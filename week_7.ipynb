{
 "cells": [
  {
   "cell_type": "markdown",
   "id": "c31f4016",
   "metadata": {},
   "source": [
    "# Control"
   ]
  },
  {
   "cell_type": "markdown",
   "id": "c327d46b",
   "metadata": {},
   "source": [
    "## imports"
   ]
  },
  {
   "cell_type": "code",
   "execution_count": null,
   "id": "749b61ef",
   "metadata": {},
   "outputs": [],
   "source": [
    "# general imports\n",
    "import numpy as np\n",
    "import pandas as pd\n",
    "from tqdm.auto import tqdm\n",
    "\n",
    "import json\n",
    "import os\n",
    "import pickle\n",
    "\n",
    "import matplotlib\n",
    "import matplotlib.pyplot as plt\n",
    "import seaborn as sns\n",
    "\n",
    "from collections import defaultdict\n",
    "from datetime import datetime\n",
    "\n",
    "# biopython\n",
    "import Bio\n",
    "from Bio import SeqIO\n",
    "from Bio import pairwise2\n",
    "from Bio.Seq import Seq\n",
    "from Bio.SeqRecord import SeqRecord\n",
    "from Bio.pairwise2 import format_alignment\n",
    "from Bio.SubsMat import MatrixInfo as matlist\n",
    "\n",
    "# pytorch\n",
    "import torch\n",
    "from torch.utils.data import DataLoader\n",
    "from torch.utils.data import Dataset\n",
    "from torch import nn\n",
    "import torch.nn.functional as F\n",
    "\n",
    "# pytorch lightning\n",
    "import pytorch_lightning as pl\n",
    "from pytorch_lightning import Trainer\n",
    "from pl_bolts.models import VAE\n",
    "\n",
    "# ImmunoBERT\n",
    "import pMHC\n",
    "from pMHC.logic import PresentationPredictor\n",
    "from pMHC.data import MhcAllele\n",
    "from pMHC import SEP, \\\n",
    "    SPLITS, SPLIT_TRAIN, SPLIT_VAL, SPLIT_TEST, \\\n",
    "    VIEWS, VIEW_SA, VIEW_SAMA, VIEW_DECONV, \\\n",
    "    INPUT_PEPTIDE, INPUT_CONTEXT\n",
    "from pMHC.data.utils import convert_example_to_batch, move_dict_to_device, get_input_rep_PSEUDO\n",
    "\n",
    "# visualizations\n",
    "from protein_map_visualisation_tools import generate_embedding_map_from_database\n",
    "\n",
    "# generative model\n",
    "import SpikeOracle\n",
    "from SpikeOracle.data import StandardDataset\n",
    "from SpikeOracle.presentation_scoring.IB import score_seq_IB\n",
    "from SpikeOracle.presentation_scoring.nMp import eval_peptides_nMp, score_seq_nMp\n",
    "from SpikeOracle.models.VAE.fc import FcVAE\n",
    "from SpikeOracle.latent import get_latent_from_seq_FcVAE, get_seq_from_latent_FcVAE\n",
    "from SpikeOracle.utils import write_seqs_to_fasta"
   ]
  },
  {
   "cell_type": "markdown",
   "id": "28039145",
   "metadata": {},
   "source": [
    "## constants"
   ]
  },
  {
   "cell_type": "code",
   "execution_count": null,
   "id": "46201547",
   "metadata": {},
   "outputs": [],
   "source": [
    "FILENAME = f\"..{os.sep}data{os.sep}spikeprot_bigger_dataset.afa\" \n",
    "\n",
    "# data constants\n",
    "SEQ_LEN = 1449 # 1282  # 18   # restricted to 1271 aa sequence lenghts\n",
    "MAX_SEQ_LEN = SEQ_LEN\n",
    "AA_ENC_DIM = 21   # count of amino acid encoding dimensions\n",
    "SEP = os.sep\n",
    "IMMUNO_CATS = 3\n",
    "\n",
    "# most relevant MHC alleles\n",
    "MHC_list = [\"HLA-A01:01\", \"HLA-A02:01\", \"HLA-A03:01\", \"HLA-A24:02\", \"HLA-A26:01\",\n",
    "            \"HLA-B07:02\", \"HLA-B08:01\", \"HLA-B27:05\", \"HLA-B39:01\", \"HLA-B40:01\", \"HLA-B58:01\", \"HLA-B15:01\"]\n",
    "\n",
    "# ImmunoBERT\n",
    "IB_VERSION = \"CONTEXT-PSEUDO-HEAD_Cls-DECOY_19-LR_0.00001\"\n",
    "IB_CHECKPOINT = \"epoch=4-step=3648186\"\n",
    "IB_PROJ_PATH = r\"C:\\Users\\s2118339\\Documents\\MSc_AI_Thesis_final\\MScProject\"\n",
    "\n",
    "# netMHCpan\n",
    "NMP_FOLDER_1 = f\"..{os.sep}netMHCpan\"\n",
    "NMP_FOLDER_2 = r\"~/win/Documents/2022H1/Group_project/CovidProject/netMHCpan\""
   ]
  },
  {
   "cell_type": "markdown",
   "id": "276431cf",
   "metadata": {},
   "source": [
    "### fully connected VAE"
   ]
  },
  {
   "cell_type": "code",
   "execution_count": null,
   "id": "68b78ee9",
   "metadata": {},
   "outputs": [],
   "source": [
    "# encoder parameters\n",
    "FC_ENC_INT_DIM = 512 # intermediate dimensions of the encoder\n",
    "FC_ENC_OUT_DIM = 128 # output dimensions of the encoder\n",
    "\n",
    "# latent space\n",
    "FC_LATENT_DIM = 2   # dimensions of the latent space\n",
    "\n",
    "# decoder parameters\n",
    "FC_DEC_INT_DIM = 512 # intermediate dimensions of the decoder\n",
    "\n",
    "# VAE parameters\n",
    "FC_KL_TARGET = 0.1    # value of the KL divergence in the loss function\n",
    "\n",
    "# training parameters\n",
    "FC_LR = 3e-4         # the learning rate\n",
    "FC_BATCH_SIZE = 64   # batch size\n",
    "FC_DROPOUT = 0.05\n",
    "FC_WEIGHT_DECAY = 1e-6 # 3e-5\n",
    "\n",
    "FC_GEN_FILENAME = f\"FcVAE_generated\""
   ]
  },
  {
   "cell_type": "markdown",
   "id": "291d603a",
   "metadata": {},
   "source": [
    "## notebook control"
   ]
  },
  {
   "cell_type": "code",
   "execution_count": null,
   "id": "f9ec4711",
   "metadata": {},
   "outputs": [],
   "source": [
    "LOAD_IB_MODEL = True\n",
    "LOAD_IB_PEPTIDE_SCORES = True\n",
    "SAVE_IB_PEPTIDE_SCORES = False\n",
    "\n",
    "ANTIGENICITY = 2  # 1... ImmunoBERT, 2... netMHCpan\n",
    "\n",
    "FC_EPOCHS = 100\n",
    "FC_SAVE = \"FC_002.ckpt\" # \"Fc_test\" # None\n",
    "FC_LOAD = \"FC_002.ckpt\" # \"Fully_Eps_100_KlTgt_25e-2KL_Cdtl.ckpt\"\n",
    "\n",
    "FC_SAMPLES = 1000"
   ]
  },
  {
   "cell_type": "markdown",
   "id": "011d9302",
   "metadata": {},
   "source": [
    "# Dataset"
   ]
  },
  {
   "cell_type": "code",
   "execution_count": null,
   "id": "8803c661",
   "metadata": {},
   "outputs": [],
   "source": [
    "# load dataset\n",
    "ds = StandardDataset(FILENAME, SEQ_LEN, MAX_SEQ_LEN)"
   ]
  },
  {
   "cell_type": "markdown",
   "id": "713ef57e",
   "metadata": {},
   "source": [
    "## ImmunoBERT assessment"
   ]
  },
  {
   "cell_type": "code",
   "execution_count": null,
   "id": "e2aaa63c",
   "metadata": {},
   "outputs": [],
   "source": [
    "model = None"
   ]
  },
  {
   "cell_type": "code",
   "execution_count": null,
   "id": "e59a136f",
   "metadata": {},
   "outputs": [],
   "source": [
    "# load ImmunoBERT model\n",
    "if LOAD_IB_MODEL:\n",
    "    pMHC.set_paths(IB_PROJ_PATH)\n",
    "    MODEL_PATH = f\"..{os.sep}data{os.sep}{IB_CHECKPOINT}.ckpt\"\n",
    "    model = PresentationPredictor.load_from_checkpoint(MODEL_PATH,\n",
    "                                                       num_workers=0, shuffle_data=False, output_attentions=False)\n",
    "\n",
    "    model.setup();\n",
    "    model.to(\"cuda\");\n",
    "    model.eval();"
   ]
  },
  {
   "cell_type": "code",
   "execution_count": null,
   "id": "714e347f",
   "metadata": {},
   "outputs": [],
   "source": [
    "# generate or load scores for peptide flank combinations\n",
    "IB_peptide_scores = {}\n",
    "IB_seq_presentation = defaultdict(lambda: 0)\n",
    "IB_seq_scores = defaultdict(lambda: 0)\n",
    "\n",
    "if LOAD_IB_PEPTIDE_SCORES:\n",
    "    with open(f\"..{os.sep}data{os.sep}IB_peptide_scores.pickle\", \"rb\") as file:\n",
    "        IB_peptide_scores = pickle.load(file)"
   ]
  },
  {
   "cell_type": "code",
   "execution_count": null,
   "id": "9cbe7437",
   "metadata": {},
   "outputs": [],
   "source": [
    "# automatically adds peptide scores if they cannot be found to the peptide score dictionary\n",
    "for seq in tqdm(ds.viral_seqs):             \n",
    "    IB_seq_presentation[seq], IB_seq_scores[seq] = score_seq_IB(model, seq,  MHC_list, IB_peptide_scores)\n",
    "        \n",
    "if SAVE_IB_PEPTIDE_SCORES:\n",
    "    with open(f\"..{os.sep}data{os.sep}IB_peptide_scores.pickle\", \"wb\") as file:\n",
    "        pickle.dump(IB_peptide_scores, file)"
   ]
  },
  {
   "cell_type": "code",
   "execution_count": null,
   "id": "9e9dfca9",
   "metadata": {},
   "outputs": [],
   "source": [
    "to_delete = []\n",
    "for key, values in IB_peptide_scores.items():\n",
    "    if len(values) != len(MHC_list):\n",
    "        to_delete.append(key)\n",
    "        \n",
    "for key in to_delete:\n",
    "    del IB_peptide_scores[key]"
   ]
  },
  {
   "cell_type": "code",
   "execution_count": null,
   "id": "622fd485",
   "metadata": {},
   "outputs": [],
   "source": [
    "h = np.array(list(IB_seq_scores.values()))\n",
    "IB_seq_scores_p25 = np.percentile(h, 25)\n",
    "IB_seq_scores_p75 = np.percentile(h, 75)\n",
    "\n",
    "IB_seq_immuno_cat = {}\n",
    "for seq in ds.viral_seqs:\n",
    "    if IB_seq_scores[seq] < IB_seq_scores_p25:\n",
    "        IB_seq_immuno_cat[seq] = 0\n",
    "    elif IB_seq_scores[seq] < IB_seq_scores_p75:\n",
    "        IB_seq_immuno_cat[seq] = 1\n",
    "    else:\n",
    "        IB_seq_immuno_cat[seq] = 2\n",
    "        \n",
    "print(f\"IB_seq_scores_p25: {IB_seq_scores_p25:.5f} IB_seq_scores_p75: {IB_seq_scores_p75:.5f}\")\n",
    "print(f\"mean: {np.mean(list(IB_seq_scores.values())):.5f}\")"
   ]
  },
  {
   "cell_type": "code",
   "execution_count": null,
   "id": "17366874",
   "metadata": {},
   "outputs": [],
   "source": [
    "sns.distplot(np.array(list(IB_seq_presentation.values()))/len(MHC_list))"
   ]
  },
  {
   "cell_type": "code",
   "execution_count": null,
   "id": "b1784871",
   "metadata": {},
   "outputs": [],
   "source": [
    "sns.distplot(np.array(list(IB_seq_scores.values()))/len(MHC_list))"
   ]
  },
  {
   "cell_type": "markdown",
   "id": "939eeafa",
   "metadata": {},
   "source": [
    "## netMHCpan assessment"
   ]
  },
  {
   "cell_type": "code",
   "execution_count": null,
   "id": "7641068f",
   "metadata": {},
   "outputs": [],
   "source": [
    "peptides_db = defaultdict(lambda: 0)\n",
    "for key in IB_peptide_scores.keys():\n",
    "    start = key.find(\"_\") + 1\n",
    "    peptides_db[key[start:start+9]] += 1\n",
    "    \n",
    "peptides_db = list(peptides_db.keys())"
   ]
  },
  {
   "cell_type": "code",
   "execution_count": null,
   "id": "47fe53ce",
   "metadata": {},
   "outputs": [],
   "source": [
    "file = open(f\"{NMP_FOLDER_1}{os.sep}peptides_db.pep\", \"w\")\n",
    "for peptide in peptides_db:\n",
    "      file.writelines([peptide, \"\\n\"])\n",
    "    \n",
    "file.close()"
   ]
  },
  {
   "cell_type": "code",
   "execution_count": null,
   "id": "f37aafb3",
   "metadata": {},
   "outputs": [],
   "source": [
    "for mhc_name in MHC_list:\n",
    "    # print(mhc_name)\n",
    "    mhc_name_2 = mhc_name.replace(\":\", \"\").replace(\"HLA-\", \"\")\n",
    "    \n",
    "    print(f\"./netMHCpan -p {NMP_FOLDER_2}/peptides_db.pep -a {mhc_name} > {NMP_FOLDER_2}/peptides_db_{mhc_name_2}.pep.out\")\n",
    "    print(\"\\n\")"
   ]
  },
  {
   "cell_type": "code",
   "execution_count": null,
   "id": "d1c22ec6",
   "metadata": {},
   "outputs": [],
   "source": [
    "# run the above on Linux"
   ]
  },
  {
   "cell_type": "code",
   "execution_count": null,
   "id": "3f52fdeb",
   "metadata": {},
   "outputs": [],
   "source": [
    "nMp_peptide_scores = eval_peptides_nMp(\"peptides_db\", MHC_list)"
   ]
  },
  {
   "cell_type": "code",
   "execution_count": null,
   "id": "7bef4d68",
   "metadata": {},
   "outputs": [],
   "source": [
    "nMp_seq_scores = defaultdict(lambda : 0)\n",
    "for seq in tqdm(ds.viral_seqs):\n",
    "    nMp_seq_scores[seq] = score_seq_nMp(seq, MHC_list, nMp_peptide_scores)"
   ]
  },
  {
   "cell_type": "code",
   "execution_count": null,
   "id": "7ee977f0",
   "metadata": {},
   "outputs": [],
   "source": [
    "h = np.array(list(nMp_seq_scores.values()))\n",
    "nMp_seq_scores_p25 = np.percentile(h, 25)\n",
    "nMp_seq_scores_p75 = np.percentile(h, 75)\n",
    "\n",
    "nMp_seq_immuno_cat = {}\n",
    "for seq in ds.viral_seqs:\n",
    "    if nMp_seq_scores[seq] < nMp_seq_scores_p25:\n",
    "        nMp_seq_immuno_cat[seq] = 0\n",
    "    elif nMp_seq_scores[seq] < nMp_seq_scores_p75:\n",
    "        nMp_seq_immuno_cat[seq] = 1\n",
    "    else:\n",
    "        nMp_seq_immuno_cat[seq] = 2\n",
    "        \n",
    "print(f\"nMp_seq_scores_p25: {nMp_seq_scores_p25:.5f} nMp_seq_scores_p75: {nMp_seq_scores_p75:.5f}\")\n",
    "print(f\"mean: {np.mean(list(nMp_seq_scores.values()))}\")"
   ]
  },
  {
   "cell_type": "markdown",
   "id": "d0b2221b",
   "metadata": {},
   "source": [
    "## assign antigenicity category"
   ]
  },
  {
   "cell_type": "code",
   "execution_count": null,
   "id": "328a2e3f",
   "metadata": {},
   "outputs": [],
   "source": [
    "if ANTIGENICITY == 1:\n",
    "    ds.seq_immuno_cat = IB_seq_immuno_cat\n",
    "elif ANTIGENICITY == 2:\n",
    "    ds.seq_immuno_cat = nMp_seq_immuno_cat"
   ]
  },
  {
   "cell_type": "markdown",
   "id": "828fd996",
   "metadata": {},
   "source": [
    "# VAE"
   ]
  },
  {
   "cell_type": "code",
   "execution_count": null,
   "id": "2f13119f",
   "metadata": {},
   "outputs": [],
   "source": [
    "VAE = FcVAE(\n",
    "        aa_dim = AA_ENC_DIM,\n",
    "        sequence_len = MAX_SEQ_LEN,\n",
    "        enc_int_dim = FC_ENC_INT_DIM,\n",
    "        enc_out_dim = FC_ENC_OUT_DIM,\n",
    "        latent_dim = FC_LATENT_DIM,\n",
    "        dec_int_dim = FC_DEC_INT_DIM,\n",
    "        kl_target = FC_KL_TARGET,\n",
    "        lr = FC_LR,\n",
    "        batch_size = FC_BATCH_SIZE,\n",
    "        dropout = FC_DROPOUT,\n",
    "        weight_decay = FC_WEIGHT_DECAY,\n",
    "        conditional = 3\n",
    ")"
   ]
  },
  {
   "cell_type": "code",
   "execution_count": null,
   "id": "edc16096",
   "metadata": {},
   "outputs": [],
   "source": [
    "VAE.ds = ds"
   ]
  },
  {
   "cell_type": "markdown",
   "id": "550fc6dd",
   "metadata": {},
   "source": [
    "## training and loading"
   ]
  },
  {
   "cell_type": "code",
   "execution_count": null,
   "id": "d2e7d273",
   "metadata": {},
   "outputs": [],
   "source": [
    "trainer = Trainer(max_epochs=FC_EPOCHS, gpus=1)"
   ]
  },
  {
   "cell_type": "code",
   "execution_count": null,
   "id": "2cd3cd1a",
   "metadata": {},
   "outputs": [],
   "source": [
    "if FC_SAVE:\n",
    "    trainer.fit(VAE)\n",
    "    trainer.save_checkpoint(FC_SAVE)"
   ]
  },
  {
   "cell_type": "code",
   "execution_count": null,
   "id": "9dc6678b",
   "metadata": {},
   "outputs": [],
   "source": [
    "if FC_LOAD:\n",
    "    VAE = FcVAE.load_from_checkpoint(checkpoint_path=FC_LOAD)\n",
    "    VAE = VAE.cuda()\n",
    "    VAE.ds = ds"
   ]
  },
  {
   "cell_type": "code",
   "execution_count": null,
   "id": "3eb1dc89",
   "metadata": {},
   "outputs": [],
   "source": [
    "VAE.eval()"
   ]
  },
  {
   "cell_type": "code",
   "execution_count": null,
   "id": "7219f694",
   "metadata": {},
   "outputs": [],
   "source": [
    "j = -1"
   ]
  },
  {
   "cell_type": "code",
   "execution_count": null,
   "id": "d5761ac0",
   "metadata": {},
   "outputs": [],
   "source": [
    "j += 1\n",
    "h = ds.tok.decode(\n",
    "        VAE.forward(\n",
    "            ds.tok.tokenize(ds.viral_seqs[j][:MAX_SEQ_LEN]).unsqueeze(dim=0).to(VAE.device),\n",
    "            torch.tensor(ds.seq_immuno_cat_tokens[ds.seq_immuno_cat[ds.viral_seqs[j]]]).unsqueeze(dim=0).to(VAE.device),\n",
    "            sample=False).reshape(1, MAX_SEQ_LEN, -1)\n",
    ")\n",
    "alignments = pairwise2.align.globalxx(ds.viral_seqs[j][:MAX_SEQ_LEN], h[0])\n",
    "print(format_alignment(*alignments[0]))"
   ]
  },
  {
   "cell_type": "markdown",
   "id": "0317c9f8",
   "metadata": {},
   "source": [
    "## latent space"
   ]
  },
  {
   "cell_type": "code",
   "execution_count": null,
   "id": "e31831fd",
   "metadata": {},
   "outputs": [],
   "source": [
    "Mu_Xs, Mu_Ys, Latent_Xs, Latent_Ys = get_latent_from_seq_FcVAE(VAE, ds.viral_seqs)"
   ]
  },
  {
   "cell_type": "code",
   "execution_count": null,
   "id": "d74a38d3",
   "metadata": {},
   "outputs": [],
   "source": [
    "plt.scatter(Mu_Xs, Mu_Ys, s=1)"
   ]
  },
  {
   "cell_type": "code",
   "execution_count": null,
   "id": "0404ed22",
   "metadata": {},
   "outputs": [],
   "source": [
    "plt.scatter(Latent_Xs, Latent_Ys, s=1)"
   ]
  },
  {
   "cell_type": "code",
   "execution_count": null,
   "id": "7d480f38",
   "metadata": {},
   "outputs": [],
   "source": [
    "plt.rc('font', size=12)\n",
    "matplotlib.rcParams.update({'font.size': 22})\n",
    "fig = plt.figure(figsize=(40, 20))\n",
    "ax = fig.subplots(1, 4)\n",
    "ax[0].scatter(Mu_Xs, Mu_Ys, s=1)\n",
    "ax[1].scatter(Latent_Xs, Latent_Ys, s=1)\n",
    "ax[2].hist(Latent_Xs)\n",
    "ax[3].hist(Latent_Ys)"
   ]
  },
  {
   "cell_type": "code",
   "execution_count": null,
   "id": "07e66185",
   "metadata": {},
   "outputs": [],
   "source": [
    "print(f\"Var Latent X: {np.var(Latent_Xs):.4f}\")\n",
    "print(f\"Var Latent Y: {np.var(Latent_Ys):.4f}\")\n",
    "\n",
    "print(f\"Var Mu X: {np.var(Mu_Xs):.4f}\")\n",
    "print(f\"Var Mu Y: {np.var(Mu_Ys):.4f}\")"
   ]
  },
  {
   "cell_type": "code",
   "execution_count": null,
   "id": "ebb9fa56",
   "metadata": {},
   "outputs": [],
   "source": [
    "np.cov(Latent_Xs, Latent_Ys)"
   ]
  },
  {
   "cell_type": "markdown",
   "id": "d86122a1",
   "metadata": {},
   "source": [
    "## generate new sequences"
   ]
  },
  {
   "cell_type": "code",
   "execution_count": null,
   "id": "4831d070",
   "metadata": {},
   "outputs": [],
   "source": [
    "generated_seqs = [None, None, None]\n",
    "generated_seqs_new = [None, None, None]\n",
    "antigenicity_names = [\"low\", \"intermediate\", \"high\"]"
   ]
  },
  {
   "cell_type": "code",
   "execution_count": null,
   "id": "15d6755c",
   "metadata": {},
   "outputs": [],
   "source": [
    "# generate random latent variables\n",
    "p = torch.distributions.Normal(\n",
    "    torch.zeros(FC_LATENT_DIM, device=VAE.device), \n",
    "    torch.ones(FC_LATENT_DIM, device=VAE.device))\n",
    "Zs = p.sample(sample_shape=torch.Size([FC_SAMPLES])).to(VAE.device)\n",
    "Zs = Zs @ torch.tensor(np.cov(Latent_Xs, Latent_Ys)).to(VAE.device).float()"
   ]
  },
  {
   "cell_type": "code",
   "execution_count": null,
   "id": "0413f09f",
   "metadata": {},
   "outputs": [],
   "source": [
    "np.cov(Latent_Xs, Latent_Ys)"
   ]
  },
  {
   "cell_type": "markdown",
   "id": "5e460bc4",
   "metadata": {},
   "source": [
    "### lowly antigenic"
   ]
  },
  {
   "cell_type": "code",
   "execution_count": null,
   "id": "6bfbe731",
   "metadata": {},
   "outputs": [],
   "source": [
    "j = 0"
   ]
  },
  {
   "cell_type": "code",
   "execution_count": null,
   "id": "e34ef188",
   "metadata": {},
   "outputs": [],
   "source": [
    "generated_seqs[j] = get_seq_from_latent_FcVAE(VAE, Zs, j)\n",
    "\n",
    "generated_seqs_new[j] = {}\n",
    "for seq, cnt in generated_seqs[j].items():\n",
    "    if seq not in VAE.ds.viral_seqs:\n",
    "        generated_seqs_new[j].update({seq: cnt})\n",
    "        \n",
    "write_seqs_to_fasta(generated_seqs[j], f\"..{os.sep}data{os.sep}spike_protein_sequences{os.sep}{FC_GEN_FILENAME}_{antigenicity_names[j]}_all.fasta\")\n",
    "write_seqs_to_fasta(generated_seqs_new[j], f\"..{os.sep}data{os.sep}spike_protein_sequences{os.sep}{FC_GEN_FILENAME}_{antigenicity_names[j]}.fasta\")\n",
    "        \n",
    "print(f\"Generated: {len(generated_seqs[j])} New: {len(generated_seqs_new[j])}\")"
   ]
  },
  {
   "cell_type": "markdown",
   "id": "a933444b",
   "metadata": {},
   "source": [
    "### intermediate antigenic"
   ]
  },
  {
   "cell_type": "code",
   "execution_count": null,
   "id": "a008b8dc",
   "metadata": {},
   "outputs": [],
   "source": [
    "j = 1"
   ]
  },
  {
   "cell_type": "code",
   "execution_count": null,
   "id": "dc7a6124",
   "metadata": {},
   "outputs": [],
   "source": [
    "generated_seqs[j] = get_seq_from_latent_FcVAE(VAE, Zs, j)\n",
    "\n",
    "generated_seqs_new[j] = {}\n",
    "for seq, cnt in generated_seqs[j].items():\n",
    "    if seq not in VAE.ds.viral_seqs:\n",
    "        generated_seqs_new[j].update({seq: cnt})\n",
    "        \n",
    "write_seqs_to_fasta(generated_seqs[j], f\"..{os.sep}data{os.sep}spike_protein_sequences{os.sep}{FC_GEN_FILENAME}_{antigenicity_names[j]}_all.fasta\")\n",
    "write_seqs_to_fasta(generated_seqs_new[j], f\"..{os.sep}data{os.sep}spike_protein_sequences{os.sep}{FC_GEN_FILENAME}_{antigenicity_names[j]}.fasta\")\n",
    "        \n",
    "print(f\"Generated: {len(generated_seqs[j])} New: {len(generated_seqs_new[j])}\")"
   ]
  },
  {
   "cell_type": "markdown",
   "id": "309e7bcf",
   "metadata": {},
   "source": [
    "### highly antigenic"
   ]
  },
  {
   "cell_type": "code",
   "execution_count": null,
   "id": "5ad6653b",
   "metadata": {},
   "outputs": [],
   "source": [
    "j = 2"
   ]
  },
  {
   "cell_type": "code",
   "execution_count": null,
   "id": "25ceb164",
   "metadata": {},
   "outputs": [],
   "source": [
    "generated_seqs[j] = get_seq_from_latent_FcVAE(VAE, Zs, j)\n",
    "\n",
    "generated_seqs_new[j] = {}\n",
    "for seq, cnt in generated_seqs[j].items():\n",
    "    if seq not in VAE.ds.viral_seqs:\n",
    "        generated_seqs_new[j].update({seq: cnt})\n",
    "        \n",
    "write_seqs_to_fasta(generated_seqs[j], f\"..{os.sep}data{os.sep}spike_protein_sequences{os.sep}{FC_GEN_FILENAME}_{antigenicity_names[j]}_all.fasta\")\n",
    "write_seqs_to_fasta(generated_seqs_new[j], f\"..{os.sep}data{os.sep}spike_protein_sequences{os.sep}{FC_GEN_FILENAME}_{antigenicity_names[j]}.fasta\")\n",
    "        \n",
    "print(f\"Generated: {len(generated_seqs[j])} New: {len(generated_seqs_new[j])}\")"
   ]
  },
  {
   "cell_type": "markdown",
   "id": "bba11ab9",
   "metadata": {},
   "source": [
    "### evaluate antigenicity"
   ]
  },
  {
   "cell_type": "markdown",
   "id": "5c79d216",
   "metadata": {},
   "source": [
    "#### with ImmunoBERT"
   ]
  },
  {
   "cell_type": "code",
   "execution_count": null,
   "id": "c4b80b85",
   "metadata": {},
   "outputs": [],
   "source": [
    "for j in range(3):\n",
    "    for seq in tqdm(generated_seqs_new[j].keys()):             \n",
    "        IB_seq_presentation[seq], IB_seq_scores[seq] = score_seq_IB(model, seq,  MHC_list, IB_peptide_scores)"
   ]
  },
  {
   "cell_type": "code",
   "execution_count": null,
   "id": "3eff4747",
   "metadata": {},
   "outputs": [],
   "source": [
    "matplotlib.rcParams.update({'font.size': 15})\n",
    "\n",
    "for j in range(3):\n",
    "    sns.distplot([IB_seq_scores[seq] for seq in generated_seqs_new[j].keys()])\n",
    "\n",
    "plt.legend(labels=[\"low\",\"medium\", \"high\"])"
   ]
  },
  {
   "cell_type": "markdown",
   "id": "7995cdb1",
   "metadata": {},
   "source": [
    "#### with netMHCpan"
   ]
  },
  {
   "cell_type": "code",
   "execution_count": null,
   "id": "5519cf70",
   "metadata": {},
   "outputs": [],
   "source": [
    "missing = []\n",
    "for j in range(3):\n",
    "    for seq in tqdm(list(generated_seqs_new[j].keys())):\n",
    "        seq = seq.replace(\"-\", \"\")\n",
    "        for position in range(len(seq)-9):\n",
    "            if seq[position:(position+9)] not in nMp_peptide_scores:\n",
    "                missing.append(seq[position:(position+9)])\n",
    "                \n",
    "file = open(f\"{NMP_FOLDER_1}{os.sep}missing.pep\", \"w\")\n",
    "for peptide in missing:\n",
    "      file.writelines([peptide, \"\\n\"])\n",
    "file.close()\n",
    "\n",
    "for mhc_name in MHC_list:\n",
    "    # print(mhc_name)\n",
    "    mhc_name_2 = mhc_name.replace(\":\", \"\").replace(\"HLA-\", \"\")\n",
    "    \n",
    "    print(f\"./netMHCpan -p {NMP_FOLDER_2}/missing.pep -a {mhc_name} > {NMP_FOLDER_2}/missing_{mhc_name_2}.pep.out\")\n",
    "    print(\"\\n\")"
   ]
  },
  {
   "cell_type": "code",
   "execution_count": null,
   "id": "a02d4b41",
   "metadata": {},
   "outputs": [],
   "source": [
    "nMp_peptide_scores.update(eval_peptides_nMp(\"missing\", MHC_list))"
   ]
  },
  {
   "cell_type": "code",
   "execution_count": null,
   "id": "b90564d9",
   "metadata": {},
   "outputs": [],
   "source": [
    "for j in range(3):\n",
    "    for seq in tqdm(generated_seqs_new[j].keys()):\n",
    "        nMp_seq_scores[seq] = score_seq_nMp(seq, MHC_list, nMp_peptide_scores)"
   ]
  },
  {
   "cell_type": "code",
   "execution_count": null,
   "id": "45b328c5",
   "metadata": {},
   "outputs": [],
   "source": [
    "matplotlib.rcParams.update({'font.size': 15})\n",
    "\n",
    "for j in range(3):\n",
    "    sns.distplot([nMp_seq_scores[seq] for seq in generated_seqs_new[j].keys()])\n",
    "\n",
    "plt.legend(labels=[\"low\",\"medium\", \"high\"])"
   ]
  },
  {
   "cell_type": "code",
   "execution_count": null,
   "id": "95768cd8",
   "metadata": {},
   "outputs": [],
   "source": []
  }
 ],
 "metadata": {
  "kernelspec": {
   "display_name": "Python 3 (ipykernel)",
   "language": "python",
   "name": "python3"
  },
  "language_info": {
   "codemirror_mode": {
    "name": "ipython",
    "version": 3
   },
   "file_extension": ".py",
   "mimetype": "text/x-python",
   "name": "python",
   "nbconvert_exporter": "python",
   "pygments_lexer": "ipython3",
   "version": "3.8.12"
  },
  "toc": {
   "base_numbering": 1,
   "nav_menu": {},
   "number_sections": true,
   "sideBar": true,
   "skip_h1_title": false,
   "title_cell": "Table of Contents",
   "title_sidebar": "Contents",
   "toc_cell": false,
   "toc_position": {
    "height": "calc(100% - 180px)",
    "left": "10px",
    "top": "150px",
    "width": "320px"
   },
   "toc_section_display": true,
   "toc_window_display": true
  }
 },
 "nbformat": 4,
 "nbformat_minor": 5
}
